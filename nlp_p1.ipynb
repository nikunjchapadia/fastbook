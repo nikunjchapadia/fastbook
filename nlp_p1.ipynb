{
  "nbformat": 4,
  "nbformat_minor": 0,
  "metadata": {
    "colab": {
      "name": "nlp_p1.ipynb",
      "provenance": [],
      "authorship_tag": "ABX9TyN97HLSXn50xmYHuHR2u9TQ",
      "include_colab_link": true
    },
    "kernelspec": {
      "name": "python3",
      "display_name": "Python 3"
    },
    "language_info": {
      "name": "python"
    }
  },
  "cells": [
    {
      "cell_type": "markdown",
      "metadata": {
        "id": "view-in-github",
        "colab_type": "text"
      },
      "source": [
        "<a href=\"https://colab.research.google.com/github/nikunjchapadia/fastbook/blob/master/nlp_p1.ipynb\" target=\"_parent\"><img src=\"https://colab.research.google.com/assets/colab-badge.svg\" alt=\"Open In Colab\"/></a>"
      ]
    },
    {
      "cell_type": "code",
      "execution_count": 1,
      "metadata": {
        "id": "5DqS-P9LDzN-"
      },
      "outputs": [],
      "source": [
        "# language model \n",
        "#  word - categorical variable \n",
        " \n",
        "#  tokenization \n",
        "# word based, subword based, character based "
      ]
    },
    {
      "cell_type": "code",
      "source": [
        "!pip install -Uqq fastbook\n",
        "import fastbook\n",
        "fastbook.setup_book()"
      ],
      "metadata": {
        "colab": {
          "base_uri": "https://localhost:8080/"
        },
        "id": "SXDkMfc0VPKc",
        "outputId": "c6fa6f45-26b4-4ace-8f7d-c757e7331a26"
      },
      "execution_count": 2,
      "outputs": [
        {
          "output_type": "stream",
          "name": "stdout",
          "text": [
            "\u001b[K     |████████████████████████████████| 720 kB 4.9 MB/s \n",
            "\u001b[K     |████████████████████████████████| 1.2 MB 49.4 MB/s \n",
            "\u001b[K     |████████████████████████████████| 189 kB 51.6 MB/s \n",
            "\u001b[K     |████████████████████████████████| 48 kB 4.9 MB/s \n",
            "\u001b[K     |████████████████████████████████| 56 kB 4.3 MB/s \n",
            "\u001b[K     |████████████████████████████████| 558 kB 57.4 MB/s \n",
            "\u001b[K     |████████████████████████████████| 51 kB 269 kB/s \n",
            "\u001b[K     |████████████████████████████████| 130 kB 56.2 MB/s \n",
            "\u001b[?25hMounted at /content/gdrive\n"
          ]
        }
      ]
    },
    {
      "cell_type": "code",
      "source": [
        "from fastbook import *\n",
        "from IPython.display import display,HTML"
      ],
      "metadata": {
        "id": "V8mzYsk8VQdj"
      },
      "execution_count": 3,
      "outputs": []
    },
    {
      "cell_type": "code",
      "source": [
        "from fastai.text.all import *\n",
        "path = untar_data(URLs.IMDB)"
      ],
      "metadata": {
        "colab": {
          "base_uri": "https://localhost:8080/",
          "height": 37
        },
        "id": "6t1zmTHCVU0j",
        "outputId": "45516cc4-5d80-42a2-a83c-cba704a9e77a"
      },
      "execution_count": 4,
      "outputs": [
        {
          "output_type": "display_data",
          "data": {
            "text/html": [
              "\n",
              "    <div>\n",
              "        <style>\n",
              "            /* Turns off some styling */\n",
              "            progress {\n",
              "                /* gets rid of default border in Firefox and Opera. */\n",
              "                border: none;\n",
              "                /* Needs to be in here for Safari polyfill so background images work as expected. */\n",
              "                background-size: auto;\n",
              "            }\n",
              "            .progress-bar-interrupted, .progress-bar-interrupted::-webkit-progress-bar {\n",
              "                background: #F44336;\n",
              "            }\n",
              "        </style>\n",
              "      <progress value='144441344' class='' max='144440600' style='width:300px; height:20px; vertical-align: middle;'></progress>\n",
              "      100.00% [144441344/144440600 00:03<00:00]\n",
              "    </div>\n",
              "    "
            ],
            "text/plain": [
              "<IPython.core.display.HTML object>"
            ]
          },
          "metadata": {}
        }
      ]
    },
    {
      "cell_type": "code",
      "source": [
        "path"
      ],
      "metadata": {
        "colab": {
          "base_uri": "https://localhost:8080/"
        },
        "id": "pkZ6ll3xVhLA",
        "outputId": "32058e7f-0a8c-4c9d-a6c3-d39d1f4ffdce"
      },
      "execution_count": 5,
      "outputs": [
        {
          "output_type": "execute_result",
          "data": {
            "text/plain": [
              "Path('/root/.fastai/data/imdb')"
            ]
          },
          "metadata": {},
          "execution_count": 5
        }
      ]
    },
    {
      "cell_type": "code",
      "source": [
        "files = get_text_files(path, folders = ['train', 'test', 'unsup'])"
      ],
      "metadata": {
        "id": "vEwT286lVYDm"
      },
      "execution_count": 7,
      "outputs": []
    },
    {
      "cell_type": "code",
      "source": [
        "files\n",
        "files[0]"
      ],
      "metadata": {
        "colab": {
          "base_uri": "https://localhost:8080/"
        },
        "id": "b-5S1DIhVyTR",
        "outputId": "5addae34-421d-48db-a6f8-5417ead02e3b"
      },
      "execution_count": 10,
      "outputs": [
        {
          "output_type": "execute_result",
          "data": {
            "text/plain": [
              "Path('/root/.fastai/data/imdb/unsup/44142_0.txt')"
            ]
          },
          "metadata": {},
          "execution_count": 10
        }
      ]
    },
    {
      "cell_type": "code",
      "source": [
        "txt = files[0].open().read(); txt[:75]"
      ],
      "metadata": {
        "colab": {
          "base_uri": "https://localhost:8080/",
          "height": 35
        },
        "id": "M9PR_vJxVcFc",
        "outputId": "655f7e48-42cb-4295-c364-ac61297d2bd9"
      },
      "execution_count": 11,
      "outputs": [
        {
          "output_type": "execute_result",
          "data": {
            "application/vnd.google.colaboratory.intrinsic+json": {
              "type": "string"
            },
            "text/plain": [
              "'Let me set the stage. I love well-crafted art-house dramas and romances fro'"
            ]
          },
          "metadata": {},
          "execution_count": 11
        }
      ]
    },
    {
      "cell_type": "code",
      "source": [
        "txt"
      ],
      "metadata": {
        "colab": {
          "base_uri": "https://localhost:8080/",
          "height": 122
        },
        "id": "BQOZ0vJlVxni",
        "outputId": "0e0541ff-d54c-4944-e55c-086ae83aaa9c"
      },
      "execution_count": 12,
      "outputs": [
        {
          "output_type": "execute_result",
          "data": {
            "application/vnd.google.colaboratory.intrinsic+json": {
              "type": "string"
            },
            "text/plain": [
              "'Let me set the stage. I love well-crafted art-house dramas and romances from East Asia. Christmas In August (1998), One Fine Spring Day (2001), Spring Summer Fall Winter and Spring (2003), Asako In Ruby Shoes (2000), Rules of Dating (2005), Art Museum By the Zoo (1998), and most of Yasujiro Ozu\\'s films were very enjoyable to me. Add another 50 or so similar films to that recommendation list, and one could be forgiven to conclude that I not only like deliberately-paced, slow-burning art-house cinema, but I\\'m actually a big fan of the genre.<br /><br />To date I\\'ve seen four of Sang-soo Hong\\'s films and one thing is certain: the artistic merits of Virgin Stripped Bare By Her Bachelors (2000) was a fluke of sorts within Hong\\'s otherwise unimpressive portfolio that treads dangerously close to mirroring something you\\'d see on Cinemax Late Night. A half dozen sex scenes? Check. Complete absence of character development? Check. Dull-as-dirt filler material? Check. In all honesty, there\\'s very little (if anything) that distinguishes Hong\\'s films from \"tummy stick\" fests.<br /><br />Take Turning Gate as an example. A guy meets a girl, \"bangs\" her senseless, then stops seeing her. The same guy later meets another girl, \"bangs\" her senseless, then stops seeing her. The film ends. I\\'m not exaggerating when I say that this summary adequately covers any and all content this movie has to offer. You may wonder how on earth the running time clocks in at 115 minutes. I\\'ll tell you. The characters walk around a lot, wait for cabs, and participate in some of the most boring conversations to ever grace celluloid.<br /><br />The whole point of minimalization in film-making is to recreate the charming, intriguing scenarios that occupy everyday life while avoiding the uninteresting staleness surrounding those moments (watch an Ozu film if you can\\'t get your head around this concept). For instance, the relationship with my first girlfriend could provide enough content for an interesting film, but a director is misguided if he thinks that showing me on the toilet for five minutes is going to provide any sort of entertainment value. Will someone please inform Tsai Ming-liang of this? <br /><br />Now, Hong is not quite as bad as Tsai. He\\'s close, but Turning Gate isn\\'t quite the abhorrent \"masterpiece\" of trashiness that Viva L\\'Amour (1994) is. Both directors do make significant contributions to \"Laundry\" film-making though \\x96 which means that their focus on realism gives these hacks a free pass to make movies that are completely devoid of content or insight. For me personally, watching people pick each other up and \"bang\" is the equivalent of watching someone do their laundry. Hong\\'s only good film \\x96 Virgin Stripped Bare By Her Bachelors \\x96 kept me interested in the \"hunt\" for two hours, which is something you can\\'t say for his other, lesser efforts.<br /><br />Let me offer a psychoanalysis of the type of person who will like this film, the title of which should probably be changed from Turning Gate to something like An Ode to a Meaningless Life. If you\\'ve had a dozen or so one-night stands and wish to reminiscence about the \"good ole days\", then you\\'ll probably like this movie. I have personally tried to minimize the number of meaningless relationships in my life, so maybe I lack the prerequisites in experiencing sexual degeneracy to the point that I cannot appreciate the meaningless relationships presented in this movie.<br /><br />If the director actually gave me some content to help me understand why these people live this way and how that lifestyle affects them, then I\\'d surely enjoy it more. One Fine Spring Day, for example, does a wonderful job of showing the emotional roller-coaster of a typical relationship from beginning to end. Unfortunately, Turning Gate (as well as most of Hong\\'s other movies) is so devoid of content that the only people that will enjoy this movie are those who say to themselves, \"Man, I yearn to remember the days when I banged a different person every week with no strings attached.\" <br /><br />Don\\'t misunderstand me. I love films with sex, but I need something interesting or intriguing to keep me engaged. Strange Circus (2005) had copious amounts of explicit sex, but it had psychological concepts behind them. Ardor (2002), The Isle (2000), and a few of the positively aforementioned films all had some steamy sex in them, but there was enough content that raised the experience above Playboy Channel trash. Hong ventures into that trashy realm far too often.<br /><br />To close, I\\'d like to also communicate my displeasure with other reviewers who have imposed informative psychological content INTO the film when the filmmaker himself failed to do so. I read statements like, \"It is a transposition of life, with all its ambiguities, its unaccomplished desires, its eternal quests\" or \"Every single spoken word has a special meaning\" and think to myself, \"How the hell was any of this communicated through this film?\" It\\'s a double-edged sword, I\\'m afraid. If someone is willing to project that much meaning into Turning Gate, then you surely must give a movie like Show Girls the same consideration.<br /><br />After watching over 1,000 East Asian films I\\'ve been able to identify the types of movies that are a waste of time. The exploitation genre (e.g., The Untold Story or Kichiku Dai Enkai) is one example. Art-house cinema is full of traps, because amongst the many amazing films within this genre there are some truly inept flops that are so unambitious and mind-numbingly awful that one simply cannot avoid an occasional pitfall here or there. I resent directors like Hong who entice me with one good entry, only to then clobber me over the head with three steaming piles of pig manure.'"
            ]
          },
          "metadata": {},
          "execution_count": 12
        }
      ]
    },
    {
      "cell_type": "code",
      "source": [
        "# Tokenizer - spacy\n",
        "spacy = WordTokenizer()\n",
        "toks = first(spacy([txt]))\n",
        "print(coll_repr(toks, 30))"
      ],
      "metadata": {
        "colab": {
          "base_uri": "https://localhost:8080/"
        },
        "id": "IlcNGg5PVeFt",
        "outputId": "c9445ed4-c158-4b1e-a983-ec0aade4f878"
      },
      "execution_count": 15,
      "outputs": [
        {
          "output_type": "stream",
          "name": "stdout",
          "text": [
            "(#1166) ['Let','me','set','the','stage','.','I','love','well','-','crafted','art','-','house','dramas','and','romances','from','East','Asia','.','Christmas','In','August','(','1998',')',',','One','Fine'...]\n"
          ]
        }
      ]
    },
    {
      "cell_type": "code",
      "source": [
        "first(spacy(['The U.S. dollar $1 is $1.00']))"
      ],
      "metadata": {
        "colab": {
          "base_uri": "https://localhost:8080/"
        },
        "id": "p88nMzQOWchU",
        "outputId": "45a1ddb8-9bbf-4f02-d609-46d8bf7368a7"
      },
      "execution_count": 17,
      "outputs": [
        {
          "output_type": "execute_result",
          "data": {
            "text/plain": [
              "(#8) ['The','U.S.','dollar','$','1','is','$','1.00']"
            ]
          },
          "metadata": {},
          "execution_count": 17
        }
      ]
    },
    {
      "cell_type": "code",
      "source": [
        "# lowercase everything \n",
        "tkn = Tokenizer(spacy)\n",
        "print(coll_repr(tkn(txt), 31))"
      ],
      "metadata": {
        "colab": {
          "base_uri": "https://localhost:8080/"
        },
        "id": "CZYpQB9EWoQn",
        "outputId": "702ffd86-7386-4b53-832e-4e3ad895fc7a"
      },
      "execution_count": 22,
      "outputs": [
        {
          "output_type": "stream",
          "name": "stdout",
          "text": [
            "(#1315) ['xxbos','xxmaj','let','me','set','the','stage','.','i','love','well','-','crafted','art','-','house','dramas','and','romances','from','xxmaj','east','xxmaj','asia','.','xxmaj','christmas','xxmaj','in','xxmaj','august'...]\n"
          ]
        }
      ]
    },
    {
      "cell_type": "code",
      "source": [
        "coll_repr(tkn('&copy; Fast.ai www.fast.ai/INDEX'), 31)"
      ],
      "metadata": {
        "colab": {
          "base_uri": "https://localhost:8080/",
          "height": 35
        },
        "id": "6qH9NJYIXjsG",
        "outputId": "269931c4-a61e-495f-e245-50dc00111d96"
      },
      "execution_count": 23,
      "outputs": [
        {
          "output_type": "execute_result",
          "data": {
            "application/vnd.google.colaboratory.intrinsic+json": {
              "type": "string"
            },
            "text/plain": [
              "\"(#11) ['xxbos','©','xxmaj','fast.ai','xxrep','3','w','.fast.ai','/','xxup','index']\""
            ]
          },
          "metadata": {},
          "execution_count": 23
        }
      ]
    },
    {
      "cell_type": "code",
      "source": [
        "# subword tokenizatiom \n",
        "# grab 2000 movie reviews\n",
        "txts = L(o.open().read() for o in files[:2000])\n",
        "txts"
      ],
      "metadata": {
        "colab": {
          "base_uri": "https://localhost:8080/"
        },
        "id": "x_qZ7VufX59a",
        "outputId": "7f8584ec-782b-4e3f-89a7-62e78726175e"
      },
      "execution_count": 26,
      "outputs": [
        {
          "output_type": "execute_result",
          "data": {
            "text/plain": [
              "(#2000) ['Let me set the stage. I love well-crafted art-house dramas and romances from East Asia. Christmas In August (1998), One Fine Spring Day (2001), Spring Summer Fall Winter and Spring (2003), Asako In Ruby Shoes (2000), Rules of Dating (2005), Art Museum By the Zoo (1998), and most of Yasujiro Ozu\\'s films were very enjoyable to me. Add another 50 or so similar films to that recommendation list, and one could be forgiven to conclude that I not only like deliberately-paced, slow-burning art-house cinema, but I\\'m actually a big fan of the genre.<br /><br />To date I\\'ve seen four of Sang-soo Hong\\'s films and one thing is certain: the artistic merits of Virgin Stripped Bare By Her Bachelors (2000) was a fluke of sorts within Hong\\'s otherwise unimpressive portfolio that treads dangerously close to mirroring something you\\'d see on Cinemax Late Night. A half dozen sex scenes? Check. Complete absence of character development? Check. Dull-as-dirt filler material? Check. In all honesty, there\\'s very little (if anything) that distinguishes Hong\\'s films from \"tummy stick\" fests.<br /><br />Take Turning Gate as an example. A guy meets a girl, \"bangs\" her senseless, then stops seeing her. The same guy later meets another girl, \"bangs\" her senseless, then stops seeing her. The film ends. I\\'m not exaggerating when I say that this summary adequately covers any and all content this movie has to offer. You may wonder how on earth the running time clocks in at 115 minutes. I\\'ll tell you. The characters walk around a lot, wait for cabs, and participate in some of the most boring conversations to ever grace celluloid.<br /><br />The whole point of minimalization in film-making is to recreate the charming, intriguing scenarios that occupy everyday life while avoiding the uninteresting staleness surrounding those moments (watch an Ozu film if you can\\'t get your head around this concept). For instance, the relationship with my first girlfriend could provide enough content for an interesting film, but a director is misguided if he thinks that showing me on the toilet for five minutes is going to provide any sort of entertainment value. Will someone please inform Tsai Ming-liang of this? <br /><br />Now, Hong is not quite as bad as Tsai. He\\'s close, but Turning Gate isn\\'t quite the abhorrent \"masterpiece\" of trashiness that Viva L\\'Amour (1994) is. Both directors do make significant contributions to \"Laundry\" film-making though \\x96 which means that their focus on realism gives these hacks a free pass to make movies that are completely devoid of content or insight. For me personally, watching people pick each other up and \"bang\" is the equivalent of watching someone do their laundry. Hong\\'s only good film \\x96 Virgin Stripped Bare By Her Bachelors \\x96 kept me interested in the \"hunt\" for two hours, which is something you can\\'t say for his other, lesser efforts.<br /><br />Let me offer a psychoanalysis of the type of person who will like this film, the title of which should probably be changed from Turning Gate to something like An Ode to a Meaningless Life. If you\\'ve had a dozen or so one-night stands and wish to reminiscence about the \"good ole days\", then you\\'ll probably like this movie. I have personally tried to minimize the number of meaningless relationships in my life, so maybe I lack the prerequisites in experiencing sexual degeneracy to the point that I cannot appreciate the meaningless relationships presented in this movie.<br /><br />If the director actually gave me some content to help me understand why these people live this way and how that lifestyle affects them, then I\\'d surely enjoy it more. One Fine Spring Day, for example, does a wonderful job of showing the emotional roller-coaster of a typical relationship from beginning to end. Unfortunately, Turning Gate (as well as most of Hong\\'s other movies) is so devoid of content that the only people that will enjoy this movie are those who say to themselves, \"Man, I yearn to remember the days when I banged a different person every week with no strings attached.\" <br /><br />Don\\'t misunderstand me. I love films with sex, but I need something interesting or intriguing to keep me engaged. Strange Circus (2005) had copious amounts of explicit sex, but it had psychological concepts behind them. Ardor (2002), The Isle (2000), and a few of the positively aforementioned films all had some steamy sex in them, but there was enough content that raised the experience above Playboy Channel trash. Hong ventures into that trashy realm far too often.<br /><br />To close, I\\'d like to also communicate my displeasure with other reviewers who have imposed informative psychological content INTO the film when the filmmaker himself failed to do so. I read statements like, \"It is a transposition of life, with all its ambiguities, its unaccomplished desires, its eternal quests\" or \"Every single spoken word has a special meaning\" and think to myself, \"How the hell was any of this communicated through this film?\" It\\'s a double-edged sword, I\\'m afraid. If someone is willing to project that much meaning into Turning Gate, then you surely must give a movie like Show Girls the same consideration.<br /><br />After watching over 1,000 East Asian films I\\'ve been able to identify the types of movies that are a waste of time. The exploitation genre (e.g., The Untold Story or Kichiku Dai Enkai) is one example. Art-house cinema is full of traps, because amongst the many amazing films within this genre there are some truly inept flops that are so unambitious and mind-numbingly awful that one simply cannot avoid an occasional pitfall here or there. I resent directors like Hong who entice me with one good entry, only to then clobber me over the head with three steaming piles of pig manure.',\"A SINGLE GIRL (Benoît Jacquot - France 1995).<br /><br />A little known gem with the beautiful Virginie Ledoyen in the lead. I have a special relation with some films and this is certainly one of them. I first saw it - not long after it came out - on Dutch public television in my final year in high school. I thought the girl in the main role (Virginie Ledoyen) was the coolest girl I ever saw and the film always stuck with me. Later on, largely due to her performance in this film, she would become a big star and continued to be in the limelight and even played alongside Leonardo DiCaprio in THE BEACH (2000), so that's probably why I kept remembering her role in LA SEULE FILLE.<br /><br />For a large part, the film plays in real time as the camera follows Valérie on the day she finds out she's pregnant. She starts a new job in a hotel as a maid. Her day-to-day routines are followed, her various encounters with the hotel guests and her intermittent meetings with her boyfriend at a nearby café. He doesn't know how to handle the situation, he doesn't have a job and cannot seem to make up his mind about anything, let alone this situation. He is a bit of a loser. Off course Valérie is in the toughest spot but somehow she never ceases to lose control or overview of the situation. She is on screen all the time as the camera follows her constantly while she walks down the corridors of the hotel, in the elevator, walking down the streets. Even though she has an attitude, is arrogant and acts a bit too wise for a girl her age, she remains absolutely fascinating throughout the film.<br /><br />The lack of plot hardly mattered to me, because it's compensated by Virginie Ledoyen's radiant presence. This is the perfect example of a film where one actor or actress completely makes it work.<br /><br />Camera Obscura --- 9/10\",\"Now I admired the director Wolfgang Petersen after seeing DAS BOOT. This was a flick where I thought: Can't get any better. Of course, at the time, people obviously considered Hollywood a smart career move, but if we now take a look at Petersen's Hollywood films, I really think he should have stayed in Germany. Sure, he wouldn't have the money that he's having at his disposal now, but remember: DAS BOOT had a rather infinitesimal budget and nevertheless managed to thrill, enlighten and entertain millions of viewers. Now, what do we have: A German director who directs patriotic and nationalistic filth that invites the average American Joe to believe in the moral and military superiority of his own country. A movie that doesn't really discuss the topics at hand and divides the cast into good and evil with no shades of grey at all. There's one scene where Gary Oldman as the terrorist aboard the plane says to the president's daughter: Do you think your father is a better man because he's wearing a tie and a suit and because he uses smart bombs? I found this scene to be very interesting, however, in the film it is not dwelt upon. Instead we get Harrison Ford playing the father and leader of clean, wholesome politically America and being politically correct and charming and funny and whatnot. What's the moral of this film: God bless America and no place else.\",'I must admit that seeing a 3.8/10 by IMDb users before I saw this film was not the most encouraging thing for me to read before seeing this movie, which was played for the Trenton (NJ) Film Society last night. But I was pleasantly surprised. Joey \"Pants\" is actually restrained in this role, and isn\\'t his typical over-the-top screaming character. All the other performances are also quite strong, especially Boyd Gaines. Normally, a film where people are wallowing in their inadequacies is NOT something I\\'m typically attracted too...that whole \"victim culture\" is something that I despise. But the film doesn\\'t harp on that aspect as much as I thought it would. Or perhaps it\\'s just that the writing is so superb. I hope this becomes more widely released, as I think it\\'s definitely a worthwhile independent film to see.',\"It's always interesting to see a movie from a play. This one made me wonder how the intimate, brooding mood of extended silences reached across the stage into the audience, but it certainly works on film. The Netflix blurb prepared me for a depressing experience, but I came away with a sense that I had spent a few years in a world that is thousands of miles and hundreds of years from my own. The characters have a limited range of expression, but what they feel and say is consistent and almost meditative. Yes, there is tragedy, but the gift of a film that opens a window on deep experience is that you are uplifted rather than let down. A nice little movie that makes me so grateful for DVDs.\",\"If you're the sort of person who enjoys being depressed, The Chant of Jimmie Blacksmith is the film for you. A short summary of the film is as follows. Young half aboriginal/half white boy is raised by a white Christian family. As he goes off to find a job, he discovers that every white person in the world is actually a racist. He tries to get over this fact by trying to lose his 'black soul', and become more like a white man. He is constantly cheated and laughed at by his white employers. Of course there is only one thing a decent person can possibly do when faced with this. He goes and chops up a couple of women and young girls with an axe. Sound fun so far? Well it gets better anyway, but I won't give away the whole plot in case you actually want to watch the movie. Of course one might say, but isn't the message important? Well, no. It is true that Aborigines were generally considered inferior at the time, and that there was some racism going on. But this film ruthlessly exaggerates it to prove a point, which appears to be that white society is a corrupter of black people. Leaving aside the negative storyline and the political point-scoring, however, the acting is fairly decent, and score is alright too. Apart from that, don't bother watching this.\",\"I suppose to fully appreciate Amelie, one would first have to appreciate the work of Jean-Pierre Jeunet. Jeunet creates characters that are sweet, simple, and (of course) interesting. Amelie, as the full title suggests, takes place in France. But not quite the France you may know. The France in Amelie is borderline between surreal and real, making the story of Amelie much like a fairy-tale. The main character, Amelie, is struggling to find her place in a world in which she does not seem to fit in. She feels finally at peace with her life when she finally feels she has found her goal in life...changing people's lives for the better. I don't want to give too much away, but overall, Amelie is a uniquely sweet story, with a uniquely sweet soul; just like...well, Amelie.\",\"Because of an accident in the laboratory of a British chemical company simply named Chemical which joins the government's so-called Prurima Plan, one of the leading researchers, professor Adams, becomes a fresh-eating monster, and attacks a local teenager couple of Betty and her boy friend, Lucas. And then, the government decides to order the RAF to use the mass-destructive weapon... Although I believe I am one of the Italian-horror-film-lovers, I have to say this Italian film is as sadly bad as the notorious MIAMI GOLEM. The story of the film seems to be trying to express the biological and/or chemical crisis of the city of Newton where the ex-professor monster is, but the film itself has no tense atmosphere from beginning to end. And the pizza-faced monster effects which created by Rino Carboni are not only simply cheap but also problematically unrealistic; at least his face seems to be too swollen to eat raw human fresh. And to make matters worse, this film has, as other reviewer already pointed out, not a few badly independent and almost meaningless scenes. For instance, in the first one third part of the film, Captain Kirk and Sergeant O'Brien find a giant pizza-faced mouse in a manhole of the old factory, and the Sergeant says OH, MY GOD! And that's all there is to it. Since then the composite-photograph-like mouse never shows up, and no one mentions it. In addition, this film has NIGHTMARE-CITY-like crazy credits; at the very ending part of the film, with the cheap TV-like music by Marcello Giombini, one can see WHAT YOU HAVE SEEN MIGHT REALLY HAPPEN...PERHAPS IT ALREADY HAS!\",'Back in April of this year I heard that The Worlds Greatest Lover was going to be on AMC and I was like yes I\\'m finally going to get to see this movie, I\\'m a big Gene Wilder fan so.....yeah, anyway the only problem was that it was going to come on at 3 in the morning on a Monday which was a school night for me so I asked my mom to record it for me, so when I came home from school I saw it and thought it was awesome, two or three months later I ordered the DVD off of Barnes and Nobles and I now have it on DVD what I had heard from this movie was that Gene not only stars in this movie but writes, directs, produces, and surprisingly wrote a song for the film as well, I think Gene\\'s take on Rudolph Valentino was pretty cool and I think he came up with some clever ideas like \"histerical laryngitis\" and sticking your tongue out or twisting your words around whenever his character is nervous. I also thought Carol Kane was wonderful as Rudy\\'s wife Annie and Dom Deluise was as funny as usual as movie mogul Adolph Zitz, one thing you probably found annoying was Gene Wilder\\'s constant screaming and going into hysterics all the time but he does it brilliantly, plus the character of Rudy was very high-strung kinda like Leo Bloom right? so if you like slapstick comedy or if your a fan of Gene Wilder, I highly recommend this and I\\'d say its another one of Gene Wilder\\'s forgotten films and its a great one to look out for, I\\'d give it a 7.5 out of 10.',\"This movie is absolutely hilarious! I first saw it a couple of years ago and had my belly aching from laughing by the time it was over. Yesterday it was shown again on TV and it had exactly the same effect on me throughout this second viewing. Playwright Neil Simon, who scripted this film had a real grasp on his prose all through the 70s and 80s, and this film is a delight for everyone familiar with his style of lining up one-liners in such a way that the viewer barely has time to breathe from laughter. All three leads are great. This is real evidence for all those who have doubts about Goldie Hawn's talents, since she is delightful from start to finish and once again proves that she was and still is one of the greatest comediennes Hollywood ever produced. A comedy classic of sorts.\"...]"
            ]
          },
          "metadata": {},
          "execution_count": 26
        }
      ]
    },
    {
      "cell_type": "code",
      "source": [
        "def subword(sz):\n",
        "  sp = SubwordTokenizer(vocab_sz=sz)\n",
        "  sp.setup(txts)\n",
        "  return ' '.join(first(sp([txt]))[:40])"
      ],
      "metadata": {
        "id": "jZVf529mYbyz"
      },
      "execution_count": 33,
      "outputs": []
    },
    {
      "cell_type": "code",
      "source": [
        "subword(1000)"
      ],
      "metadata": {
        "colab": {
          "base_uri": "https://localhost:8080/",
          "height": 35
        },
        "id": "8aXPh_CbYr1P",
        "outputId": "29c554b3-d6ee-486f-c8de-c024a4c1f8b8"
      },
      "execution_count": 34,
      "outputs": [
        {
          "output_type": "display_data",
          "data": {
            "text/html": [
              ""
            ],
            "text/plain": [
              "<IPython.core.display.HTML object>"
            ]
          },
          "metadata": {}
        },
        {
          "output_type": "execute_result",
          "data": {
            "application/vnd.google.colaboratory.intrinsic+json": {
              "type": "string"
            },
            "text/plain": [
              "'▁Le t ▁me ▁set ▁the ▁st age . ▁I ▁love ▁well - c ra f ted ▁art - ho use ▁drama s ▁and ▁r om ance s ▁from ▁E as t ▁A s ia . ▁Chris t ma s ▁In'"
            ]
          },
          "metadata": {},
          "execution_count": 34
        }
      ]
    },
    {
      "cell_type": "code",
      "source": [
        "subword(200)"
      ],
      "metadata": {
        "colab": {
          "base_uri": "https://localhost:8080/",
          "height": 35
        },
        "id": "OoS5MzcJZ49B",
        "outputId": "e289e163-a1ec-4554-a259-998087f3de03"
      },
      "execution_count": 35,
      "outputs": [
        {
          "output_type": "display_data",
          "data": {
            "text/html": [
              ""
            ],
            "text/plain": [
              "<IPython.core.display.HTML object>"
            ]
          },
          "metadata": {}
        },
        {
          "output_type": "execute_result",
          "data": {
            "application/vnd.google.colaboratory.intrinsic+json": {
              "type": "string"
            },
            "text/plain": [
              "'▁ L e t ▁ m e ▁ s e t ▁the ▁st a g e . ▁I ▁ l o ve ▁w e ll - c ra f t ed ▁ ar t - h o us e ▁d'"
            ]
          },
          "metadata": {},
          "execution_count": 35
        }
      ]
    },
    {
      "cell_type": "code",
      "source": [
        "subword(10000)"
      ],
      "metadata": {
        "colab": {
          "base_uri": "https://localhost:8080/",
          "height": 52
        },
        "id": "cG1FIwyqaHgQ",
        "outputId": "e1dd2b18-0f0c-426e-8fbf-db1724094f08"
      },
      "execution_count": 36,
      "outputs": [
        {
          "output_type": "display_data",
          "data": {
            "text/html": [
              ""
            ],
            "text/plain": [
              "<IPython.core.display.HTML object>"
            ]
          },
          "metadata": {}
        },
        {
          "output_type": "execute_result",
          "data": {
            "application/vnd.google.colaboratory.intrinsic+json": {
              "type": "string"
            },
            "text/plain": [
              "'▁Let ▁me ▁set ▁the ▁stage . ▁I ▁love ▁well - craft ed ▁art - house ▁dramas ▁and ▁romance s ▁from ▁East ▁As ia . ▁Christmas ▁In ▁August ▁(199 8) , ▁One ▁Fine ▁S p ring ▁Day ▁(200 1 ), ▁S'"
            ]
          },
          "metadata": {},
          "execution_count": 36
        }
      ]
    },
    {
      "cell_type": "code",
      "source": [
        "# numerization \n",
        "toks = tkn(txt)"
      ],
      "metadata": {
        "colab": {
          "base_uri": "https://localhost:8080/"
        },
        "id": "uHPXtXwWaioU",
        "outputId": "a4524ac6-93e8-48d0-d602-185bdff8158e"
      },
      "execution_count": 37,
      "outputs": [
        {
          "output_type": "execute_result",
          "data": {
            "text/plain": [
              "(#1315) ['xxbos','xxmaj','let','me','set','the','stage','.','i','love'...]"
            ]
          },
          "metadata": {},
          "execution_count": 37
        }
      ]
    },
    {
      "cell_type": "code",
      "source": [
        "toks200 = txts[:200].map(tkn)\n",
        "toks200"
      ],
      "metadata": {
        "colab": {
          "base_uri": "https://localhost:8080/"
        },
        "id": "Iu7LSg0PavPo",
        "outputId": "b5756469-93bd-4701-e98c-e03fcb3043f7"
      },
      "execution_count": 39,
      "outputs": [
        {
          "output_type": "execute_result",
          "data": {
            "text/plain": [
              "(#200) [['xxbos', 'xxmaj', 'let', 'me', 'set', 'the', 'stage', '.', 'i', 'love', 'well', '-', 'crafted', 'art', '-', 'house', 'dramas', 'and', 'romances', 'from', 'xxmaj', 'east', 'xxmaj', 'asia', '.', 'xxmaj', 'christmas', 'xxmaj', 'in', 'xxmaj', 'august', '(', '1998', ')', ',', 'xxmaj', 'one', 'xxmaj', 'fine', 'xxmaj', 'spring', 'xxmaj', 'day', '(', '2001', ')', ',', 'xxmaj', 'spring', 'xxmaj', 'summer', 'xxmaj', 'fall', 'xxmaj', 'winter', 'and', 'xxmaj', 'spring', '(', '2003', ')', ',', 'xxmaj', 'asako', 'xxmaj', 'in', 'xxmaj', 'ruby', 'xxmaj', 'shoes', '(', '2', 'xxrep', '3', '0', ')', ',', 'xxmaj', 'rules', 'of', 'xxmaj', 'dating', '(', '2005', ')', ',', 'xxmaj', 'art', 'xxmaj', 'museum', 'xxmaj', 'by', 'the', 'xxmaj', 'zoo', '(', '1998', ')', ',', 'and', 'most', 'of', 'xxmaj', 'yasujiro', 'xxmaj', 'ozu', \"'s\", 'films', 'were', 'very', 'enjoyable', 'to', 'me', '.', 'xxmaj', 'add', 'another', '50', 'or', 'so', 'similar', 'films', 'to', 'that', 'recommendation', 'list', ',', 'and', 'one', 'could', 'be', 'forgiven', 'to', 'conclude', 'that', 'i', 'not', 'only', 'like', 'deliberately', '-', 'paced', ',', 'slow', '-', 'burning', 'art', '-', 'house', 'cinema', ',', 'but', 'xxmaj', 'i', \"'m\", 'actually', 'a', 'big', 'fan', 'of', 'the', 'genre', '.', '\\n\\n', 'xxmaj', 'to', 'date', 'xxmaj', 'i', \"'ve\", 'seen', 'four', 'of', 'xxmaj', 'sang', '-', 'soo', 'xxmaj', 'hong', \"'s\", 'films', 'and', 'one', 'thing', 'is', 'certain', ':', 'the', 'artistic', 'merits', 'of', 'xxmaj', 'virgin', 'xxmaj', 'stripped', 'xxmaj', 'bare', 'xxmaj', 'by', 'xxmaj', 'her', 'xxmaj', 'bachelors', '(', '2', 'xxrep', '3', '0', ')', 'was', 'a', 'fluke', 'of', 'sorts', 'within', 'xxmaj', 'hong', \"'s\", 'otherwise', 'unimpressive', 'portfolio', 'that', 'treads', 'dangerously', 'close', 'to', 'mirroring', 'something', 'you', \"'d\", 'see', 'on', 'xxmaj', 'cinemax', 'xxmaj', 'late', 'xxmaj', 'night', '.', 'a', 'half', 'dozen', 'sex', 'scenes', '?', 'xxmaj', 'check', '.', 'xxmaj', 'complete', 'absence', 'of', 'character', 'development', '?', 'xxmaj', 'check', '.', 'xxmaj', 'dull', '-', 'as', '-', 'dirt', 'filler', 'material', '?', 'xxmaj', 'check', '.', 'xxmaj', 'in', 'all', 'honesty', ',', 'there', \"'s\", 'very', 'little', '(', 'if', 'anything', ')', 'that', 'distinguishes', 'xxmaj', 'hong', \"'s\", 'films', 'from', '\"', 'tummy', 'stick', '\"', 'fests', '.', '\\n\\n', 'xxmaj', 'take', 'xxmaj', 'turning', 'xxmaj', 'gate', 'as', 'an', 'example', '.', 'a', 'guy', 'meets', 'a', 'girl', ',', '\"', 'bangs', '\"', 'her', 'senseless', ',', 'then', 'stops', 'seeing', 'her', '.', 'xxmaj', 'the', 'same', 'guy', 'later', 'meets', 'another', 'girl', ',', '\"', 'bangs', '\"', 'her', 'senseless', ',', 'then', 'stops', 'seeing', 'her', '.', 'xxmaj', 'the', 'film', 'ends', '.', 'xxmaj', 'i', \"'m\", 'not', 'exaggerating', 'when', 'i', 'say', 'that', 'this', 'summary', 'adequately', 'covers', 'any', 'and', 'all', 'content', 'this', 'movie', 'has', 'to', 'offer', '.', 'xxmaj', 'you', 'may', 'wonder', 'how', 'on', 'earth', 'the', 'running', 'time', 'clocks', 'in', 'at', '115', 'minutes', '.', 'xxmaj', 'i', \"'ll\", 'tell', 'you', '.', 'xxmaj', 'the', 'characters', 'walk', 'around', 'a', 'lot', ',', 'wait', 'for', 'cabs', ',', 'and', 'participate', 'in', 'some', 'of', 'the', 'most', 'boring', 'conversations', 'to', 'ever', 'grace', 'celluloid', '.', '\\n\\n', 'xxmaj', 'the', 'whole', 'point', 'of', 'minimalization', 'in', 'film', '-', 'making', 'is', 'to', 'recreate', 'the', 'charming', ',', 'intriguing', 'scenarios', 'that', 'occupy', 'everyday', 'life', 'while', 'avoiding', 'the', 'uninteresting', 'staleness', 'surrounding', 'those', 'moments', '(', 'watch', 'an', 'xxmaj', 'ozu', 'film', 'if', 'you', 'ca', \"n't\", 'get', 'your', 'head', 'around', 'this', 'concept', ')', '.', 'xxmaj', 'for', 'instance', ',', 'the', 'relationship', 'with', 'my', 'first', 'girlfriend', 'could', 'provide', 'enough', 'content', 'for', 'an', 'interesting', 'film', ',', 'but', 'a', 'director', 'is', 'misguided', 'if', 'he', 'thinks', 'that', 'showing', 'me', 'on', 'the', 'toilet', 'for', 'five', 'minutes', 'is', 'going', 'to', 'provide', 'any', 'sort', 'of', 'entertainment', 'value', '.', 'xxmaj', 'will', 'someone', 'please', 'inform', 'xxmaj', 'tsai', 'xxmaj', 'ming', '-', 'liang', 'of', 'this', '?', '\\n\\n', 'xxmaj', 'now', ',', 'xxmaj', 'hong', 'is', 'not', 'quite', 'as', 'bad', 'as', 'xxmaj', 'tsai', '.', 'xxmaj', 'he', \"'s\", 'close', ',', 'but', 'xxmaj', 'turning', 'xxmaj', 'gate', 'is', \"n't\", 'quite', 'the', 'abhorrent', '\"', 'masterpiece', '\"', 'of', 'trashiness', 'that', 'xxmaj', 'viva', \"l'amour\", '(', '1994', ')', 'is', '.', 'xxmaj', 'both', 'directors', 'do', 'make', 'significant', 'contributions', 'to', '\"', 'laundry', '\"', 'film', '-', 'making', 'though', '\\x96', 'which', 'means', 'that', 'their', 'focus', 'on', 'realism', 'gives', 'these', 'hacks', 'a', 'free', 'pass', 'to', 'make', 'movies', 'that', 'are', 'completely', 'devoid', 'of', 'content', 'or', 'insight', '.', 'xxmaj', 'for', 'me', 'personally', ',', 'watching', 'people', 'pick', 'each', 'other', 'up', 'and', '\"', 'bang', '\"', 'is', 'the', 'equivalent', 'of', 'watching', 'someone', 'do', 'their', 'laundry', '.', 'xxmaj', 'hong', \"'s\", 'only', 'good', 'film', '\\x96', 'xxmaj', 'virgin', 'xxmaj', 'stripped', 'xxmaj', 'bare', 'xxmaj', 'by', 'xxmaj', 'her', 'xxmaj', 'bachelors', '\\x96', 'kept', 'me', 'interested', 'in', 'the', '\"', 'hunt', '\"', 'for', 'two', 'hours', ',', 'which', 'is', 'something', 'you', 'ca', \"n't\", 'say', 'for', 'his', 'other', ',', 'lesser', 'efforts', '.', '\\n\\n', 'xxmaj', 'let', 'me', 'offer', 'a', 'psychoanalysis', 'of', 'the', 'type', 'of', 'person', 'who', 'will', 'like', 'this', 'film', ',', 'the', 'title', 'of', 'which', 'should', 'probably', 'be', 'changed', 'from', 'xxmaj', 'turning', 'xxmaj', 'gate', 'to', 'something', 'like', 'xxmaj', 'an', 'xxmaj', 'ode', 'to', 'a', 'xxmaj', 'meaningless', 'xxmaj', 'life', '.', 'xxmaj', 'if', 'you', \"'ve\", 'had', 'a', 'dozen', 'or', 'so', 'one', '-', 'night', 'stands', 'and', 'wish', 'to', 'reminiscence', 'about', 'the', '\"', 'good', 'ole', 'days', '\"', ',', 'then', 'you', \"'ll\", 'probably', 'like', 'this', 'movie', '.', 'i', 'have', 'personally', 'tried', 'to', 'minimize', 'the', 'number', 'of', 'meaningless', 'relationships', 'in', 'my', 'life', ',', 'so', 'maybe', 'i', 'lack', 'the', 'prerequisites', 'in', 'experiencing', 'sexual', 'degeneracy', 'to', 'the', 'point', 'that', 'i', 'can', 'not', 'appreciate', 'the', 'meaningless', 'relationships', 'presented', 'in', 'this', 'movie', '.', '\\n\\n', 'xxmaj', 'if', 'the', 'director', 'actually', 'gave', 'me', 'some', 'content', 'to', 'help', 'me', 'understand', 'why', 'these', 'people', 'live', 'this', 'way', 'and', 'how', 'that', 'lifestyle', 'affects', 'them', ',', 'then', 'xxmaj', 'i', \"'d\", 'surely', 'enjoy', 'it', 'more', '.', 'xxmaj', 'one', 'xxmaj', 'fine', 'xxmaj', 'spring', 'xxmaj', 'day', ',', 'for', 'example', ',', 'does', 'a', 'wonderful', 'job', 'of', 'showing', 'the', 'emotional', 'roller', '-', 'coaster', 'of', 'a', 'typical', 'relationship', 'from', 'beginning', 'to', 'end', '.', 'xxmaj', 'unfortunately', ',', 'xxmaj', 'turning', 'xxmaj', 'gate', '(', 'as', 'well', 'as', 'most', 'of', 'xxmaj', 'hong', \"'s\", 'other', 'movies', ')', 'is', 'so', 'devoid', 'of', 'content', 'that', 'the', 'only', 'people', 'that', 'will', 'enjoy', 'this', 'movie', 'are', 'those', 'who', 'say', 'to', 'themselves', ',', '\"', 'man', ',', 'i', 'yearn', 'to', 'remember', 'the', 'days', 'when', 'i', 'banged', 'a', 'different', 'person', 'every', 'week', 'with', 'no', 'strings', 'attached', '.', '\"', '\\n\\n', 'xxmaj', 'do', \"n't\", 'misunderstand', 'me', '.', 'i', 'love', 'films', 'with', 'sex', ',', 'but', 'i', 'need', 'something', 'interesting', 'or', 'intriguing', 'to', 'keep', 'me', 'engaged', '.', 'xxmaj', 'strange', 'xxmaj', 'circus', '(', '2005', ')', 'had', 'copious', 'amounts', 'of', 'explicit', 'sex', ',', 'but', 'it', 'had', 'psychological', 'concepts', 'behind', 'them', '.', 'xxmaj', 'ardor', '(', '2002', ')', ',', 'xxmaj', 'the', 'xxmaj', 'isle', '(', '2', 'xxrep', '3', '0', ')', ',', 'and', 'a', 'few', 'of', 'the', 'positively', 'aforementioned', 'films', 'all', 'had', 'some', 'steamy', 'sex', 'in', 'them', ',', 'but', 'there', 'was', 'enough', 'content', 'that', 'raised', 'the', 'experience', 'above', 'xxmaj', 'playboy', 'xxmaj', 'channel', 'trash', '.', 'xxmaj', 'hong', 'ventures', 'into', 'that', 'trashy', 'realm', 'far', 'too', 'often', '.', '\\n\\n', 'xxmaj', 'to', 'close', ',', 'xxmaj', 'i', \"'d\", 'like', 'to', 'also', 'communicate', 'my', 'displeasure', 'with', 'other', 'reviewers', 'who', 'have', 'imposed', 'informative', 'psychological', 'content', 'xxup', 'into', 'the', 'film', 'when', 'the', 'filmmaker', 'himself', 'failed', 'to', 'do', 'so', '.', 'i', 'read', 'statements', 'like', ',', '\"', 'it', 'is', 'a', 'transposition', 'of', 'life', ',', 'with', 'all', 'its', 'ambiguities', ',', 'its', 'unaccomplished', 'desires', ',', 'its', 'eternal', 'quests', '\"', 'or', '\"', 'every', 'single', 'spoken', 'word', 'has', 'a', 'special', 'meaning', '\"', 'and', 'think', 'to', 'myself', ',', '\"', 'how', 'the', 'hell', 'was', 'any', 'of', 'this', 'communicated', 'through', 'this', 'film', '?', '\"', 'xxmaj', 'it', \"'s\", 'a', 'double', '-', 'edged', 'sword', ',', 'xxmaj', 'i', \"'m\", 'afraid', '.', 'xxmaj', 'if', 'someone', 'is', 'willing', 'to', 'project', 'that', 'much', 'meaning', 'into', 'xxmaj', 'turning', 'xxmaj', 'gate', ',', 'then', 'you', 'surely', 'must', 'give', 'a', 'movie', 'like', 'xxmaj', 'show', 'xxmaj', 'girls', 'the', 'same', 'consideration', '.', '\\n\\n', 'xxmaj', 'after', 'watching', 'over', '1', ',', 'xxrep', '3', '0', 'xxmaj', 'east', 'xxmaj', 'asian', 'films', 'xxmaj', 'i', \"'ve\", 'been', 'able', 'to', 'identify', 'the', 'types', 'of', 'movies', 'that', 'are', 'a', 'waste', 'of', 'time', '.', 'xxmaj', 'the', 'exploitation', 'genre', '(', 'e.g.', ',', 'xxmaj', 'the', 'xxmaj', 'untold', 'xxmaj', 'story', 'or', 'xxmaj', 'kichiku', 'xxmaj', 'dai', 'xxmaj', 'enkai', ')', 'is', 'one', 'example', '.', 'xxmaj', 'art', '-', 'house', 'cinema', 'is', 'full', 'of', 'traps', ',', 'because', 'amongst', 'the', 'many', 'amazing', 'films', 'within', 'this', 'genre', 'there', 'are', 'some', 'truly', 'inept', 'flops', 'that', 'are', 'so', 'unambitious', 'and', 'mind', '-', 'numbingly', 'awful', 'that', 'one', 'simply', 'can', 'not', 'avoid', 'an', 'occasional', 'pitfall', 'here', 'or', 'there', '.', 'i', 'resent', 'directors', 'like', 'xxmaj', 'hong', 'who', 'entice', 'me', 'with', 'one', 'good', 'entry', ',', 'only', 'to', 'then', 'clobber', 'me', 'over', 'the', 'head', 'with', 'three', 'steaming', 'piles', 'of', 'pig', 'manure', '.'],['xxbos', 'a', 'xxup', 'single', 'xxup', 'girl', '(', 'benoît', 'xxmaj', 'jacquot', '-', 'xxmaj', 'france', '1995', ')', '.', '\\n\\n', 'a', 'little', 'known', 'gem', 'with', 'the', 'beautiful', 'xxmaj', 'virginie', 'xxmaj', 'ledoyen', 'in', 'the', 'lead', '.', 'i', 'have', 'a', 'special', 'relation', 'with', 'some', 'films', 'and', 'this', 'is', 'certainly', 'one', 'of', 'them', '.', 'i', 'first', 'saw', 'it', '-', 'not', 'long', 'after', 'it', 'came', 'out', '-', 'on', 'xxmaj', 'dutch', 'public', 'television', 'in', 'my', 'final', 'year', 'in', 'high', 'school', '.', 'i', 'thought', 'the', 'girl', 'in', 'the', 'main', 'role', '(', 'virginie', 'xxmaj', 'ledoyen', ')', 'was', 'the', 'coolest', 'girl', 'i', 'ever', 'saw', 'and', 'the', 'film', 'always', 'stuck', 'with', 'me', '.', 'xxmaj', 'later', 'on', ',', 'largely', 'due', 'to', 'her', 'performance', 'in', 'this', 'film', ',', 'she', 'would', 'become', 'a', 'big', 'star', 'and', 'continued', 'to', 'be', 'in', 'the', 'limelight', 'and', 'even', 'played', 'alongside', 'xxmaj', 'leonardo', 'dicaprio', 'in', 'xxup', 'the', 'xxup', 'beach', '(', '2', 'xxrep', '3', '0', ')', ',', 'so', 'that', \"'s\", 'probably', 'why', 'i', 'kept', 'remembering', 'her', 'role', 'in', 'xxup', 'la', 'xxup', 'seule', 'xxup', 'fille', '.', '\\n\\n', 'xxmaj', 'for', 'a', 'large', 'part', ',', 'the', 'film', 'plays', 'in', 'real', 'time', 'as', 'the', 'camera', 'follows', 'xxmaj', 'valérie', 'on', 'the', 'day', 'she', 'finds', 'out', 'she', \"'s\", 'pregnant', '.', 'xxmaj', 'she', 'starts', 'a', 'new', 'job', 'in', 'a', 'hotel', 'as', 'a', 'maid', '.', 'xxmaj', 'her', 'day', '-', 'to', '-', 'day', 'routines', 'are', 'followed', ',', 'her', 'various', 'encounters', 'with', 'the', 'hotel', 'guests', 'and', 'her', 'intermittent', 'meetings', 'with', 'her', 'boyfriend', 'at', 'a', 'nearby', 'café', '.', 'xxmaj', 'he', 'does', \"n't\", 'know', 'how', 'to', 'handle', 'the', 'situation', ',', 'he', 'does', \"n't\", 'have', 'a', 'job', 'and', 'can', 'not', 'seem', 'to', 'make', 'up', 'his', 'mind', 'about', 'anything', ',', 'let', 'alone', 'this', 'situation', '.', 'xxmaj', 'he', 'is', 'a', 'bit', 'of', 'a', 'loser', '.', 'xxmaj', 'off', 'course', 'xxmaj', 'valérie', 'is', 'in', 'the', 'toughest', 'spot', 'but', 'somehow', 'she', 'never', 'ceases', 'to', 'lose', 'control', 'or', 'overview', 'of', 'the', 'situation', '.', 'xxmaj', 'she', 'is', 'on', 'screen', 'all', 'the', 'time', 'as', 'the', 'camera', 'follows', 'her', 'constantly', 'while', 'she', 'walks', 'down', 'the', 'corridors', 'of', 'the', 'hotel', ',', 'in', 'the', 'elevator', ',', 'walking', 'down', 'the', 'streets', '.', 'xxmaj', 'even', 'though', 'she', 'has', 'an', 'attitude', ',', 'is', 'arrogant', 'and', 'acts', 'a', 'bit', 'too', 'wise', 'for', 'a', 'girl', 'her', 'age', ',', 'she', 'remains', 'absolutely', 'fascinating', 'throughout', 'the', 'film', '.', '\\n\\n', 'xxmaj', 'the', 'lack', 'of', 'plot', 'hardly', 'mattered', 'to', 'me', ',', 'because', 'it', \"'s\", 'compensated', 'by', 'xxmaj', 'virginie', 'xxmaj', 'ledoyen', \"'s\", 'radiant', 'presence', '.', 'xxmaj', 'this', 'is', 'the', 'perfect', 'example', 'of', 'a', 'film', 'where', 'one', 'actor', 'or', 'actress', 'completely', 'makes', 'it', 'work', '.', '\\n\\n', 'xxmaj', 'camera', 'xxmaj', 'obscura', 'xxrep', '3', '-', '9', '/', '10'],['xxbos', 'xxmaj', 'now', 'i', 'admired', 'the', 'director', 'xxmaj', 'wolfgang', 'xxmaj', 'petersen', 'after', 'seeing', 'xxup', 'das', 'xxup', 'boot', '.', 'xxmaj', 'this', 'was', 'a', 'flick', 'where', 'i', 'thought', ':', 'xxmaj', 'ca', \"n't\", 'get', 'any', 'better', '.', 'xxmaj', 'of', 'course', ',', 'at', 'the', 'time', ',', 'people', 'obviously', 'considered', 'xxmaj', 'hollywood', 'a', 'smart', 'career', 'move', ',', 'but', 'if', 'we', 'now', 'take', 'a', 'look', 'at', 'xxmaj', 'petersen', \"'s\", 'xxmaj', 'hollywood', 'films', ',', 'i', 'really', 'think', 'he', 'should', 'have', 'stayed', 'in', 'xxmaj', 'germany', '.', 'xxmaj', 'sure', ',', 'he', 'would', \"n't\", 'have', 'the', 'money', 'that', 'he', \"'s\", 'having', 'at', 'his', 'disposal', 'now', ',', 'but', 'remember', ':', 'xxup', 'das', 'xxup', 'boot', 'had', 'a', 'rather', 'infinitesimal', 'budget', 'and', 'nevertheless', 'managed', 'to', 'thrill', ',', 'enlighten', 'and', 'entertain', 'millions', 'of', 'viewers', '.', 'xxmaj', 'now', ',', 'what', 'do', 'we', 'have', ':', 'a', 'xxmaj', 'german', 'director', 'who', 'directs', 'patriotic', 'and', 'nationalistic', 'filth', 'that', 'invites', 'the', 'average', 'xxmaj', 'american', 'xxmaj', 'joe', 'to', 'believe', 'in', 'the', 'moral', 'and', 'military', 'superiority', 'of', 'his', 'own', 'country', '.', 'a', 'movie', 'that', 'does', \"n't\", 'really', 'discuss', 'the', 'topics', 'at', 'hand', 'and', 'divides', 'the', 'cast', 'into', 'good', 'and', 'evil', 'with', 'no', 'shades', 'of', 'grey', 'at', 'all', '.', 'xxmaj', 'there', \"'s\", 'one', 'scene', 'where', 'xxmaj', 'gary', 'xxmaj', 'oldman', 'as', 'the', 'terrorist', 'aboard', 'the', 'plane', 'says', 'to', 'the', 'president', \"'s\", 'daughter', ':', 'xxmaj', 'do', 'you', 'think', 'your', 'father', 'is', 'a', 'better', 'man', 'because', 'he', \"'s\", 'wearing', 'a', 'tie', 'and', 'a', 'suit', 'and', 'because', 'he', 'uses', 'smart', 'bombs', '?', 'i', 'found', 'this', 'scene', 'to', 'be', 'very', 'interesting', ',', 'however', ',', 'in', 'the', 'film', 'it', 'is', 'not', 'dwelt', 'upon', '.', 'xxmaj', 'instead', 'we', 'get', 'xxmaj', 'harrison', 'xxmaj', 'ford', 'playing', 'the', 'father', 'and', 'leader', 'of', 'clean', ',', 'wholesome', 'politically', 'xxmaj', 'america', 'and', 'being', 'politically', 'correct', 'and', 'charming', 'and', 'funny', 'and', 'whatnot', '.', 'xxmaj', 'what', \"'s\", 'the', 'moral', 'of', 'this', 'film', ':', 'xxmaj', 'god', 'bless', 'xxmaj', 'america', 'and', 'no', 'place', 'else', '.'],['xxbos', 'i', 'must', 'admit', 'that', 'seeing', 'a', '3.8', '/', '10', 'by', 'imdb', 'users', 'before', 'i', 'saw', 'this', 'film', 'was', 'not', 'the', 'most', 'encouraging', 'thing', 'for', 'me', 'to', 'read', 'before', 'seeing', 'this', 'movie', ',', 'which', 'was', 'played', 'for', 'the', 'xxmaj', 'trenton', '(', 'nj', ')', 'xxmaj', 'film', 'xxmaj', 'society', 'last', 'night', '.', 'xxmaj', 'but', 'i', 'was', 'pleasantly', 'surprised', '.', 'xxmaj', 'joey', '\"', 'pants', '\"', 'is', 'actually', 'restrained', 'in', 'this', 'role', ',', 'and', 'is', \"n't\", 'his', 'typical', 'over', '-', 'the', '-', 'top', 'screaming', 'character', '.', 'xxmaj', 'all', 'the', 'other', 'performances', 'are', 'also', 'quite', 'strong', ',', 'especially', 'xxmaj', 'boyd', 'xxmaj', 'gaines', '.', 'xxmaj', 'normally', ',', 'a', 'film', 'where', 'people', 'are', 'wallowing', 'in', 'their', 'inadequacies', 'is', 'xxup', 'not', 'something', 'xxmaj', 'i', \"'m\", 'typically', 'attracted', 'too', '…', 'that', 'whole', '\"', 'victim', 'culture', '\"', 'is', 'something', 'that', 'i', 'despise', '.', 'xxmaj', 'but', 'the', 'film', 'does', \"n't\", 'harp', 'on', 'that', 'aspect', 'as', 'much', 'as', 'i', 'thought', 'it', 'would', '.', 'xxmaj', 'or', 'perhaps', 'it', \"'s\", 'just', 'that', 'the', 'writing', 'is', 'so', 'superb', '.', 'i', 'hope', 'this', 'becomes', 'more', 'widely', 'released', ',', 'as', 'i', 'think', 'it', \"'s\", 'definitely', 'a', 'worthwhile', 'independent', 'film', 'to', 'see', '.'],['xxbos', 'xxmaj', 'it', \"'s\", 'always', 'interesting', 'to', 'see', 'a', 'movie', 'from', 'a', 'play', '.', 'xxmaj', 'this', 'one', 'made', 'me', 'wonder', 'how', 'the', 'intimate', ',', 'brooding', 'mood', 'of', 'extended', 'silences', 'reached', 'across', 'the', 'stage', 'into', 'the', 'audience', ',', 'but', 'it', 'certainly', 'works', 'on', 'film', '.', 'xxmaj', 'the', 'xxmaj', 'netflix', 'blurb', 'prepared', 'me', 'for', 'a', 'depressing', 'experience', ',', 'but', 'i', 'came', 'away', 'with', 'a', 'sense', 'that', 'i', 'had', 'spent', 'a', 'few', 'years', 'in', 'a', 'world', 'that', 'is', 'thousands', 'of', 'miles', 'and', 'hundreds', 'of', 'years', 'from', 'my', 'own', '.', 'xxmaj', 'the', 'characters', 'have', 'a', 'limited', 'range', 'of', 'expression', ',', 'but', 'what', 'they', 'feel', 'and', 'say', 'is', 'consistent', 'and', 'almost', 'meditative', '.', 'xxmaj', 'yes', ',', 'there', 'is', 'tragedy', ',', 'but', 'the', 'gift', 'of', 'a', 'film', 'that', 'opens', 'a', 'window', 'on', 'deep', 'experience', 'is', 'that', 'you', 'are', 'uplifted', 'rather', 'than', 'let', 'down', '.', 'a', 'nice', 'little', 'movie', 'that', 'makes', 'me', 'so', 'grateful', 'for', 'dvds', '.'],['xxbos', 'xxmaj', 'if', 'you', \"'re\", 'the', 'sort', 'of', 'person', 'who', 'enjoys', 'being', 'depressed', ',', 'xxmaj', 'the', 'xxmaj', 'chant', 'of', 'xxmaj', 'jimmie', 'xxmaj', 'blacksmith', 'is', 'the', 'film', 'for', 'you', '.', 'a', 'short', 'summary', 'of', 'the', 'film', 'is', 'as', 'follows', '.', 'xxmaj', 'young', 'half', 'aboriginal', '/', 'half', 'white', 'boy', 'is', 'raised', 'by', 'a', 'white', 'xxmaj', 'christian', 'family', '.', 'xxmaj', 'as', 'he', 'goes', 'off', 'to', 'find', 'a', 'job', ',', 'he', 'discovers', 'that', 'every', 'white', 'person', 'in', 'the', 'world', 'is', 'actually', 'a', 'racist', '.', 'xxmaj', 'he', 'tries', 'to', 'get', 'over', 'this', 'fact', 'by', 'trying', 'to', 'lose', 'his', \"'\", 'black', 'soul', \"'\", ',', 'and', 'become', 'more', 'like', 'a', 'white', 'man', '.', 'xxmaj', 'he', 'is', 'constantly', 'cheated', 'and', 'laughed', 'at', 'by', 'his', 'white', 'employers', '.', 'xxmaj', 'of', 'course', 'there', 'is', 'only', 'one', 'thing', 'a', 'decent', 'person', 'can', 'possibly', 'do', 'when', 'faced', 'with', 'this', '.', 'xxmaj', 'he', 'goes', 'and', 'chops', 'up', 'a', 'couple', 'of', 'women', 'and', 'young', 'girls', 'with', 'an', 'axe', '.', 'xxmaj', 'sound', 'fun', 'so', 'far', '?', 'xxmaj', 'well', 'it', 'gets', 'better', 'anyway', ',', 'but', 'i', 'wo', \"n't\", 'give', 'away', 'the', 'whole', 'plot', 'in', 'case', 'you', 'actually', 'want', 'to', 'watch', 'the', 'movie', '.', 'xxmaj', 'of', 'course', 'one', 'might', 'say', ',', 'but', 'is', \"n't\", 'the', 'message', 'important', '?', 'xxmaj', 'well', ',', 'no', '.', 'xxmaj', 'it', 'is', 'true', 'that', 'xxmaj', 'aborigines', 'were', 'generally', 'considered', 'inferior', 'at', 'the', 'time', ',', 'and', 'that', 'there', 'was', 'some', 'racism', 'going', 'on', '.', 'xxmaj', 'but', 'this', 'film', 'ruthlessly', 'exaggerates', 'it', 'to', 'prove', 'a', 'point', ',', 'which', 'appears', 'to', 'be', 'that', 'white', 'society', 'is', 'a', 'corrupter', 'of', 'black', 'people', '.', 'xxmaj', 'leaving', 'aside', 'the', 'negative', 'storyline', 'and', 'the', 'political', 'point', '-', 'scoring', ',', 'however', ',', 'the', 'acting', 'is', 'fairly', 'decent', ',', 'and', 'score', 'is', 'alright', 'too', '.', 'xxmaj', 'apart', 'from', 'that', ',', 'do', \"n't\", 'bother', 'watching', 'this', '.'],['xxbos', 'i', 'suppose', 'to', 'fully', 'appreciate', 'xxmaj', 'amelie', ',', 'one', 'would', 'first', 'have', 'to', 'appreciate', 'the', 'work', 'of', 'jean', '-', 'pierre', 'xxmaj', 'jeunet', '.', 'xxmaj', 'jeunet', 'creates', 'characters', 'that', 'are', 'sweet', ',', 'simple', ',', 'and', '(', 'of', 'course', ')', 'interesting', '.', 'xxmaj', 'amelie', ',', 'as', 'the', 'full', 'title', 'suggests', ',', 'takes', 'place', 'in', 'xxmaj', 'france', '.', 'xxmaj', 'but', 'not', 'quite', 'the', 'xxmaj', 'france', 'you', 'may', 'know', '.', 'xxmaj', 'the', 'xxmaj', 'france', 'in', 'xxmaj', 'amelie', 'is', 'borderline', 'between', 'surreal', 'and', 'real', ',', 'making', 'the', 'story', 'of', 'xxmaj', 'amelie', 'much', 'like', 'a', 'fairy', '-', 'tale', '.', 'xxmaj', 'the', 'main', 'character', ',', 'xxmaj', 'amelie', ',', 'is', 'struggling', 'to', 'find', 'her', 'place', 'in', 'a', 'world', 'in', 'which', 'she', 'does', 'not', 'seem', 'to', 'fit', 'in', '.', 'xxmaj', 'she', 'feels', 'finally', 'at', 'peace', 'with', 'her', 'life', 'when', 'she', 'finally', 'feels', 'she', 'has', 'found', 'her', 'goal', 'in', 'life', '…', 'changing', 'people', \"'s\", 'lives', 'for', 'the', 'better', '.', 'i', 'do', \"n't\", 'want', 'to', 'give', 'too', 'much', 'away', ',', 'but', 'overall', ',', 'xxmaj', 'amelie', 'is', 'a', 'uniquely', 'sweet', 'story', ',', 'with', 'a', 'uniquely', 'sweet', 'soul', ';', 'just', 'like', '…', 'well', ',', 'xxmaj', 'amelie', '.'],['xxbos', 'xxmaj', 'because', 'of', 'an', 'accident', 'in', 'the', 'laboratory', 'of', 'a', 'xxmaj', 'british', 'chemical', 'company', 'simply', 'named', 'xxmaj', 'chemical', 'which', 'joins', 'the', 'government', \"'s\", 'so', '-', 'called', 'xxmaj', 'prurima', 'xxmaj', 'plan', ',', 'one', 'of', 'the', 'leading', 'researchers', ',', 'professor', 'xxmaj', 'adams', ',', 'becomes', 'a', 'fresh', '-', 'eating', 'monster', ',', 'and', 'attacks', 'a', 'local', 'teenager', 'couple', 'of', 'xxmaj', 'betty', 'and', 'her', 'boy', 'friend', ',', 'xxmaj', 'lucas', '.', 'xxmaj', 'and', 'then', ',', 'the', 'government', 'decides', 'to', 'order', 'the', 'xxup', 'raf', 'to', 'use', 'the', 'mass', '-', 'destructive', 'weapon', '…', 'xxmaj', 'although', 'i', 'believe', 'i', 'am', 'one', 'of', 'the', 'xxmaj', 'italian', '-', 'horror', '-', 'film', '-', 'lovers', ',', 'i', 'have', 'to', 'say', 'this', 'xxmaj', 'italian', 'film', 'is', 'as', 'sadly', 'bad', 'as', 'the', 'notorious', 'xxup', 'miami', 'xxup', 'golem', '.', 'xxmaj', 'the', 'story', 'of', 'the', 'film', 'seems', 'to', 'be', 'trying', 'to', 'express', 'the', 'biological', 'and', '/', 'or', 'chemical', 'crisis', 'of', 'the', 'city', 'of', 'xxmaj', 'newton', 'where', 'the', 'ex', '-', 'professor', 'monster', 'is', ',', 'but', 'the', 'film', 'itself', 'has', 'no', 'tense', 'atmosphere', 'from', 'beginning', 'to', 'end', '.', 'xxmaj', 'and', 'the', 'pizza', '-', 'faced', 'monster', 'effects', 'which', 'created', 'by', 'xxmaj', 'rino', 'xxmaj', 'carboni', 'are', 'not', 'only', 'simply', 'cheap', 'but', 'also', 'problematically', 'unrealistic', ';', 'at', 'least', 'his', 'face', 'seems', 'to', 'be', 'too', 'swollen', 'to', 'eat', 'raw', 'human', 'fresh', '.', 'xxmaj', 'and', 'to', 'make', 'matters', 'worse', ',', 'this', 'film', 'has', ',', 'as', 'other', 'reviewer', 'already', 'pointed', 'out', ',', 'not', 'a', 'few', 'badly', 'independent', 'and', 'almost', 'meaningless', 'scenes', '.', 'xxmaj', 'for', 'instance', ',', 'in', 'the', 'first', 'one', 'third', 'part', 'of', 'the', 'film', ',', 'xxmaj', 'captain', 'xxmaj', 'kirk', 'and', 'xxmaj', 'sergeant', \"o'brien\", 'find', 'a', 'giant', 'pizza', '-', 'faced', 'mouse', 'in', 'a', 'manhole', 'of', 'the', 'old', 'factory', ',', 'and', 'the', 'xxmaj', 'sergeant', 'says', 'xxup', 'oh', ',', 'xxup', 'my', 'xxup', 'god', '!', 'xxmaj', 'and', 'that', \"'s\", 'all', 'there', 'is', 'to', 'it', '.', 'xxmaj', 'since', 'then', 'the', 'composite', '-', 'photograph', '-', 'like', 'mouse', 'never', 'shows', 'up', ',', 'and', 'no', 'one', 'mentions', 'it', '.', 'xxmaj', 'in', 'addition', ',', 'this', 'film', 'has', 'nightmare', '-', 'city', '-', 'like', 'crazy', 'credits', ';', 'at', 'the', 'very', 'ending', 'part', 'of', 'the', 'film', ',', 'with', 'the', 'cheap', 'tv', '-', 'like', 'music', 'by', 'xxmaj', 'marcello', 'xxmaj', 'giombini', ',', 'one', 'can', 'see', 'xxup', 'what', 'xxup', 'you', 'xxup', 'have', 'xxup', 'seen', 'xxup', 'might', 'xxup', 'really', 'xxup', 'happen', '…', 'perhaps', 'xxup', 'it', 'xxup', 'already', 'xxup', 'has', '!'],['xxbos', 'xxmaj', 'back', 'in', 'xxmaj', 'april', 'of', 'this', 'year', 'i', 'heard', 'that', 'xxmaj', 'the', 'xxmaj', 'worlds', 'xxmaj', 'greatest', 'xxmaj', 'lover', 'was', 'going', 'to', 'be', 'on', 'xxup', 'amc', 'and', 'i', 'was', 'like', 'yes', 'xxmaj', 'i', \"'m\", 'finally', 'going', 'to', 'get', 'to', 'see', 'this', 'movie', ',', 'xxmaj', 'i', \"'m\", 'a', 'big', 'xxmaj', 'gene', 'xxmaj', 'wilder', 'fan', 'so', '…', '..', 'yeah', ',', 'anyway', 'the', 'only', 'problem', 'was', 'that', 'it', 'was', 'going', 'to', 'come', 'on', 'at', '3', 'in', 'the', 'morning', 'on', 'a', 'xxmaj', 'monday', 'which', 'was', 'a', 'school', 'night', 'for', 'me', 'so', 'i', 'asked', 'my', 'mom', 'to', 'record', 'it', 'for', 'me', ',', 'so', 'when', 'i', 'came', 'home', 'from', 'school', 'i', 'saw', 'it', 'and', 'thought', 'it', 'was', 'awesome', ',', 'two', 'or', 'three', 'months', 'later', 'i', 'ordered', 'the', 'xxup', 'dvd', 'off', 'of', 'xxmaj', 'barnes', 'and', 'xxmaj', 'nobles', 'and', 'i', 'now', 'have', 'it', 'on', 'xxup', 'dvd', 'what', 'i', 'had', 'heard', 'from', 'this', 'movie', 'was', 'that', 'xxmaj', 'gene', 'not', 'only', 'stars', 'in', 'this', 'movie', 'but', 'writes', ',', 'directs', ',', 'produces', ',', 'and', 'surprisingly', 'wrote', 'a', 'song', 'for', 'the', 'film', 'as', 'well', ',', 'i', 'think', 'xxmaj', 'gene', \"'s\", 'take', 'on', 'xxmaj', 'rudolph', 'xxmaj', 'valentino', 'was', 'pretty', 'cool', 'and', 'i', 'think', 'he', 'came', 'up', 'with', 'some', 'clever', 'ideas', 'like', '\"', 'histerical', 'laryngitis', '\"', 'and', 'sticking', 'your', 'tongue', 'out', 'or', 'twisting', 'your', 'words', 'around', 'whenever', 'his', 'character', 'is', 'nervous', '.', 'i', 'also', 'thought', 'xxmaj', 'carol', 'xxmaj', 'kane', 'was', 'wonderful', 'as', 'xxmaj', 'rudy', \"'s\", 'wife', 'xxmaj', 'annie', 'and', 'xxmaj', 'dom', 'xxmaj', 'deluise', 'was', 'as', 'funny', 'as', 'usual', 'as', 'movie', 'mogul', 'xxmaj', 'adolph', 'xxmaj', 'zitz', ',', 'one', 'thing', 'you', 'probably', 'found', 'annoying', 'was', 'xxmaj', 'gene', 'xxmaj', 'wilder', \"'s\", 'constant', 'screaming', 'and', 'going', 'into', 'hysterics', 'all', 'the', 'time', 'but', 'he', 'does', 'it', 'brilliantly', ',', 'plus', 'the', 'character', 'of', 'xxmaj', 'rudy', 'was', 'very', 'high', '-', 'strung', 'kinda', 'like', 'xxmaj', 'leo', 'xxmaj', 'bloom', 'right', '?', 'so', 'if', 'you', 'like', 'slapstick', 'comedy', 'or', 'if', 'your', 'a', 'fan', 'of', 'xxmaj', 'gene', 'xxmaj', 'wilder', ',', 'i', 'highly', 'recommend', 'this', 'and', 'xxmaj', 'i', \"'d\", 'say', 'its', 'another', 'one', 'of', 'xxmaj', 'gene', 'xxmaj', 'wilder', \"'s\", 'forgotten', 'films', 'and', 'its', 'a', 'great', 'one', 'to', 'look', 'out', 'for', ',', 'xxmaj', 'i', \"'d\", 'give', 'it', 'a', '7.5', 'out', 'of', '10', '.'],['xxbos', 'xxmaj', 'this', 'movie', 'is', 'absolutely', 'hilarious', '!', 'i', 'first', 'saw', 'it', 'a', 'couple', 'of', 'years', 'ago', 'and', 'had', 'my', 'belly', 'aching', 'from', 'laughing', 'by', 'the', 'time', 'it', 'was', 'over', '.', 'xxmaj', 'yesterday', 'it', 'was', 'shown', 'again', 'on', 'xxup', 'tv', 'and', 'it', 'had', 'exactly', 'the', 'same', 'effect', 'on', 'me', 'throughout', 'this', 'second', 'viewing', '.', 'xxmaj', 'playwright', 'xxmaj', 'neil', 'xxmaj', 'simon', ',', 'who', 'scripted', 'this', 'film', 'had', 'a', 'real', 'grasp', 'on', 'his', 'prose', 'all', 'through', 'the', '70s', 'and', '80s', ',', 'and', 'this', 'film', 'is', 'a', 'delight', 'for', 'everyone', 'familiar', 'with', 'his', 'style', 'of', 'lining', 'up', 'one', '-', 'liners', 'in', 'such', 'a', 'way', 'that', 'the', 'viewer', 'barely', 'has', 'time', 'to', 'breathe', 'from', 'laughter', '.', 'xxmaj', 'all', 'three', 'leads', 'are', 'great', '.', 'xxmaj', 'this', 'is', 'real', 'evidence', 'for', 'all', 'those', 'who', 'have', 'doubts', 'about', 'xxmaj', 'goldie', 'xxmaj', 'hawn', \"'s\", 'talents', ',', 'since', 'she', 'is', 'delightful', 'from', 'start', 'to', 'finish', 'and', 'once', 'again', 'proves', 'that', 'she', 'was', 'and', 'still', 'is', 'one', 'of', 'the', 'greatest', 'comediennes', 'xxmaj', 'hollywood', 'ever', 'produced', '.', 'a', 'comedy', 'classic', 'of', 'sorts', '.']...]"
            ]
          },
          "metadata": {},
          "execution_count": 39
        }
      ]
    },
    {
      "cell_type": "code",
      "source": [
        "num = Numericalize()\n",
        "num.setup(toks200)\n",
        "coll_repr(num.vocab, 20)"
      ],
      "metadata": {
        "colab": {
          "base_uri": "https://localhost:8080/",
          "height": 35
        },
        "id": "dt01nkIwa9A5",
        "outputId": "79d3875b-3d31-4f36-b0eb-d88807cbc404"
      },
      "execution_count": 40,
      "outputs": [
        {
          "output_type": "execute_result",
          "data": {
            "application/vnd.google.colaboratory.intrinsic+json": {
              "type": "string"
            },
            "text/plain": [
              "\"(#2152) ['xxunk','xxpad','xxbos','xxeos','xxfld','xxrep','xxwrep','xxup','xxmaj','the',',','.','a','and','of','to','is','in','it','i'...]\""
            ]
          },
          "metadata": {},
          "execution_count": 40
        }
      ]
    },
    {
      "cell_type": "code",
      "source": [
        "nums = num(toks)[:20]\n",
        "nums"
      ],
      "metadata": {
        "colab": {
          "base_uri": "https://localhost:8080/"
        },
        "id": "Es25M2_3ba5w",
        "outputId": "81f02bde-3247-4a51-dff6-f30a5141ba75"
      },
      "execution_count": 42,
      "outputs": [
        {
          "output_type": "execute_result",
          "data": {
            "text/plain": [
              "TensorText([   0,   84,  237,    9,  874,   11,    0,  144,   86,   24,    0,  387,   24,  201, 1260,   13,    0,   50,    0,    0])"
            ]
          },
          "metadata": {},
          "execution_count": 42
        }
      ]
    },
    {
      "cell_type": "code",
      "source": [
        "' '.join(num.vocab[o] for o in nums)"
      ],
      "metadata": {
        "colab": {
          "base_uri": "https://localhost:8080/",
          "height": 35
        },
        "id": "I0gdZ3gKbjWY",
        "outputId": "ec77f9a0-90ff-4f16-887e-0f1b805bcc9d"
      },
      "execution_count": 43,
      "outputs": [
        {
          "output_type": "execute_result",
          "data": {
            "application/vnd.google.colaboratory.intrinsic+json": {
              "type": "string"
            },
            "text/plain": [
              "'xxunk me set the stage . xxunk love well - xxunk art - house dramas and xxunk from xxunk xxunk'"
            ]
          },
          "metadata": {},
          "execution_count": 43
        }
      ]
    },
    {
      "cell_type": "code",
      "source": [
        "# create batches\n",
        "# 90 tokens 6 batch each wiith 15 length\n",
        "\n",
        "# w1 w2 w3 w4 w5 w6 w7 w8 w9 w10 w11 w12 w13 w14 w15\n",
        "# w16 w17 w18 w19 w20 w21 w22 w23 w24 w25 w26 w27 w28 w29 w30 \n",
        "# w31 w32 w33 w34 w35 w36 w37 w38 w39 w40 w41 w42 w43 w44 w45\n",
        "# w46 w47 w48 w49 w50 w51 w52 w53 w54 w55 w56 w57 w58 w59 w60\n",
        "# w61 w62 w63 w64 w65 w66 w67 w68 w69 w70 w71 w72 w73 w74 w75\n",
        "# w76 w77 w78 w79 w80 w81 w82 w83 w84 w85 w86 w87 w88 w89 w90 \n",
        "\n",
        "# First \n",
        "# w1 w2 w3 w4 w5\n",
        "# w16 w17 w18 w19 w20\n",
        "# w31 w32 w33 w34 w35\n",
        "# w46 w47 w48 w49 w50\n",
        "# w61 w62 w63 w64 w65\n",
        "# w76 w77 w78 w79 w80\n",
        "\n",
        "# Then second\n",
        "# w6 w7 w8 w9 w10\n",
        "# w21 w22 w23 w24 w25\n",
        "# w36 w37 w38 w39 w40\n",
        "# w51 w52 w53 w54 w55\n",
        "# w66 w67 w68 w69 w70\n",
        "# w81 w82 w83 w84 w85\n",
        "\n",
        "# Last and final \n",
        "# w11 w12 w13 w14 w15\n",
        "# w26 w27 w28 w29 w30 \n",
        "# w41 w42 w43 w44 w45\n",
        "# w56 w57 w58 w59 w60\n",
        "# w71 w72 w73 w74 w75\n",
        "# w86 w87 w88 w89 w90 "
      ],
      "metadata": {
        "id": "lFEraeIZbwJU"
      },
      "execution_count": null,
      "outputs": []
    },
    {
      "cell_type": "code",
      "source": [
        "nums200 = toks200.map(num)\n",
        "nums200"
      ],
      "metadata": {
        "colab": {
          "base_uri": "https://localhost:8080/"
        },
        "id": "t8q9NgbErype",
        "outputId": "3146f268-dab5-4d71-c57b-c77c2cbb3373"
      },
      "execution_count": 44,
      "outputs": [
        {
          "output_type": "execute_result",
          "data": {
            "text/plain": [
              "(#200) [TensorText([  2,   8, 295,  ...,   0,   0,  11]),TensorText([   2,   12,    7,  416,    7,  297,   37,    0,    8,    0,   24,    8,  637,    0,   36,   11,   26,   12,  155,  697, 1282,   27,    9,  334,    8, 1591,    8, 1592,   17,    9,  489,   11,\n",
              "          19,   38,   12,  256,    0,   27,   66,  120,   13,   21,   16,  535,   44,   14,  116,   11,   19,  112,  265,   18,   24,   40,  181,  121,   18,  417,   61,   24,   41,    8, 1593, 1283,\n",
              "         895,   17,   80, 1284,  344,   17,  446,  896,   11,   19,  221,    9,  297,   17,    9,  418,  289,   37, 1591,    8, 1592,   36,   25,    9,    0,  297,   19,  159,  265,   13,    9,   33,\n",
              "         248, 1594,   27,   84,   11,    8,  364,   41,   10, 1595,  897,   15,   63,  249,   17,   21,   33,   10,   74,   83,  345,   12,  226,  322,   13,    0,   15,   46,   17,    9,    0,   13,\n",
              "          94,  197, 1596,    8,    0,    0,   17,    7,    9,    7,    0,   37,  260,    5,  142,  525,   36,   10,   45,   20,   23,  195,  140,   19,  629,    0,   63,  289,   17,    7,    0,    7,\n",
              "           0,    7,    0,   11,   26,    8,   29,   12,  898,  242,   10,    9,   33,  335,   17,  135,   91,   30,    9,  346, 1285,    8,    0,   41,    9,  230,   74, 1597,   61,   74,   23, 1598,\n",
              "          11,    8,   74,  419,   12,  179,  263,   17,   12,  698,   30,   12,    0,   11,    8,   63,  230,   24,   15,   24,  230,    0,   35,  899,   10,   63,  782,    0,   27,    9,  698,    0,\n",
              "          13,   63,    0,    0,   27,   63, 1072,   51,   12,    0,    0,   11,    8,   39,   88,   32,  128,  105,   15, 1286,    9, 1599,   10,   39,   88,   32,   38,   12,  263,   13,   85,   40,\n",
              "         280,   15,   99,   68,   42,  300,   62,  191,   10,  295,  699,   21, 1599,   11,    8,   39,   16,   12,  347,   14,   12,    0,   11,    8,  141,  232,    8,    0,   16,   17,    9,    0,\n",
              "        1600,   31,  900,   74,  177,    0,   15,    0, 1601,   60,    0,   14,    9, 1599,   11,    8,   74,   16,   41,  348,   49,    9,   91,   30,    9,  346, 1285,   63,  783,  176,   74,    0,\n",
              "         301,    9,    0,   14,    9,  698,   10,   17,    9,    0,   10,    0,  301,    9,    0,   11,    8,   94,  172,   74,   64,   54, 1287,   10,   16,    0,   13, 1602,   12,  347,  114, 1603,\n",
              "          29,   12,  297,   63,  490,   10,   74, 1073,  784, 1288,  536,    9,   33,   11,   26,    8,    9,  695,   14,  156,  785,    0,   15,   84,   10,  117,   18,   23,    0,   43,    8, 1591,\n",
              "           8, 1592,   23,    0, 1074,   11,    8,   21,   16,    9,  349,  439,   14,   12,   33,  148,   44,  393,   60,  700,  388,  210,   18,  206,   11,   26,    8,  346,    8,    0,    5,  142,\n",
              "          24,  901,  154,  198]),TensorText([   2,    8,  171,   19,    0,    9,  270,    8,    0,    8,    0,  121,  286,    7,    0,    7, 1604,   11,    8,   21,   25,   12,  701,  148,   19,  221,  107,    8,  231,   32,   92,  125,\n",
              "         136,   11,    8,   14,  232,   10,   51,    9,   91,   10,   90,  368,  902,    8,  420,   12,  582,  537, 1075,   10,   31,   57,   79,  171,  239,   12,  174,   51,    8,    0,   23,    8,\n",
              "         420,  120,   10,   19,   89,  132,   39,  173,   38, 1289,   17,    8,    0,   11,    8,  207,   10,   39,   83,   32,   38,    9,  491,   20,   39,   23,  350,   51,   42,    0,  171,   10,\n",
              "          31,  634,  107,    7,    0,    7, 1604,   87,   12,  266,    0,  290,   13,    0, 1605,   15, 1606,   10,    0,   13,    0, 1290,   14,  538,   11,    8,  171,   10,   65,   58,   79,   38,\n",
              "         107,   12,    8, 1291,  270,   48, 1292,    0,   13,    0,    0,   20,    0,    9,  638,    8,  302,    8,    0,   15,  273,   17,    9,  903,   13,    0,    0,   14,   42,  211,  786,   11,\n",
              "          12,   28,   20,   88,   32,   89,    0,    9,    0,   51,  904,   13,    0,    9,  250,  101,   67,   13,  702,   27,   78,    0,   14,    0,   51,   49,   11,    8,   53,   23,   44,  166,\n",
              "         148,    8,  787,    8,    0,   30,    9,    0,    0,    9,    0,  492,   15,    9, 1293,   23, 1076,  107,    8,   58,   34,  132,  192,  493,   16,   12,  136,  153,  117,   39,   23, 1607,\n",
              "          12,    0,   13,   12, 1294,   13,  117,   39,  788,  582,    0,   56,   19,  257,   21,  166,   15,   46,   70,  193,   10,  267,   10,   17,    9,   33,   18,   16,   40,    0, 1077,   11,\n",
              "           8,  421,   79,   92,    8,    0,    8,    0,  447,    9,  493,   13, 1078,   14, 1079,   10,    0,    0,    8,  494,   13,  133,    0,    0,   13,  878,   13,  169,   13,    0,   11,    8,\n",
              "          65,   23,    9,  903,   14,   21,   33,  107,    8,  789,    0,    8,  494,   13,   78,  323,  351,   11]),TensorText([   2,   19,  247,  905,   20,  286,   12,    0,  154,  198,   43,  703,    0,  162,   19,  265,   21,   33,   25,   40,    9,  119,    0,  150,   29,   84,   15,  533,  162,  286,   21,   28,\n",
              "          10,   75,   25,  197,   29,    9,    8,    0,   37,    0,   36,    8,   33,    8, 1295,  212,  319,   11,    8,   31,   19,   25,    0,  639,   11,    8,    0,   22, 1608,   22,   16,  168,\n",
              "           0,   17,   21,  289,   10,   13,   16,   32,   42,  633,  143,   24,    9,   24,  352, 1296,  110,   11,    8,   49,    9,  106,  495,   35,  127,  186,  640,   10,  303,    8,    0,    8,\n",
              "           0,   11,    8,    0,   10,   12,   33,  148,   90,   35,    0,   17,   71,    0,   16,    7,   40,  138,    8,   19,  129, 1609,    0,  114,   69,   20,  160,   22,    0, 1297,   22,   16,\n",
              "         138,   20,   19,    0,   11,    8,   31,    9,   33,   88,   32,    0,   41,   20, 1298,   30,   96,   30,   19,  221,   18,   83,   11,    8,   60,  422,   18,   23,   59,   20,    9,  704,\n",
              "          16,   45,  906,   11,   19,  304,   21,  353,   77,    0,  448,   10,   30,   19,  132,   18,   23,  496,   12,    0, 1299,   33,   15,   95,   11]),TensorText([   2,    8,   18,   23,  248,  193,   15,   95,   12,   28,   50,   12,  184,   11,    8,   21,   44,  104,   84,  480,  105,    9,    0,   10,    0, 1080,   14,    0,    0,    0,  539,    9,\n",
              "         874,  101,    9,  394,   10,   31,   18,  535,  907,   41,   33,   11,    8,    9,    8,    0,    0, 1610,   84,   29,   12,    0,  443,   10,   31,   19,  417,  222,   27,   12,  274,   20,\n",
              "          19,   87,  705,   12,  180,  223,   17,   12,  175,   20,   16,    0,   14,    0,   13,    0,   14,  223,   50,   80,  211,   11,    8,    9,  111,   38,   12, 1081, 1300,   14,    0,   10,\n",
              "          31,   65,   47,  281,   13,  131,   16,    0,   13,  213,    0,   11,    8,  369,   10,   53,   16, 1611,   10,   31,    9,    0,   14,   12,   33,   20,    0,   12,    0,   41,  706,  443,\n",
              "          16,   20,   34,   35,    0,  266,   98,  295,  301,   11,   12,  423,  155,   28,   20,  210,   84,   45,    0,   29, 1612,   11]),TensorText([   2,    8,   57,   34,  199,    9,  580,   14,  246,   48,    0,  133,    0,   10,    8,    9,    8,    0,   14,    8,    0,    8,    0,   16,    9,   33,   29,   34,   11,   12,  305,  876,\n",
              "          14,    9,   33,   16,   30, 1285,   11,    8,  182,  238,    0,  154,  238,  395,  790,   16,    0,   43,   12,  395,    8, 1082,  251,   11,    8,   30,   39,  306,  141,   15,  214,   12,\n",
              "         263,   10,   39,    0,   20,  204,  395,  246,   17,    9,  175,   16,  168,   12,    0,   11,    8,   39,  707,   15,   92,  143,   21,  252,   43,  396,   15,    0,   42,   73,  291,    0,\n",
              "          73,   10,   13,  345,   77,   52,   12,  395,  153,   11,    8,   39,   16,  783, 1301,   13, 1083,   51,   43,   42,  395,    0,   11,    8,   14,  232,   53,   16,   81,   44,  150,   12,\n",
              "         641,  246,   85,  708,   58,   76, 1613,   27,   21,   11,    8,   39,  306,   13,    0,   68,   12,  583,   14,  307,   13,  182,  781,   27,   54,    0,   11,    8,  642,  292,   45,  264,\n",
              "          56,    8,   86,   18,  190,  136,  908,   10,   31,   19,  584,   32,  196,  222,    9,  160,  156,   17,  397,   34,  168,  170,   15,  126,    9,   28,   11,    8,   14,  232,   44,  282,\n",
              "         131,   10,   31,   16,   32,    9,  791,  585,   56,    8,   86,   10,   78,   11,    8,   18,   16,  336,   20,    8,    0,   82,  909,  902,    0,   51,    9,   91,   10,   13,   20,   53,\n",
              "          25,   66, 1302,  161,   41,   11,    8,   31,   21,   33,    0,    0,   18,   15,  709,   12,  185,   10,   75,  586,   15,   46,   20,  395, 1295,   16,   12,    0,   14,  291,   90,   11,\n",
              "           8, 1614, 1615,    9,    0,  540,   13,    9, 1303,  185,   24,    0,   10,  267,   10,    9,  122,   16, 1616,  641,   10,   13, 1084,   16,    0,  114,   11,    8,  910,   50,   20,   10,\n",
              "          58,   32, 1085,  194,   21,   11]),TensorText([   2,   19,  911,   15,  643,  484,    8,  792,   10,   44,   83,  112,   38,   15,  484,    9,  206,   14,    0,   24,    0,    8,    0,   11,    8,    0,    0,  111,   20,   35,  912,   10,\n",
              "         449,   10,   13,   37,   14,  232,   36,  193,   11,    8,  792,   10,   30,    9,  534,  483, 1304,   10,  208,  323,   17,    8,  637,   11,    8,   31,   40,  186,    9,    8,  637,   34,\n",
              "         343,  128,   11,    8,    9,    8,  637,   17,    8,  792,   16,    0,  354, 1305,   13,  135,   10,  261,    9,   72,   14,    8,  792,   96,   52,   12,    0,   24,  793,   11,    8,    9,\n",
              "         418,  110,   10,    8,  792,   10,   16, 1306,   15,  214,   63,  323,   17,   12,  175,   17,   75,   74,   88,   40,  280,   15,    0,   17,   11,    8,   74,  794,  450,   51,  913,   27,\n",
              "          63,  134,   76,   74,  450,  794,   74,   64,  257,   63, 1617,   17,  134,   69,    0,   90,   23,  587,   29,    9,  136,   11,   19,   58,   32,  170,   15,  196,  114,   96,  222,   10,\n",
              "          31,  710,   10,    8,  792,   16,   12,    0,  912,   72,   10,   27,   12,    0,  912,    0,  149,   59,   52,   69,   86,   10,    8,  792,   11]),TensorText([   2,    8,  117,   14,   54,    0,   17,    9,    0,   14,   12,    8,  541, 1618,  644,  288,  711,    8, 1618,   75,    0,    9, 1619,   23,   45,   24,  424,    8,    0,    8,    0,   10,\n",
              "          44,   14,    9,  795,    0,   10, 1307,    8,    0,   10,  353,   12, 1308,   24, 1620, 1086,   10,   13,    0,   12,  796,    0,  583,   14,    8,    0,   13,   63,  790,  588,   10,    8,\n",
              "           0,   11,    8,   13,  115,   10,    9, 1619, 1621,   15,  542,    9,    7,    0,   15,  497,    9, 1309,   24,    0,    0,   69,    8,  498,   19,  273,   19,  275,   44,   14,    9,    8,\n",
              "        1087,   24,  209,   24,   33,   24, 1622,   10,   19,   38,   15,  131,   21,    8, 1087,   33,   16,   30, 1623,  109,   30,    9,    0,    7,    0,    7,    0,   11,    8,    9,   72,   14,\n",
              "           9,   33,  200,   15,   46,  396,   15,    0,    9,    0,   13,  154,   60, 1618,    0,   14,    9,  645,   14,    8,    0,  148,    9, 1310,   24, 1307, 1086,   16,   10,   31,    9,   33,\n",
              "         370,   64,   78,    0,  797,   50,  320,   15,  145,   11,    8,   13,    9,    0,   24, 1613, 1086,  276,   75,  798,   43,    8,    0,    8,    0,   35,   40,   81,  288,  425,   31,  127,\n",
              "           0, 1624,  149,   51,  268,   42,  426,  200,   15,   46,  114,    0,   15, 1625,    0,  646, 1308,   11,    8,   13,   15,   99, 1626,  451,   10,   21,   33,   64,   10,   30,  106, 1627,\n",
              "         337,    0,   61,   10,   40,   12,  180,  647, 1299,   13,  213, 1272,  164,   11,    8,   29, 1579,   10,   17,    9,  112,   44, 1311,  242,   14,    9,   33,   10,    8, 1628,    8, 1629,\n",
              "          13,    8,    0,    0,  214,   12, 1088,    0,   24, 1613, 1630,   17,   12,    0,   14,    9,  228,    0,   10,   13,    9,    8,    0,  492,    7,  338,   10,    7,   80,    7,  789,   55,\n",
              "           8,   13,   20,   23,   49,   53,   16,   15,   18,   11,    8,  215,  115,    9,    0,   24,    0,   24,   52, 1630,  177,  324,   68,   10,   13,   78,   44,    0,   18,   11,    8,   17,\n",
              "           0,   10,   21,   33,   64,    0,   24,  645,   24,   52,  543,  712,  149,   51,    9,   70,  371,  242,   14,    9,   33,   10,   27,    9,  425,  427,   24,   52,  308,   43,    8,    0,\n",
              "           8,    0,   10,   44,   85,   95,    7,   65,    7,   34,    7,   38,    7,  137,    7,  282,    7,   89,    7,  648,   69,  422,    7,   18,    7,  337,    7,   64,   55]),TensorText([   2,    8,  167,   17,    8,    0,   14,   21,  344,   19,  544,   20,    8,    9,    8,    0,    8, 1089,    8,    0,   25,  161,   15,   46,   41,    7,    0,   13,   19,   25,   52,  369,\n",
              "           8,   19,  129,  450,  161,   15,   92,   15,   95,   21,   28,   10,    8,   19,  129,   12,  226,    8,  713,    8, 1312,  296,   45,   69,  452,  714,   10,  908,    9,   81,  428,   25,\n",
              "          20,   18,   25,  161,   15,  325,   41,   51,  142,   17,    9,  914,   41,   12,    8,    0,   75,   25,   12,  896,  319,   29,   84,   45,   19, 1631,   80,  915,   15, 1632,   18,   29,\n",
              "          84,   10,   45,   76,   19,  417,  283,   50,  896,   19,  265,   18,   13,  221,   18,   25, 1090,   10,  139,   60,  272,    0,  364,   19,    0,    9,    7,  224,  141,   14,    8,    0,\n",
              "          13,    8,    0,   13,   19,  171,   38,   18,   41,    7,  224,   65,   19,   87,  544,   50,   21,   28,   25,   20,    8,  713,   40,   81,  398,   17,   21,   28,   31, 1633,   10, 1292,\n",
              "          10,    0,   10,   13, 1634, 1313,   12,  799,   29,    9,   33,   30,   86,   10,   19,  132,    8,  713,   23,  239,   41,    8,    0,    8,    0,   25,  216, 1091,   13,   19,  132,   39,\n",
              "         417,   68,   27,   66,  649,  650,   52,   22,    0,    0,   22,   13,    0,  192,    0,   61,   60,    0,  192, 1635,  203, 1636,   42,  110,   16,    0,   11,   19,  127,  221,    8, 1637,\n",
              "           8,    0,   25,  631,   30,    8,    0,   23,  309,    8, 1314,   13,    8,    0,    8,    0,   25,   30,  169,   30,  800,   30,   28,    0,    8,    0,    8,    0,   10,   44,  150,   34,\n",
              "         195,  257,  545,   25,    8,  713,    8, 1312,   23, 1315, 1296,   13,  161,  101,    0,   49,    9,   91,   31,   39,   88,   18, 1316,   10,  916,    9,  110,   14,    8,    0,   25,   70,\n",
              "         446,   24,    0,    0,   52,    8,    0,    8,    0,  253,   56,   45,   57,   34,   52,    0,  243,   60,   57,  192,   12,  296,   14,    8,  713,    8, 1312,   10,   19,  429,  546,   21,\n",
              "          13,    8,   19,  278,  131,  102,  163,   44,   14,    8,  713,    8, 1312,   23, 1638,  120,   13,  102,   12,  118,   44,   15,  174,   61,   29,   10,    8,   19,  278,  196,   18,   12,\n",
              "           0,   61,   14,  198,   11]),TensorText([   2,    8,   21,   28,   16,  784,  651,   55,   19,  112,  265,   18,   12,  583,   14,  223,  715,   13,   87,   80, 1639,    0,   50, 1317,   43,    9,   91,   18,   25,  143,   11,    8,\n",
              "           0,   18,   25,  716,  157,   41,    7,  427,   13,   18,   87,  547,    9,  218, 1092,   41,   84,  536,   21,  453,  717,   11,    8,    0,    8,    0,    8,    0,   10,   48,    0,   21,\n",
              "          33,   87,   12,  135,    0,   41,   42,    0,   49,  205,    9,    0,   13,    0,   10,   13,   21,   33,   16,   12, 1640,   29,  372, 1641,   27,   42,  326,   14,    0,   68,   44,   24,\n",
              "           0,   17,  244,   12,  123,   20,    9,  454, 1093,   64,   91,   15,    0,   50,    0,   11,    8,   49,  272,  801,   35,  118,   11,    8,   21,   16,  135,    0,   29,   49,  178,   48,\n",
              "          38,    0,   62,    8,    0,    8,    0,   23,    0,   10,  215,   74,   16, 1318,   50,  455,   15, 1094,   13,  233,  157, 1642,   20,   74,   25,   13,  187,   16,   44,   14,    9, 1089,\n",
              "           0,    8,  420,  159, 1095,   11,   12,  243,  456,   14, 1574,   11])...]"
            ]
          },
          "metadata": {},
          "execution_count": 44
        }
      ]
    },
    {
      "cell_type": "code",
      "source": [
        "dl = LMDataLoader(nums200)\n",
        "dl"
      ],
      "metadata": {
        "colab": {
          "base_uri": "https://localhost:8080/"
        },
        "id": "zmDdKzTbr6Q6",
        "outputId": "d15d1a92-e2df-4db3-c9fe-346ac132de59"
      },
      "execution_count": 45,
      "outputs": [
        {
          "output_type": "execute_result",
          "data": {
            "text/plain": [
              "<fastai.text.data.LMDataLoader at 0x7fc1c27e2950>"
            ]
          },
          "metadata": {},
          "execution_count": 45
        }
      ]
    },
    {
      "cell_type": "code",
      "source": [
        "x,y = first(dl)\n",
        "x.shape, y.shape"
      ],
      "metadata": {
        "colab": {
          "base_uri": "https://localhost:8080/"
        },
        "id": "veuKAPfor_DN",
        "outputId": "02e73dce-ac1b-4ffe-cdbc-91faed73a278"
      },
      "execution_count": 46,
      "outputs": [
        {
          "output_type": "execute_result",
          "data": {
            "text/plain": [
              "(torch.Size([64, 72]), torch.Size([64, 72]))"
            ]
          },
          "metadata": {},
          "execution_count": 46
        }
      ]
    },
    {
      "cell_type": "code",
      "source": [
        "# offset by 1 x and y "
      ],
      "metadata": {
        "id": "D-itHSVksE4O"
      },
      "execution_count": null,
      "outputs": []
    },
    {
      "cell_type": "code",
      "source": [
        "# independent variable\n",
        "' '.join(num.vocab[o] for o in x[0][:20])"
      ],
      "metadata": {
        "colab": {
          "base_uri": "https://localhost:8080/",
          "height": 35
        },
        "id": "sQBmEA0psE5z",
        "outputId": "035c9fea-630f-4629-8538-457e1f8db295"
      },
      "execution_count": 48,
      "outputs": [
        {
          "output_type": "execute_result",
          "data": {
            "application/vnd.google.colaboratory.intrinsic+json": {
              "type": "string"
            },
            "text/plain": [
              "'xxbos xxmaj let me set the stage . i love well - xxunk art - house dramas and xxunk from'"
            ]
          },
          "metadata": {},
          "execution_count": 48
        }
      ]
    },
    {
      "cell_type": "code",
      "source": [
        "# dependent variable\n",
        "' '.join(num.vocab[o] for o in y[0][:20])"
      ],
      "metadata": {
        "colab": {
          "base_uri": "https://localhost:8080/",
          "height": 35
        },
        "id": "JUj_v5RXsk8I",
        "outputId": "493cb9b2-3c2d-4ad6-8c5f-728ed9fe644e"
      },
      "execution_count": 49,
      "outputs": [
        {
          "output_type": "execute_result",
          "data": {
            "application/vnd.google.colaboratory.intrinsic+json": {
              "type": "string"
            },
            "text/plain": [
              "'xxmaj let me set the stage . i love well - xxunk art - house dramas and xxunk from xxmaj'"
            ]
          },
          "metadata": {},
          "execution_count": 49
        }
      ]
    },
    {
      "cell_type": "code",
      "source": [
        "# Training a text classifier \n",
        "get_imdb = partial(get_text_files, folders=['train', 'test', 'unsup'])\n",
        "\n",
        "db = DataBlock(\n",
        "    blocks=TextBlock.from_folder(path, is_lm=True),\n",
        "    get_items=get_imdb,\n",
        "    splitter=RandomSplitter(0.1)\n",
        "    )\n",
        "dls_lm = db.dataloaders(path, path=path, bs=128, seq_ln=80)"
      ],
      "metadata": {
        "id": "AddBqmErsuTm"
      },
      "execution_count": 51,
      "outputs": []
    },
    {
      "cell_type": "code",
      "source": [
        "dls_lm.show_batch(max_n=2)"
      ],
      "metadata": {
        "colab": {
          "base_uri": "https://localhost:8080/",
          "height": 181
        },
        "id": "gafe6gSdtisv",
        "outputId": "6fe317b8-a04e-46be-8c55-8fcb52cb7872"
      },
      "execution_count": 52,
      "outputs": [
        {
          "output_type": "display_data",
          "data": {
            "text/html": [
              "<table border=\"1\" class=\"dataframe\">\n",
              "  <thead>\n",
              "    <tr style=\"text-align: right;\">\n",
              "      <th></th>\n",
              "      <th>text</th>\n",
              "      <th>text_</th>\n",
              "    </tr>\n",
              "  </thead>\n",
              "  <tbody>\n",
              "    <tr>\n",
              "      <th>0</th>\n",
              "      <td>xxbos xxmaj this is a brilliant film . xxmaj the story starts off in xxmaj romania , where xxmaj billy xxmaj crystal stars as an agent who can talk anybody into doing anything . xxmaj there is a really funny scene here , where xxmaj crystal is a child , and talks his father , who is a rabbi into eating pork ( you xxunk may know that this is a parody</td>\n",
              "      <td>xxmaj this is a brilliant film . xxmaj the story starts off in xxmaj romania , where xxmaj billy xxmaj crystal stars as an agent who can talk anybody into doing anything . xxmaj there is a really funny scene here , where xxmaj crystal is a child , and talks his father , who is a rabbi into eating pork ( you xxunk may know that this is a parody of</td>\n",
              "    </tr>\n",
              "    <tr>\n",
              "      <th>1</th>\n",
              "      <td>very closely to find it wanting . xxmaj i 'm willing to let all kinds of things go for the sake of suspension of disbelief , but this movie just pushes it too far . xxmaj there 's a scene where xxmaj charlie and his buddy decide to sell videotapes of students being beaten up , and the whole school goes crazy trying to buy them . i just did n't get</td>\n",
              "      <td>closely to find it wanting . xxmaj i 'm willing to let all kinds of things go for the sake of suspension of disbelief , but this movie just pushes it too far . xxmaj there 's a scene where xxmaj charlie and his buddy decide to sell videotapes of students being beaten up , and the whole school goes crazy trying to buy them . i just did n't get it</td>\n",
              "    </tr>\n",
              "  </tbody>\n",
              "</table>"
            ],
            "text/plain": [
              "<IPython.core.display.HTML object>"
            ]
          },
          "metadata": {}
        }
      ]
    },
    {
      "cell_type": "code",
      "source": [
        "dls_lm.show"
      ],
      "metadata": {
        "colab": {
          "base_uri": "https://localhost:8080/"
        },
        "id": "4KPfuQWkvMnD",
        "outputId": "b85f9db2-e797-4bc9-fe2f-242241554976"
      },
      "execution_count": 61,
      "outputs": [
        {
          "output_type": "execute_result",
          "data": {
            "text/plain": [
              "<bound method Datasets.show of (#90000) [(TensorText([    2,    13,    32,    21, 16424,   101,    18,    15,   128,  3713,   872,    10,   107,    14,    45,  1542,   187,    46,     9,    98,   850,    11,    91,    15,   897,    28,    55,\n",
              "           39,    75,  1262, 16249,    23,    10,     8,     9,  1127,    12,   202,    18,    20,    32,    93,    38,   187,    15,  2342,    56,  1054,   200,    15,  2385,   201,    10,     8,\n",
              "           81,   254,    43,    13,  2932,    14,    21,    31,    69,    17,   294,   204,    15,    17,   115,    60,   278, 12832,    11,   278, 30848,    12,  4693,    21,  7541,   278, 11442,\n",
              "           15,  1137,    10,     8,     9,  4961,    87,    13,  2650,   329,  1120,    15,    20,    31,    17,    25,    45,   113,    73, 14361,    12,   677,  6908,   174,    10,     8,    46,\n",
              "          243,    22,     9,     8,   250,     8,  3965,    22,   791,    15,   214,    18,    15,  2611,  1176,    12,   924,    51,    13,  3810,   244,    14,   671,    10,    17,   226,    38,\n",
              "           59,    17,    71,    91,    46,   237,    31,     9,    32,    61,  9627,    10,     8,   684,   111,     8,  1426,    59,    36,    78,   284,    21,  4916,  4696,    16,  1421,   304,\n",
              "          645,    21,  1868,    39, 12690,    15,    17,    52,   115,    38,  1652,    66,    14,     9,   126,  3759,    39,  8348,    10,    13,  2441,    21,  2828,  9265,    12,  5297,    67,\n",
              "            8,    92,    42,   113,   112,    52,     8,    19,   169,   274,   956,    80,    10,     8,    64,    33,    39,    38,    13,   617,  3098,  6909,  3317,   116,    20,    16,    13,\n",
              "           32,    29,    33]),),(TensorText([    2,    63,     9,     8,  1373,    14,     8, 16418,    63,    16,    49,   433,   820,    24,  1602,   202,   462,    56,    11,   270,    11,    17,    16,    49,    22,     0,    22,\n",
              "           37,  2310,    49,  2099,    23,    32,    34,    10,     8,    20,    32,    16,    13,  1626,    14,    13,  2475,    14,   130,  4192,    21,   791,    15,  6746, 20880,    15, 29544,\n",
              "           11,    56,    57,   114,    13,  6675,    11,    48,  9580,  4927,    56,  1781,  1635,     9,   279,    10,     8,  2933,    11,     9,    84,    14,    20,   310,    28,   768,  1342,\n",
              "           16,    68,    10,     8,   801,     8,  4031,   831,     8,     0,    23,  5840,    12,    13,    84,    48,     8,  4895,     8,  1466,     8,  6702,    11,    17, 11563,    35,     9,\n",
              "        45302,   780,    10,    26,     8,   496,    11,     9,   111,  1345,    20,    32,   241,    16,     9,  1382,  5411,   307,    15,   114,     8,   852,     8, 30962,   968,  1567,   746,\n",
              "          158,    10,     8, 21597,     8,     0,    25,    13,   327,   307,  4753,    29,    41,   273,    11,    31,    40,    23,    38,    71,    68,    46, 23294,     9,   379,    56,   768,\n",
              "           17,    10,     8,    32, 17705,     8,  6131,     8,  2485,    37, 10838,    18,    22,   433,     8,   464,    96,     8,   761,    11,     8,  1987,    11,     8,  1411,    22,    34,\n",
              "           11,   216,    11,    61,   113,    49,   238,  5549,    35,    20,    32,   801,  7601,    15, 26122,     9, 11103,   780,    96,   122,   129,  3297,    48,   339,   125,   228,    11,\n",
              "          747,   125,   249,    12,  6937,   125, 48078,  7601,    14,   122,    12,   686,    10,     8,  2891,    11,     9,    32,   677,  3208,    14,  3666,   218,   686,    51,    13,  7682,\n",
              "         2767,    11,    82,    16, 12938,  5168,    10,     8,   463,    16,     9,   616,    14,   825,   134,    55,    23,    71,   139,   151, 21711,    12,   158, 11936,    10,     8,   623,\n",
              "           14,    20,    16,  1695,    29, 19530,    11,    31,    55,    88,    70,  5118,   126,    18,    20,  1182,   209,     9,   189,    77,    11,   600,     9,   147,   528,    14,    63,\n",
              "         6999,    63,    37,  6245,     8, 59748,    11, 19530,    34,    11,    63,  4640,    14,    13,     8,   269,    23,     8,  1315,    63,    37, 49878,     8,  9527,    11, 19530,    34,\n",
              "           12,     9,   366,   126,    14,     7, 14118,    10,     8,  4324,    10,    26,     8,    49,  9161,  2244,    32, 11639,    48, 17794,    74,  1780,    29,    13,  5988,  1706,  1020,\n",
              "           10,     8,  4008,    11,     9,  1020,    61,    13,   313,    29,     9,     8,     0,   124,    11,   102,    94,   129,    49,  2689, 28038,    12, 10808, 13813,    10,     8,   150,\n",
              "           11,     9, 59710,   904,  6520, 13166,   209,    11,  1500,    11,    28,    13, 11865,    14, 17942,    10,    19,   141,    81,   196,    16,  1189,    15,    90,    11,    31,    19,\n",
              "         2259,    11,    28,    81,  4269,   768,    12,   163,    11,    21,    81,   196,    74,    38,    43,  1189,    15,   112,    11,    52,   110,    80,     8,     0, 31815,   143,   415,\n",
              "           63,  5658,    12,    38,    43,  1944,    67,    26,     8,  2165,    11,    20,    16,    44,    14,     9,   111,   238,   433,   126, 25004,    10,     8, 30962,    11,    50,   210,\n",
              "           15,    42,   100,     9,  4141,   354,   539,    20,    32,    11,    18,  1646,    15,   416,     9,   473,    11,    74,   331,   318,     9,   440,   233,    12,  1121,    24,  1489,\n",
              "           63,     9,     8, 28245,    63,    18,  9848,    24,     0,    15,  1070,     0,     9,  2342,  6042,    18,     8,  1043,  1189, 29544,    10,    26,    37,   886,    96,     8,     9,\n",
              "          107,   355,    19,  2255,    25,    60,    49,   565,   218,    37,  1464,    38,   206,   622,    34,    12,    25,    18,   361,  3100,    11,    28,  1442, 16453,    46,   237,    12,\n",
              "          163,    10,     8,    19,   169,    38,   274,    50,    25,     9,  9812,    10,     8,    19,   162,   105,   253,   132,     9,     8, 10538,     7,   291,    11,    82,    11,    46,\n",
              "        18472,   251,    11,    16,  1007,   908,   981,    18,     9,  3801,  2589,    12,   105,    61,  9867,    12,    71,   287,   440,  4039,    11,    31,    16,  2250,    38,    27,    98,\n",
              "           10,     8,     9,  3313,   588,    16,   140, 10027,    11,   175,    10,    34]),),(TensorText([    2,     8,  7423,    12,    41,   350,   568,     8, 42023,   732,    33,     9,    84,    14,    13,   385,    37,  1630,    12,     8,  1702,    34,    21,    39, 11160,    81,  8877,\n",
              "           35,    13,  3530,    15,     8,  2372,    10,     8,    35,     9,  1816,    47,   912,    13,   341,   269,    37,  1630,    23,   124,  1241,   753,    29,    58,    34,    12,    58,\n",
              "         7317,   591,     8,   865,    10,     8,     9,   591,    37,  8432,    34,  1572,     8,  7502,     9,   609,    15,  1644,    28,    41,   337,     8,  9393,    37,     0,   107,    40,\n",
              "          225,  1798,    15,    41,   465,    84,  2654,    41,   633,    28,     8,  9393,    10,     8,     9,  1164,   194,    14,     9,    30,    16,    44,   220,  2761,   164,    88,    33,\n",
              "           99,    15,    86,   110,     8,   865,    37,    49,  9296,   568,    34,   960,     8,  9393,    37,    13,  5347,   125,  3501,    34,    44,   273,    18,     8,  1506,    10,     8,\n",
              "           47,  1241,   786,    29,   275,   102,    12,    47,  2273,    13,    71,  4266,    31,  7486,   891,   633,    10,     8,    69,     8,   865,  2462,   120,    13,   154,    21,    81,\n",
              "          633,    61,  4151,     9,   244,    14,    75,  1019,    40,   517,    15,   995,    17,    73,    10,     8,  9393,    16,  2389,    28,     8,   865,    12,    72,    93,    36,   205,\n",
              "           15,   585,   109,    10,     8,   865, 15139,    58,  1280,    31,    40,   182,    58,   137,    52,  3775,    37,     0,    11,  3510,    11,    76,    34,    18,     9,   442,    21,\n",
              "           72,   106,   585,   109,    10,     8,    69,    20,    93,    36,   180,    40,  3173,    58,   104,   403,    35,    13,  1058,    12,  5049,    58,    14,    15,   177,  6540,    10,\n",
              "            8,    40,  2113,    41,  1101,  6753,   137,    18,     8,  1506,   384,    44,   273,    40,   241,   618,    48,    13,   529,    10,     8,   623,    14,    41,    44,   330,  1431,\n",
              "          235,    15,  2080,   109,    18,     9,  1509,    12,    44,   273,     8,  9393,  2297,    18,    10,     8,    40,  1241,  2462,    21,    72,    16,     9,    83,    44,    21,    80,\n",
              "          367,   109,    12,   168,    72,    23,    18,  1138,    76,     8,  7423,    12,     8, 42023,   302,   195,   732,    33,    49,   345,   701,    10]),),(TensorText([    2,     8,    64,   101,    89,    36,   141,    50,     8,  9179,     8,  5713,    25,   183,    20,    11,    76,    37,    16,    21,     7,   634,    67,    34,    76,    47,   274,\n",
              "          699,    50,    72,    25,   120,    54,    26,     8,    20,   144,   434,    35,    15,  1307,   448,     8, 26541,    11,   203,  1431,    62,    27,    44,     9,   140,   200,     8,\n",
              "         5713,    61,   145,   245,    10,    26,     8,    17,    23,   113,    73,    14,   155,  1405,    76,    10,    26,     7,   512,    19,    76,  9179,  1252,  1668,    51,   666,    15,\n",
              "          666,    11,  1068,    28,  4968,    11,   600,    13,  2401,   136,    72,    16,    13,   139,   259,   195,    11,    45,   292,    28,    13,  4354,   355,    14,    58,  8648,     0,\n",
              "            9,    77,    34,    76,    22,   101,    22,    10,    26,     7,   512,     7,  1381,    76, 15767,   742,  2732,    14,     0,    24,  6741,    11,   154,     8,  9179,     8,  3405,\n",
              "         3339,   782,   332,    17,    23,   147,    94,    17,   978,    76,    26,     7,   512,     5,   155,    19,    76,   332,     9,   140,   194,    11,     8,    57,     8,  9179,    11,\n",
              "         4968,    11,   203,    66,   103,   782,    11,    53,    76,   332,    22,   669,     8,   501,     8,    39,     8,   150,     8,   195,    22,    11,   203,    13,    22,   174,     8,\n",
              "          259,    22, 20813,    76,    10,    26,    45,    18,    45,    11,    13,   103,   194,    14,   724,   499,    11,   113,    48,    44,    14,     9,   856,  3178,    18,     9,   196,\n",
              "           54]),),(TensorText([    2,     8,    46,     8,   107,    17,    25,     7,   371,    31,    19,   683,    15,    53,    17,    27,    47,   208,    70,    70,   104,     9,   774,    14,     9,     0,    89,\n",
              "          388,   139,   246,    70,    31,    17,    25,     7,   103,    54,    26,     8,    47,     8,   388,    70,   101,    12,   927,    15,   114,    70,    12,    70,    14,     9,  6272,\n",
              "         2152,    17,   290,  2050,    12,     8, 56634,    12,     8, 20695,    61,    15,   552,    17,   183,   314,  1142,    17,    10,    26,    19,    74,   159,   161,    86,    17,    64,\n",
              "           33,    53,   774,    21,    16,    38,    21,  2039,    11,  1610,     8,    61,   748,    14,  1089,    11,    12,     8,    38,    21,     8,   667,    10,   376,    86,    17,    48,\n",
              "          670,    56,    28,    13,   445,    10,    26,     8,    31,    17,     8,    25,     8,   103,    54]),),(TensorText([    2,     8,    17,    23,   100,    52,   218,   253,     8,    19,   162,   132,    20,    30,    37,    46,   243,  1171,   176,    34,    12,   262,    17,   153, 10797,    90,    28,\n",
              "           13,  4311,  1513,    14,     9,  2872,  3282,    21,  3231,    14,   316,    80,   411,   486,     9,  1322,    14,     9,     8, 18945,     8,  6115,    10,    26,    13,  4207,    14,\n",
              "            8,  2405,  5323, 39967,  7105,    39,  1891,    18,    49, 39018,   747,     8,  2311,  1035,    13,  1153,  1726,    15,   289, 11066,    18,    13,     8,   976,  6830,    10,    26,\n",
              "            8,   302,    18,  1095,   152,   353,   534,     9,   189,  2148,    27,   121,   102, 16240,    31,    15,    81, 12335,   546,   869,    51,    13,  2895,     8,   976,  1095,  2841,\n",
              "           21,    47,    39,   129,   791,    27,  7015,   253,    47,    88,    62,    14,  6277,    69,  1891,    10,     8,     9,  3282,    14,   163,    49, 45942,    11,    48,     8,   976,\n",
              "         1657,  2576,    11,    16,  2463,    48, 18957,    10,    26,     8,   486,    81, 18675,    11,    12,     9, 18675,    14,     9,  2202,  1095,  2841,    11,     9,   273,    14, 26731,\n",
              "         6098,    53,    13, 15279,    77,  1919,    10,     8,     9,  1127,    16,    52,   324,    33,   106,   179,   871,     9, 15279,    11,   175,    17,   226,    57,    43,   148,  4044,\n",
              "        10045,    28,     9, 27234,    14,    13, 12374,  2463,  4529,    10,    26,     8,     9,   292,    16,   179,   118,  1369,    15, 31415,    18,    79,   431,    95,   363,   947,    17,\n",
              "          150,    10,     8,    31,    19,    80,  2171,     0,    33,   260,   133,   847,    17,    10,     8,    68,  2025,  1416,     9,   398,    18,     9,     7,  2118,    10]),),(TensorText([    2,    19,   141,    65,    20,    30,   488,    15,    43,    10,     8,    17,   488,    15,    43,    49,  3370,    30,    14,   101,  4167,  7867, 56583,    18,    81,   479,    12,\n",
              "        12710,    11,    28,     9,   679,  1981,    14,   122,   163,    27,   119,  1203,     8,  1998,    11,   879,     8,  3550,    56,     8,   366,     8,  2024,    10,    13,  3625,  8801,\n",
              "           12,    38,   630,   231,    31,     7,   604,    10,     8,   216,    11,     9,   213,    14,     9,   522,    16,    21,  1414,   129,   581,    11,    20,    30,    89,    65,    52,\n",
              "          130,   102,   119,   328,    47,   252,    47,    42,    15,    59,    76,     8,   161,   228,    15, 35280,    10,    13,    30,    21,    16,   458,    15,    43,  6680,    11,  4313,\n",
              "           11, 12121,    12,    60,   256,   185,   377,   525,   104,    13,   509,    60, 18669,  3151,  9165,  3513,    10,     8,    48,    21,    19,   406,     9, 18910,    14,    13,  7019,\n",
              "           10,     8,    38,    83,    25,     9,  7019, 10076,    31,  6802,    48,   697,   233,   373,    27,    91,    10,     8,    51,    49,     8, 24399,  1294,  8793,   211,   146,    15,\n",
              "           49,   771,  9364,    11,   341,   834,    21,    57,   435,    13, 14373,    15,    49,   954,    11, 34833,  4762,  6547,  2287,    41,   771,  1785,    92,    42,     9, 42428,    14,\n",
              "           13,    97,    43,    68,    30,    10,     8,    28,    13,   759,   198,    14,    13,  5988,  1150, 22105,    11,    18,   135,    28,   954,   146,    12,     9,  5832,   591,    14,\n",
              "            9,   771,  9364,    11,   283,    15,   180,   200,    62,   120,  1672,    10,    19, 36103,   215,    11,    57,   217,     9,    30,    87,   103,  1047,    31,    17,  1226,    15,\n",
              "         1656,    10]),),(TensorText([    2,     8,   285,  7728,    18,  3903,    29,    13,   352,  3294, 21527,    11,     9,  4311,  1740,    14,     9,   473,  5327,  1033,    15,   732,   121,   137,    15,     9, 19514,\n",
              "          536,   911,    10,     8,     9,    22,   131,    22,  3039,   209,     9,     8, 49065,  4905,   648,    35, 12224,  2829,    15,   161,   708,    31,   129,  5983,    48,    13,  9026,\n",
              "         1213,    24, 30734,   146,    37,    13,  1397,  6786,     8,  2123,     8,  2778,    34,    12,    13,  5311,  7538,  2824,    15,  4184,   112,    18,    58,  2076,  3618,  8421,   770,\n",
              "           47,   205,    15,    56,    38,    10,     8,    27,     8,  4849,     8,  1150,    11,     8,  1854,     8,  4382,    16,   220,    12,  9178,   215,    31,    41,    22,   602,    22,\n",
              "        25018,    12,  1677,   138,  1933, 13554,   200,    10,     8,     9,  1233,    14,   212,    16,  1939,    11,    75,   147,    94,    13,     8,  2201,     8, 22495,    56,     8,  3127,\n",
              "            8,  3432,     7,   265,   441,    28,     8, 23506, 27935,    23,    21,   133,   388, 29115,    12,  7909,  1222,  1933,    21,  1780,    13,  1709,  5939,    15,  1202,    51,     9,\n",
              "         2876,    12,  4263,    13,   146,    51,    46,   243,  1313,  2036,    76,   455,  3202,    76]),),(TensorText([  2,   8,  64,  ..., 160, 287,  10]),),(TensorText([    2,     8,   154,     9,     8,   713,  1057,    66,   610,    12,  3992,  6968,    18,     9,  7378,    24,     8, 15820,     8, 16922,    11,     8,   353,     8, 10177,     8,   953,\n",
              "           11,     8,    44,     8,  2577,    18,     9,     8,  2717,    11,   543,    10,    24,     9,  1943,    88,     9,   166,  2073,   608,    10,    26,     8,    18,     9,  3463,    55,\n",
              "           88,   240,   185, 20907,    15,  3880,    11,   600,     9,   891,  3042,    11, 16359,    11,    12,     9,  1386, 12546,  7029,    14,    13,   388,    29,    22,  7382,    22,    21,\n",
              "           74,    11,  1710,   176,   331,    11,   443,     8,  1005,     8,  8430,    10,     8,  1064,    15, 24010,    28,     9,  2956,    14,    20,  1814,   702,   196,    88,     9,  1331,\n",
              "           12,    38,    24,    52,    24,  1331,  1437,    18,   298,    51,     9,  6459,    14,     8,  5609,     8,  6433,    23,     8,  1663,     8,  3604,    15,  6968,    53,     8,   146,\n",
              "            8,    60,     9,     8,   350,    10,    37,    48,     9,   564,  1943,    20,    22, 21215,    22,  7665,    18,    70, 20722,    12,  2897,    24,  1101,  6968,   163,    27,     9,\n",
              "          959,     8, 25445,    10,    34,    26,     8,   146,     8,    60,     9,     8,   350,    16,    13,   429,   514,    14,     9,    68,     8, 58437,    14,     9,    77,    24,  1075,\n",
              "        19585,    11, 12917,    11,  1441,    11, 32948,    11,   558,  3298,    11,    28,    66,    91,   113,  8203,    35,  2449,   137,    10,     8,  1739,    17,    15,    13,  2941,  4437,\n",
              "          144,   163,    27,     8, 15820,     8, 16922,    11,    12,    17,    16,   267,    15,   284,     9,   128,    88,  1036,    18,     9,   189,   662,    10,    26,     8,   146,     8,\n",
              "           60,     9,     8,   350,    16,    44,    14,     9,   103,     8, 58437,    14,     9,  1943,    11,   228,    73,    55,    28,     8,    68,     8,  5039,    37,     9,     8,    68,\n",
              "            8,   137,    34,    11,    12,     8,    60,     9,     8,   350,    23,  3241,   142,     8,   743,    12,     8,  6825,    10,     8,   115,   504,    16, 43277,    15,    48,     9,\n",
              "          213,    21,    24,    27,    28,     8,    68,     8,  5039,    24,   115,  3484,    11,   943,    11,    12,   130,    14,   115,   198,    42,    87,  3821,  1018,    18,     8,   713,\n",
              "          724,    10]),)...]>"
            ]
          },
          "metadata": {},
          "execution_count": 61
        }
      ]
    },
    {
      "cell_type": "code",
      "source": [
        "# Fine tuning Language model  \n",
        "# predict the next word of movei review \n",
        "learn = language_model_learner(\n",
        "    dls_lm,\n",
        "    AWD_LSTM,\n",
        "    drop_mult=0.3,\n",
        "    metrics=[accuracy, Perplexity()]).to_fp16()\n"
      ],
      "metadata": {
        "colab": {
          "base_uri": "https://localhost:8080/",
          "height": 71
        },
        "id": "Y7VUtvOWtn91",
        "outputId": "f894e582-dc0e-4469-e0e8-2d7a682f5d8f"
      },
      "execution_count": 62,
      "outputs": [
        {
          "output_type": "display_data",
          "data": {
            "text/html": [
              "\n",
              "    <div>\n",
              "        <style>\n",
              "            /* Turns off some styling */\n",
              "            progress {\n",
              "                /* gets rid of default border in Firefox and Opera. */\n",
              "                border: none;\n",
              "                /* Needs to be in here for Safari polyfill so background images work as expected. */\n",
              "                background-size: auto;\n",
              "            }\n",
              "            .progress-bar-interrupted, .progress-bar-interrupted::-webkit-progress-bar {\n",
              "                background: #F44336;\n",
              "            }\n",
              "        </style>\n",
              "      <progress value='105070592' class='' max='105067061' style='width:300px; height:20px; vertical-align: middle;'></progress>\n",
              "      100.00% [105070592/105067061 00:01<00:00]\n",
              "    </div>\n",
              "    "
            ],
            "text/plain": [
              "<IPython.core.display.HTML object>"
            ]
          },
          "metadata": {}
        },
        {
          "output_type": "stream",
          "name": "stderr",
          "text": [
            "/usr/local/lib/python3.7/dist-packages/torch/autocast_mode.py:141: UserWarning: User provided device_type of 'cuda', but CUDA is not available. Disabling\n",
            "  warnings.warn('User provided device_type of \\'cuda\\', but CUDA is not available. Disabling')\n"
          ]
        }
      ]
    },
    {
      "cell_type": "code",
      "source": [
        "learn.fit_one_cycle(1, 2e-2)"
      ],
      "metadata": {
        "colab": {
          "base_uri": "https://localhost:8080/",
          "height": 130
        },
        "id": "H4ndi0VMwL_O",
        "outputId": "0b9d363a-4a77-42ea-dadd-94867c6e67c2"
      },
      "execution_count": null,
      "outputs": [
        {
          "output_type": "stream",
          "name": "stderr",
          "text": [
            "/usr/local/lib/python3.7/dist-packages/torch/cuda/amp/grad_scaler.py:115: UserWarning: torch.cuda.amp.GradScaler is enabled, but CUDA is not available.  Disabling.\n",
            "  warnings.warn(\"torch.cuda.amp.GradScaler is enabled, but CUDA is not available.  Disabling.\")\n"
          ]
        },
        {
          "output_type": "display_data",
          "data": {
            "text/html": [
              "\n",
              "    <div>\n",
              "        <style>\n",
              "            /* Turns off some styling */\n",
              "            progress {\n",
              "                /* gets rid of default border in Firefox and Opera. */\n",
              "                border: none;\n",
              "                /* Needs to be in here for Safari polyfill so background images work as expected. */\n",
              "                background-size: auto;\n",
              "            }\n",
              "            .progress-bar-interrupted, .progress-bar-interrupted::-webkit-progress-bar {\n",
              "                background: #F44336;\n",
              "            }\n",
              "        </style>\n",
              "      <progress value='0' class='' max='1' style='width:300px; height:20px; vertical-align: middle;'></progress>\n",
              "      0.00% [0/1 00:00<00:00]\n",
              "    </div>\n",
              "    \n",
              "<table border=\"1\" class=\"dataframe\">\n",
              "  <thead>\n",
              "    <tr style=\"text-align: left;\">\n",
              "      <th>epoch</th>\n",
              "      <th>train_loss</th>\n",
              "      <th>valid_loss</th>\n",
              "      <th>accuracy</th>\n",
              "      <th>perplexity</th>\n",
              "      <th>time</th>\n",
              "    </tr>\n",
              "  </thead>\n",
              "  <tbody>\n",
              "  </tbody>\n",
              "</table><p>\n",
              "\n",
              "    <div>\n",
              "        <style>\n",
              "            /* Turns off some styling */\n",
              "            progress {\n",
              "                /* gets rid of default border in Firefox and Opera. */\n",
              "                border: none;\n",
              "                /* Needs to be in here for Safari polyfill so background images work as expected. */\n",
              "                background-size: auto;\n",
              "            }\n",
              "            .progress-bar-interrupted, .progress-bar-interrupted::-webkit-progress-bar {\n",
              "                background: #F44336;\n",
              "            }\n",
              "        </style>\n",
              "      <progress value='440' class='' max='2918' style='width:300px; height:20px; vertical-align: middle;'></progress>\n",
              "      15.08% [440/2918 5:03:20<28:28:19 4.2210]\n",
              "    </div>\n",
              "    "
            ],
            "text/plain": [
              "<IPython.core.display.HTML object>"
            ]
          },
          "metadata": {}
        }
      ]
    },
    {
      "cell_type": "markdown",
      "source": [
        ""
      ],
      "metadata": {
        "id": "KQG2onRIPemN"
      }
    },
    {
      "cell_type": "code",
      "source": [
        "learn.save('first_epoch')"
      ],
      "metadata": {
        "id": "llP-NA35wcXy"
      },
      "execution_count": null,
      "outputs": []
    },
    {
      "cell_type": "code",
      "source": [
        "learn.load('first_epoch')"
      ],
      "metadata": {
        "id": "W9zOMRIHwhs8"
      },
      "execution_count": null,
      "outputs": []
    },
    {
      "cell_type": "code",
      "source": [
        "learn.unfreeze()\n",
        "learn.fit_one_cycle(10, 2e-3)"
      ],
      "metadata": {
        "id": "6ya8Y-M4x8ji"
      },
      "execution_count": null,
      "outputs": []
    },
    {
      "cell_type": "code",
      "source": [
        "# save model except last layer \n",
        "learn.save_encoder('finetuned')"
      ],
      "metadata": {
        "id": "oAo6H4B8x-Ky"
      },
      "execution_count": null,
      "outputs": []
    },
    {
      "cell_type": "code",
      "source": [
        "TEXT = \"I liked this movie because\"\n",
        "N_WORDS = 40\n",
        "N_SENTENCES = 2\n",
        "preds = [learn.predict(TEXT, N_WORDS, temperature=0.75) \n",
        "         for _ in range(N_SENTENCES)]"
      ],
      "metadata": {
        "id": "nCl_8gr0yCVF"
      },
      "execution_count": null,
      "outputs": []
    },
    {
      "cell_type": "code",
      "source": [
        "print(\"\\n\".join(preds))"
      ],
      "metadata": {
        "id": "Mnh4W4vyyHpq"
      },
      "execution_count": null,
      "outputs": []
    },
    {
      "cell_type": "code",
      "source": [
        "# classifier dataloaders\n",
        "db = DataBlock(\n",
        "    # from folder will take care padding \n",
        "    blocks=(TextBlock.from_folder(path, vocab=dls_lm.vocab), CategoryBlock),\n",
        "    get_y= parent_label,\n",
        "    get_items=partial(get_text_files, folders=['train', 'test']),\n",
        "    splitter=GrandparentSplitter(valid_name='test')\n",
        ")\n",
        "\n",
        "dls_clas = db.dataloaders(path, path=path, bs=128, seq_len=72)"
      ],
      "metadata": {
        "id": "NZUveO17yc2m"
      },
      "execution_count": null,
      "outputs": []
    },
    {
      "cell_type": "code",
      "source": [
        "dls_clas.show_batch(max_n=3)"
      ],
      "metadata": {
        "id": "fs91GslezdL1"
      },
      "execution_count": null,
      "outputs": []
    },
    {
      "cell_type": "code",
      "source": [
        "# for classifier \n",
        "nums_samp = toks200[:10].map(num)"
      ],
      "metadata": {
        "id": "CDgnGFjGzy40"
      },
      "execution_count": null,
      "outputs": []
    },
    {
      "cell_type": "code",
      "source": [
        "nums_samp.map(len)"
      ],
      "metadata": {
        "id": "Yt5rJUxA0GVD"
      },
      "execution_count": null,
      "outputs": []
    },
    {
      "cell_type": "code",
      "source": [
        "# add padding to make every token to same size "
      ],
      "metadata": {
        "id": "DmjKynGC0eFB"
      },
      "execution_count": null,
      "outputs": []
    },
    {
      "cell_type": "code",
      "source": [
        "learn = text_classifier_learner(\n",
        "    dls_clas, \n",
        "    AWD_LSTM,\n",
        "    drop_mult=0.5,\n",
        "    metrics=accuracy).to_fp16()"
      ],
      "metadata": {
        "id": "Jnw63EAm0wpR"
      },
      "execution_count": null,
      "outputs": []
    },
    {
      "cell_type": "code",
      "source": [
        "learn = learn.load_encoder('finetuned')"
      ],
      "metadata": {
        "id": "iRTReH9h1Lhw"
      },
      "execution_count": null,
      "outputs": []
    },
    {
      "cell_type": "code",
      "source": [
        "# fine tunning the classifier\n",
        "learn.fit_one_cycle(1, 2e-2)"
      ],
      "metadata": {
        "id": "F_baJrPY1fro"
      },
      "execution_count": null,
      "outputs": []
    },
    {
      "cell_type": "code",
      "source": [
        "learn.freeze_to(-2)\n",
        "learn.fit_one_cycle(1, slice(1e-2/(2.6**4),1e-2))"
      ],
      "metadata": {
        "id": "fo5BgF3k2IJs"
      },
      "execution_count": null,
      "outputs": []
    },
    {
      "cell_type": "code",
      "source": [
        "learn.freeze_to(-3)\n",
        "learn.fit_one_cycle(1, slice(5e-2/(2.6**4),5e-2))"
      ],
      "metadata": {
        "id": "Fa9rcEC42etG"
      },
      "execution_count": null,
      "outputs": []
    },
    {
      "cell_type": "code",
      "source": [
        "learn.unfreeze()\n",
        "learn.fit_one_cycle(2, slice(1e-3/(2.6**4),1e-3))"
      ],
      "metadata": {
        "id": "AbEytSQh2p3k"
      },
      "execution_count": null,
      "outputs": []
    }
  ]
}