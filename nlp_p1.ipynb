{
  "nbformat": 4,
  "nbformat_minor": 0,
  "metadata": {
    "colab": {
      "name": "nlp_p1.ipynb",
      "provenance": [],
      "authorship_tag": "ABX9TyMpd1Eo8O4mxu9AeoUt8iIX",
      "include_colab_link": true
    },
    "kernelspec": {
      "name": "python3",
      "display_name": "Python 3"
    },
    "language_info": {
      "name": "python"
    }
  },
  "cells": [
    {
      "cell_type": "markdown",
      "metadata": {
        "id": "view-in-github",
        "colab_type": "text"
      },
      "source": [
        "<a href=\"https://colab.research.google.com/github/nikunjchapadia/fastbook/blob/master/nlp_p1.ipynb\" target=\"_parent\"><img src=\"https://colab.research.google.com/assets/colab-badge.svg\" alt=\"Open In Colab\"/></a>"
      ]
    },
    {
      "cell_type": "code",
      "execution_count": null,
      "metadata": {
        "colab": {
          "base_uri": "https://localhost:8080/"
        },
        "id": "DqD3QSLGRi67",
        "outputId": "d4da913d-6049-46a0-b12b-648aa252e322"
      },
      "outputs": [
        {
          "output_type": "stream",
          "name": "stdout",
          "text": [
            "\u001b[K     |████████████████████████████████| 720 kB 15.2 MB/s \n",
            "\u001b[K     |████████████████████████████████| 46 kB 2.6 MB/s \n",
            "\u001b[K     |████████████████████████████████| 189 kB 56.3 MB/s \n",
            "\u001b[K     |████████████████████████████████| 1.2 MB 37.2 MB/s \n",
            "\u001b[K     |████████████████████████████████| 56 kB 3.2 MB/s \n",
            "\u001b[K     |████████████████████████████████| 51 kB 455 kB/s \n",
            "\u001b[?25hMounted at /content/gdrive\n"
          ]
        }
      ],
      "source": [
        "!pip install -Uqq fastbook\n",
        "import fastbook\n",
        "fastbook.setup_book()"
      ]
    },
    {
      "cell_type": "code",
      "source": [
        "from fastbook import *\n",
        "from IPython.display import display,HTML"
      ],
      "metadata": {
        "id": "At3-nNVcSqt9"
      },
      "execution_count": null,
      "outputs": []
    },
    {
      "cell_type": "code",
      "source": [
        "# build a language model \n",
        "# sentences can be diff lengths, docs can be very long \n",
        "# how can we predict the next word of a sentence using neural network \n",
        "\n",
        "# word = categorical variable (we can use as independent variable) \n",
        "\n",
        "# here is approach \n",
        "# 1. make a list of all possible level of that categorical variable - vocab\n",
        "# 2. replace each level with its index in the vocab\n",
        "# 3. create an embedding matrix for this containing a row for each level - each item of vocab\n",
        "# 4. use the embedding matrix as the first layer of neural network "
      ],
      "metadata": {
        "id": "JCO3qhTUT7EA"
      },
      "execution_count": null,
      "outputs": []
    }
  ]
}