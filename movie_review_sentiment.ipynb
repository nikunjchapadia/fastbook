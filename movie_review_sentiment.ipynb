# Movie review sentiment model


import fastbook
fastbook.setup_book()


from fastbook import *
from fastai.vision.widgets import *


