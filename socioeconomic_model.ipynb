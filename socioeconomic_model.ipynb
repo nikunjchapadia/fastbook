{
 "cells": [
  {
   "cell_type": "markdown",
   "metadata": {
    "id": "view-in-github",
    "colab_type": "text"
   },
   "source": [
    "<a href=\"https://colab.research.google.com/github/nikunjchapadia/fastbook/blob/master/socioeconomic_model.ipynb\" target=\"_parent\"><img src=\"https://colab.research.google.com/assets/colab-badge.svg\" alt=\"Open In Colab\"/></a>"
   ]
  },
  {
   "cell_type": "code",
   "execution_count": 1,
   "metadata": {
    "collapsed": true,
    "id": "3Z25cTPhnyQj",
    "outputId": "4b857660-6694-450f-f816-39347a0e7b62",
    "colab": {
     "base_uri": "https://localhost:8080/"
    }
   },
   "outputs": [
    {
     "output_type": "stream",
     "name": "stdout",
     "text": [
      "\u001B[K     |████████████████████████████████| 720 kB 5.0 MB/s \n",
      "\u001B[K     |████████████████████████████████| 189 kB 40.6 MB/s \n",
      "\u001B[K     |████████████████████████████████| 46 kB 1.1 MB/s \n",
      "\u001B[K     |████████████████████████████████| 1.2 MB 45.4 MB/s \n",
      "\u001B[K     |████████████████████████████████| 56 kB 1.7 MB/s \n",
      "\u001B[K     |████████████████████████████████| 51 kB 173 kB/s \n",
      "\u001B[?25hMounted at /content/gdrive\n"
     ]
    }
   ],
   "source": [
    "!pip install -Uqq fastbook\n",
    "import fastbook\n",
    "fastbook.setup_book()"
   ]
  },
  {
   "cell_type": "code",
   "execution_count": 2,
   "outputs": [],
   "source": [
    "from fastbook import *"
   ],
   "metadata": {
    "pycharm": {
     "name": "#%%\n"
    },
    "id": "zt5sBvdJnyQm"
   }
  },
  {
   "cell_type": "code",
   "execution_count": 3,
   "outputs": [
    {
     "output_type": "display_data",
     "data": {
      "text/html": [
       "\n",
       "    <div>\n",
       "        <style>\n",
       "            /* Turns off some styling */\n",
       "            progress {\n",
       "                /* gets rid of default border in Firefox and Opera. */\n",
       "                border: none;\n",
       "                /* Needs to be in here for Safari polyfill so background images work as expected. */\n",
       "                background-size: auto;\n",
       "            }\n",
       "            .progress-bar-interrupted, .progress-bar-interrupted::-webkit-progress-bar {\n",
       "                background: #F44336;\n",
       "            }\n",
       "        </style>\n",
       "      <progress value='974848' class='' max='968212' style='width:300px; height:20px; vertical-align: middle;'></progress>\n",
       "      100.69% [974848/968212 00:00<00:00]\n",
       "    </div>\n",
       "    "
      ],
      "text/plain": [
       "<IPython.core.display.HTML object>"
      ]
     },
     "metadata": {}
    }
   ],
   "source": [
    "from fastai.tabular.all import *\n",
    "path = untar_data(URLs.ADULT_SAMPLE)\n",
    "\n",
    "dls = TabularDataLoaders.from_csv(path/'adult.csv',\n",
    "                                  path=path,\n",
    "                                  y_names=\"salary\",\n",
    "                                  cat_names = [\n",
    "                                      'workclass',\n",
    "                                      'education',\n",
    "                                      'marital-status',\n",
    "                                      'occupation',\n",
    "                                      'relationship',\n",
    "                                      'race'\n",
    "                                  ],\n",
    "                                  cont_names = [\n",
    "                                      'age',\n",
    "                                      'fnlwgt',\n",
    "                                      'education-num'\n",
    "                                  ],\n",
    "                                  procs = [\n",
    "                                      Categorify,\n",
    "                                      FillMissing,\n",
    "                                      Normalize\n",
    "                                  ])\n",
    "\n",
    "learn = tabular_learner(dls, metrics=accuracy)"
   ],
   "metadata": {
    "pycharm": {
     "name": "#%%\n"
    },
    "id": "uz7iW4SbnyQn",
    "outputId": "f584b3d8-beca-47ff-edd4-4b97dbeb10fa",
    "colab": {
     "base_uri": "https://localhost:8080/",
     "height": 37
    }
   }
  },
  {
   "cell_type": "code",
   "execution_count": 4,
   "outputs": [
    {
     "output_type": "display_data",
     "data": {
      "text/html": [
       "<table border=\"1\" class=\"dataframe\">\n",
       "  <thead>\n",
       "    <tr style=\"text-align: left;\">\n",
       "      <th>epoch</th>\n",
       "      <th>train_loss</th>\n",
       "      <th>valid_loss</th>\n",
       "      <th>accuracy</th>\n",
       "      <th>time</th>\n",
       "    </tr>\n",
       "  </thead>\n",
       "  <tbody>\n",
       "    <tr>\n",
       "      <td>0</td>\n",
       "      <td>0.378202</td>\n",
       "      <td>0.373804</td>\n",
       "      <td>0.831388</td>\n",
       "      <td>00:04</td>\n",
       "    </tr>\n",
       "    <tr>\n",
       "      <td>1</td>\n",
       "      <td>0.357113</td>\n",
       "      <td>0.354285</td>\n",
       "      <td>0.835842</td>\n",
       "      <td>00:04</td>\n",
       "    </tr>\n",
       "    <tr>\n",
       "      <td>2</td>\n",
       "      <td>0.351375</td>\n",
       "      <td>0.351169</td>\n",
       "      <td>0.839066</td>\n",
       "      <td>00:04</td>\n",
       "    </tr>\n",
       "  </tbody>\n",
       "</table>"
      ],
      "text/plain": [
       "<IPython.core.display.HTML object>"
      ]
     },
     "metadata": {}
    }
   ],
   "source": [
    "learn.fit_one_cycle(3)"
   ],
   "metadata": {
    "pycharm": {
     "name": "#%%\n"
    },
    "id": "3g1HBARinyQo",
    "outputId": "5be7d4a2-9d29-43fc-cd94-0b56f5c9d7cc",
    "colab": {
     "base_uri": "https://localhost:8080/",
     "height": 143
    }
   }
  }
 ],
 "metadata": {
  "kernelspec": {
   "display_name": "Python 3",
   "language": "python",
   "name": "python3"
  },
  "language_info": {
   "codemirror_mode": {
    "name": "ipython",
    "version": 2
   },
   "file_extension": ".py",
   "mimetype": "text/x-python",
   "name": "python",
   "nbconvert_exporter": "python",
   "pygments_lexer": "ipython2",
   "version": "2.7.6"
  },
  "colab": {
   "name": "socioeconomic_model.ipynb",
   "provenance": [],
   "include_colab_link": true
  }
 },
 "nbformat": 4,
 "nbformat_minor": 0
}