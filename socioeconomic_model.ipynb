{
 "cells": [
  {
   "cell_type": "code",
   "execution_count": null,
   "metadata": {
    "collapsed": true
   },
   "outputs": [],
   "source": [
    "!pip install -Uqq fastbook\n",
    "import fastbook\n",
    "fastbook.setup_book()"
   ]
  },
  {
   "cell_type": "code",
   "execution_count": null,
   "outputs": [],
   "source": [
    "from fastbook import *"
   ],
   "metadata": {
    "collapsed": false,
    "pycharm": {
     "name": "#%%\n"
    }
   }
  },
  {
   "cell_type": "code",
   "execution_count": null,
   "outputs": [],
   "source": [
    "from fastai.tabular.all import *\n",
    "path = untar_data(URLs.ADULT_SAMPLE)\n",
    "\n",
    "dls = TabularDataLoaders.from_csv(path/'adult.csv',\n",
    "                                  path=path,\n",
    "                                  y_names=\"salary\",\n",
    "                                  cat_names = [\n",
    "                                      'workclass',\n",
    "                                      'education',\n",
    "                                      'marital-status',\n",
    "                                      'occupation',\n",
    "                                      'relationship',\n",
    "                                      'race'\n",
    "                                  ],\n",
    "                                  cont_names = [\n",
    "                                      'age',\n",
    "                                      'fnlwgt',\n",
    "                                      'education-num'\n",
    "                                  ],\n",
    "                                  procs = [\n",
    "                                      Categorify,\n",
    "                                      FillMissing,\n",
    "                                      Normalize\n",
    "                                  ])\n",
    "\n",
    "learn = tabular_learner(dls, metrics=accuracy)"
   ],
   "metadata": {
    "collapsed": false,
    "pycharm": {
     "name": "#%%\n"
    }
   }
  },
  {
   "cell_type": "code",
   "execution_count": null,
   "outputs": [],
   "source": [
    "learn.fit_one_cycle(3)"
   ],
   "metadata": {
    "collapsed": false,
    "pycharm": {
     "name": "#%%\n"
    }
   }
  }
 ],
 "metadata": {
  "kernelspec": {
   "display_name": "Python 3",
   "language": "python",
   "name": "python3"
  },
  "language_info": {
   "codemirror_mode": {
    "name": "ipython",
    "version": 2
   },
   "file_extension": ".py",
   "mimetype": "text/x-python",
   "name": "python",
   "nbconvert_exporter": "python",
   "pygments_lexer": "ipython2",
   "version": "2.7.6"
  }
 },
 "nbformat": 4,
 "nbformat_minor": 0
}