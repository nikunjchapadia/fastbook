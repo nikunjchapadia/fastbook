{
  "nbformat": 4,
  "nbformat_minor": 0,
  "metadata": {
    "colab": {
      "name": "digit_classifier.ipynb",
      "provenance": [],
      "authorship_tag": "ABX9TyPqxOk2YcN1NvBv205HTARe",
      "include_colab_link": true
    },
    "kernelspec": {
      "name": "python3",
      "display_name": "Python 3"
    },
    "language_info": {
      "name": "python"
    }
  },
  "cells": [
    {
      "cell_type": "markdown",
      "metadata": {
        "id": "view-in-github",
        "colab_type": "text"
      },
      "source": [
        "<a href=\"https://colab.research.google.com/github/nikunjchapadia/fastbook/blob/master/digit_classifier.ipynb\" target=\"_parent\"><img src=\"https://colab.research.google.com/assets/colab-badge.svg\" alt=\"Open In Colab\"/></a>"
      ]
    },
    {
      "cell_type": "code",
      "execution_count": 93,
      "metadata": {
        "id": "gl86B42hVdi7"
      },
      "outputs": [],
      "source": [
        "!pip install -Uqq fastbook\n",
        "import fastbook\n",
        "fastbook.setup_book()"
      ]
    },
    {
      "cell_type": "code",
      "source": [
        "from fastai.vision.all import *\n",
        "from fastbook import *"
      ],
      "metadata": {
        "id": "LgvNrJzfVvRV"
      },
      "execution_count": 94,
      "outputs": []
    },
    {
      "cell_type": "code",
      "source": [
        "matplotlib.rc('image', cmap='Greys')"
      ],
      "metadata": {
        "id": "P0sPqi_BVxKX"
      },
      "execution_count": 95,
      "outputs": []
    },
    {
      "cell_type": "code",
      "source": [
        "path = untar_data(URLs.MNIST_SAMPLE)"
      ],
      "metadata": {
        "id": "d44M0FQ3V2Uq"
      },
      "execution_count": 96,
      "outputs": []
    },
    {
      "cell_type": "code",
      "source": [
        "(path/'train').ls()"
      ],
      "metadata": {
        "colab": {
          "base_uri": "https://localhost:8080/"
        },
        "id": "0np1IbQLWGuh",
        "outputId": "8f75ce3c-2f1b-4189-ae65-1a281dc0a5f7"
      },
      "execution_count": 97,
      "outputs": [
        {
          "output_type": "execute_result",
          "data": {
            "text/plain": [
              "(#2) [Path('/root/.fastai/data/mnist_sample/train/7'),Path('/root/.fastai/data/mnist_sample/train/3')]"
            ]
          },
          "metadata": {},
          "execution_count": 97
        }
      ]
    },
    {
      "cell_type": "code",
      "source": [
        "path.ls()"
      ],
      "metadata": {
        "colab": {
          "base_uri": "https://localhost:8080/"
        },
        "id": "q-Ix2PSaWIhR",
        "outputId": "d35e1529-9d23-4adb-82ef-580f45773932"
      },
      "execution_count": 98,
      "outputs": [
        {
          "output_type": "execute_result",
          "data": {
            "text/plain": [
              "(#3) [Path('/root/.fastai/data/mnist_sample/valid'),Path('/root/.fastai/data/mnist_sample/labels.csv'),Path('/root/.fastai/data/mnist_sample/train')]"
            ]
          },
          "metadata": {},
          "execution_count": 98
        }
      ]
    },
    {
      "cell_type": "code",
      "source": [
        "(path/'train'/'3').ls()"
      ],
      "metadata": {
        "colab": {
          "base_uri": "https://localhost:8080/"
        },
        "id": "A36TE3FyWLT5",
        "outputId": "8a7f8508-ee80-485d-8f2f-f2041859ed39"
      },
      "execution_count": 99,
      "outputs": [
        {
          "output_type": "execute_result",
          "data": {
            "text/plain": [
              "(#6131) [Path('/root/.fastai/data/mnist_sample/train/3/13093.png'),Path('/root/.fastai/data/mnist_sample/train/3/33407.png'),Path('/root/.fastai/data/mnist_sample/train/3/16075.png'),Path('/root/.fastai/data/mnist_sample/train/3/27803.png'),Path('/root/.fastai/data/mnist_sample/train/3/16489.png'),Path('/root/.fastai/data/mnist_sample/train/3/34235.png'),Path('/root/.fastai/data/mnist_sample/train/3/17574.png'),Path('/root/.fastai/data/mnist_sample/train/3/25789.png'),Path('/root/.fastai/data/mnist_sample/train/3/21285.png'),Path('/root/.fastai/data/mnist_sample/train/3/34644.png')...]"
            ]
          },
          "metadata": {},
          "execution_count": 99
        }
      ]
    },
    {
      "cell_type": "code",
      "source": [
        "threes = (path/'train'/'3').ls().sorted()\n",
        "sevens = (path/'train'/'7').ls().sorted()\n",
        "sevens"
      ],
      "metadata": {
        "colab": {
          "base_uri": "https://localhost:8080/"
        },
        "id": "J5B1ZN8DWm_6",
        "outputId": "50ceeb66-0483-4812-b942-6c5dad76f87d"
      },
      "execution_count": 100,
      "outputs": [
        {
          "output_type": "execute_result",
          "data": {
            "text/plain": [
              "(#6265) [Path('/root/.fastai/data/mnist_sample/train/7/10002.png'),Path('/root/.fastai/data/mnist_sample/train/7/1001.png'),Path('/root/.fastai/data/mnist_sample/train/7/10014.png'),Path('/root/.fastai/data/mnist_sample/train/7/10019.png'),Path('/root/.fastai/data/mnist_sample/train/7/10039.png'),Path('/root/.fastai/data/mnist_sample/train/7/10046.png'),Path('/root/.fastai/data/mnist_sample/train/7/10050.png'),Path('/root/.fastai/data/mnist_sample/train/7/10063.png'),Path('/root/.fastai/data/mnist_sample/train/7/10077.png'),Path('/root/.fastai/data/mnist_sample/train/7/10086.png')...]"
            ]
          },
          "metadata": {},
          "execution_count": 100
        }
      ]
    },
    {
      "cell_type": "code",
      "source": [
        "im3 = Image.open(threes[1])\n",
        "im3"
      ],
      "metadata": {
        "colab": {
          "base_uri": "https://localhost:8080/",
          "height": 45
        },
        "id": "xstmmLegWqfJ",
        "outputId": "e7bacd1d-c994-47ff-f86f-b6706a694bfd"
      },
      "execution_count": 101,
      "outputs": [
        {
          "output_type": "execute_result",
          "data": {
            "image/png": "[encoded data removed]",
            "text/plain": [
              "<PIL.PngImagePlugin.PngImageFile image mode=L size=28x28 at 0x7F963733CD10>"
            ]
          },
          "metadata": {},
          "execution_count": 101
        }
      ]
    },
    {
      "cell_type": "code",
      "source": [
        "im7 = Image.open(sevens[11])\n",
        "im7"
      ],
      "metadata": {
        "colab": {
          "base_uri": "https://localhost:8080/",
          "height": 45
        },
        "id": "rf7DLW1yXHZX",
        "outputId": "f25e9fc7-96b2-4922-b314-b123b5166043"
      },
      "execution_count": 102,
      "outputs": [
        {
          "output_type": "execute_result",
          "data": {
            "image/png": "[encoded data removed]",
            "text/plain": [
              "<PIL.PngImagePlugin.PngImageFile image mode=L size=28x28 at 0x7F963733C3D0>"
            ]
          },
          "metadata": {},
          "execution_count": 102
        }
      ]
    },
    {
      "cell_type": "code",
      "source": [
        "array(im3)[0:50,0:50]"
      ],
      "metadata": {
        "colab": {
          "base_uri": "https://localhost:8080/"
        },
        "id": "brtE-8MBXOsq",
        "outputId": "336b39ed-3251-407c-cee2-8425f4f1c59b"
      },
      "execution_count": 103,
      "outputs": [
        {
          "output_type": "execute_result",
          "data": {
            "text/plain": [
              "array([[  0,   0,   0,   0,   0,   0,   0,   0,   0,   0,   0,   0,   0,   0,   0,   0,   0,   0,   0,   0,   0,   0,   0,   0,   0,   0,   0,   0],\n",
              "       [  0,   0,   0,   0,   0,   0,   0,   0,   0,   0,   0,   0,   0,   0,   0,   0,   0,   0,   0,   0,   0,   0,   0,   0,   0,   0,   0,   0],\n",
              "       [  0,   0,   0,   0,   0,   0,   0,   0,   0,   0,   0,   0,   0,   0,   0,   0,   0,   0,   0,   0,   0,   0,   0,   0,   0,   0,   0,   0],\n",
              "       [  0,   0,   0,   0,   0,   0,   0,   0,   0,   0,   0,   0,   0,   0,   0,   0,   0,   0,   0,   0,   0,   0,   0,   0,   0,   0,   0,   0],\n",
              "       [  0,   0,   0,   0,   0,   0,   0,   0,   0,   0,   0,   0,   0,   0,   0,   0,   0,   0,   0,   0,   0,   0,   0,   0,   0,   0,   0,   0],\n",
              "       [  0,   0,   0,   0,   0,   0,   0,   0,   0,  29, 150, 195, 254, 255, 254, 176, 193, 150,  96,   0,   0,   0,   0,   0,   0,   0,   0,   0],\n",
              "       [  0,   0,   0,   0,   0,   0,   0,  48, 166, 224, 253, 253, 234, 196, 253, 253, 253, 253, 233,   0,   0,   0,   0,   0,   0,   0,   0,   0],\n",
              "       [  0,   0,   0,   0,   0,  93, 244, 249, 253, 187,  46,  10,   8,   4,  10, 194, 253, 253, 233,   0,   0,   0,   0,   0,   0,   0,   0,   0],\n",
              "       [  0,   0,   0,   0,   0, 107, 253, 253, 230,  48,   0,   0,   0,   0,   0, 192, 253, 253, 156,   0,   0,   0,   0,   0,   0,   0,   0,   0],\n",
              "       [  0,   0,   0,   0,   0,   3,  20,  20,  15,   0,   0,   0,   0,   0,  43, 224, 253, 245,  74,   0,   0,   0,   0,   0,   0,   0,   0,   0],\n",
              "       [  0,   0,   0,   0,   0,   0,   0,   0,   0,   0,   0,   0,   0,   0, 249, 253, 245, 126,   0,   0,   0,   0,   0,   0,   0,   0,   0,   0],\n",
              "       [  0,   0,   0,   0,   0,   0,   0,   0,   0,   0,   0,  14, 101, 223, 253, 248, 124,   0,   0,   0,   0,   0,   0,   0,   0,   0,   0,   0],\n",
              "       [  0,   0,   0,   0,   0,   0,   0,   0,   0,  11, 166, 239, 253, 253, 253, 187,  30,   0,   0,   0,   0,   0,   0,   0,   0,   0,   0,   0],\n",
              "       [  0,   0,   0,   0,   0,   0,   0,   0,   0,  16, 248, 250, 253, 253, 253, 253, 232, 213, 111,   2,   0,   0,   0,   0,   0,   0,   0,   0],\n",
              "       [  0,   0,   0,   0,   0,   0,   0,   0,   0,   0,   0,  43,  98,  98, 208, 253, 253, 253, 253, 187,  22,   0,   0,   0,   0,   0,   0,   0],\n",
              "       [  0,   0,   0,   0,   0,   0,   0,   0,   0,   0,   0,   0,   0,   0,   9,  51, 119, 253, 253, 253,  76,   0,   0,   0,   0,   0,   0,   0],\n",
              "       [  0,   0,   0,   0,   0,   0,   0,   0,   0,   0,   0,   0,   0,   0,   0,   0,   1, 183, 253, 253, 139,   0,   0,   0,   0,   0,   0,   0],\n",
              "       [  0,   0,   0,   0,   0,   0,   0,   0,   0,   0,   0,   0,   0,   0,   0,   0,   0, 182, 253, 253, 104,   0,   0,   0,   0,   0,   0,   0],\n",
              "       [  0,   0,   0,   0,   0,   0,   0,   0,   0,   0,   0,   0,   0,   0,   0,   0,  85, 249, 253, 253,  36,   0,   0,   0,   0,   0,   0,   0],\n",
              "       [  0,   0,   0,   0,   0,   0,   0,   0,   0,   0,   0,   0,   0,   0,   0,  60, 214, 253, 253, 173,  11,   0,   0,   0,   0,   0,   0,   0],\n",
              "       [  0,   0,   0,   0,   0,   0,   0,   0,   0,   0,   0,   0,   0,   0,  98, 247, 253, 253, 226,   9,   0,   0,   0,   0,   0,   0,   0,   0],\n",
              "       [  0,   0,   0,   0,   0,   0,   0,   0,   0,   0,   0,   0,  42, 150, 252, 253, 253, 233,  53,   0,   0,   0,   0,   0,   0,   0,   0,   0],\n",
              "       [  0,   0,   0,   0,   0,   0,  42, 115,  42,  60, 115, 159, 240, 253, 253, 250, 175,  25,   0,   0,   0,   0,   0,   0,   0,   0,   0,   0],\n",
              "       [  0,   0,   0,   0,   0,   0, 187, 253, 253, 253, 253, 253, 253, 253, 197,  86,   0,   0,   0,   0,   0,   0,   0,   0,   0,   0,   0,   0],\n",
              "       [  0,   0,   0,   0,   0,   0, 103, 253, 253, 253, 253, 253, 232,  67,   1,   0,   0,   0,   0,   0,   0,   0,   0,   0,   0,   0,   0,   0],\n",
              "       [  0,   0,   0,   0,   0,   0,   0,   0,   0,   0,   0,   0,   0,   0,   0,   0,   0,   0,   0,   0,   0,   0,   0,   0,   0,   0,   0,   0],\n",
              "       [  0,   0,   0,   0,   0,   0,   0,   0,   0,   0,   0,   0,   0,   0,   0,   0,   0,   0,   0,   0,   0,   0,   0,   0,   0,   0,   0,   0],\n",
              "       [  0,   0,   0,   0,   0,   0,   0,   0,   0,   0,   0,   0,   0,   0,   0,   0,   0,   0,   0,   0,   0,   0,   0,   0,   0,   0,   0,   0]], dtype=uint8)"
            ]
          },
          "metadata": {},
          "execution_count": 103
        }
      ]
    },
    {
      "cell_type": "code",
      "source": [
        "array(im7)[0:100,0:100]"
      ],
      "metadata": {
        "colab": {
          "base_uri": "https://localhost:8080/"
        },
        "id": "iJJ4Bf7rYQgh",
        "outputId": "2862cba1-8676-483d-b778-e0659e8245db"
      },
      "execution_count": 104,
      "outputs": [
        {
          "output_type": "execute_result",
          "data": {
            "text/plain": [
              "array([[  0,   0,   0,   0,   0,   0,   0,   0,   0,   0,   0,   0,   0,   0,   0,   0,   0,   0,   0,   0,   0,   0,   0,   0,   0,   0,   0,   0],\n",
              "       [  0,   0,   0,   0,   0,   0,   0,   0,   0,   0,   0,   0,   0,   0,   0,   0,   0,   0,   0,   0,   0,   0,   0,   0,   0,   0,   0,   0],\n",
              "       [  0,   0,   0,   0,   0,   0,   0,   0,   0,   0,   0,   0,   0,   0,   0,   0,   0,   0,   0,   0,   0,   0,   0,   0,   0,   0,   0,   0],\n",
              "       [  0,   0,   0,   0,   0,   0,   0,   0,   0,   0,   0,   0,   0,   0,   0,   0,   0,   0,   0,   0,   0,   0,   0,   0,   0,   0,   0,   0],\n",
              "       [  0,   0,   0,   0,   0,   0,   0,   0,   0,   0,   0,   0,   0,   0,   0,   0,   0,   0,   0,   0,   0,   0,   0,   0,   0,   0,   0,   0],\n",
              "       [  0,   0,   0,   0,   0,   0,   0,   0,   0,   0,   0,   0,   0,   0,   0,   0,   0,   0,   0,   0,   0,   0,   0,   0,   0,   0,   0,   0],\n",
              "       [  0,   0,   0,   0,   0,   0,   0,   0,   0,   0,   0,   0,   0,  29,  43,  61, 148, 246, 157,   7,   0,   0,   0,   0,   0,   0,   0,   0],\n",
              "       [  0,   0,   0,   0,   0,   0,   0,   0,   0,   0,  15,  85, 182, 233, 253, 254, 253, 253, 253,  42,   0,   0,   0,   0,   0,   0,   0,   0],\n",
              "       [  0,   0,   0,   0,   0,   0,   0,   0,   0,   0, 238, 253, 253, 253, 253, 233, 248, 253, 253, 139,   0,   0,   0,   0,   0,   0,   0,   0],\n",
              "       [  0,   0,   0,   0,   0,   0,   0,   0,   0,   0, 254, 253, 253, 237, 145,   0, 191, 253, 253,  77,   0,   0,   0,   0,   0,   0,   0,   0],\n",
              "       [  0,   0,   0,   0,   0,   0,   0,   0,   0,   0, 104,  68,  42,  32,   0,  18, 217, 253, 200,   7,   0,   0,   0,   0,   0,   0,   0,   0],\n",
              "       [  0,   0,   0,   0,   0,   0,   0,   0,   0,   0,   0,   0,   0,   0,   0, 211, 254, 251, 115,   0,   0,   0,   0,   0,   0,   0,   0,   0],\n",
              "       [  0,   0,   0,   0,   0,   0,   0,   0,   0,   0,   0,   0,   0,   0,   0, 254, 253, 197,   0,   0,   0,   0,   0,   0,   0,   0,   0,   0],\n",
              "       [  0,   0,   0,   0,   0,   0,   0,   0,   0,   0,   0,   0,   0,   0, 151, 254, 253, 127,   0,   0,   0,   0,   0,   0,   0,   0,   0,   0],\n",
              "       [  0,   0,   0,   0,   0,   0,   0,   0,   0,   0,   0,   0,   0,  43, 240, 255, 253, 100,   0,   0,   0,   0,   0,   0,   0,   0,   0,   0],\n",
              "       [  0,   0,   0,   0,   0,   0,   0,   0,   0,   0,   0,   0,   0,  64, 253, 254, 138,   4,   0,   0,   0,   0,   0,   0,   0,   0,   0,   0],\n",
              "       [  0,   0,   0,   0,   0,   0,   0,   0,   0,   0,   0,   0,   4, 184, 254, 248,  53,   0,   0,   0,   0,   0,   0,   0,   0,   0,   0,   0],\n",
              "       [  0,   0,   0,   0,   0,   0,   0,   0,   0,   0,   0,   0, 102, 253, 253, 176,   0,   0,   0,   0,   0,   0,   0,   0,   0,   0,   0,   0],\n",
              "       [  0,   0,   0,   0,   0,   0,   0,   0,   0,   0,   0,   0, 136, 253, 253,  53,   0,   0,   0,   0,   0,   0,   0,   0,   0,   0,   0,   0],\n",
              "       [  0,   0,   0,   0,   0,   0,   0,   0,   0,   0,   0,  49, 238, 253, 182,   0,   0,   0,   0,   0,   0,   0,   0,   0,   0,   0,   0,   0],\n",
              "       [  0,   0,   0,   0,   0,   0,   0,   0,   0,   0,   0, 191, 253, 253,  59,   0,   0,   0,   0,   0,   0,   0,   0,   0,   0,   0,   0,   0],\n",
              "       [  0,   0,   0,   0,   0,   0,   0,   0,   0,   0, 105, 254, 254, 217,  18,   0,   0,   0,   0,   0,   0,   0,   0,   0,   0,   0,   0,   0],\n",
              "       [  0,   0,   0,   0,   0,   0,   0,   0,   0,   0, 228, 253, 253, 154,   0,   0,   0,   0,   0,   0,   0,   0,   0,   0,   0,   0,   0,   0],\n",
              "       [  0,   0,   0,   0,   0,   0,   0,   0,   0,   0, 254, 253, 234,  42,   0,   0,   0,   0,   0,   0,   0,   0,   0,   0,   0,   0,   0,   0],\n",
              "       [  0,   0,   0,   0,   0,   0,   0,   0,   0,   0, 228, 253, 127,   0,   0,   0,   0,   0,   0,   0,   0,   0,   0,   0,   0,   0,   0,   0],\n",
              "       [  0,   0,   0,   0,   0,   0,   0,   0,   0,   0,  43, 192,  30,   0,   0,   0,   0,   0,   0,   0,   0,   0,   0,   0,   0,   0,   0,   0],\n",
              "       [  0,   0,   0,   0,   0,   0,   0,   0,   0,   0,   0,   0,   0,   0,   0,   0,   0,   0,   0,   0,   0,   0,   0,   0,   0,   0,   0,   0],\n",
              "       [  0,   0,   0,   0,   0,   0,   0,   0,   0,   0,   0,   0,   0,   0,   0,   0,   0,   0,   0,   0,   0,   0,   0,   0,   0,   0,   0,   0]], dtype=uint8)"
            ]
          },
          "metadata": {},
          "execution_count": 104
        }
      ]
    },
    {
      "cell_type": "code",
      "source": [
        "tensor(im3)[0:100,0:100]"
      ],
      "metadata": {
        "colab": {
          "base_uri": "https://localhost:8080/"
        },
        "id": "LA8IynFwYo85",
        "outputId": "9e76433f-32fb-4f63-d33e-9bcc2a6bc37a"
      },
      "execution_count": 105,
      "outputs": [
        {
          "output_type": "execute_result",
          "data": {
            "text/plain": [
              "tensor([[  0,   0,   0,   0,   0,   0,   0,   0,   0,   0,   0,   0,   0,   0,   0,   0,   0,   0,   0,   0,   0,   0,   0,   0,   0,   0,   0,   0],\n",
              "        [  0,   0,   0,   0,   0,   0,   0,   0,   0,   0,   0,   0,   0,   0,   0,   0,   0,   0,   0,   0,   0,   0,   0,   0,   0,   0,   0,   0],\n",
              "        [  0,   0,   0,   0,   0,   0,   0,   0,   0,   0,   0,   0,   0,   0,   0,   0,   0,   0,   0,   0,   0,   0,   0,   0,   0,   0,   0,   0],\n",
              "        [  0,   0,   0,   0,   0,   0,   0,   0,   0,   0,   0,   0,   0,   0,   0,   0,   0,   0,   0,   0,   0,   0,   0,   0,   0,   0,   0,   0],\n",
              "        [  0,   0,   0,   0,   0,   0,   0,   0,   0,   0,   0,   0,   0,   0,   0,   0,   0,   0,   0,   0,   0,   0,   0,   0,   0,   0,   0,   0],\n",
              "        [  0,   0,   0,   0,   0,   0,   0,   0,   0,  29, 150, 195, 254, 255, 254, 176, 193, 150,  96,   0,   0,   0,   0,   0,   0,   0,   0,   0],\n",
              "        [  0,   0,   0,   0,   0,   0,   0,  48, 166, 224, 253, 253, 234, 196, 253, 253, 253, 253, 233,   0,   0,   0,   0,   0,   0,   0,   0,   0],\n",
              "        [  0,   0,   0,   0,   0,  93, 244, 249, 253, 187,  46,  10,   8,   4,  10, 194, 253, 253, 233,   0,   0,   0,   0,   0,   0,   0,   0,   0],\n",
              "        [  0,   0,   0,   0,   0, 107, 253, 253, 230,  48,   0,   0,   0,   0,   0, 192, 253, 253, 156,   0,   0,   0,   0,   0,   0,   0,   0,   0],\n",
              "        [  0,   0,   0,   0,   0,   3,  20,  20,  15,   0,   0,   0,   0,   0,  43, 224, 253, 245,  74,   0,   0,   0,   0,   0,   0,   0,   0,   0],\n",
              "        [  0,   0,   0,   0,   0,   0,   0,   0,   0,   0,   0,   0,   0,   0, 249, 253, 245, 126,   0,   0,   0,   0,   0,   0,   0,   0,   0,   0],\n",
              "        [  0,   0,   0,   0,   0,   0,   0,   0,   0,   0,   0,  14, 101, 223, 253, 248, 124,   0,   0,   0,   0,   0,   0,   0,   0,   0,   0,   0],\n",
              "        [  0,   0,   0,   0,   0,   0,   0,   0,   0,  11, 166, 239, 253, 253, 253, 187,  30,   0,   0,   0,   0,   0,   0,   0,   0,   0,   0,   0],\n",
              "        [  0,   0,   0,   0,   0,   0,   0,   0,   0,  16, 248, 250, 253, 253, 253, 253, 232, 213, 111,   2,   0,   0,   0,   0,   0,   0,   0,   0],\n",
              "        [  0,   0,   0,   0,   0,   0,   0,   0,   0,   0,   0,  43,  98,  98, 208, 253, 253, 253, 253, 187,  22,   0,   0,   0,   0,   0,   0,   0],\n",
              "        [  0,   0,   0,   0,   0,   0,   0,   0,   0,   0,   0,   0,   0,   0,   9,  51, 119, 253, 253, 253,  76,   0,   0,   0,   0,   0,   0,   0],\n",
              "        [  0,   0,   0,   0,   0,   0,   0,   0,   0,   0,   0,   0,   0,   0,   0,   0,   1, 183, 253, 253, 139,   0,   0,   0,   0,   0,   0,   0],\n",
              "        [  0,   0,   0,   0,   0,   0,   0,   0,   0,   0,   0,   0,   0,   0,   0,   0,   0, 182, 253, 253, 104,   0,   0,   0,   0,   0,   0,   0],\n",
              "        [  0,   0,   0,   0,   0,   0,   0,   0,   0,   0,   0,   0,   0,   0,   0,   0,  85, 249, 253, 253,  36,   0,   0,   0,   0,   0,   0,   0],\n",
              "        [  0,   0,   0,   0,   0,   0,   0,   0,   0,   0,   0,   0,   0,   0,   0,  60, 214, 253, 253, 173,  11,   0,   0,   0,   0,   0,   0,   0],\n",
              "        [  0,   0,   0,   0,   0,   0,   0,   0,   0,   0,   0,   0,   0,   0,  98, 247, 253, 253, 226,   9,   0,   0,   0,   0,   0,   0,   0,   0],\n",
              "        [  0,   0,   0,   0,   0,   0,   0,   0,   0,   0,   0,   0,  42, 150, 252, 253, 253, 233,  53,   0,   0,   0,   0,   0,   0,   0,   0,   0],\n",
              "        [  0,   0,   0,   0,   0,   0,  42, 115,  42,  60, 115, 159, 240, 253, 253, 250, 175,  25,   0,   0,   0,   0,   0,   0,   0,   0,   0,   0],\n",
              "        [  0,   0,   0,   0,   0,   0, 187, 253, 253, 253, 253, 253, 253, 253, 197,  86,   0,   0,   0,   0,   0,   0,   0,   0,   0,   0,   0,   0],\n",
              "        [  0,   0,   0,   0,   0,   0, 103, 253, 253, 253, 253, 253, 232,  67,   1,   0,   0,   0,   0,   0,   0,   0,   0,   0,   0,   0,   0,   0],\n",
              "        [  0,   0,   0,   0,   0,   0,   0,   0,   0,   0,   0,   0,   0,   0,   0,   0,   0,   0,   0,   0,   0,   0,   0,   0,   0,   0,   0,   0],\n",
              "        [  0,   0,   0,   0,   0,   0,   0,   0,   0,   0,   0,   0,   0,   0,   0,   0,   0,   0,   0,   0,   0,   0,   0,   0,   0,   0,   0,   0],\n",
              "        [  0,   0,   0,   0,   0,   0,   0,   0,   0,   0,   0,   0,   0,   0,   0,   0,   0,   0,   0,   0,   0,   0,   0,   0,   0,   0,   0,   0]], dtype=torch.uint8)"
            ]
          },
          "metadata": {},
          "execution_count": 105
        }
      ]
    },
    {
      "cell_type": "code",
      "source": [
        "image3_t = tensor(im3)\n",
        "dataFrame = pd.DataFrame(image3_t[0:28, 0:28])\n",
        "dataFrame.style.set_properties(**{'font-size':'6pt'}).background_gradient('Greys')"
      ],
      "metadata": {
        "colab": {
          "base_uri": "https://localhost:8080/",
          "height": 947
        },
        "id": "h8FGP-ffY-d4",
        "outputId": "11019190-3a51-4e6c-a341-5959da9617a7"
      },
      "execution_count": 106,
      "outputs": [
        {
          "output_type": "execute_result",
          "data": {
            "text/html": [
              "<style type=\"text/css\">\n",
              "#T_3e74f_row0_col0, #T_3e74f_row0_col1, #T_3e74f_row0_col2, #T_3e74f_row0_col3, #T_3e74f_row0_col4, #T_3e74f_row0_col5, #T_3e74f_row0_col6, #T_3e74f_row0_col7, #T_3e74f_row0_col8, #T_3e74f_row0_col9, #T_3e74f_row0_col10, #T_3e74f_row0_col11, #T_3e74f_row0_col12, #T_3e74f_row0_col13, #T_3e74f_row0_col14, #T_3e74f_row0_col15, #T_3e74f_row0_col16, #T_3e74f_row0_col17, #T_3e74f_row0_col18, #T_3e74f_row0_col19, #T_3e74f_row0_col20, #T_3e74f_row0_col21, #T_3e74f_row0_col22, #T_3e74f_row0_col23, #T_3e74f_row0_col24, #T_3e74f_row0_col25, #T_3e74f_row0_col26, #T_3e74f_row0_col27, #T_3e74f_row1_col0, #T_3e74f_row1_col1, #T_3e74f_row1_col2, #T_3e74f_row1_col3, #T_3e74f_row1_col4, #T_3e74f_row1_col5, #T_3e74f_row1_col6, #T_3e74f_row1_col7, #T_3e74f_row1_col8, #T_3e74f_row1_col9, #T_3e74f_row1_col10, #T_3e74f_row1_col11, #T_3e74f_row1_col12, #T_3e74f_row1_col13, #T_3e74f_row1_col14, #T_3e74f_row1_col15, #T_3e74f_row1_col16, #T_3e74f_row1_col17, #T_3e74f_row1_col18, #T_3e74f_row1_col19, #T_3e74f_row1_col20, #T_3e74f_row1_col21, #T_3e74f_row1_col22, #T_3e74f_row1_col23, #T_3e74f_row1_col24, #T_3e74f_row1_col25, #T_3e74f_row1_col26, #T_3e74f_row1_col27, #T_3e74f_row2_col0, #T_3e74f_row2_col1, #T_3e74f_row2_col2, #T_3e74f_row2_col3, #T_3e74f_row2_col4, #T_3e74f_row2_col5, #T_3e74f_row2_col6, #T_3e74f_row2_col7, #T_3e74f_row2_col8, #T_3e74f_row2_col9, #T_3e74f_row2_col10, #T_3e74f_row2_col11, #T_3e74f_row2_col12, #T_3e74f_row2_col13, #T_3e74f_row2_col14, #T_3e74f_row2_col15, #T_3e74f_row2_col16, #T_3e74f_row2_col17, #T_3e74f_row2_col18, #T_3e74f_row2_col19, #T_3e74f_row2_col20, #T_3e74f_row2_col21, #T_3e74f_row2_col22, #T_3e74f_row2_col23, #T_3e74f_row2_col24, #T_3e74f_row2_col25, #T_3e74f_row2_col26, #T_3e74f_row2_col27, #T_3e74f_row3_col0, #T_3e74f_row3_col1, #T_3e74f_row3_col2, #T_3e74f_row3_col3, #T_3e74f_row3_col4, #T_3e74f_row3_col5, #T_3e74f_row3_col6, #T_3e74f_row3_col7, #T_3e74f_row3_col8, #T_3e74f_row3_col9, #T_3e74f_row3_col10, #T_3e74f_row3_col11, #T_3e74f_row3_col12, #T_3e74f_row3_col13, #T_3e74f_row3_col14, #T_3e74f_row3_col15, #T_3e74f_row3_col16, #T_3e74f_row3_col17, #T_3e74f_row3_col18, #T_3e74f_row3_col19, #T_3e74f_row3_col20, #T_3e74f_row3_col21, #T_3e74f_row3_col22, #T_3e74f_row3_col23, #T_3e74f_row3_col24, #T_3e74f_row3_col25, #T_3e74f_row3_col26, #T_3e74f_row3_col27, #T_3e74f_row4_col0, #T_3e74f_row4_col1, #T_3e74f_row4_col2, #T_3e74f_row4_col3, #T_3e74f_row4_col4, #T_3e74f_row4_col5, #T_3e74f_row4_col6, #T_3e74f_row4_col7, #T_3e74f_row4_col8, #T_3e74f_row4_col9, #T_3e74f_row4_col10, #T_3e74f_row4_col11, #T_3e74f_row4_col12, #T_3e74f_row4_col13, #T_3e74f_row4_col14, #T_3e74f_row4_col15, #T_3e74f_row4_col16, #T_3e74f_row4_col17, #T_3e74f_row4_col18, #T_3e74f_row4_col19, #T_3e74f_row4_col20, #T_3e74f_row4_col21, #T_3e74f_row4_col22, #T_3e74f_row4_col23, #T_3e74f_row4_col24, #T_3e74f_row4_col25, #T_3e74f_row4_col26, #T_3e74f_row4_col27, #T_3e74f_row5_col0, #T_3e74f_row5_col1, #T_3e74f_row5_col2, #T_3e74f_row5_col3, #T_3e74f_row5_col4, #T_3e74f_row5_col5, #T_3e74f_row5_col6, #T_3e74f_row5_col7, #T_3e74f_row5_col8, #T_3e74f_row5_col19, #T_3e74f_row5_col20, #T_3e74f_row5_col21, #T_3e74f_row5_col22, #T_3e74f_row5_col23, #T_3e74f_row5_col24, #T_3e74f_row5_col25, #T_3e74f_row5_col26, #T_3e74f_row5_col27, #T_3e74f_row6_col0, #T_3e74f_row6_col1, #T_3e74f_row6_col2, #T_3e74f_row6_col3, #T_3e74f_row6_col4, #T_3e74f_row6_col5, #T_3e74f_row6_col6, #T_3e74f_row6_col19, #T_3e74f_row6_col20, #T_3e74f_row6_col21, #T_3e74f_row6_col22, #T_3e74f_row6_col23, #T_3e74f_row6_col24, #T_3e74f_row6_col25, #T_3e74f_row6_col26, #T_3e74f_row6_col27, #T_3e74f_row7_col0, #T_3e74f_row7_col1, #T_3e74f_row7_col2, #T_3e74f_row7_col3, #T_3e74f_row7_col4, #T_3e74f_row7_col19, #T_3e74f_row7_col20, #T_3e74f_row7_col21, #T_3e74f_row7_col22, #T_3e74f_row7_col23, #T_3e74f_row7_col24, #T_3e74f_row7_col25, #T_3e74f_row7_col26, #T_3e74f_row7_col27, #T_3e74f_row8_col0, #T_3e74f_row8_col1, #T_3e74f_row8_col2, #T_3e74f_row8_col3, #T_3e74f_row8_col4, #T_3e74f_row8_col10, #T_3e74f_row8_col11, #T_3e74f_row8_col12, #T_3e74f_row8_col13, #T_3e74f_row8_col14, #T_3e74f_row8_col19, #T_3e74f_row8_col20, #T_3e74f_row8_col21, #T_3e74f_row8_col22, #T_3e74f_row8_col23, #T_3e74f_row8_col24, #T_3e74f_row8_col25, #T_3e74f_row8_col26, #T_3e74f_row8_col27, #T_3e74f_row9_col0, #T_3e74f_row9_col1, #T_3e74f_row9_col2, #T_3e74f_row9_col3, #T_3e74f_row9_col4, #T_3e74f_row9_col9, #T_3e74f_row9_col10, #T_3e74f_row9_col11, #T_3e74f_row9_col12, #T_3e74f_row9_col13, #T_3e74f_row9_col19, #T_3e74f_row9_col20, #T_3e74f_row9_col21, #T_3e74f_row9_col22, #T_3e74f_row9_col23, #T_3e74f_row9_col24, #T_3e74f_row9_col25, #T_3e74f_row9_col26, #T_3e74f_row9_col27, #T_3e74f_row10_col0, #T_3e74f_row10_col1, #T_3e74f_row10_col2, #T_3e74f_row10_col3, #T_3e74f_row10_col4, #T_3e74f_row10_col5, #T_3e74f_row10_col6, #T_3e74f_row10_col7, #T_3e74f_row10_col8, #T_3e74f_row10_col9, #T_3e74f_row10_col10, #T_3e74f_row10_col11, #T_3e74f_row10_col12, #T_3e74f_row10_col13, #T_3e74f_row10_col18, #T_3e74f_row10_col19, #T_3e74f_row10_col20, #T_3e74f_row10_col21, #T_3e74f_row10_col22, #T_3e74f_row10_col23, #T_3e74f_row10_col24, #T_3e74f_row10_col25, #T_3e74f_row10_col26, #T_3e74f_row10_col27, #T_3e74f_row11_col0, #T_3e74f_row11_col1, #T_3e74f_row11_col2, #T_3e74f_row11_col3, #T_3e74f_row11_col4, #T_3e74f_row11_col5, #T_3e74f_row11_col6, #T_3e74f_row11_col7, #T_3e74f_row11_col8, #T_3e74f_row11_col9, #T_3e74f_row11_col10, #T_3e74f_row11_col17, #T_3e74f_row11_col18, #T_3e74f_row11_col19, #T_3e74f_row11_col20, #T_3e74f_row11_col21, #T_3e74f_row11_col22, #T_3e74f_row11_col23, #T_3e74f_row11_col24, #T_3e74f_row11_col25, #T_3e74f_row11_col26, #T_3e74f_row11_col27, #T_3e74f_row12_col0, #T_3e74f_row12_col1, #T_3e74f_row12_col2, #T_3e74f_row12_col3, #T_3e74f_row12_col4, #T_3e74f_row12_col5, #T_3e74f_row12_col6, #T_3e74f_row12_col7, #T_3e74f_row12_col8, #T_3e74f_row12_col17, #T_3e74f_row12_col18, #T_3e74f_row12_col19, #T_3e74f_row12_col20, #T_3e74f_row12_col21, #T_3e74f_row12_col22, #T_3e74f_row12_col23, #T_3e74f_row12_col24, #T_3e74f_row12_col25, #T_3e74f_row12_col26, #T_3e74f_row12_col27, #T_3e74f_row13_col0, #T_3e74f_row13_col1, #T_3e74f_row13_col2, #T_3e74f_row13_col3, #T_3e74f_row13_col4, #T_3e74f_row13_col5, #T_3e74f_row13_col6, #T_3e74f_row13_col7, #T_3e74f_row13_col8, #T_3e74f_row13_col20, #T_3e74f_row13_col21, #T_3e74f_row13_col22, #T_3e74f_row13_col23, #T_3e74f_row13_col24, #T_3e74f_row13_col25, #T_3e74f_row13_col26, #T_3e74f_row13_col27, #T_3e74f_row14_col0, #T_3e74f_row14_col1, #T_3e74f_row14_col2, #T_3e74f_row14_col3, #T_3e74f_row14_col4, #T_3e74f_row14_col5, #T_3e74f_row14_col6, #T_3e74f_row14_col7, #T_3e74f_row14_col8, #T_3e74f_row14_col9, #T_3e74f_row14_col10, #T_3e74f_row14_col21, #T_3e74f_row14_col22, #T_3e74f_row14_col23, #T_3e74f_row14_col24, #T_3e74f_row14_col25, #T_3e74f_row14_col26, #T_3e74f_row14_col27, #T_3e74f_row15_col0, #T_3e74f_row15_col1, #T_3e74f_row15_col2, #T_3e74f_row15_col3, #T_3e74f_row15_col4, #T_3e74f_row15_col5, #T_3e74f_row15_col6, #T_3e74f_row15_col7, #T_3e74f_row15_col8, #T_3e74f_row15_col9, #T_3e74f_row15_col10, #T_3e74f_row15_col11, #T_3e74f_row15_col12, #T_3e74f_row15_col13, #T_3e74f_row15_col21, #T_3e74f_row15_col22, #T_3e74f_row15_col23, #T_3e74f_row15_col24, #T_3e74f_row15_col25, #T_3e74f_row15_col26, #T_3e74f_row15_col27, #T_3e74f_row16_col0, #T_3e74f_row16_col1, #T_3e74f_row16_col2, #T_3e74f_row16_col3, #T_3e74f_row16_col4, #T_3e74f_row16_col5, #T_3e74f_row16_col6, #T_3e74f_row16_col7, #T_3e74f_row16_col8, #T_3e74f_row16_col9, #T_3e74f_row16_col10, #T_3e74f_row16_col11, #T_3e74f_row16_col12, #T_3e74f_row16_col13, #T_3e74f_row16_col14, #T_3e74f_row16_col15, #T_3e74f_row16_col16, #T_3e74f_row16_col21, #T_3e74f_row16_col22, #T_3e74f_row16_col23, #T_3e74f_row16_col24, #T_3e74f_row16_col25, #T_3e74f_row16_col26, #T_3e74f_row16_col27, #T_3e74f_row17_col0, #T_3e74f_row17_col1, #T_3e74f_row17_col2, #T_3e74f_row17_col3, #T_3e74f_row17_col4, #T_3e74f_row17_col5, #T_3e74f_row17_col6, #T_3e74f_row17_col7, #T_3e74f_row17_col8, #T_3e74f_row17_col9, #T_3e74f_row17_col10, #T_3e74f_row17_col11, #T_3e74f_row17_col12, #T_3e74f_row17_col13, #T_3e74f_row17_col14, #T_3e74f_row17_col15, #T_3e74f_row17_col16, #T_3e74f_row17_col21, #T_3e74f_row17_col22, #T_3e74f_row17_col23, #T_3e74f_row17_col24, #T_3e74f_row17_col25, #T_3e74f_row17_col26, #T_3e74f_row17_col27, #T_3e74f_row18_col0, #T_3e74f_row18_col1, #T_3e74f_row18_col2, #T_3e74f_row18_col3, #T_3e74f_row18_col4, #T_3e74f_row18_col5, #T_3e74f_row18_col6, #T_3e74f_row18_col7, #T_3e74f_row18_col8, #T_3e74f_row18_col9, #T_3e74f_row18_col10, #T_3e74f_row18_col11, #T_3e74f_row18_col12, #T_3e74f_row18_col13, #T_3e74f_row18_col14, #T_3e74f_row18_col15, #T_3e74f_row18_col21, #T_3e74f_row18_col22, #T_3e74f_row18_col23, #T_3e74f_row18_col24, #T_3e74f_row18_col25, #T_3e74f_row18_col26, #T_3e74f_row18_col27, #T_3e74f_row19_col0, #T_3e74f_row19_col1, #T_3e74f_row19_col2, #T_3e74f_row19_col3, #T_3e74f_row19_col4, #T_3e74f_row19_col5, #T_3e74f_row19_col6, #T_3e74f_row19_col7, #T_3e74f_row19_col8, #T_3e74f_row19_col9, #T_3e74f_row19_col10, #T_3e74f_row19_col11, #T_3e74f_row19_col12, #T_3e74f_row19_col13, #T_3e74f_row19_col14, #T_3e74f_row19_col21, #T_3e74f_row19_col22, #T_3e74f_row19_col23, #T_3e74f_row19_col24, #T_3e74f_row19_col25, #T_3e74f_row19_col26, #T_3e74f_row19_col27, #T_3e74f_row20_col0, #T_3e74f_row20_col1, #T_3e74f_row20_col2, #T_3e74f_row20_col3, #T_3e74f_row20_col4, #T_3e74f_row20_col5, #T_3e74f_row20_col6, #T_3e74f_row20_col7, #T_3e74f_row20_col8, #T_3e74f_row20_col9, #T_3e74f_row20_col10, #T_3e74f_row20_col11, #T_3e74f_row20_col12, #T_3e74f_row20_col13, #T_3e74f_row20_col20, #T_3e74f_row20_col21, #T_3e74f_row20_col22, #T_3e74f_row20_col23, #T_3e74f_row20_col24, #T_3e74f_row20_col25, #T_3e74f_row20_col26, #T_3e74f_row20_col27, #T_3e74f_row21_col0, #T_3e74f_row21_col1, #T_3e74f_row21_col2, #T_3e74f_row21_col3, #T_3e74f_row21_col4, #T_3e74f_row21_col5, #T_3e74f_row21_col6, #T_3e74f_row21_col7, #T_3e74f_row21_col8, #T_3e74f_row21_col9, #T_3e74f_row21_col10, #T_3e74f_row21_col11, #T_3e74f_row21_col19, #T_3e74f_row21_col20, #T_3e74f_row21_col21, #T_3e74f_row21_col22, #T_3e74f_row21_col23, #T_3e74f_row21_col24, #T_3e74f_row21_col25, #T_3e74f_row21_col26, #T_3e74f_row21_col27, #T_3e74f_row22_col0, #T_3e74f_row22_col1, #T_3e74f_row22_col2, #T_3e74f_row22_col3, #T_3e74f_row22_col4, #T_3e74f_row22_col5, #T_3e74f_row22_col18, #T_3e74f_row22_col19, #T_3e74f_row22_col20, #T_3e74f_row22_col21, #T_3e74f_row22_col22, #T_3e74f_row22_col23, #T_3e74f_row22_col24, #T_3e74f_row22_col25, #T_3e74f_row22_col26, #T_3e74f_row22_col27, #T_3e74f_row23_col0, #T_3e74f_row23_col1, #T_3e74f_row23_col2, #T_3e74f_row23_col3, #T_3e74f_row23_col4, #T_3e74f_row23_col5, #T_3e74f_row23_col16, #T_3e74f_row23_col17, #T_3e74f_row23_col18, #T_3e74f_row23_col19, #T_3e74f_row23_col20, #T_3e74f_row23_col21, #T_3e74f_row23_col22, #T_3e74f_row23_col23, #T_3e74f_row23_col24, #T_3e74f_row23_col25, #T_3e74f_row23_col26, #T_3e74f_row23_col27, #T_3e74f_row24_col0, #T_3e74f_row24_col1, #T_3e74f_row24_col2, #T_3e74f_row24_col3, #T_3e74f_row24_col4, #T_3e74f_row24_col5, #T_3e74f_row24_col14, #T_3e74f_row24_col15, #T_3e74f_row24_col16, #T_3e74f_row24_col17, #T_3e74f_row24_col18, #T_3e74f_row24_col19, #T_3e74f_row24_col20, #T_3e74f_row24_col21, #T_3e74f_row24_col22, #T_3e74f_row24_col23, #T_3e74f_row24_col24, #T_3e74f_row24_col25, #T_3e74f_row24_col26, #T_3e74f_row24_col27, #T_3e74f_row25_col0, #T_3e74f_row25_col1, #T_3e74f_row25_col2, #T_3e74f_row25_col3, #T_3e74f_row25_col4, #T_3e74f_row25_col5, #T_3e74f_row25_col6, #T_3e74f_row25_col7, #T_3e74f_row25_col8, #T_3e74f_row25_col9, #T_3e74f_row25_col10, #T_3e74f_row25_col11, #T_3e74f_row25_col12, #T_3e74f_row25_col13, #T_3e74f_row25_col14, #T_3e74f_row25_col15, #T_3e74f_row25_col16, #T_3e74f_row25_col17, #T_3e74f_row25_col18, #T_3e74f_row25_col19, #T_3e74f_row25_col20, #T_3e74f_row25_col21, #T_3e74f_row25_col22, #T_3e74f_row25_col23, #T_3e74f_row25_col24, #T_3e74f_row25_col25, #T_3e74f_row25_col26, #T_3e74f_row25_col27, #T_3e74f_row26_col0, #T_3e74f_row26_col1, #T_3e74f_row26_col2, #T_3e74f_row26_col3, #T_3e74f_row26_col4, #T_3e74f_row26_col5, #T_3e74f_row26_col6, #T_3e74f_row26_col7, #T_3e74f_row26_col8, #T_3e74f_row26_col9, #T_3e74f_row26_col10, #T_3e74f_row26_col11, #T_3e74f_row26_col12, #T_3e74f_row26_col13, #T_3e74f_row26_col14, #T_3e74f_row26_col15, #T_3e74f_row26_col16, #T_3e74f_row26_col17, #T_3e74f_row26_col18, #T_3e74f_row26_col19, #T_3e74f_row26_col20, #T_3e74f_row26_col21, #T_3e74f_row26_col22, #T_3e74f_row26_col23, #T_3e74f_row26_col24, #T_3e74f_row26_col25, #T_3e74f_row26_col26, #T_3e74f_row26_col27, #T_3e74f_row27_col0, #T_3e74f_row27_col1, #T_3e74f_row27_col2, #T_3e74f_row27_col3, #T_3e74f_row27_col4, #T_3e74f_row27_col5, #T_3e74f_row27_col6, #T_3e74f_row27_col7, #T_3e74f_row27_col8, #T_3e74f_row27_col9, #T_3e74f_row27_col10, #T_3e74f_row27_col11, #T_3e74f_row27_col12, #T_3e74f_row27_col13, #T_3e74f_row27_col14, #T_3e74f_row27_col15, #T_3e74f_row27_col16, #T_3e74f_row27_col17, #T_3e74f_row27_col18, #T_3e74f_row27_col19, #T_3e74f_row27_col20, #T_3e74f_row27_col21, #T_3e74f_row27_col22, #T_3e74f_row27_col23, #T_3e74f_row27_col24, #T_3e74f_row27_col25, #T_3e74f_row27_col26, #T_3e74f_row27_col27 {\n",
              "  font-size: 6pt;\n",
              "  background-color: #ffffff;\n",
              "  color: #000000;\n",
              "}\n",
              "#T_3e74f_row5_col9, #T_3e74f_row12_col16 {\n",
              "  font-size: 6pt;\n",
              "  background-color: #f1f1f1;\n",
              "  color: #000000;\n",
              "}\n",
              "#T_3e74f_row5_col10, #T_3e74f_row5_col17 {\n",
              "  font-size: 6pt;\n",
              "  background-color: #7c7c7c;\n",
              "  color: #f1f1f1;\n",
              "}\n",
              "#T_3e74f_row5_col11 {\n",
              "  font-size: 6pt;\n",
              "  background-color: #4a4a4a;\n",
              "  color: #f1f1f1;\n",
              "}\n",
              "#T_3e74f_row5_col12, #T_3e74f_row5_col13, #T_3e74f_row5_col14, #T_3e74f_row6_col10, #T_3e74f_row6_col11, #T_3e74f_row6_col15, #T_3e74f_row6_col16, #T_3e74f_row6_col17, #T_3e74f_row7_col8, #T_3e74f_row7_col16, #T_3e74f_row7_col17, #T_3e74f_row8_col5, #T_3e74f_row8_col6, #T_3e74f_row8_col7, #T_3e74f_row8_col16, #T_3e74f_row8_col17, #T_3e74f_row9_col16, #T_3e74f_row10_col15, #T_3e74f_row13_col15, #T_3e74f_row14_col15, #T_3e74f_row14_col16, #T_3e74f_row14_col17, #T_3e74f_row14_col18, #T_3e74f_row15_col17, #T_3e74f_row15_col18, #T_3e74f_row15_col19, #T_3e74f_row16_col18, #T_3e74f_row16_col19, #T_3e74f_row16_col20, #T_3e74f_row17_col18, #T_3e74f_row17_col19, #T_3e74f_row18_col18, #T_3e74f_row18_col19, #T_3e74f_row19_col17, #T_3e74f_row19_col18, #T_3e74f_row20_col16, #T_3e74f_row20_col17, #T_3e74f_row21_col15, #T_3e74f_row21_col16, #T_3e74f_row23_col7, #T_3e74f_row23_col8, #T_3e74f_row23_col9, #T_3e74f_row23_col10, #T_3e74f_row23_col11, #T_3e74f_row24_col7, #T_3e74f_row24_col8, #T_3e74f_row24_col9, #T_3e74f_row24_col10, #T_3e74f_row24_col11 {\n",
              "  font-size: 6pt;\n",
              "  background-color: #000000;\n",
              "  color: #f1f1f1;\n",
              "}\n",
              "#T_3e74f_row5_col15 {\n",
              "  font-size: 6pt;\n",
              "  background-color: #606060;\n",
              "  color: #f1f1f1;\n",
              "}\n",
              "#T_3e74f_row5_col16 {\n",
              "  font-size: 6pt;\n",
              "  background-color: #4d4d4d;\n",
              "  color: #f1f1f1;\n",
              "}\n",
              "#T_3e74f_row5_col18 {\n",
              "  font-size: 6pt;\n",
              "  background-color: #bbbbbb;\n",
              "  color: #000000;\n",
              "}\n",
              "#T_3e74f_row6_col7, #T_3e74f_row8_col9 {\n",
              "  font-size: 6pt;\n",
              "  background-color: #e4e4e4;\n",
              "  color: #000000;\n",
              "}\n",
              "#T_3e74f_row6_col8, #T_3e74f_row12_col10 {\n",
              "  font-size: 6pt;\n",
              "  background-color: #6b6b6b;\n",
              "  color: #f1f1f1;\n",
              "}\n",
              "#T_3e74f_row6_col9, #T_3e74f_row9_col15 {\n",
              "  font-size: 6pt;\n",
              "  background-color: #222222;\n",
              "  color: #f1f1f1;\n",
              "}\n",
              "#T_3e74f_row6_col12, #T_3e74f_row6_col18, #T_3e74f_row7_col18, #T_3e74f_row21_col17 {\n",
              "  font-size: 6pt;\n",
              "  background-color: #171717;\n",
              "  color: #f1f1f1;\n",
              "}\n",
              "#T_3e74f_row6_col13, #T_3e74f_row7_col15 {\n",
              "  font-size: 6pt;\n",
              "  background-color: #4b4b4b;\n",
              "  color: #f1f1f1;\n",
              "}\n",
              "#T_3e74f_row6_col14, #T_3e74f_row11_col14, #T_3e74f_row12_col12, #T_3e74f_row12_col14, #T_3e74f_row13_col12, #T_3e74f_row13_col14, #T_3e74f_row22_col14, #T_3e74f_row23_col12 {\n",
              "  font-size: 6pt;\n",
              "  background-color: #010101;\n",
              "  color: #f1f1f1;\n",
              "}\n",
              "#T_3e74f_row7_col5 {\n",
              "  font-size: 6pt;\n",
              "  background-color: #272727;\n",
              "  color: #f1f1f1;\n",
              "}\n",
              "#T_3e74f_row7_col6 {\n",
              "  font-size: 6pt;\n",
              "  background-color: #0a0a0a;\n",
              "  color: #f1f1f1;\n",
              "}\n",
              "#T_3e74f_row7_col7, #T_3e74f_row18_col17 {\n",
              "  font-size: 6pt;\n",
              "  background-color: #050505;\n",
              "  color: #f1f1f1;\n",
              "}\n",
              "#T_3e74f_row7_col9, #T_3e74f_row12_col15, #T_3e74f_row14_col19, #T_3e74f_row23_col6 {\n",
              "  font-size: 6pt;\n",
              "  background-color: #545454;\n",
              "  color: #f1f1f1;\n",
              "}\n",
              "#T_3e74f_row7_col10 {\n",
              "  font-size: 6pt;\n",
              "  background-color: #e6e6e6;\n",
              "  color: #000000;\n",
              "}\n",
              "#T_3e74f_row7_col11, #T_3e74f_row7_col14, #T_3e74f_row12_col9 {\n",
              "  font-size: 6pt;\n",
              "  background-color: #fafafa;\n",
              "  color: #000000;\n",
              "}\n",
              "#T_3e74f_row7_col12, #T_3e74f_row15_col14, #T_3e74f_row20_col19 {\n",
              "  font-size: 6pt;\n",
              "  background-color: #fbfbfb;\n",
              "  color: #000000;\n",
              "}\n",
              "#T_3e74f_row7_col13 {\n",
              "  font-size: 6pt;\n",
              "  background-color: #fdfdfd;\n",
              "  color: #000000;\n",
              "}\n",
              "#T_3e74f_row8_col8 {\n",
              "  font-size: 6pt;\n",
              "  background-color: #1b1b1b;\n",
              "  color: #f1f1f1;\n",
              "}\n",
              "#T_3e74f_row8_col15 {\n",
              "  font-size: 6pt;\n",
              "  background-color: #4e4e4e;\n",
              "  color: #f1f1f1;\n",
              "}\n",
              "#T_3e74f_row8_col18 {\n",
              "  font-size: 6pt;\n",
              "  background-color: #767676;\n",
              "  color: #f1f1f1;\n",
              "}\n",
              "#T_3e74f_row9_col5 {\n",
              "  font-size: 6pt;\n",
              "  background-color: #fcfcfc;\n",
              "  color: #000000;\n",
              "}\n",
              "#T_3e74f_row9_col6, #T_3e74f_row9_col7, #T_3e74f_row19_col20 {\n",
              "  font-size: 6pt;\n",
              "  background-color: #f6f6f6;\n",
              "  color: #000000;\n",
              "}\n",
              "#T_3e74f_row9_col8, #T_3e74f_row11_col11 {\n",
              "  font-size: 6pt;\n",
              "  background-color: #f8f8f8;\n",
              "  color: #000000;\n",
              "}\n",
              "#T_3e74f_row9_col14, #T_3e74f_row14_col11 {\n",
              "  font-size: 6pt;\n",
              "  background-color: #e8e8e8;\n",
              "  color: #000000;\n",
              "}\n",
              "#T_3e74f_row9_col17, #T_3e74f_row10_col16 {\n",
              "  font-size: 6pt;\n",
              "  background-color: #090909;\n",
              "  color: #f1f1f1;\n",
              "}\n",
              "#T_3e74f_row9_col18 {\n",
              "  font-size: 6pt;\n",
              "  background-color: #d0d0d0;\n",
              "  color: #000000;\n",
              "}\n",
              "#T_3e74f_row10_col14, #T_3e74f_row11_col15, #T_3e74f_row13_col10 {\n",
              "  font-size: 6pt;\n",
              "  background-color: #060606;\n",
              "  color: #f1f1f1;\n",
              "}\n",
              "#T_3e74f_row10_col17 {\n",
              "  font-size: 6pt;\n",
              "  background-color: #979797;\n",
              "  color: #f1f1f1;\n",
              "}\n",
              "#T_3e74f_row11_col12 {\n",
              "  font-size: 6pt;\n",
              "  background-color: #b6b6b6;\n",
              "  color: #000000;\n",
              "}\n",
              "#T_3e74f_row11_col13 {\n",
              "  font-size: 6pt;\n",
              "  background-color: #252525;\n",
              "  color: #f1f1f1;\n",
              "}\n",
              "#T_3e74f_row11_col16 {\n",
              "  font-size: 6pt;\n",
              "  background-color: #999999;\n",
              "  color: #f1f1f1;\n",
              "}\n",
              "#T_3e74f_row12_col11, #T_3e74f_row22_col12 {\n",
              "  font-size: 6pt;\n",
              "  background-color: #101010;\n",
              "  color: #f1f1f1;\n",
              "}\n",
              "#T_3e74f_row12_col13, #T_3e74f_row13_col13, #T_3e74f_row21_col14, #T_3e74f_row22_col13, #T_3e74f_row23_col13 {\n",
              "  font-size: 6pt;\n",
              "  background-color: #020202;\n",
              "  color: #f1f1f1;\n",
              "}\n",
              "#T_3e74f_row13_col9 {\n",
              "  font-size: 6pt;\n",
              "  background-color: #f7f7f7;\n",
              "  color: #000000;\n",
              "}\n",
              "#T_3e74f_row13_col11, #T_3e74f_row22_col15 {\n",
              "  font-size: 6pt;\n",
              "  background-color: #030303;\n",
              "  color: #f1f1f1;\n",
              "}\n",
              "#T_3e74f_row13_col16 {\n",
              "  font-size: 6pt;\n",
              "  background-color: #181818;\n",
              "  color: #f1f1f1;\n",
              "}\n",
              "#T_3e74f_row13_col17 {\n",
              "  font-size: 6pt;\n",
              "  background-color: #303030;\n",
              "  color: #f1f1f1;\n",
              "}\n",
              "#T_3e74f_row13_col18 {\n",
              "  font-size: 6pt;\n",
              "  background-color: #a9a9a9;\n",
              "  color: #f1f1f1;\n",
              "}\n",
              "#T_3e74f_row13_col19 {\n",
              "  font-size: 6pt;\n",
              "  background-color: #fefefe;\n",
              "  color: #000000;\n",
              "}\n",
              "#T_3e74f_row14_col12, #T_3e74f_row14_col13, #T_3e74f_row20_col14 {\n",
              "  font-size: 6pt;\n",
              "  background-color: #bababa;\n",
              "  color: #000000;\n",
              "}\n",
              "#T_3e74f_row14_col14 {\n",
              "  font-size: 6pt;\n",
              "  background-color: #393939;\n",
              "  color: #f1f1f1;\n",
              "}\n",
              "#T_3e74f_row14_col20 {\n",
              "  font-size: 6pt;\n",
              "  background-color: #eaeaea;\n",
              "  color: #000000;\n",
              "}\n",
              "#T_3e74f_row15_col15 {\n",
              "  font-size: 6pt;\n",
              "  background-color: #e2e2e2;\n",
              "  color: #000000;\n",
              "}\n",
              "#T_3e74f_row15_col16 {\n",
              "  font-size: 6pt;\n",
              "  background-color: #9f9f9f;\n",
              "  color: #f1f1f1;\n",
              "}\n",
              "#T_3e74f_row15_col20 {\n",
              "  font-size: 6pt;\n",
              "  background-color: #898989;\n",
              "  color: #f1f1f1;\n",
              "}\n",
              "#T_3e74f_row16_col17 {\n",
              "  font-size: 6pt;\n",
              "  background-color: #585858;\n",
              "  color: #f1f1f1;\n",
              "}\n",
              "#T_3e74f_row17_col17 {\n",
              "  font-size: 6pt;\n",
              "  background-color: #5a5a5a;\n",
              "  color: #f1f1f1;\n",
              "}\n",
              "#T_3e74f_row17_col20 {\n",
              "  font-size: 6pt;\n",
              "  background-color: #525252;\n",
              "  color: #f1f1f1;\n",
              "}\n",
              "#T_3e74f_row18_col16, #T_3e74f_row23_col15 {\n",
              "  font-size: 6pt;\n",
              "  background-color: #c5c5c5;\n",
              "  color: #000000;\n",
              "}\n",
              "#T_3e74f_row18_col20 {\n",
              "  font-size: 6pt;\n",
              "  background-color: #d7d7d7;\n",
              "  color: #000000;\n",
              "}\n",
              "#T_3e74f_row19_col15, #T_3e74f_row22_col9 {\n",
              "  font-size: 6pt;\n",
              "  background-color: #dcdcdc;\n",
              "  color: #000000;\n",
              "}\n",
              "#T_3e74f_row19_col16 {\n",
              "  font-size: 6pt;\n",
              "  background-color: #2f2f2f;\n",
              "  color: #f1f1f1;\n",
              "}\n",
              "#T_3e74f_row19_col19 {\n",
              "  font-size: 6pt;\n",
              "  background-color: #636363;\n",
              "  color: #f1f1f1;\n",
              "}\n",
              "#T_3e74f_row20_col15 {\n",
              "  font-size: 6pt;\n",
              "  background-color: #070707;\n",
              "  color: #f1f1f1;\n",
              "}\n",
              "#T_3e74f_row20_col18 {\n",
              "  font-size: 6pt;\n",
              "  background-color: #1f1f1f;\n",
              "  color: #f1f1f1;\n",
              "}\n",
              "#T_3e74f_row21_col12, #T_3e74f_row22_col6, #T_3e74f_row22_col8 {\n",
              "  font-size: 6pt;\n",
              "  background-color: #e9e9e9;\n",
              "  color: #000000;\n",
              "}\n",
              "#T_3e74f_row21_col13 {\n",
              "  font-size: 6pt;\n",
              "  background-color: #7d7d7d;\n",
              "  color: #f1f1f1;\n",
              "}\n",
              "#T_3e74f_row21_col18 {\n",
              "  font-size: 6pt;\n",
              "  background-color: #e1e1e1;\n",
              "  color: #000000;\n",
              "}\n",
              "#T_3e74f_row22_col7, #T_3e74f_row22_col10 {\n",
              "  font-size: 6pt;\n",
              "  background-color: #a4a4a4;\n",
              "  color: #f1f1f1;\n",
              "}\n",
              "#T_3e74f_row22_col11 {\n",
              "  font-size: 6pt;\n",
              "  background-color: #727272;\n",
              "  color: #f1f1f1;\n",
              "}\n",
              "#T_3e74f_row22_col16 {\n",
              "  font-size: 6pt;\n",
              "  background-color: #616161;\n",
              "  color: #f1f1f1;\n",
              "}\n",
              "#T_3e74f_row22_col17 {\n",
              "  font-size: 6pt;\n",
              "  background-color: #f3f3f3;\n",
              "  color: #000000;\n",
              "}\n",
              "#T_3e74f_row23_col14 {\n",
              "  font-size: 6pt;\n",
              "  background-color: #484848;\n",
              "  color: #f1f1f1;\n",
              "}\n",
              "#T_3e74f_row24_col6 {\n",
              "  font-size: 6pt;\n",
              "  background-color: #b3b3b3;\n",
              "  color: #000000;\n",
              "}\n",
              "#T_3e74f_row24_col12 {\n",
              "  font-size: 6pt;\n",
              "  background-color: #1a1a1a;\n",
              "  color: #f1f1f1;\n",
              "}\n",
              "#T_3e74f_row24_col13 {\n",
              "  font-size: 6pt;\n",
              "  background-color: #d6d6d6;\n",
              "  color: #000000;\n",
              "}\n",
              "</style>\n",
              "<table id=\"T_3e74f_\" class=\"dataframe\">\n",
              "  <thead>\n",
              "    <tr>\n",
              "      <th class=\"blank level0\" >&nbsp;</th>\n",
              "      <th class=\"col_heading level0 col0\" >0</th>\n",
              "      <th class=\"col_heading level0 col1\" >1</th>\n",
              "      <th class=\"col_heading level0 col2\" >2</th>\n",
              "      <th class=\"col_heading level0 col3\" >3</th>\n",
              "      <th class=\"col_heading level0 col4\" >4</th>\n",
              "      <th class=\"col_heading level0 col5\" >5</th>\n",
              "      <th class=\"col_heading level0 col6\" >6</th>\n",
              "      <th class=\"col_heading level0 col7\" >7</th>\n",
              "      <th class=\"col_heading level0 col8\" >8</th>\n",
              "      <th class=\"col_heading level0 col9\" >9</th>\n",
              "      <th class=\"col_heading level0 col10\" >10</th>\n",
              "      <th class=\"col_heading level0 col11\" >11</th>\n",
              "      <th class=\"col_heading level0 col12\" >12</th>\n",
              "      <th class=\"col_heading level0 col13\" >13</th>\n",
              "      <th class=\"col_heading level0 col14\" >14</th>\n",
              "      <th class=\"col_heading level0 col15\" >15</th>\n",
              "      <th class=\"col_heading level0 col16\" >16</th>\n",
              "      <th class=\"col_heading level0 col17\" >17</th>\n",
              "      <th class=\"col_heading level0 col18\" >18</th>\n",
              "      <th class=\"col_heading level0 col19\" >19</th>\n",
              "      <th class=\"col_heading level0 col20\" >20</th>\n",
              "      <th class=\"col_heading level0 col21\" >21</th>\n",
              "      <th class=\"col_heading level0 col22\" >22</th>\n",
              "      <th class=\"col_heading level0 col23\" >23</th>\n",
              "      <th class=\"col_heading level0 col24\" >24</th>\n",
              "      <th class=\"col_heading level0 col25\" >25</th>\n",
              "      <th class=\"col_heading level0 col26\" >26</th>\n",
              "      <th class=\"col_heading level0 col27\" >27</th>\n",
              "    </tr>\n",
              "  </thead>\n",
              "  <tbody>\n",
              "    <tr>\n",
              "      <th id=\"T_3e74f_level0_row0\" class=\"row_heading level0 row0\" >0</th>\n",
              "      <td id=\"T_3e74f_row0_col0\" class=\"data row0 col0\" >0</td>\n",
              "      <td id=\"T_3e74f_row0_col1\" class=\"data row0 col1\" >0</td>\n",
              "      <td id=\"T_3e74f_row0_col2\" class=\"data row0 col2\" >0</td>\n",
              "      <td id=\"T_3e74f_row0_col3\" class=\"data row0 col3\" >0</td>\n",
              "      <td id=\"T_3e74f_row0_col4\" class=\"data row0 col4\" >0</td>\n",
              "      <td id=\"T_3e74f_row0_col5\" class=\"data row0 col5\" >0</td>\n",
              "      <td id=\"T_3e74f_row0_col6\" class=\"data row0 col6\" >0</td>\n",
              "      <td id=\"T_3e74f_row0_col7\" class=\"data row0 col7\" >0</td>\n",
              "      <td id=\"T_3e74f_row0_col8\" class=\"data row0 col8\" >0</td>\n",
              "      <td id=\"T_3e74f_row0_col9\" class=\"data row0 col9\" >0</td>\n",
              "      <td id=\"T_3e74f_row0_col10\" class=\"data row0 col10\" >0</td>\n",
              "      <td id=\"T_3e74f_row0_col11\" class=\"data row0 col11\" >0</td>\n",
              "      <td id=\"T_3e74f_row0_col12\" class=\"data row0 col12\" >0</td>\n",
              "      <td id=\"T_3e74f_row0_col13\" class=\"data row0 col13\" >0</td>\n",
              "      <td id=\"T_3e74f_row0_col14\" class=\"data row0 col14\" >0</td>\n",
              "      <td id=\"T_3e74f_row0_col15\" class=\"data row0 col15\" >0</td>\n",
              "      <td id=\"T_3e74f_row0_col16\" class=\"data row0 col16\" >0</td>\n",
              "      <td id=\"T_3e74f_row0_col17\" class=\"data row0 col17\" >0</td>\n",
              "      <td id=\"T_3e74f_row0_col18\" class=\"data row0 col18\" >0</td>\n",
              "      <td id=\"T_3e74f_row0_col19\" class=\"data row0 col19\" >0</td>\n",
              "      <td id=\"T_3e74f_row0_col20\" class=\"data row0 col20\" >0</td>\n",
              "      <td id=\"T_3e74f_row0_col21\" class=\"data row0 col21\" >0</td>\n",
              "      <td id=\"T_3e74f_row0_col22\" class=\"data row0 col22\" >0</td>\n",
              "      <td id=\"T_3e74f_row0_col23\" class=\"data row0 col23\" >0</td>\n",
              "      <td id=\"T_3e74f_row0_col24\" class=\"data row0 col24\" >0</td>\n",
              "      <td id=\"T_3e74f_row0_col25\" class=\"data row0 col25\" >0</td>\n",
              "      <td id=\"T_3e74f_row0_col26\" class=\"data row0 col26\" >0</td>\n",
              "      <td id=\"T_3e74f_row0_col27\" class=\"data row0 col27\" >0</td>\n",
              "    </tr>\n",
              "    <tr>\n",
              "      <th id=\"T_3e74f_level0_row1\" class=\"row_heading level0 row1\" >1</th>\n",
              "      <td id=\"T_3e74f_row1_col0\" class=\"data row1 col0\" >0</td>\n",
              "      <td id=\"T_3e74f_row1_col1\" class=\"data row1 col1\" >0</td>\n",
              "      <td id=\"T_3e74f_row1_col2\" class=\"data row1 col2\" >0</td>\n",
              "      <td id=\"T_3e74f_row1_col3\" class=\"data row1 col3\" >0</td>\n",
              "      <td id=\"T_3e74f_row1_col4\" class=\"data row1 col4\" >0</td>\n",
              "      <td id=\"T_3e74f_row1_col5\" class=\"data row1 col5\" >0</td>\n",
              "      <td id=\"T_3e74f_row1_col6\" class=\"data row1 col6\" >0</td>\n",
              "      <td id=\"T_3e74f_row1_col7\" class=\"data row1 col7\" >0</td>\n",
              "      <td id=\"T_3e74f_row1_col8\" class=\"data row1 col8\" >0</td>\n",
              "      <td id=\"T_3e74f_row1_col9\" class=\"data row1 col9\" >0</td>\n",
              "      <td id=\"T_3e74f_row1_col10\" class=\"data row1 col10\" >0</td>\n",
              "      <td id=\"T_3e74f_row1_col11\" class=\"data row1 col11\" >0</td>\n",
              "      <td id=\"T_3e74f_row1_col12\" class=\"data row1 col12\" >0</td>\n",
              "      <td id=\"T_3e74f_row1_col13\" class=\"data row1 col13\" >0</td>\n",
              "      <td id=\"T_3e74f_row1_col14\" class=\"data row1 col14\" >0</td>\n",
              "      <td id=\"T_3e74f_row1_col15\" class=\"data row1 col15\" >0</td>\n",
              "      <td id=\"T_3e74f_row1_col16\" class=\"data row1 col16\" >0</td>\n",
              "      <td id=\"T_3e74f_row1_col17\" class=\"data row1 col17\" >0</td>\n",
              "      <td id=\"T_3e74f_row1_col18\" class=\"data row1 col18\" >0</td>\n",
              "      <td id=\"T_3e74f_row1_col19\" class=\"data row1 col19\" >0</td>\n",
              "      <td id=\"T_3e74f_row1_col20\" class=\"data row1 col20\" >0</td>\n",
              "      <td id=\"T_3e74f_row1_col21\" class=\"data row1 col21\" >0</td>\n",
              "      <td id=\"T_3e74f_row1_col22\" class=\"data row1 col22\" >0</td>\n",
              "      <td id=\"T_3e74f_row1_col23\" class=\"data row1 col23\" >0</td>\n",
              "      <td id=\"T_3e74f_row1_col24\" class=\"data row1 col24\" >0</td>\n",
              "      <td id=\"T_3e74f_row1_col25\" class=\"data row1 col25\" >0</td>\n",
              "      <td id=\"T_3e74f_row1_col26\" class=\"data row1 col26\" >0</td>\n",
              "      <td id=\"T_3e74f_row1_col27\" class=\"data row1 col27\" >0</td>\n",
              "    </tr>\n",
              "    <tr>\n",
              "      <th id=\"T_3e74f_level0_row2\" class=\"row_heading level0 row2\" >2</th>\n",
              "      <td id=\"T_3e74f_row2_col0\" class=\"data row2 col0\" >0</td>\n",
              "      <td id=\"T_3e74f_row2_col1\" class=\"data row2 col1\" >0</td>\n",
              "      <td id=\"T_3e74f_row2_col2\" class=\"data row2 col2\" >0</td>\n",
              "      <td id=\"T_3e74f_row2_col3\" class=\"data row2 col3\" >0</td>\n",
              "      <td id=\"T_3e74f_row2_col4\" class=\"data row2 col4\" >0</td>\n",
              "      <td id=\"T_3e74f_row2_col5\" class=\"data row2 col5\" >0</td>\n",
              "      <td id=\"T_3e74f_row2_col6\" class=\"data row2 col6\" >0</td>\n",
              "      <td id=\"T_3e74f_row2_col7\" class=\"data row2 col7\" >0</td>\n",
              "      <td id=\"T_3e74f_row2_col8\" class=\"data row2 col8\" >0</td>\n",
              "      <td id=\"T_3e74f_row2_col9\" class=\"data row2 col9\" >0</td>\n",
              "      <td id=\"T_3e74f_row2_col10\" class=\"data row2 col10\" >0</td>\n",
              "      <td id=\"T_3e74f_row2_col11\" class=\"data row2 col11\" >0</td>\n",
              "      <td id=\"T_3e74f_row2_col12\" class=\"data row2 col12\" >0</td>\n",
              "      <td id=\"T_3e74f_row2_col13\" class=\"data row2 col13\" >0</td>\n",
              "      <td id=\"T_3e74f_row2_col14\" class=\"data row2 col14\" >0</td>\n",
              "      <td id=\"T_3e74f_row2_col15\" class=\"data row2 col15\" >0</td>\n",
              "      <td id=\"T_3e74f_row2_col16\" class=\"data row2 col16\" >0</td>\n",
              "      <td id=\"T_3e74f_row2_col17\" class=\"data row2 col17\" >0</td>\n",
              "      <td id=\"T_3e74f_row2_col18\" class=\"data row2 col18\" >0</td>\n",
              "      <td id=\"T_3e74f_row2_col19\" class=\"data row2 col19\" >0</td>\n",
              "      <td id=\"T_3e74f_row2_col20\" class=\"data row2 col20\" >0</td>\n",
              "      <td id=\"T_3e74f_row2_col21\" class=\"data row2 col21\" >0</td>\n",
              "      <td id=\"T_3e74f_row2_col22\" class=\"data row2 col22\" >0</td>\n",
              "      <td id=\"T_3e74f_row2_col23\" class=\"data row2 col23\" >0</td>\n",
              "      <td id=\"T_3e74f_row2_col24\" class=\"data row2 col24\" >0</td>\n",
              "      <td id=\"T_3e74f_row2_col25\" class=\"data row2 col25\" >0</td>\n",
              "      <td id=\"T_3e74f_row2_col26\" class=\"data row2 col26\" >0</td>\n",
              "      <td id=\"T_3e74f_row2_col27\" class=\"data row2 col27\" >0</td>\n",
              "    </tr>\n",
              "    <tr>\n",
              "      <th id=\"T_3e74f_level0_row3\" class=\"row_heading level0 row3\" >3</th>\n",
              "      <td id=\"T_3e74f_row3_col0\" class=\"data row3 col0\" >0</td>\n",
              "      <td id=\"T_3e74f_row3_col1\" class=\"data row3 col1\" >0</td>\n",
              "      <td id=\"T_3e74f_row3_col2\" class=\"data row3 col2\" >0</td>\n",
              "      <td id=\"T_3e74f_row3_col3\" class=\"data row3 col3\" >0</td>\n",
              "      <td id=\"T_3e74f_row3_col4\" class=\"data row3 col4\" >0</td>\n",
              "      <td id=\"T_3e74f_row3_col5\" class=\"data row3 col5\" >0</td>\n",
              "      <td id=\"T_3e74f_row3_col6\" class=\"data row3 col6\" >0</td>\n",
              "      <td id=\"T_3e74f_row3_col7\" class=\"data row3 col7\" >0</td>\n",
              "      <td id=\"T_3e74f_row3_col8\" class=\"data row3 col8\" >0</td>\n",
              "      <td id=\"T_3e74f_row3_col9\" class=\"data row3 col9\" >0</td>\n",
              "      <td id=\"T_3e74f_row3_col10\" class=\"data row3 col10\" >0</td>\n",
              "      <td id=\"T_3e74f_row3_col11\" class=\"data row3 col11\" >0</td>\n",
              "      <td id=\"T_3e74f_row3_col12\" class=\"data row3 col12\" >0</td>\n",
              "      <td id=\"T_3e74f_row3_col13\" class=\"data row3 col13\" >0</td>\n",
              "      <td id=\"T_3e74f_row3_col14\" class=\"data row3 col14\" >0</td>\n",
              "      <td id=\"T_3e74f_row3_col15\" class=\"data row3 col15\" >0</td>\n",
              "      <td id=\"T_3e74f_row3_col16\" class=\"data row3 col16\" >0</td>\n",
              "      <td id=\"T_3e74f_row3_col17\" class=\"data row3 col17\" >0</td>\n",
              "      <td id=\"T_3e74f_row3_col18\" class=\"data row3 col18\" >0</td>\n",
              "      <td id=\"T_3e74f_row3_col19\" class=\"data row3 col19\" >0</td>\n",
              "      <td id=\"T_3e74f_row3_col20\" class=\"data row3 col20\" >0</td>\n",
              "      <td id=\"T_3e74f_row3_col21\" class=\"data row3 col21\" >0</td>\n",
              "      <td id=\"T_3e74f_row3_col22\" class=\"data row3 col22\" >0</td>\n",
              "      <td id=\"T_3e74f_row3_col23\" class=\"data row3 col23\" >0</td>\n",
              "      <td id=\"T_3e74f_row3_col24\" class=\"data row3 col24\" >0</td>\n",
              "      <td id=\"T_3e74f_row3_col25\" class=\"data row3 col25\" >0</td>\n",
              "      <td id=\"T_3e74f_row3_col26\" class=\"data row3 col26\" >0</td>\n",
              "      <td id=\"T_3e74f_row3_col27\" class=\"data row3 col27\" >0</td>\n",
              "    </tr>\n",
              "    <tr>\n",
              "      <th id=\"T_3e74f_level0_row4\" class=\"row_heading level0 row4\" >4</th>\n",
              "      <td id=\"T_3e74f_row4_col0\" class=\"data row4 col0\" >0</td>\n",
              "      <td id=\"T_3e74f_row4_col1\" class=\"data row4 col1\" >0</td>\n",
              "      <td id=\"T_3e74f_row4_col2\" class=\"data row4 col2\" >0</td>\n",
              "      <td id=\"T_3e74f_row4_col3\" class=\"data row4 col3\" >0</td>\n",
              "      <td id=\"T_3e74f_row4_col4\" class=\"data row4 col4\" >0</td>\n",
              "      <td id=\"T_3e74f_row4_col5\" class=\"data row4 col5\" >0</td>\n",
              "      <td id=\"T_3e74f_row4_col6\" class=\"data row4 col6\" >0</td>\n",
              "      <td id=\"T_3e74f_row4_col7\" class=\"data row4 col7\" >0</td>\n",
              "      <td id=\"T_3e74f_row4_col8\" class=\"data row4 col8\" >0</td>\n",
              "      <td id=\"T_3e74f_row4_col9\" class=\"data row4 col9\" >0</td>\n",
              "      <td id=\"T_3e74f_row4_col10\" class=\"data row4 col10\" >0</td>\n",
              "      <td id=\"T_3e74f_row4_col11\" class=\"data row4 col11\" >0</td>\n",
              "      <td id=\"T_3e74f_row4_col12\" class=\"data row4 col12\" >0</td>\n",
              "      <td id=\"T_3e74f_row4_col13\" class=\"data row4 col13\" >0</td>\n",
              "      <td id=\"T_3e74f_row4_col14\" class=\"data row4 col14\" >0</td>\n",
              "      <td id=\"T_3e74f_row4_col15\" class=\"data row4 col15\" >0</td>\n",
              "      <td id=\"T_3e74f_row4_col16\" class=\"data row4 col16\" >0</td>\n",
              "      <td id=\"T_3e74f_row4_col17\" class=\"data row4 col17\" >0</td>\n",
              "      <td id=\"T_3e74f_row4_col18\" class=\"data row4 col18\" >0</td>\n",
              "      <td id=\"T_3e74f_row4_col19\" class=\"data row4 col19\" >0</td>\n",
              "      <td id=\"T_3e74f_row4_col20\" class=\"data row4 col20\" >0</td>\n",
              "      <td id=\"T_3e74f_row4_col21\" class=\"data row4 col21\" >0</td>\n",
              "      <td id=\"T_3e74f_row4_col22\" class=\"data row4 col22\" >0</td>\n",
              "      <td id=\"T_3e74f_row4_col23\" class=\"data row4 col23\" >0</td>\n",
              "      <td id=\"T_3e74f_row4_col24\" class=\"data row4 col24\" >0</td>\n",
              "      <td id=\"T_3e74f_row4_col25\" class=\"data row4 col25\" >0</td>\n",
              "      <td id=\"T_3e74f_row4_col26\" class=\"data row4 col26\" >0</td>\n",
              "      <td id=\"T_3e74f_row4_col27\" class=\"data row4 col27\" >0</td>\n",
              "    </tr>\n",
              "    <tr>\n",
              "      <th id=\"T_3e74f_level0_row5\" class=\"row_heading level0 row5\" >5</th>\n",
              "      <td id=\"T_3e74f_row5_col0\" class=\"data row5 col0\" >0</td>\n",
              "      <td id=\"T_3e74f_row5_col1\" class=\"data row5 col1\" >0</td>\n",
              "      <td id=\"T_3e74f_row5_col2\" class=\"data row5 col2\" >0</td>\n",
              "      <td id=\"T_3e74f_row5_col3\" class=\"data row5 col3\" >0</td>\n",
              "      <td id=\"T_3e74f_row5_col4\" class=\"data row5 col4\" >0</td>\n",
              "      <td id=\"T_3e74f_row5_col5\" class=\"data row5 col5\" >0</td>\n",
              "      <td id=\"T_3e74f_row5_col6\" class=\"data row5 col6\" >0</td>\n",
              "      <td id=\"T_3e74f_row5_col7\" class=\"data row5 col7\" >0</td>\n",
              "      <td id=\"T_3e74f_row5_col8\" class=\"data row5 col8\" >0</td>\n",
              "      <td id=\"T_3e74f_row5_col9\" class=\"data row5 col9\" >29</td>\n",
              "      <td id=\"T_3e74f_row5_col10\" class=\"data row5 col10\" >150</td>\n",
              "      <td id=\"T_3e74f_row5_col11\" class=\"data row5 col11\" >195</td>\n",
              "      <td id=\"T_3e74f_row5_col12\" class=\"data row5 col12\" >254</td>\n",
              "      <td id=\"T_3e74f_row5_col13\" class=\"data row5 col13\" >255</td>\n",
              "      <td id=\"T_3e74f_row5_col14\" class=\"data row5 col14\" >254</td>\n",
              "      <td id=\"T_3e74f_row5_col15\" class=\"data row5 col15\" >176</td>\n",
              "      <td id=\"T_3e74f_row5_col16\" class=\"data row5 col16\" >193</td>\n",
              "      <td id=\"T_3e74f_row5_col17\" class=\"data row5 col17\" >150</td>\n",
              "      <td id=\"T_3e74f_row5_col18\" class=\"data row5 col18\" >96</td>\n",
              "      <td id=\"T_3e74f_row5_col19\" class=\"data row5 col19\" >0</td>\n",
              "      <td id=\"T_3e74f_row5_col20\" class=\"data row5 col20\" >0</td>\n",
              "      <td id=\"T_3e74f_row5_col21\" class=\"data row5 col21\" >0</td>\n",
              "      <td id=\"T_3e74f_row5_col22\" class=\"data row5 col22\" >0</td>\n",
              "      <td id=\"T_3e74f_row5_col23\" class=\"data row5 col23\" >0</td>\n",
              "      <td id=\"T_3e74f_row5_col24\" class=\"data row5 col24\" >0</td>\n",
              "      <td id=\"T_3e74f_row5_col25\" class=\"data row5 col25\" >0</td>\n",
              "      <td id=\"T_3e74f_row5_col26\" class=\"data row5 col26\" >0</td>\n",
              "      <td id=\"T_3e74f_row5_col27\" class=\"data row5 col27\" >0</td>\n",
              "    </tr>\n",
              "    <tr>\n",
              "      <th id=\"T_3e74f_level0_row6\" class=\"row_heading level0 row6\" >6</th>\n",
              "      <td id=\"T_3e74f_row6_col0\" class=\"data row6 col0\" >0</td>\n",
              "      <td id=\"T_3e74f_row6_col1\" class=\"data row6 col1\" >0</td>\n",
              "      <td id=\"T_3e74f_row6_col2\" class=\"data row6 col2\" >0</td>\n",
              "      <td id=\"T_3e74f_row6_col3\" class=\"data row6 col3\" >0</td>\n",
              "      <td id=\"T_3e74f_row6_col4\" class=\"data row6 col4\" >0</td>\n",
              "      <td id=\"T_3e74f_row6_col5\" class=\"data row6 col5\" >0</td>\n",
              "      <td id=\"T_3e74f_row6_col6\" class=\"data row6 col6\" >0</td>\n",
              "      <td id=\"T_3e74f_row6_col7\" class=\"data row6 col7\" >48</td>\n",
              "      <td id=\"T_3e74f_row6_col8\" class=\"data row6 col8\" >166</td>\n",
              "      <td id=\"T_3e74f_row6_col9\" class=\"data row6 col9\" >224</td>\n",
              "      <td id=\"T_3e74f_row6_col10\" class=\"data row6 col10\" >253</td>\n",
              "      <td id=\"T_3e74f_row6_col11\" class=\"data row6 col11\" >253</td>\n",
              "      <td id=\"T_3e74f_row6_col12\" class=\"data row6 col12\" >234</td>\n",
              "      <td id=\"T_3e74f_row6_col13\" class=\"data row6 col13\" >196</td>\n",
              "      <td id=\"T_3e74f_row6_col14\" class=\"data row6 col14\" >253</td>\n",
              "      <td id=\"T_3e74f_row6_col15\" class=\"data row6 col15\" >253</td>\n",
              "      <td id=\"T_3e74f_row6_col16\" class=\"data row6 col16\" >253</td>\n",
              "      <td id=\"T_3e74f_row6_col17\" class=\"data row6 col17\" >253</td>\n",
              "      <td id=\"T_3e74f_row6_col18\" class=\"data row6 col18\" >233</td>\n",
              "      <td id=\"T_3e74f_row6_col19\" class=\"data row6 col19\" >0</td>\n",
              "      <td id=\"T_3e74f_row6_col20\" class=\"data row6 col20\" >0</td>\n",
              "      <td id=\"T_3e74f_row6_col21\" class=\"data row6 col21\" >0</td>\n",
              "      <td id=\"T_3e74f_row6_col22\" class=\"data row6 col22\" >0</td>\n",
              "      <td id=\"T_3e74f_row6_col23\" class=\"data row6 col23\" >0</td>\n",
              "      <td id=\"T_3e74f_row6_col24\" class=\"data row6 col24\" >0</td>\n",
              "      <td id=\"T_3e74f_row6_col25\" class=\"data row6 col25\" >0</td>\n",
              "      <td id=\"T_3e74f_row6_col26\" class=\"data row6 col26\" >0</td>\n",
              "      <td id=\"T_3e74f_row6_col27\" class=\"data row6 col27\" >0</td>\n",
              "    </tr>\n",
              "    <tr>\n",
              "      <th id=\"T_3e74f_level0_row7\" class=\"row_heading level0 row7\" >7</th>\n",
              "      <td id=\"T_3e74f_row7_col0\" class=\"data row7 col0\" >0</td>\n",
              "      <td id=\"T_3e74f_row7_col1\" class=\"data row7 col1\" >0</td>\n",
              "      <td id=\"T_3e74f_row7_col2\" class=\"data row7 col2\" >0</td>\n",
              "      <td id=\"T_3e74f_row7_col3\" class=\"data row7 col3\" >0</td>\n",
              "      <td id=\"T_3e74f_row7_col4\" class=\"data row7 col4\" >0</td>\n",
              "      <td id=\"T_3e74f_row7_col5\" class=\"data row7 col5\" >93</td>\n",
              "      <td id=\"T_3e74f_row7_col6\" class=\"data row7 col6\" >244</td>\n",
              "      <td id=\"T_3e74f_row7_col7\" class=\"data row7 col7\" >249</td>\n",
              "      <td id=\"T_3e74f_row7_col8\" class=\"data row7 col8\" >253</td>\n",
              "      <td id=\"T_3e74f_row7_col9\" class=\"data row7 col9\" >187</td>\n",
              "      <td id=\"T_3e74f_row7_col10\" class=\"data row7 col10\" >46</td>\n",
              "      <td id=\"T_3e74f_row7_col11\" class=\"data row7 col11\" >10</td>\n",
              "      <td id=\"T_3e74f_row7_col12\" class=\"data row7 col12\" >8</td>\n",
              "      <td id=\"T_3e74f_row7_col13\" class=\"data row7 col13\" >4</td>\n",
              "      <td id=\"T_3e74f_row7_col14\" class=\"data row7 col14\" >10</td>\n",
              "      <td id=\"T_3e74f_row7_col15\" class=\"data row7 col15\" >194</td>\n",
              "      <td id=\"T_3e74f_row7_col16\" class=\"data row7 col16\" >253</td>\n",
              "      <td id=\"T_3e74f_row7_col17\" class=\"data row7 col17\" >253</td>\n",
              "      <td id=\"T_3e74f_row7_col18\" class=\"data row7 col18\" >233</td>\n",
              "      <td id=\"T_3e74f_row7_col19\" class=\"data row7 col19\" >0</td>\n",
              "      <td id=\"T_3e74f_row7_col20\" class=\"data row7 col20\" >0</td>\n",
              "      <td id=\"T_3e74f_row7_col21\" class=\"data row7 col21\" >0</td>\n",
              "      <td id=\"T_3e74f_row7_col22\" class=\"data row7 col22\" >0</td>\n",
              "      <td id=\"T_3e74f_row7_col23\" class=\"data row7 col23\" >0</td>\n",
              "      <td id=\"T_3e74f_row7_col24\" class=\"data row7 col24\" >0</td>\n",
              "      <td id=\"T_3e74f_row7_col25\" class=\"data row7 col25\" >0</td>\n",
              "      <td id=\"T_3e74f_row7_col26\" class=\"data row7 col26\" >0</td>\n",
              "      <td id=\"T_3e74f_row7_col27\" class=\"data row7 col27\" >0</td>\n",
              "    </tr>\n",
              "    <tr>\n",
              "      <th id=\"T_3e74f_level0_row8\" class=\"row_heading level0 row8\" >8</th>\n",
              "      <td id=\"T_3e74f_row8_col0\" class=\"data row8 col0\" >0</td>\n",
              "      <td id=\"T_3e74f_row8_col1\" class=\"data row8 col1\" >0</td>\n",
              "      <td id=\"T_3e74f_row8_col2\" class=\"data row8 col2\" >0</td>\n",
              "      <td id=\"T_3e74f_row8_col3\" class=\"data row8 col3\" >0</td>\n",
              "      <td id=\"T_3e74f_row8_col4\" class=\"data row8 col4\" >0</td>\n",
              "      <td id=\"T_3e74f_row8_col5\" class=\"data row8 col5\" >107</td>\n",
              "      <td id=\"T_3e74f_row8_col6\" class=\"data row8 col6\" >253</td>\n",
              "      <td id=\"T_3e74f_row8_col7\" class=\"data row8 col7\" >253</td>\n",
              "      <td id=\"T_3e74f_row8_col8\" class=\"data row8 col8\" >230</td>\n",
              "      <td id=\"T_3e74f_row8_col9\" class=\"data row8 col9\" >48</td>\n",
              "      <td id=\"T_3e74f_row8_col10\" class=\"data row8 col10\" >0</td>\n",
              "      <td id=\"T_3e74f_row8_col11\" class=\"data row8 col11\" >0</td>\n",
              "      <td id=\"T_3e74f_row8_col12\" class=\"data row8 col12\" >0</td>\n",
              "      <td id=\"T_3e74f_row8_col13\" class=\"data row8 col13\" >0</td>\n",
              "      <td id=\"T_3e74f_row8_col14\" class=\"data row8 col14\" >0</td>\n",
              "      <td id=\"T_3e74f_row8_col15\" class=\"data row8 col15\" >192</td>\n",
              "      <td id=\"T_3e74f_row8_col16\" class=\"data row8 col16\" >253</td>\n",
              "      <td id=\"T_3e74f_row8_col17\" class=\"data row8 col17\" >253</td>\n",
              "      <td id=\"T_3e74f_row8_col18\" class=\"data row8 col18\" >156</td>\n",
              "      <td id=\"T_3e74f_row8_col19\" class=\"data row8 col19\" >0</td>\n",
              "      <td id=\"T_3e74f_row8_col20\" class=\"data row8 col20\" >0</td>\n",
              "      <td id=\"T_3e74f_row8_col21\" class=\"data row8 col21\" >0</td>\n",
              "      <td id=\"T_3e74f_row8_col22\" class=\"data row8 col22\" >0</td>\n",
              "      <td id=\"T_3e74f_row8_col23\" class=\"data row8 col23\" >0</td>\n",
              "      <td id=\"T_3e74f_row8_col24\" class=\"data row8 col24\" >0</td>\n",
              "      <td id=\"T_3e74f_row8_col25\" class=\"data row8 col25\" >0</td>\n",
              "      <td id=\"T_3e74f_row8_col26\" class=\"data row8 col26\" >0</td>\n",
              "      <td id=\"T_3e74f_row8_col27\" class=\"data row8 col27\" >0</td>\n",
              "    </tr>\n",
              "    <tr>\n",
              "      <th id=\"T_3e74f_level0_row9\" class=\"row_heading level0 row9\" >9</th>\n",
              "      <td id=\"T_3e74f_row9_col0\" class=\"data row9 col0\" >0</td>\n",
              "      <td id=\"T_3e74f_row9_col1\" class=\"data row9 col1\" >0</td>\n",
              "      <td id=\"T_3e74f_row9_col2\" class=\"data row9 col2\" >0</td>\n",
              "      <td id=\"T_3e74f_row9_col3\" class=\"data row9 col3\" >0</td>\n",
              "      <td id=\"T_3e74f_row9_col4\" class=\"data row9 col4\" >0</td>\n",
              "      <td id=\"T_3e74f_row9_col5\" class=\"data row9 col5\" >3</td>\n",
              "      <td id=\"T_3e74f_row9_col6\" class=\"data row9 col6\" >20</td>\n",
              "      <td id=\"T_3e74f_row9_col7\" class=\"data row9 col7\" >20</td>\n",
              "      <td id=\"T_3e74f_row9_col8\" class=\"data row9 col8\" >15</td>\n",
              "      <td id=\"T_3e74f_row9_col9\" class=\"data row9 col9\" >0</td>\n",
              "      <td id=\"T_3e74f_row9_col10\" class=\"data row9 col10\" >0</td>\n",
              "      <td id=\"T_3e74f_row9_col11\" class=\"data row9 col11\" >0</td>\n",
              "      <td id=\"T_3e74f_row9_col12\" class=\"data row9 col12\" >0</td>\n",
              "      <td id=\"T_3e74f_row9_col13\" class=\"data row9 col13\" >0</td>\n",
              "      <td id=\"T_3e74f_row9_col14\" class=\"data row9 col14\" >43</td>\n",
              "      <td id=\"T_3e74f_row9_col15\" class=\"data row9 col15\" >224</td>\n",
              "      <td id=\"T_3e74f_row9_col16\" class=\"data row9 col16\" >253</td>\n",
              "      <td id=\"T_3e74f_row9_col17\" class=\"data row9 col17\" >245</td>\n",
              "      <td id=\"T_3e74f_row9_col18\" class=\"data row9 col18\" >74</td>\n",
              "      <td id=\"T_3e74f_row9_col19\" class=\"data row9 col19\" >0</td>\n",
              "      <td id=\"T_3e74f_row9_col20\" class=\"data row9 col20\" >0</td>\n",
              "      <td id=\"T_3e74f_row9_col21\" class=\"data row9 col21\" >0</td>\n",
              "      <td id=\"T_3e74f_row9_col22\" class=\"data row9 col22\" >0</td>\n",
              "      <td id=\"T_3e74f_row9_col23\" class=\"data row9 col23\" >0</td>\n",
              "      <td id=\"T_3e74f_row9_col24\" class=\"data row9 col24\" >0</td>\n",
              "      <td id=\"T_3e74f_row9_col25\" class=\"data row9 col25\" >0</td>\n",
              "      <td id=\"T_3e74f_row9_col26\" class=\"data row9 col26\" >0</td>\n",
              "      <td id=\"T_3e74f_row9_col27\" class=\"data row9 col27\" >0</td>\n",
              "    </tr>\n",
              "    <tr>\n",
              "      <th id=\"T_3e74f_level0_row10\" class=\"row_heading level0 row10\" >10</th>\n",
              "      <td id=\"T_3e74f_row10_col0\" class=\"data row10 col0\" >0</td>\n",
              "      <td id=\"T_3e74f_row10_col1\" class=\"data row10 col1\" >0</td>\n",
              "      <td id=\"T_3e74f_row10_col2\" class=\"data row10 col2\" >0</td>\n",
              "      <td id=\"T_3e74f_row10_col3\" class=\"data row10 col3\" >0</td>\n",
              "      <td id=\"T_3e74f_row10_col4\" class=\"data row10 col4\" >0</td>\n",
              "      <td id=\"T_3e74f_row10_col5\" class=\"data row10 col5\" >0</td>\n",
              "      <td id=\"T_3e74f_row10_col6\" class=\"data row10 col6\" >0</td>\n",
              "      <td id=\"T_3e74f_row10_col7\" class=\"data row10 col7\" >0</td>\n",
              "      <td id=\"T_3e74f_row10_col8\" class=\"data row10 col8\" >0</td>\n",
              "      <td id=\"T_3e74f_row10_col9\" class=\"data row10 col9\" >0</td>\n",
              "      <td id=\"T_3e74f_row10_col10\" class=\"data row10 col10\" >0</td>\n",
              "      <td id=\"T_3e74f_row10_col11\" class=\"data row10 col11\" >0</td>\n",
              "      <td id=\"T_3e74f_row10_col12\" class=\"data row10 col12\" >0</td>\n",
              "      <td id=\"T_3e74f_row10_col13\" class=\"data row10 col13\" >0</td>\n",
              "      <td id=\"T_3e74f_row10_col14\" class=\"data row10 col14\" >249</td>\n",
              "      <td id=\"T_3e74f_row10_col15\" class=\"data row10 col15\" >253</td>\n",
              "      <td id=\"T_3e74f_row10_col16\" class=\"data row10 col16\" >245</td>\n",
              "      <td id=\"T_3e74f_row10_col17\" class=\"data row10 col17\" >126</td>\n",
              "      <td id=\"T_3e74f_row10_col18\" class=\"data row10 col18\" >0</td>\n",
              "      <td id=\"T_3e74f_row10_col19\" class=\"data row10 col19\" >0</td>\n",
              "      <td id=\"T_3e74f_row10_col20\" class=\"data row10 col20\" >0</td>\n",
              "      <td id=\"T_3e74f_row10_col21\" class=\"data row10 col21\" >0</td>\n",
              "      <td id=\"T_3e74f_row10_col22\" class=\"data row10 col22\" >0</td>\n",
              "      <td id=\"T_3e74f_row10_col23\" class=\"data row10 col23\" >0</td>\n",
              "      <td id=\"T_3e74f_row10_col24\" class=\"data row10 col24\" >0</td>\n",
              "      <td id=\"T_3e74f_row10_col25\" class=\"data row10 col25\" >0</td>\n",
              "      <td id=\"T_3e74f_row10_col26\" class=\"data row10 col26\" >0</td>\n",
              "      <td id=\"T_3e74f_row10_col27\" class=\"data row10 col27\" >0</td>\n",
              "    </tr>\n",
              "    <tr>\n",
              "      <th id=\"T_3e74f_level0_row11\" class=\"row_heading level0 row11\" >11</th>\n",
              "      <td id=\"T_3e74f_row11_col0\" class=\"data row11 col0\" >0</td>\n",
              "      <td id=\"T_3e74f_row11_col1\" class=\"data row11 col1\" >0</td>\n",
              "      <td id=\"T_3e74f_row11_col2\" class=\"data row11 col2\" >0</td>\n",
              "      <td id=\"T_3e74f_row11_col3\" class=\"data row11 col3\" >0</td>\n",
              "      <td id=\"T_3e74f_row11_col4\" class=\"data row11 col4\" >0</td>\n",
              "      <td id=\"T_3e74f_row11_col5\" class=\"data row11 col5\" >0</td>\n",
              "      <td id=\"T_3e74f_row11_col6\" class=\"data row11 col6\" >0</td>\n",
              "      <td id=\"T_3e74f_row11_col7\" class=\"data row11 col7\" >0</td>\n",
              "      <td id=\"T_3e74f_row11_col8\" class=\"data row11 col8\" >0</td>\n",
              "      <td id=\"T_3e74f_row11_col9\" class=\"data row11 col9\" >0</td>\n",
              "      <td id=\"T_3e74f_row11_col10\" class=\"data row11 col10\" >0</td>\n",
              "      <td id=\"T_3e74f_row11_col11\" class=\"data row11 col11\" >14</td>\n",
              "      <td id=\"T_3e74f_row11_col12\" class=\"data row11 col12\" >101</td>\n",
              "      <td id=\"T_3e74f_row11_col13\" class=\"data row11 col13\" >223</td>\n",
              "      <td id=\"T_3e74f_row11_col14\" class=\"data row11 col14\" >253</td>\n",
              "      <td id=\"T_3e74f_row11_col15\" class=\"data row11 col15\" >248</td>\n",
              "      <td id=\"T_3e74f_row11_col16\" class=\"data row11 col16\" >124</td>\n",
              "      <td id=\"T_3e74f_row11_col17\" class=\"data row11 col17\" >0</td>\n",
              "      <td id=\"T_3e74f_row11_col18\" class=\"data row11 col18\" >0</td>\n",
              "      <td id=\"T_3e74f_row11_col19\" class=\"data row11 col19\" >0</td>\n",
              "      <td id=\"T_3e74f_row11_col20\" class=\"data row11 col20\" >0</td>\n",
              "      <td id=\"T_3e74f_row11_col21\" class=\"data row11 col21\" >0</td>\n",
              "      <td id=\"T_3e74f_row11_col22\" class=\"data row11 col22\" >0</td>\n",
              "      <td id=\"T_3e74f_row11_col23\" class=\"data row11 col23\" >0</td>\n",
              "      <td id=\"T_3e74f_row11_col24\" class=\"data row11 col24\" >0</td>\n",
              "      <td id=\"T_3e74f_row11_col25\" class=\"data row11 col25\" >0</td>\n",
              "      <td id=\"T_3e74f_row11_col26\" class=\"data row11 col26\" >0</td>\n",
              "      <td id=\"T_3e74f_row11_col27\" class=\"data row11 col27\" >0</td>\n",
              "    </tr>\n",
              "    <tr>\n",
              "      <th id=\"T_3e74f_level0_row12\" class=\"row_heading level0 row12\" >12</th>\n",
              "      <td id=\"T_3e74f_row12_col0\" class=\"data row12 col0\" >0</td>\n",
              "      <td id=\"T_3e74f_row12_col1\" class=\"data row12 col1\" >0</td>\n",
              "      <td id=\"T_3e74f_row12_col2\" class=\"data row12 col2\" >0</td>\n",
              "      <td id=\"T_3e74f_row12_col3\" class=\"data row12 col3\" >0</td>\n",
              "      <td id=\"T_3e74f_row12_col4\" class=\"data row12 col4\" >0</td>\n",
              "      <td id=\"T_3e74f_row12_col5\" class=\"data row12 col5\" >0</td>\n",
              "      <td id=\"T_3e74f_row12_col6\" class=\"data row12 col6\" >0</td>\n",
              "      <td id=\"T_3e74f_row12_col7\" class=\"data row12 col7\" >0</td>\n",
              "      <td id=\"T_3e74f_row12_col8\" class=\"data row12 col8\" >0</td>\n",
              "      <td id=\"T_3e74f_row12_col9\" class=\"data row12 col9\" >11</td>\n",
              "      <td id=\"T_3e74f_row12_col10\" class=\"data row12 col10\" >166</td>\n",
              "      <td id=\"T_3e74f_row12_col11\" class=\"data row12 col11\" >239</td>\n",
              "      <td id=\"T_3e74f_row12_col12\" class=\"data row12 col12\" >253</td>\n",
              "      <td id=\"T_3e74f_row12_col13\" class=\"data row12 col13\" >253</td>\n",
              "      <td id=\"T_3e74f_row12_col14\" class=\"data row12 col14\" >253</td>\n",
              "      <td id=\"T_3e74f_row12_col15\" class=\"data row12 col15\" >187</td>\n",
              "      <td id=\"T_3e74f_row12_col16\" class=\"data row12 col16\" >30</td>\n",
              "      <td id=\"T_3e74f_row12_col17\" class=\"data row12 col17\" >0</td>\n",
              "      <td id=\"T_3e74f_row12_col18\" class=\"data row12 col18\" >0</td>\n",
              "      <td id=\"T_3e74f_row12_col19\" class=\"data row12 col19\" >0</td>\n",
              "      <td id=\"T_3e74f_row12_col20\" class=\"data row12 col20\" >0</td>\n",
              "      <td id=\"T_3e74f_row12_col21\" class=\"data row12 col21\" >0</td>\n",
              "      <td id=\"T_3e74f_row12_col22\" class=\"data row12 col22\" >0</td>\n",
              "      <td id=\"T_3e74f_row12_col23\" class=\"data row12 col23\" >0</td>\n",
              "      <td id=\"T_3e74f_row12_col24\" class=\"data row12 col24\" >0</td>\n",
              "      <td id=\"T_3e74f_row12_col25\" class=\"data row12 col25\" >0</td>\n",
              "      <td id=\"T_3e74f_row12_col26\" class=\"data row12 col26\" >0</td>\n",
              "      <td id=\"T_3e74f_row12_col27\" class=\"data row12 col27\" >0</td>\n",
              "    </tr>\n",
              "    <tr>\n",
              "      <th id=\"T_3e74f_level0_row13\" class=\"row_heading level0 row13\" >13</th>\n",
              "      <td id=\"T_3e74f_row13_col0\" class=\"data row13 col0\" >0</td>\n",
              "      <td id=\"T_3e74f_row13_col1\" class=\"data row13 col1\" >0</td>\n",
              "      <td id=\"T_3e74f_row13_col2\" class=\"data row13 col2\" >0</td>\n",
              "      <td id=\"T_3e74f_row13_col3\" class=\"data row13 col3\" >0</td>\n",
              "      <td id=\"T_3e74f_row13_col4\" class=\"data row13 col4\" >0</td>\n",
              "      <td id=\"T_3e74f_row13_col5\" class=\"data row13 col5\" >0</td>\n",
              "      <td id=\"T_3e74f_row13_col6\" class=\"data row13 col6\" >0</td>\n",
              "      <td id=\"T_3e74f_row13_col7\" class=\"data row13 col7\" >0</td>\n",
              "      <td id=\"T_3e74f_row13_col8\" class=\"data row13 col8\" >0</td>\n",
              "      <td id=\"T_3e74f_row13_col9\" class=\"data row13 col9\" >16</td>\n",
              "      <td id=\"T_3e74f_row13_col10\" class=\"data row13 col10\" >248</td>\n",
              "      <td id=\"T_3e74f_row13_col11\" class=\"data row13 col11\" >250</td>\n",
              "      <td id=\"T_3e74f_row13_col12\" class=\"data row13 col12\" >253</td>\n",
              "      <td id=\"T_3e74f_row13_col13\" class=\"data row13 col13\" >253</td>\n",
              "      <td id=\"T_3e74f_row13_col14\" class=\"data row13 col14\" >253</td>\n",
              "      <td id=\"T_3e74f_row13_col15\" class=\"data row13 col15\" >253</td>\n",
              "      <td id=\"T_3e74f_row13_col16\" class=\"data row13 col16\" >232</td>\n",
              "      <td id=\"T_3e74f_row13_col17\" class=\"data row13 col17\" >213</td>\n",
              "      <td id=\"T_3e74f_row13_col18\" class=\"data row13 col18\" >111</td>\n",
              "      <td id=\"T_3e74f_row13_col19\" class=\"data row13 col19\" >2</td>\n",
              "      <td id=\"T_3e74f_row13_col20\" class=\"data row13 col20\" >0</td>\n",
              "      <td id=\"T_3e74f_row13_col21\" class=\"data row13 col21\" >0</td>\n",
              "      <td id=\"T_3e74f_row13_col22\" class=\"data row13 col22\" >0</td>\n",
              "      <td id=\"T_3e74f_row13_col23\" class=\"data row13 col23\" >0</td>\n",
              "      <td id=\"T_3e74f_row13_col24\" class=\"data row13 col24\" >0</td>\n",
              "      <td id=\"T_3e74f_row13_col25\" class=\"data row13 col25\" >0</td>\n",
              "      <td id=\"T_3e74f_row13_col26\" class=\"data row13 col26\" >0</td>\n",
              "      <td id=\"T_3e74f_row13_col27\" class=\"data row13 col27\" >0</td>\n",
              "    </tr>\n",
              "    <tr>\n",
              "      <th id=\"T_3e74f_level0_row14\" class=\"row_heading level0 row14\" >14</th>\n",
              "      <td id=\"T_3e74f_row14_col0\" class=\"data row14 col0\" >0</td>\n",
              "      <td id=\"T_3e74f_row14_col1\" class=\"data row14 col1\" >0</td>\n",
              "      <td id=\"T_3e74f_row14_col2\" class=\"data row14 col2\" >0</td>\n",
              "      <td id=\"T_3e74f_row14_col3\" class=\"data row14 col3\" >0</td>\n",
              "      <td id=\"T_3e74f_row14_col4\" class=\"data row14 col4\" >0</td>\n",
              "      <td id=\"T_3e74f_row14_col5\" class=\"data row14 col5\" >0</td>\n",
              "      <td id=\"T_3e74f_row14_col6\" class=\"data row14 col6\" >0</td>\n",
              "      <td id=\"T_3e74f_row14_col7\" class=\"data row14 col7\" >0</td>\n",
              "      <td id=\"T_3e74f_row14_col8\" class=\"data row14 col8\" >0</td>\n",
              "      <td id=\"T_3e74f_row14_col9\" class=\"data row14 col9\" >0</td>\n",
              "      <td id=\"T_3e74f_row14_col10\" class=\"data row14 col10\" >0</td>\n",
              "      <td id=\"T_3e74f_row14_col11\" class=\"data row14 col11\" >43</td>\n",
              "      <td id=\"T_3e74f_row14_col12\" class=\"data row14 col12\" >98</td>\n",
              "      <td id=\"T_3e74f_row14_col13\" class=\"data row14 col13\" >98</td>\n",
              "      <td id=\"T_3e74f_row14_col14\" class=\"data row14 col14\" >208</td>\n",
              "      <td id=\"T_3e74f_row14_col15\" class=\"data row14 col15\" >253</td>\n",
              "      <td id=\"T_3e74f_row14_col16\" class=\"data row14 col16\" >253</td>\n",
              "      <td id=\"T_3e74f_row14_col17\" class=\"data row14 col17\" >253</td>\n",
              "      <td id=\"T_3e74f_row14_col18\" class=\"data row14 col18\" >253</td>\n",
              "      <td id=\"T_3e74f_row14_col19\" class=\"data row14 col19\" >187</td>\n",
              "      <td id=\"T_3e74f_row14_col20\" class=\"data row14 col20\" >22</td>\n",
              "      <td id=\"T_3e74f_row14_col21\" class=\"data row14 col21\" >0</td>\n",
              "      <td id=\"T_3e74f_row14_col22\" class=\"data row14 col22\" >0</td>\n",
              "      <td id=\"T_3e74f_row14_col23\" class=\"data row14 col23\" >0</td>\n",
              "      <td id=\"T_3e74f_row14_col24\" class=\"data row14 col24\" >0</td>\n",
              "      <td id=\"T_3e74f_row14_col25\" class=\"data row14 col25\" >0</td>\n",
              "      <td id=\"T_3e74f_row14_col26\" class=\"data row14 col26\" >0</td>\n",
              "      <td id=\"T_3e74f_row14_col27\" class=\"data row14 col27\" >0</td>\n",
              "    </tr>\n",
              "    <tr>\n",
              "      <th id=\"T_3e74f_level0_row15\" class=\"row_heading level0 row15\" >15</th>\n",
              "      <td id=\"T_3e74f_row15_col0\" class=\"data row15 col0\" >0</td>\n",
              "      <td id=\"T_3e74f_row15_col1\" class=\"data row15 col1\" >0</td>\n",
              "      <td id=\"T_3e74f_row15_col2\" class=\"data row15 col2\" >0</td>\n",
              "      <td id=\"T_3e74f_row15_col3\" class=\"data row15 col3\" >0</td>\n",
              "      <td id=\"T_3e74f_row15_col4\" class=\"data row15 col4\" >0</td>\n",
              "      <td id=\"T_3e74f_row15_col5\" class=\"data row15 col5\" >0</td>\n",
              "      <td id=\"T_3e74f_row15_col6\" class=\"data row15 col6\" >0</td>\n",
              "      <td id=\"T_3e74f_row15_col7\" class=\"data row15 col7\" >0</td>\n",
              "      <td id=\"T_3e74f_row15_col8\" class=\"data row15 col8\" >0</td>\n",
              "      <td id=\"T_3e74f_row15_col9\" class=\"data row15 col9\" >0</td>\n",
              "      <td id=\"T_3e74f_row15_col10\" class=\"data row15 col10\" >0</td>\n",
              "      <td id=\"T_3e74f_row15_col11\" class=\"data row15 col11\" >0</td>\n",
              "      <td id=\"T_3e74f_row15_col12\" class=\"data row15 col12\" >0</td>\n",
              "      <td id=\"T_3e74f_row15_col13\" class=\"data row15 col13\" >0</td>\n",
              "      <td id=\"T_3e74f_row15_col14\" class=\"data row15 col14\" >9</td>\n",
              "      <td id=\"T_3e74f_row15_col15\" class=\"data row15 col15\" >51</td>\n",
              "      <td id=\"T_3e74f_row15_col16\" class=\"data row15 col16\" >119</td>\n",
              "      <td id=\"T_3e74f_row15_col17\" class=\"data row15 col17\" >253</td>\n",
              "      <td id=\"T_3e74f_row15_col18\" class=\"data row15 col18\" >253</td>\n",
              "      <td id=\"T_3e74f_row15_col19\" class=\"data row15 col19\" >253</td>\n",
              "      <td id=\"T_3e74f_row15_col20\" class=\"data row15 col20\" >76</td>\n",
              "      <td id=\"T_3e74f_row15_col21\" class=\"data row15 col21\" >0</td>\n",
              "      <td id=\"T_3e74f_row15_col22\" class=\"data row15 col22\" >0</td>\n",
              "      <td id=\"T_3e74f_row15_col23\" class=\"data row15 col23\" >0</td>\n",
              "      <td id=\"T_3e74f_row15_col24\" class=\"data row15 col24\" >0</td>\n",
              "      <td id=\"T_3e74f_row15_col25\" class=\"data row15 col25\" >0</td>\n",
              "      <td id=\"T_3e74f_row15_col26\" class=\"data row15 col26\" >0</td>\n",
              "      <td id=\"T_3e74f_row15_col27\" class=\"data row15 col27\" >0</td>\n",
              "    </tr>\n",
              "    <tr>\n",
              "      <th id=\"T_3e74f_level0_row16\" class=\"row_heading level0 row16\" >16</th>\n",
              "      <td id=\"T_3e74f_row16_col0\" class=\"data row16 col0\" >0</td>\n",
              "      <td id=\"T_3e74f_row16_col1\" class=\"data row16 col1\" >0</td>\n",
              "      <td id=\"T_3e74f_row16_col2\" class=\"data row16 col2\" >0</td>\n",
              "      <td id=\"T_3e74f_row16_col3\" class=\"data row16 col3\" >0</td>\n",
              "      <td id=\"T_3e74f_row16_col4\" class=\"data row16 col4\" >0</td>\n",
              "      <td id=\"T_3e74f_row16_col5\" class=\"data row16 col5\" >0</td>\n",
              "      <td id=\"T_3e74f_row16_col6\" class=\"data row16 col6\" >0</td>\n",
              "      <td id=\"T_3e74f_row16_col7\" class=\"data row16 col7\" >0</td>\n",
              "      <td id=\"T_3e74f_row16_col8\" class=\"data row16 col8\" >0</td>\n",
              "      <td id=\"T_3e74f_row16_col9\" class=\"data row16 col9\" >0</td>\n",
              "      <td id=\"T_3e74f_row16_col10\" class=\"data row16 col10\" >0</td>\n",
              "      <td id=\"T_3e74f_row16_col11\" class=\"data row16 col11\" >0</td>\n",
              "      <td id=\"T_3e74f_row16_col12\" class=\"data row16 col12\" >0</td>\n",
              "      <td id=\"T_3e74f_row16_col13\" class=\"data row16 col13\" >0</td>\n",
              "      <td id=\"T_3e74f_row16_col14\" class=\"data row16 col14\" >0</td>\n",
              "      <td id=\"T_3e74f_row16_col15\" class=\"data row16 col15\" >0</td>\n",
              "      <td id=\"T_3e74f_row16_col16\" class=\"data row16 col16\" >1</td>\n",
              "      <td id=\"T_3e74f_row16_col17\" class=\"data row16 col17\" >183</td>\n",
              "      <td id=\"T_3e74f_row16_col18\" class=\"data row16 col18\" >253</td>\n",
              "      <td id=\"T_3e74f_row16_col19\" class=\"data row16 col19\" >253</td>\n",
              "      <td id=\"T_3e74f_row16_col20\" class=\"data row16 col20\" >139</td>\n",
              "      <td id=\"T_3e74f_row16_col21\" class=\"data row16 col21\" >0</td>\n",
              "      <td id=\"T_3e74f_row16_col22\" class=\"data row16 col22\" >0</td>\n",
              "      <td id=\"T_3e74f_row16_col23\" class=\"data row16 col23\" >0</td>\n",
              "      <td id=\"T_3e74f_row16_col24\" class=\"data row16 col24\" >0</td>\n",
              "      <td id=\"T_3e74f_row16_col25\" class=\"data row16 col25\" >0</td>\n",
              "      <td id=\"T_3e74f_row16_col26\" class=\"data row16 col26\" >0</td>\n",
              "      <td id=\"T_3e74f_row16_col27\" class=\"data row16 col27\" >0</td>\n",
              "    </tr>\n",
              "    <tr>\n",
              "      <th id=\"T_3e74f_level0_row17\" class=\"row_heading level0 row17\" >17</th>\n",
              "      <td id=\"T_3e74f_row17_col0\" class=\"data row17 col0\" >0</td>\n",
              "      <td id=\"T_3e74f_row17_col1\" class=\"data row17 col1\" >0</td>\n",
              "      <td id=\"T_3e74f_row17_col2\" class=\"data row17 col2\" >0</td>\n",
              "      <td id=\"T_3e74f_row17_col3\" class=\"data row17 col3\" >0</td>\n",
              "      <td id=\"T_3e74f_row17_col4\" class=\"data row17 col4\" >0</td>\n",
              "      <td id=\"T_3e74f_row17_col5\" class=\"data row17 col5\" >0</td>\n",
              "      <td id=\"T_3e74f_row17_col6\" class=\"data row17 col6\" >0</td>\n",
              "      <td id=\"T_3e74f_row17_col7\" class=\"data row17 col7\" >0</td>\n",
              "      <td id=\"T_3e74f_row17_col8\" class=\"data row17 col8\" >0</td>\n",
              "      <td id=\"T_3e74f_row17_col9\" class=\"data row17 col9\" >0</td>\n",
              "      <td id=\"T_3e74f_row17_col10\" class=\"data row17 col10\" >0</td>\n",
              "      <td id=\"T_3e74f_row17_col11\" class=\"data row17 col11\" >0</td>\n",
              "      <td id=\"T_3e74f_row17_col12\" class=\"data row17 col12\" >0</td>\n",
              "      <td id=\"T_3e74f_row17_col13\" class=\"data row17 col13\" >0</td>\n",
              "      <td id=\"T_3e74f_row17_col14\" class=\"data row17 col14\" >0</td>\n",
              "      <td id=\"T_3e74f_row17_col15\" class=\"data row17 col15\" >0</td>\n",
              "      <td id=\"T_3e74f_row17_col16\" class=\"data row17 col16\" >0</td>\n",
              "      <td id=\"T_3e74f_row17_col17\" class=\"data row17 col17\" >182</td>\n",
              "      <td id=\"T_3e74f_row17_col18\" class=\"data row17 col18\" >253</td>\n",
              "      <td id=\"T_3e74f_row17_col19\" class=\"data row17 col19\" >253</td>\n",
              "      <td id=\"T_3e74f_row17_col20\" class=\"data row17 col20\" >104</td>\n",
              "      <td id=\"T_3e74f_row17_col21\" class=\"data row17 col21\" >0</td>\n",
              "      <td id=\"T_3e74f_row17_col22\" class=\"data row17 col22\" >0</td>\n",
              "      <td id=\"T_3e74f_row17_col23\" class=\"data row17 col23\" >0</td>\n",
              "      <td id=\"T_3e74f_row17_col24\" class=\"data row17 col24\" >0</td>\n",
              "      <td id=\"T_3e74f_row17_col25\" class=\"data row17 col25\" >0</td>\n",
              "      <td id=\"T_3e74f_row17_col26\" class=\"data row17 col26\" >0</td>\n",
              "      <td id=\"T_3e74f_row17_col27\" class=\"data row17 col27\" >0</td>\n",
              "    </tr>\n",
              "    <tr>\n",
              "      <th id=\"T_3e74f_level0_row18\" class=\"row_heading level0 row18\" >18</th>\n",
              "      <td id=\"T_3e74f_row18_col0\" class=\"data row18 col0\" >0</td>\n",
              "      <td id=\"T_3e74f_row18_col1\" class=\"data row18 col1\" >0</td>\n",
              "      <td id=\"T_3e74f_row18_col2\" class=\"data row18 col2\" >0</td>\n",
              "      <td id=\"T_3e74f_row18_col3\" class=\"data row18 col3\" >0</td>\n",
              "      <td id=\"T_3e74f_row18_col4\" class=\"data row18 col4\" >0</td>\n",
              "      <td id=\"T_3e74f_row18_col5\" class=\"data row18 col5\" >0</td>\n",
              "      <td id=\"T_3e74f_row18_col6\" class=\"data row18 col6\" >0</td>\n",
              "      <td id=\"T_3e74f_row18_col7\" class=\"data row18 col7\" >0</td>\n",
              "      <td id=\"T_3e74f_row18_col8\" class=\"data row18 col8\" >0</td>\n",
              "      <td id=\"T_3e74f_row18_col9\" class=\"data row18 col9\" >0</td>\n",
              "      <td id=\"T_3e74f_row18_col10\" class=\"data row18 col10\" >0</td>\n",
              "      <td id=\"T_3e74f_row18_col11\" class=\"data row18 col11\" >0</td>\n",
              "      <td id=\"T_3e74f_row18_col12\" class=\"data row18 col12\" >0</td>\n",
              "      <td id=\"T_3e74f_row18_col13\" class=\"data row18 col13\" >0</td>\n",
              "      <td id=\"T_3e74f_row18_col14\" class=\"data row18 col14\" >0</td>\n",
              "      <td id=\"T_3e74f_row18_col15\" class=\"data row18 col15\" >0</td>\n",
              "      <td id=\"T_3e74f_row18_col16\" class=\"data row18 col16\" >85</td>\n",
              "      <td id=\"T_3e74f_row18_col17\" class=\"data row18 col17\" >249</td>\n",
              "      <td id=\"T_3e74f_row18_col18\" class=\"data row18 col18\" >253</td>\n",
              "      <td id=\"T_3e74f_row18_col19\" class=\"data row18 col19\" >253</td>\n",
              "      <td id=\"T_3e74f_row18_col20\" class=\"data row18 col20\" >36</td>\n",
              "      <td id=\"T_3e74f_row18_col21\" class=\"data row18 col21\" >0</td>\n",
              "      <td id=\"T_3e74f_row18_col22\" class=\"data row18 col22\" >0</td>\n",
              "      <td id=\"T_3e74f_row18_col23\" class=\"data row18 col23\" >0</td>\n",
              "      <td id=\"T_3e74f_row18_col24\" class=\"data row18 col24\" >0</td>\n",
              "      <td id=\"T_3e74f_row18_col25\" class=\"data row18 col25\" >0</td>\n",
              "      <td id=\"T_3e74f_row18_col26\" class=\"data row18 col26\" >0</td>\n",
              "      <td id=\"T_3e74f_row18_col27\" class=\"data row18 col27\" >0</td>\n",
              "    </tr>\n",
              "    <tr>\n",
              "      <th id=\"T_3e74f_level0_row19\" class=\"row_heading level0 row19\" >19</th>\n",
              "      <td id=\"T_3e74f_row19_col0\" class=\"data row19 col0\" >0</td>\n",
              "      <td id=\"T_3e74f_row19_col1\" class=\"data row19 col1\" >0</td>\n",
              "      <td id=\"T_3e74f_row19_col2\" class=\"data row19 col2\" >0</td>\n",
              "      <td id=\"T_3e74f_row19_col3\" class=\"data row19 col3\" >0</td>\n",
              "      <td id=\"T_3e74f_row19_col4\" class=\"data row19 col4\" >0</td>\n",
              "      <td id=\"T_3e74f_row19_col5\" class=\"data row19 col5\" >0</td>\n",
              "      <td id=\"T_3e74f_row19_col6\" class=\"data row19 col6\" >0</td>\n",
              "      <td id=\"T_3e74f_row19_col7\" class=\"data row19 col7\" >0</td>\n",
              "      <td id=\"T_3e74f_row19_col8\" class=\"data row19 col8\" >0</td>\n",
              "      <td id=\"T_3e74f_row19_col9\" class=\"data row19 col9\" >0</td>\n",
              "      <td id=\"T_3e74f_row19_col10\" class=\"data row19 col10\" >0</td>\n",
              "      <td id=\"T_3e74f_row19_col11\" class=\"data row19 col11\" >0</td>\n",
              "      <td id=\"T_3e74f_row19_col12\" class=\"data row19 col12\" >0</td>\n",
              "      <td id=\"T_3e74f_row19_col13\" class=\"data row19 col13\" >0</td>\n",
              "      <td id=\"T_3e74f_row19_col14\" class=\"data row19 col14\" >0</td>\n",
              "      <td id=\"T_3e74f_row19_col15\" class=\"data row19 col15\" >60</td>\n",
              "      <td id=\"T_3e74f_row19_col16\" class=\"data row19 col16\" >214</td>\n",
              "      <td id=\"T_3e74f_row19_col17\" class=\"data row19 col17\" >253</td>\n",
              "      <td id=\"T_3e74f_row19_col18\" class=\"data row19 col18\" >253</td>\n",
              "      <td id=\"T_3e74f_row19_col19\" class=\"data row19 col19\" >173</td>\n",
              "      <td id=\"T_3e74f_row19_col20\" class=\"data row19 col20\" >11</td>\n",
              "      <td id=\"T_3e74f_row19_col21\" class=\"data row19 col21\" >0</td>\n",
              "      <td id=\"T_3e74f_row19_col22\" class=\"data row19 col22\" >0</td>\n",
              "      <td id=\"T_3e74f_row19_col23\" class=\"data row19 col23\" >0</td>\n",
              "      <td id=\"T_3e74f_row19_col24\" class=\"data row19 col24\" >0</td>\n",
              "      <td id=\"T_3e74f_row19_col25\" class=\"data row19 col25\" >0</td>\n",
              "      <td id=\"T_3e74f_row19_col26\" class=\"data row19 col26\" >0</td>\n",
              "      <td id=\"T_3e74f_row19_col27\" class=\"data row19 col27\" >0</td>\n",
              "    </tr>\n",
              "    <tr>\n",
              "      <th id=\"T_3e74f_level0_row20\" class=\"row_heading level0 row20\" >20</th>\n",
              "      <td id=\"T_3e74f_row20_col0\" class=\"data row20 col0\" >0</td>\n",
              "      <td id=\"T_3e74f_row20_col1\" class=\"data row20 col1\" >0</td>\n",
              "      <td id=\"T_3e74f_row20_col2\" class=\"data row20 col2\" >0</td>\n",
              "      <td id=\"T_3e74f_row20_col3\" class=\"data row20 col3\" >0</td>\n",
              "      <td id=\"T_3e74f_row20_col4\" class=\"data row20 col4\" >0</td>\n",
              "      <td id=\"T_3e74f_row20_col5\" class=\"data row20 col5\" >0</td>\n",
              "      <td id=\"T_3e74f_row20_col6\" class=\"data row20 col6\" >0</td>\n",
              "      <td id=\"T_3e74f_row20_col7\" class=\"data row20 col7\" >0</td>\n",
              "      <td id=\"T_3e74f_row20_col8\" class=\"data row20 col8\" >0</td>\n",
              "      <td id=\"T_3e74f_row20_col9\" class=\"data row20 col9\" >0</td>\n",
              "      <td id=\"T_3e74f_row20_col10\" class=\"data row20 col10\" >0</td>\n",
              "      <td id=\"T_3e74f_row20_col11\" class=\"data row20 col11\" >0</td>\n",
              "      <td id=\"T_3e74f_row20_col12\" class=\"data row20 col12\" >0</td>\n",
              "      <td id=\"T_3e74f_row20_col13\" class=\"data row20 col13\" >0</td>\n",
              "      <td id=\"T_3e74f_row20_col14\" class=\"data row20 col14\" >98</td>\n",
              "      <td id=\"T_3e74f_row20_col15\" class=\"data row20 col15\" >247</td>\n",
              "      <td id=\"T_3e74f_row20_col16\" class=\"data row20 col16\" >253</td>\n",
              "      <td id=\"T_3e74f_row20_col17\" class=\"data row20 col17\" >253</td>\n",
              "      <td id=\"T_3e74f_row20_col18\" class=\"data row20 col18\" >226</td>\n",
              "      <td id=\"T_3e74f_row20_col19\" class=\"data row20 col19\" >9</td>\n",
              "      <td id=\"T_3e74f_row20_col20\" class=\"data row20 col20\" >0</td>\n",
              "      <td id=\"T_3e74f_row20_col21\" class=\"data row20 col21\" >0</td>\n",
              "      <td id=\"T_3e74f_row20_col22\" class=\"data row20 col22\" >0</td>\n",
              "      <td id=\"T_3e74f_row20_col23\" class=\"data row20 col23\" >0</td>\n",
              "      <td id=\"T_3e74f_row20_col24\" class=\"data row20 col24\" >0</td>\n",
              "      <td id=\"T_3e74f_row20_col25\" class=\"data row20 col25\" >0</td>\n",
              "      <td id=\"T_3e74f_row20_col26\" class=\"data row20 col26\" >0</td>\n",
              "      <td id=\"T_3e74f_row20_col27\" class=\"data row20 col27\" >0</td>\n",
              "    </tr>\n",
              "    <tr>\n",
              "      <th id=\"T_3e74f_level0_row21\" class=\"row_heading level0 row21\" >21</th>\n",
              "      <td id=\"T_3e74f_row21_col0\" class=\"data row21 col0\" >0</td>\n",
              "      <td id=\"T_3e74f_row21_col1\" class=\"data row21 col1\" >0</td>\n",
              "      <td id=\"T_3e74f_row21_col2\" class=\"data row21 col2\" >0</td>\n",
              "      <td id=\"T_3e74f_row21_col3\" class=\"data row21 col3\" >0</td>\n",
              "      <td id=\"T_3e74f_row21_col4\" class=\"data row21 col4\" >0</td>\n",
              "      <td id=\"T_3e74f_row21_col5\" class=\"data row21 col5\" >0</td>\n",
              "      <td id=\"T_3e74f_row21_col6\" class=\"data row21 col6\" >0</td>\n",
              "      <td id=\"T_3e74f_row21_col7\" class=\"data row21 col7\" >0</td>\n",
              "      <td id=\"T_3e74f_row21_col8\" class=\"data row21 col8\" >0</td>\n",
              "      <td id=\"T_3e74f_row21_col9\" class=\"data row21 col9\" >0</td>\n",
              "      <td id=\"T_3e74f_row21_col10\" class=\"data row21 col10\" >0</td>\n",
              "      <td id=\"T_3e74f_row21_col11\" class=\"data row21 col11\" >0</td>\n",
              "      <td id=\"T_3e74f_row21_col12\" class=\"data row21 col12\" >42</td>\n",
              "      <td id=\"T_3e74f_row21_col13\" class=\"data row21 col13\" >150</td>\n",
              "      <td id=\"T_3e74f_row21_col14\" class=\"data row21 col14\" >252</td>\n",
              "      <td id=\"T_3e74f_row21_col15\" class=\"data row21 col15\" >253</td>\n",
              "      <td id=\"T_3e74f_row21_col16\" class=\"data row21 col16\" >253</td>\n",
              "      <td id=\"T_3e74f_row21_col17\" class=\"data row21 col17\" >233</td>\n",
              "      <td id=\"T_3e74f_row21_col18\" class=\"data row21 col18\" >53</td>\n",
              "      <td id=\"T_3e74f_row21_col19\" class=\"data row21 col19\" >0</td>\n",
              "      <td id=\"T_3e74f_row21_col20\" class=\"data row21 col20\" >0</td>\n",
              "      <td id=\"T_3e74f_row21_col21\" class=\"data row21 col21\" >0</td>\n",
              "      <td id=\"T_3e74f_row21_col22\" class=\"data row21 col22\" >0</td>\n",
              "      <td id=\"T_3e74f_row21_col23\" class=\"data row21 col23\" >0</td>\n",
              "      <td id=\"T_3e74f_row21_col24\" class=\"data row21 col24\" >0</td>\n",
              "      <td id=\"T_3e74f_row21_col25\" class=\"data row21 col25\" >0</td>\n",
              "      <td id=\"T_3e74f_row21_col26\" class=\"data row21 col26\" >0</td>\n",
              "      <td id=\"T_3e74f_row21_col27\" class=\"data row21 col27\" >0</td>\n",
              "    </tr>\n",
              "    <tr>\n",
              "      <th id=\"T_3e74f_level0_row22\" class=\"row_heading level0 row22\" >22</th>\n",
              "      <td id=\"T_3e74f_row22_col0\" class=\"data row22 col0\" >0</td>\n",
              "      <td id=\"T_3e74f_row22_col1\" class=\"data row22 col1\" >0</td>\n",
              "      <td id=\"T_3e74f_row22_col2\" class=\"data row22 col2\" >0</td>\n",
              "      <td id=\"T_3e74f_row22_col3\" class=\"data row22 col3\" >0</td>\n",
              "      <td id=\"T_3e74f_row22_col4\" class=\"data row22 col4\" >0</td>\n",
              "      <td id=\"T_3e74f_row22_col5\" class=\"data row22 col5\" >0</td>\n",
              "      <td id=\"T_3e74f_row22_col6\" class=\"data row22 col6\" >42</td>\n",
              "      <td id=\"T_3e74f_row22_col7\" class=\"data row22 col7\" >115</td>\n",
              "      <td id=\"T_3e74f_row22_col8\" class=\"data row22 col8\" >42</td>\n",
              "      <td id=\"T_3e74f_row22_col9\" class=\"data row22 col9\" >60</td>\n",
              "      <td id=\"T_3e74f_row22_col10\" class=\"data row22 col10\" >115</td>\n",
              "      <td id=\"T_3e74f_row22_col11\" class=\"data row22 col11\" >159</td>\n",
              "      <td id=\"T_3e74f_row22_col12\" class=\"data row22 col12\" >240</td>\n",
              "      <td id=\"T_3e74f_row22_col13\" class=\"data row22 col13\" >253</td>\n",
              "      <td id=\"T_3e74f_row22_col14\" class=\"data row22 col14\" >253</td>\n",
              "      <td id=\"T_3e74f_row22_col15\" class=\"data row22 col15\" >250</td>\n",
              "      <td id=\"T_3e74f_row22_col16\" class=\"data row22 col16\" >175</td>\n",
              "      <td id=\"T_3e74f_row22_col17\" class=\"data row22 col17\" >25</td>\n",
              "      <td id=\"T_3e74f_row22_col18\" class=\"data row22 col18\" >0</td>\n",
              "      <td id=\"T_3e74f_row22_col19\" class=\"data row22 col19\" >0</td>\n",
              "      <td id=\"T_3e74f_row22_col20\" class=\"data row22 col20\" >0</td>\n",
              "      <td id=\"T_3e74f_row22_col21\" class=\"data row22 col21\" >0</td>\n",
              "      <td id=\"T_3e74f_row22_col22\" class=\"data row22 col22\" >0</td>\n",
              "      <td id=\"T_3e74f_row22_col23\" class=\"data row22 col23\" >0</td>\n",
              "      <td id=\"T_3e74f_row22_col24\" class=\"data row22 col24\" >0</td>\n",
              "      <td id=\"T_3e74f_row22_col25\" class=\"data row22 col25\" >0</td>\n",
              "      <td id=\"T_3e74f_row22_col26\" class=\"data row22 col26\" >0</td>\n",
              "      <td id=\"T_3e74f_row22_col27\" class=\"data row22 col27\" >0</td>\n",
              "    </tr>\n",
              "    <tr>\n",
              "      <th id=\"T_3e74f_level0_row23\" class=\"row_heading level0 row23\" >23</th>\n",
              "      <td id=\"T_3e74f_row23_col0\" class=\"data row23 col0\" >0</td>\n",
              "      <td id=\"T_3e74f_row23_col1\" class=\"data row23 col1\" >0</td>\n",
              "      <td id=\"T_3e74f_row23_col2\" class=\"data row23 col2\" >0</td>\n",
              "      <td id=\"T_3e74f_row23_col3\" class=\"data row23 col3\" >0</td>\n",
              "      <td id=\"T_3e74f_row23_col4\" class=\"data row23 col4\" >0</td>\n",
              "      <td id=\"T_3e74f_row23_col5\" class=\"data row23 col5\" >0</td>\n",
              "      <td id=\"T_3e74f_row23_col6\" class=\"data row23 col6\" >187</td>\n",
              "      <td id=\"T_3e74f_row23_col7\" class=\"data row23 col7\" >253</td>\n",
              "      <td id=\"T_3e74f_row23_col8\" class=\"data row23 col8\" >253</td>\n",
              "      <td id=\"T_3e74f_row23_col9\" class=\"data row23 col9\" >253</td>\n",
              "      <td id=\"T_3e74f_row23_col10\" class=\"data row23 col10\" >253</td>\n",
              "      <td id=\"T_3e74f_row23_col11\" class=\"data row23 col11\" >253</td>\n",
              "      <td id=\"T_3e74f_row23_col12\" class=\"data row23 col12\" >253</td>\n",
              "      <td id=\"T_3e74f_row23_col13\" class=\"data row23 col13\" >253</td>\n",
              "      <td id=\"T_3e74f_row23_col14\" class=\"data row23 col14\" >197</td>\n",
              "      <td id=\"T_3e74f_row23_col15\" class=\"data row23 col15\" >86</td>\n",
              "      <td id=\"T_3e74f_row23_col16\" class=\"data row23 col16\" >0</td>\n",
              "      <td id=\"T_3e74f_row23_col17\" class=\"data row23 col17\" >0</td>\n",
              "      <td id=\"T_3e74f_row23_col18\" class=\"data row23 col18\" >0</td>\n",
              "      <td id=\"T_3e74f_row23_col19\" class=\"data row23 col19\" >0</td>\n",
              "      <td id=\"T_3e74f_row23_col20\" class=\"data row23 col20\" >0</td>\n",
              "      <td id=\"T_3e74f_row23_col21\" class=\"data row23 col21\" >0</td>\n",
              "      <td id=\"T_3e74f_row23_col22\" class=\"data row23 col22\" >0</td>\n",
              "      <td id=\"T_3e74f_row23_col23\" class=\"data row23 col23\" >0</td>\n",
              "      <td id=\"T_3e74f_row23_col24\" class=\"data row23 col24\" >0</td>\n",
              "      <td id=\"T_3e74f_row23_col25\" class=\"data row23 col25\" >0</td>\n",
              "      <td id=\"T_3e74f_row23_col26\" class=\"data row23 col26\" >0</td>\n",
              "      <td id=\"T_3e74f_row23_col27\" class=\"data row23 col27\" >0</td>\n",
              "    </tr>\n",
              "    <tr>\n",
              "      <th id=\"T_3e74f_level0_row24\" class=\"row_heading level0 row24\" >24</th>\n",
              "      <td id=\"T_3e74f_row24_col0\" class=\"data row24 col0\" >0</td>\n",
              "      <td id=\"T_3e74f_row24_col1\" class=\"data row24 col1\" >0</td>\n",
              "      <td id=\"T_3e74f_row24_col2\" class=\"data row24 col2\" >0</td>\n",
              "      <td id=\"T_3e74f_row24_col3\" class=\"data row24 col3\" >0</td>\n",
              "      <td id=\"T_3e74f_row24_col4\" class=\"data row24 col4\" >0</td>\n",
              "      <td id=\"T_3e74f_row24_col5\" class=\"data row24 col5\" >0</td>\n",
              "      <td id=\"T_3e74f_row24_col6\" class=\"data row24 col6\" >103</td>\n",
              "      <td id=\"T_3e74f_row24_col7\" class=\"data row24 col7\" >253</td>\n",
              "      <td id=\"T_3e74f_row24_col8\" class=\"data row24 col8\" >253</td>\n",
              "      <td id=\"T_3e74f_row24_col9\" class=\"data row24 col9\" >253</td>\n",
              "      <td id=\"T_3e74f_row24_col10\" class=\"data row24 col10\" >253</td>\n",
              "      <td id=\"T_3e74f_row24_col11\" class=\"data row24 col11\" >253</td>\n",
              "      <td id=\"T_3e74f_row24_col12\" class=\"data row24 col12\" >232</td>\n",
              "      <td id=\"T_3e74f_row24_col13\" class=\"data row24 col13\" >67</td>\n",
              "      <td id=\"T_3e74f_row24_col14\" class=\"data row24 col14\" >1</td>\n",
              "      <td id=\"T_3e74f_row24_col15\" class=\"data row24 col15\" >0</td>\n",
              "      <td id=\"T_3e74f_row24_col16\" class=\"data row24 col16\" >0</td>\n",
              "      <td id=\"T_3e74f_row24_col17\" class=\"data row24 col17\" >0</td>\n",
              "      <td id=\"T_3e74f_row24_col18\" class=\"data row24 col18\" >0</td>\n",
              "      <td id=\"T_3e74f_row24_col19\" class=\"data row24 col19\" >0</td>\n",
              "      <td id=\"T_3e74f_row24_col20\" class=\"data row24 col20\" >0</td>\n",
              "      <td id=\"T_3e74f_row24_col21\" class=\"data row24 col21\" >0</td>\n",
              "      <td id=\"T_3e74f_row24_col22\" class=\"data row24 col22\" >0</td>\n",
              "      <td id=\"T_3e74f_row24_col23\" class=\"data row24 col23\" >0</td>\n",
              "      <td id=\"T_3e74f_row24_col24\" class=\"data row24 col24\" >0</td>\n",
              "      <td id=\"T_3e74f_row24_col25\" class=\"data row24 col25\" >0</td>\n",
              "      <td id=\"T_3e74f_row24_col26\" class=\"data row24 col26\" >0</td>\n",
              "      <td id=\"T_3e74f_row24_col27\" class=\"data row24 col27\" >0</td>\n",
              "    </tr>\n",
              "    <tr>\n",
              "      <th id=\"T_3e74f_level0_row25\" class=\"row_heading level0 row25\" >25</th>\n",
              "      <td id=\"T_3e74f_row25_col0\" class=\"data row25 col0\" >0</td>\n",
              "      <td id=\"T_3e74f_row25_col1\" class=\"data row25 col1\" >0</td>\n",
              "      <td id=\"T_3e74f_row25_col2\" class=\"data row25 col2\" >0</td>\n",
              "      <td id=\"T_3e74f_row25_col3\" class=\"data row25 col3\" >0</td>\n",
              "      <td id=\"T_3e74f_row25_col4\" class=\"data row25 col4\" >0</td>\n",
              "      <td id=\"T_3e74f_row25_col5\" class=\"data row25 col5\" >0</td>\n",
              "      <td id=\"T_3e74f_row25_col6\" class=\"data row25 col6\" >0</td>\n",
              "      <td id=\"T_3e74f_row25_col7\" class=\"data row25 col7\" >0</td>\n",
              "      <td id=\"T_3e74f_row25_col8\" class=\"data row25 col8\" >0</td>\n",
              "      <td id=\"T_3e74f_row25_col9\" class=\"data row25 col9\" >0</td>\n",
              "      <td id=\"T_3e74f_row25_col10\" class=\"data row25 col10\" >0</td>\n",
              "      <td id=\"T_3e74f_row25_col11\" class=\"data row25 col11\" >0</td>\n",
              "      <td id=\"T_3e74f_row25_col12\" class=\"data row25 col12\" >0</td>\n",
              "      <td id=\"T_3e74f_row25_col13\" class=\"data row25 col13\" >0</td>\n",
              "      <td id=\"T_3e74f_row25_col14\" class=\"data row25 col14\" >0</td>\n",
              "      <td id=\"T_3e74f_row25_col15\" class=\"data row25 col15\" >0</td>\n",
              "      <td id=\"T_3e74f_row25_col16\" class=\"data row25 col16\" >0</td>\n",
              "      <td id=\"T_3e74f_row25_col17\" class=\"data row25 col17\" >0</td>\n",
              "      <td id=\"T_3e74f_row25_col18\" class=\"data row25 col18\" >0</td>\n",
              "      <td id=\"T_3e74f_row25_col19\" class=\"data row25 col19\" >0</td>\n",
              "      <td id=\"T_3e74f_row25_col20\" class=\"data row25 col20\" >0</td>\n",
              "      <td id=\"T_3e74f_row25_col21\" class=\"data row25 col21\" >0</td>\n",
              "      <td id=\"T_3e74f_row25_col22\" class=\"data row25 col22\" >0</td>\n",
              "      <td id=\"T_3e74f_row25_col23\" class=\"data row25 col23\" >0</td>\n",
              "      <td id=\"T_3e74f_row25_col24\" class=\"data row25 col24\" >0</td>\n",
              "      <td id=\"T_3e74f_row25_col25\" class=\"data row25 col25\" >0</td>\n",
              "      <td id=\"T_3e74f_row25_col26\" class=\"data row25 col26\" >0</td>\n",
              "      <td id=\"T_3e74f_row25_col27\" class=\"data row25 col27\" >0</td>\n",
              "    </tr>\n",
              "    <tr>\n",
              "      <th id=\"T_3e74f_level0_row26\" class=\"row_heading level0 row26\" >26</th>\n",
              "      <td id=\"T_3e74f_row26_col0\" class=\"data row26 col0\" >0</td>\n",
              "      <td id=\"T_3e74f_row26_col1\" class=\"data row26 col1\" >0</td>\n",
              "      <td id=\"T_3e74f_row26_col2\" class=\"data row26 col2\" >0</td>\n",
              "      <td id=\"T_3e74f_row26_col3\" class=\"data row26 col3\" >0</td>\n",
              "      <td id=\"T_3e74f_row26_col4\" class=\"data row26 col4\" >0</td>\n",
              "      <td id=\"T_3e74f_row26_col5\" class=\"data row26 col5\" >0</td>\n",
              "      <td id=\"T_3e74f_row26_col6\" class=\"data row26 col6\" >0</td>\n",
              "      <td id=\"T_3e74f_row26_col7\" class=\"data row26 col7\" >0</td>\n",
              "      <td id=\"T_3e74f_row26_col8\" class=\"data row26 col8\" >0</td>\n",
              "      <td id=\"T_3e74f_row26_col9\" class=\"data row26 col9\" >0</td>\n",
              "      <td id=\"T_3e74f_row26_col10\" class=\"data row26 col10\" >0</td>\n",
              "      <td id=\"T_3e74f_row26_col11\" class=\"data row26 col11\" >0</td>\n",
              "      <td id=\"T_3e74f_row26_col12\" class=\"data row26 col12\" >0</td>\n",
              "      <td id=\"T_3e74f_row26_col13\" class=\"data row26 col13\" >0</td>\n",
              "      <td id=\"T_3e74f_row26_col14\" class=\"data row26 col14\" >0</td>\n",
              "      <td id=\"T_3e74f_row26_col15\" class=\"data row26 col15\" >0</td>\n",
              "      <td id=\"T_3e74f_row26_col16\" class=\"data row26 col16\" >0</td>\n",
              "      <td id=\"T_3e74f_row26_col17\" class=\"data row26 col17\" >0</td>\n",
              "      <td id=\"T_3e74f_row26_col18\" class=\"data row26 col18\" >0</td>\n",
              "      <td id=\"T_3e74f_row26_col19\" class=\"data row26 col19\" >0</td>\n",
              "      <td id=\"T_3e74f_row26_col20\" class=\"data row26 col20\" >0</td>\n",
              "      <td id=\"T_3e74f_row26_col21\" class=\"data row26 col21\" >0</td>\n",
              "      <td id=\"T_3e74f_row26_col22\" class=\"data row26 col22\" >0</td>\n",
              "      <td id=\"T_3e74f_row26_col23\" class=\"data row26 col23\" >0</td>\n",
              "      <td id=\"T_3e74f_row26_col24\" class=\"data row26 col24\" >0</td>\n",
              "      <td id=\"T_3e74f_row26_col25\" class=\"data row26 col25\" >0</td>\n",
              "      <td id=\"T_3e74f_row26_col26\" class=\"data row26 col26\" >0</td>\n",
              "      <td id=\"T_3e74f_row26_col27\" class=\"data row26 col27\" >0</td>\n",
              "    </tr>\n",
              "    <tr>\n",
              "      <th id=\"T_3e74f_level0_row27\" class=\"row_heading level0 row27\" >27</th>\n",
              "      <td id=\"T_3e74f_row27_col0\" class=\"data row27 col0\" >0</td>\n",
              "      <td id=\"T_3e74f_row27_col1\" class=\"data row27 col1\" >0</td>\n",
              "      <td id=\"T_3e74f_row27_col2\" class=\"data row27 col2\" >0</td>\n",
              "      <td id=\"T_3e74f_row27_col3\" class=\"data row27 col3\" >0</td>\n",
              "      <td id=\"T_3e74f_row27_col4\" class=\"data row27 col4\" >0</td>\n",
              "      <td id=\"T_3e74f_row27_col5\" class=\"data row27 col5\" >0</td>\n",
              "      <td id=\"T_3e74f_row27_col6\" class=\"data row27 col6\" >0</td>\n",
              "      <td id=\"T_3e74f_row27_col7\" class=\"data row27 col7\" >0</td>\n",
              "      <td id=\"T_3e74f_row27_col8\" class=\"data row27 col8\" >0</td>\n",
              "      <td id=\"T_3e74f_row27_col9\" class=\"data row27 col9\" >0</td>\n",
              "      <td id=\"T_3e74f_row27_col10\" class=\"data row27 col10\" >0</td>\n",
              "      <td id=\"T_3e74f_row27_col11\" class=\"data row27 col11\" >0</td>\n",
              "      <td id=\"T_3e74f_row27_col12\" class=\"data row27 col12\" >0</td>\n",
              "      <td id=\"T_3e74f_row27_col13\" class=\"data row27 col13\" >0</td>\n",
              "      <td id=\"T_3e74f_row27_col14\" class=\"data row27 col14\" >0</td>\n",
              "      <td id=\"T_3e74f_row27_col15\" class=\"data row27 col15\" >0</td>\n",
              "      <td id=\"T_3e74f_row27_col16\" class=\"data row27 col16\" >0</td>\n",
              "      <td id=\"T_3e74f_row27_col17\" class=\"data row27 col17\" >0</td>\n",
              "      <td id=\"T_3e74f_row27_col18\" class=\"data row27 col18\" >0</td>\n",
              "      <td id=\"T_3e74f_row27_col19\" class=\"data row27 col19\" >0</td>\n",
              "      <td id=\"T_3e74f_row27_col20\" class=\"data row27 col20\" >0</td>\n",
              "      <td id=\"T_3e74f_row27_col21\" class=\"data row27 col21\" >0</td>\n",
              "      <td id=\"T_3e74f_row27_col22\" class=\"data row27 col22\" >0</td>\n",
              "      <td id=\"T_3e74f_row27_col23\" class=\"data row27 col23\" >0</td>\n",
              "      <td id=\"T_3e74f_row27_col24\" class=\"data row27 col24\" >0</td>\n",
              "      <td id=\"T_3e74f_row27_col25\" class=\"data row27 col25\" >0</td>\n",
              "      <td id=\"T_3e74f_row27_col26\" class=\"data row27 col26\" >0</td>\n",
              "      <td id=\"T_3e74f_row27_col27\" class=\"data row27 col27\" >0</td>\n",
              "    </tr>\n",
              "  </tbody>\n",
              "</table>\n"
            ],
            "text/plain": [
              "<pandas.io.formats.style.Styler at 0x7f963733c510>"
            ]
          },
          "metadata": {},
          "execution_count": 106
        }
      ]
    },
    {
      "cell_type": "code",
      "source": [
        "three_tensors = [tensor(Image.open(o)) for o in threes]\n",
        "seven_tensors = [tensor(Image.open(o)) for o in sevens]\n",
        "len(three_tensors),len(seven_tensors)"
      ],
      "metadata": {
        "colab": {
          "base_uri": "https://localhost:8080/"
        },
        "id": "EiYTy2W6dAGy",
        "outputId": "874afd81-0486-4030-8b3f-d7770f8443d1"
      },
      "execution_count": 107,
      "outputs": [
        {
          "output_type": "execute_result",
          "data": {
            "text/plain": [
              "(6131, 6265)"
            ]
          },
          "metadata": {},
          "execution_count": 107
        }
      ]
    },
    {
      "cell_type": "code",
      "source": [
        "show_image(three_tensors[1])"
      ],
      "metadata": {
        "colab": {
          "base_uri": "https://localhost:8080/",
          "height": 102
        },
        "id": "Kezsg61LdmJt",
        "outputId": "c3b6a2f1-21b3-4103-de83-a8635323fa01"
      },
      "execution_count": 108,
      "outputs": [
        {
          "output_type": "execute_result",
          "data": {
            "text/plain": [
              "<matplotlib.axes._subplots.AxesSubplot at 0x7f9636cc1390>"
            ]
          },
          "metadata": {},
          "execution_count": 108
        },
        {
          "output_type": "display_data",
          "data": {
            "image/png": "[encoded data removed]",
            "text/plain": [
              "<Figure size 72x72 with 1 Axes>"
            ]
          },
          "metadata": {
            "needs_background": "light"
          }
        }
      ]
    },
    {
      "cell_type": "code",
      "source": [
        "# get the average of all the images \n",
        "three_tensors[1].shape\n",
        "# three_tensors is a list - not easy to do match \n",
        "# stack all 28*28 images on top of each other which is tensor \n",
        "# we want mean value so take as float becasue we dont want integers rounding off\n",
        "# when you work with float expect them to be between 0 and 1 so we devide it by 255\n",
        "stacked_threes = torch.stack(three_tensors).float()/255\n",
        "stacked_sevens = torch.stack(seven_tensors).float()/255\n",
        "stacked_threes.shape,stacked_sevens.shape"
      ],
      "metadata": {
        "colab": {
          "base_uri": "https://localhost:8080/"
        },
        "id": "hTIstV1Ldvhk",
        "outputId": "9d2b0f5b-c508-43f7-8caa-666c22ee36a5"
      },
      "execution_count": 109,
      "outputs": [
        {
          "output_type": "execute_result",
          "data": {
            "text/plain": [
              "(torch.Size([6131, 28, 28]), torch.Size([6265, 28, 28]))"
            ]
          },
          "metadata": {},
          "execution_count": 109
        }
      ]
    },
    {
      "cell_type": "code",
      "source": [
        "stacked_threes.mean()"
      ],
      "metadata": {
        "colab": {
          "base_uri": "https://localhost:8080/"
        },
        "id": "izZoOEXtfuG4",
        "outputId": "31df1c28-3b4d-4fff-8cf5-4f4444502bbf"
      },
      "execution_count": 110,
      "outputs": [
        {
          "output_type": "execute_result",
          "data": {
            "text/plain": [
              "tensor(0.1415)"
            ]
          },
          "metadata": {},
          "execution_count": 110
        }
      ]
    },
    {
      "cell_type": "code",
      "source": [
        "mean3 = stacked_threes.mean(0)\n",
        "mean3"
      ],
      "metadata": {
        "colab": {
          "base_uri": "https://localhost:8080/"
        },
        "id": "lsg5zj4_fyGS",
        "outputId": "b4b9fdaf-ffb4-45a6-e81b-8985190373f2"
      },
      "execution_count": 111,
      "outputs": [
        {
          "output_type": "execute_result",
          "data": {
            "text/plain": [
              "tensor([[0.0000e+00, 0.0000e+00, 0.0000e+00, 0.0000e+00, 0.0000e+00, 0.0000e+00, 0.0000e+00, 0.0000e+00, 0.0000e+00, 0.0000e+00, 0.0000e+00, 0.0000e+00, 0.0000e+00, 0.0000e+00, 0.0000e+00, 0.0000e+00,\n",
              "         0.0000e+00, 0.0000e+00, 0.0000e+00, 0.0000e+00, 0.0000e+00, 0.0000e+00, 0.0000e+00, 0.0000e+00, 0.0000e+00, 0.0000e+00, 0.0000e+00, 0.0000e+00],\n",
              "        [0.0000e+00, 0.0000e+00, 0.0000e+00, 0.0000e+00, 0.0000e+00, 0.0000e+00, 0.0000e+00, 0.0000e+00, 0.0000e+00, 0.0000e+00, 0.0000e+00, 0.0000e+00, 0.0000e+00, 0.0000e+00, 0.0000e+00, 0.0000e+00,\n",
              "         0.0000e+00, 0.0000e+00, 0.0000e+00, 0.0000e+00, 0.0000e+00, 0.0000e+00, 0.0000e+00, 0.0000e+00, 0.0000e+00, 0.0000e+00, 0.0000e+00, 0.0000e+00],\n",
              "        [0.0000e+00, 0.0000e+00, 0.0000e+00, 0.0000e+00, 0.0000e+00, 0.0000e+00, 0.0000e+00, 0.0000e+00, 0.0000e+00, 0.0000e+00, 7.2918e-05, 1.9637e-04, 2.3410e-04, 1.9253e-04, 2.7568e-04, 2.6161e-04,\n",
              "         2.9423e-04, 2.8400e-04, 1.5671e-04, 4.8612e-05, 5.7567e-06, 0.0000e+00, 0.0000e+00, 0.0000e+00, 0.0000e+00, 0.0000e+00, 0.0000e+00, 0.0000e+00],\n",
              "        [0.0000e+00, 0.0000e+00, 0.0000e+00, 0.0000e+00, 1.5991e-05, 4.8676e-04, 7.7331e-04, 1.4468e-03, 2.9788e-03, 5.6486e-03, 9.5177e-03, 1.5693e-02, 2.1113e-02, 2.4280e-02, 2.5964e-02, 2.4268e-02,\n",
              "         2.0875e-02, 1.7108e-02, 1.1642e-02, 7.0436e-03, 3.9945e-03, 1.4955e-03, 3.2941e-04, 0.0000e+00, 0.0000e+00, 0.0000e+00, 0.0000e+00, 0.0000e+00],\n",
              "        [0.0000e+00, 2.4306e-05, 3.2621e-05, 1.5607e-04, 1.3995e-03, 5.7854e-03, 1.3664e-02, 3.0111e-02, 5.5401e-02, 9.0316e-02, 1.3725e-01, 1.8357e-01, 2.2128e-01, 2.4655e-01, 2.4972e-01, 2.3536e-01,\n",
              "         1.9872e-01, 1.5084e-01, 1.0543e-01, 6.4754e-02, 3.2829e-02, 1.3352e-02, 4.5970e-03, 3.9273e-04, 1.9189e-06, 0.0000e+00, 0.0000e+00, 0.0000e+00],\n",
              "        [0.0000e+00, 0.0000e+00, 5.7567e-05, 1.5204e-03, 8.8909e-03, 2.7837e-02, 6.1064e-02, 1.1271e-01, 1.8688e-01, 2.8024e-01, 3.8297e-01, 4.8024e-01, 5.5877e-01, 6.1324e-01, 6.2329e-01, 5.9771e-01,\n",
              "         5.2835e-01, 4.2100e-01, 3.0576e-01, 2.0347e-01, 1.1742e-01, 5.3793e-02, 1.6992e-02, 3.4617e-03, 2.5905e-04, 0.0000e+00, 0.0000e+00, 0.0000e+00],\n",
              "        [0.0000e+00, 7.0359e-06, 3.0063e-04, 5.8174e-03, 2.4498e-02, 5.9899e-02, 1.2038e-01, 2.0755e-01, 3.1939e-01, 4.3547e-01, 5.4447e-01, 6.2764e-01, 6.8504e-01, 7.2395e-01, 7.4489e-01, 7.4463e-01,\n",
              "         7.0500e-01, 6.0875e-01, 4.7916e-01, 3.3949e-01, 2.1322e-01, 1.0868e-01, 3.7335e-02, 7.9084e-03, 8.2320e-04, 0.0000e+00, 0.0000e+00, 0.0000e+00],\n",
              "        [0.0000e+00, 3.2429e-04, 4.5414e-04, 9.7409e-03, 3.7895e-02, 8.2921e-02, 1.5382e-01, 2.4157e-01, 3.3767e-01, 4.2682e-01, 4.9161e-01, 5.2841e-01, 5.4475e-01, 5.5883e-01, 5.8641e-01, 6.2750e-01,\n",
              "         6.5125e-01, 6.2112e-01, 5.2849e-01, 4.0753e-01, 2.7025e-01, 1.4412e-01, 5.3465e-02, 1.1405e-02, 1.0490e-03, 0.0000e+00, 0.0000e+00, 0.0000e+00],\n",
              "        [0.0000e+00, 1.2601e-04, 5.3985e-04, 1.1943e-02, 4.0899e-02, 7.8775e-02, 1.3442e-01, 1.9457e-01, 2.5074e-01, 2.9489e-01, 3.1693e-01, 3.1747e-01, 3.1133e-01, 3.2182e-01, 3.6634e-01, 4.5206e-01,\n",
              "         5.3760e-01, 5.7068e-01, 5.2600e-01, 4.1737e-01, 2.7770e-01, 1.4791e-01, 5.6850e-02, 1.1186e-02, 5.6543e-04, 0.0000e+00, 0.0000e+00, 0.0000e+00],\n",
              "        [0.0000e+00, 1.3496e-04, 6.4603e-04, 9.1461e-03, 2.9371e-02, 5.4969e-02, 8.9482e-02, 1.1955e-01, 1.4173e-01, 1.5585e-01, 1.6174e-01, 1.6148e-01, 1.6958e-01, 2.0584e-01, 2.9212e-01, 4.1871e-01,\n",
              "         5.3047e-01, 5.7446e-01, 5.1699e-01, 3.8845e-01, 2.4350e-01, 1.1984e-01, 4.4328e-02, 8.7073e-03, 1.1641e-04, 3.9657e-05, 0.0000e+00, 0.0000e+00],\n",
              "        [0.0000e+00, 6.7161e-05, 4.3047e-04, 6.7775e-03, 1.6751e-02, 2.9374e-02, 4.5093e-02, 5.7854e-02, 6.8061e-02, 7.8151e-02, 9.5189e-02, 1.2533e-01, 1.8025e-01, 2.7419e-01, 4.0268e-01, 5.3354e-01,\n",
              "         6.1373e-01, 5.9656e-01, 4.7979e-01, 3.2004e-01, 1.7885e-01, 7.7661e-02, 2.4957e-02, 4.6878e-03, 3.9657e-05, 1.1833e-04, 0.0000e+00, 0.0000e+00],\n",
              "        [0.0000e+00, 4.9251e-05, 3.7035e-04, 3.8589e-03, 8.8301e-03, 1.4541e-02, 2.0740e-02, 2.9064e-02, 4.4311e-02, 7.7774e-02, 1.3957e-01, 2.3310e-01, 3.5509e-01, 4.8872e-01, 6.0988e-01, 6.8693e-01,\n",
              "         6.8276e-01, 5.8363e-01, 4.1155e-01, 2.4346e-01, 1.1769e-01, 4.1552e-02, 1.0649e-02, 1.8121e-03, 9.5944e-06, 1.2857e-04, 0.0000e+00, 0.0000e+00],\n",
              "        [0.0000e+00, 8.3152e-06, 4.9891e-05, 1.5166e-03, 4.1403e-03, 8.1841e-03, 1.3161e-02, 2.7825e-02, 6.6674e-02, 1.4858e-01, 2.7763e-01, 4.3485e-01, 5.8360e-01, 7.0284e-01, 7.7150e-01, 7.7661e-01,\n",
              "         7.1162e-01, 5.6779e-01, 3.7920e-01, 2.1411e-01, 9.4611e-02, 3.1342e-02, 7.7146e-03, 1.0701e-03, 9.9782e-05, 1.3560e-04, 0.0000e+00, 0.0000e+00],\n",
              "        [0.0000e+00, 0.0000e+00, 0.0000e+00, 6.3963e-04, 2.5783e-03, 5.4042e-03, 1.4138e-02, 3.9151e-02, 1.0502e-01, 2.2640e-01, 3.9440e-01, 5.6574e-01, 6.9847e-01, 7.6719e-01, 7.7950e-01, 7.5081e-01,\n",
              "         6.9238e-01, 5.8267e-01, 4.3279e-01, 2.6549e-01, 1.2995e-01, 5.0904e-02, 1.3723e-02, 2.6148e-03, 3.2749e-04, 6.7161e-05, 0.0000e+00, 0.0000e+00],\n",
              "        [0.0000e+00, 1.0234e-04, 5.8206e-05, 6.9975e-04, 2.5758e-03, 6.5549e-03, 1.5612e-02, 4.5825e-02, 1.1788e-01, 2.4133e-01, 3.9015e-01, 5.2159e-01, 6.0265e-01, 6.2869e-01, 6.2758e-01, 6.1725e-01,\n",
              "         6.1311e-01, 5.9272e-01, 5.1544e-01, 3.7066e-01, 2.1080e-01, 9.5741e-02, 3.1867e-02, 7.1351e-03, 7.5860e-04, 2.6225e-05, 0.0000e+00, 0.0000e+00],\n",
              "        [0.0000e+00, 1.4456e-04, 7.1702e-04, 2.3385e-03, 6.0221e-03, 1.1625e-02, 1.9489e-02, 4.1298e-02, 9.1916e-02, 1.7655e-01, 2.7350e-01, 3.4554e-01, 3.7789e-01, 3.8353e-01, 3.8828e-01, 4.1357e-01,\n",
              "         4.7273e-01, 5.4692e-01, 5.5695e-01, 4.6004e-01, 2.9679e-01, 1.4911e-01, 6.0777e-02, 1.5610e-02, 1.8025e-03, 3.1981e-06, 1.3368e-04, 0.0000e+00],\n",
              "        [0.0000e+00, 1.2729e-04, 2.1869e-03, 7.0538e-03, 1.4894e-02, 2.2301e-02, 2.7903e-02, 3.9338e-02, 6.2386e-02, 9.9441e-02, 1.3370e-01, 1.5925e-01, 1.6655e-01, 1.7223e-01, 1.9161e-01, 2.4334e-01,\n",
              "         3.4454e-01, 4.8216e-01, 5.6101e-01, 5.0364e-01, 3.5205e-01, 1.9422e-01, 8.5188e-02, 2.6331e-02, 3.5276e-03, 1.2793e-06, 2.2387e-05, 0.0000e+00],\n",
              "        [0.0000e+00, 1.5735e-04, 3.3331e-03, 1.5257e-02, 3.1764e-02, 4.3270e-02, 4.9365e-02, 5.5510e-02, 5.9109e-02, 5.8848e-02, 6.1369e-02, 6.3137e-02, 6.5532e-02, 7.3339e-02, 9.8233e-02, 1.6722e-01,\n",
              "         2.9171e-01, 4.5252e-01, 5.5033e-01, 5.1463e-01, 3.6876e-01, 2.1820e-01, 1.0305e-01, 3.3861e-02, 3.8557e-03, 0.0000e+00, 0.0000e+00, 0.0000e+00],\n",
              "        [0.0000e+00, 1.6183e-04, 5.7592e-03, 2.7754e-02, 5.8420e-02, 8.2884e-02, 9.7888e-02, 1.0189e-01, 9.3467e-02, 7.5450e-02, 6.1778e-02, 5.2316e-02, 4.8228e-02, 5.6958e-02, 9.1961e-02, 1.8154e-01,\n",
              "         3.2670e-01, 4.7789e-01, 5.5600e-01, 5.0929e-01, 3.6437e-01, 2.2059e-01, 1.0743e-01, 3.3211e-02, 3.2410e-03, 0.0000e+00, 0.0000e+00, 0.0000e+00],\n",
              "        [0.0000e+00, 2.5521e-04, 9.1678e-03, 4.0289e-02, 8.8192e-02, 1.3721e-01, 1.6905e-01, 1.8232e-01, 1.7508e-01, 1.5029e-01, 1.2213e-01, 9.8687e-02, 9.3244e-02, 1.1323e-01, 1.7340e-01, 2.8420e-01,\n",
              "         4.3076e-01, 5.4810e-01, 5.7053e-01, 4.8661e-01, 3.3786e-01, 2.0005e-01, 9.1660e-02, 2.4017e-02, 2.2828e-03, 1.3432e-05, 0.0000e+00, 0.0000e+00],\n",
              "        [0.0000e+00, 4.6565e-04, 1.0415e-02, 4.8182e-02, 1.0872e-01, 1.8070e-01, 2.4184e-01, 2.8666e-01, 3.0795e-01, 2.9331e-01, 2.6096e-01, 2.3568e-01, 2.3487e-01, 2.7473e-01, 3.5662e-01, 4.6657e-01,\n",
              "         5.7225e-01, 6.1136e-01, 5.6052e-01, 4.2788e-01, 2.7981e-01, 1.5136e-01, 6.0435e-02, 1.3841e-02, 1.2274e-03, 1.3432e-05, 4.9891e-05, 0.0000e+00],\n",
              "        [0.0000e+00, 3.6267e-04, 8.7373e-03, 4.1436e-02, 1.0026e-01, 1.8489e-01, 2.8464e-01, 3.7627e-01, 4.4899e-01, 4.7922e-01, 4.8200e-01, 4.7516e-01, 4.8842e-01, 5.3127e-01, 5.9328e-01, 6.4996e-01,\n",
              "         6.6266e-01, 6.0082e-01, 4.7449e-01, 3.2416e-01, 1.8824e-01, 8.8396e-02, 2.8767e-02, 5.4074e-03, 3.2621e-04, 0.0000e+00, 2.1108e-05, 0.0000e+00],\n",
              "        [0.0000e+00, 3.1342e-05, 6.0810e-03, 2.7270e-02, 7.3331e-02, 1.4404e-01, 2.5190e-01, 3.7506e-01, 4.9620e-01, 5.9483e-01, 6.5782e-01, 6.9493e-01, 7.1683e-01, 7.2840e-01, 7.2238e-01, 6.8208e-01,\n",
              "         5.9055e-01, 4.5946e-01, 3.1460e-01, 1.8711e-01, 9.4876e-02, 3.7261e-02, 1.0511e-02, 1.6490e-03, 3.5180e-05, 0.0000e+00, 3.1981e-06, 0.0000e+00],\n",
              "        [0.0000e+00, 0.0000e+00, 2.3519e-03, 1.2594e-02, 3.9571e-02, 8.3350e-02, 1.5672e-01, 2.5775e-01, 3.7410e-01, 4.8738e-01, 5.8281e-01, 6.4514e-01, 6.6356e-01, 6.4247e-01, 5.7364e-01, 4.7332e-01,\n",
              "         3.5329e-01, 2.3856e-01, 1.4426e-01, 7.5467e-02, 3.0740e-02, 9.7691e-03, 2.4229e-03, 3.6651e-04, 1.4839e-04, 7.6756e-06, 5.1810e-05, 0.0000e+00],\n",
              "        [0.0000e+00, 0.0000e+00, 5.4113e-04, 3.9555e-03, 1.3458e-02, 3.0013e-02, 5.8374e-02, 9.7864e-02, 1.4818e-01, 2.0402e-01, 2.5312e-01, 2.8803e-01, 2.9355e-01, 2.7630e-01, 2.3039e-01, 1.7364e-01,\n",
              "         1.1796e-01, 7.1760e-02, 3.6760e-02, 1.6373e-02, 5.7541e-03, 2.0769e-03, 6.1021e-04, 1.2153e-04, 0.0000e+00, 0.0000e+00, 0.0000e+00, 0.0000e+00],\n",
              "        [0.0000e+00, 0.0000e+00, 3.7099e-05, 1.2473e-04, 1.2447e-03, 3.0402e-03, 6.6873e-03, 1.1371e-02, 1.8533e-02, 2.5284e-02, 3.1993e-02, 3.5295e-02, 3.6504e-02, 3.4298e-02, 2.8593e-02, 2.1875e-02,\n",
              "         1.5417e-02, 9.1748e-03, 5.0454e-03, 2.8687e-03, 1.1430e-03, 4.5350e-04, 2.1683e-04, 0.0000e+00, 0.0000e+00, 0.0000e+00, 0.0000e+00, 0.0000e+00],\n",
              "        [0.0000e+00, 0.0000e+00, 0.0000e+00, 0.0000e+00, 1.0234e-05, 8.0593e-05, 1.6630e-04, 3.6459e-04, 4.0041e-04, 5.1362e-04, 7.4325e-04, 9.5497e-04, 1.0643e-03, 1.3560e-03, 1.0484e-03, 8.3855e-04,\n",
              "         1.0260e-03, 9.5497e-04, 7.4645e-04, 5.3793e-04, 3.6523e-04, 1.9637e-04, 2.8783e-05, 0.0000e+00, 0.0000e+00, 0.0000e+00, 0.0000e+00, 0.0000e+00],\n",
              "        [0.0000e+00, 0.0000e+00, 0.0000e+00, 0.0000e+00, 0.0000e+00, 0.0000e+00, 0.0000e+00, 0.0000e+00, 0.0000e+00, 0.0000e+00, 0.0000e+00, 0.0000e+00, 0.0000e+00, 0.0000e+00, 0.0000e+00, 0.0000e+00,\n",
              "         0.0000e+00, 0.0000e+00, 0.0000e+00, 0.0000e+00, 0.0000e+00, 0.0000e+00, 0.0000e+00, 0.0000e+00, 0.0000e+00, 0.0000e+00, 0.0000e+00, 0.0000e+00]])"
            ]
          },
          "metadata": {},
          "execution_count": 111
        }
      ]
    },
    {
      "cell_type": "code",
      "source": [
        "mean3.shape"
      ],
      "metadata": {
        "colab": {
          "base_uri": "https://localhost:8080/"
        },
        "id": "kLSl39_cgrCe",
        "outputId": "b3ec80b3-e89d-4a32-8e20-7cecb4b2acec"
      },
      "execution_count": 112,
      "outputs": [
        {
          "output_type": "execute_result",
          "data": {
            "text/plain": [
              "torch.Size([28, 28])"
            ]
          },
          "metadata": {},
          "execution_count": 112
        }
      ]
    },
    {
      "cell_type": "code",
      "source": [
        "# ideal 3 \n",
        "show_image(mean3)"
      ],
      "metadata": {
        "colab": {
          "base_uri": "https://localhost:8080/",
          "height": 102
        },
        "id": "_REHAdB4grhr",
        "outputId": "311a1192-316e-4b6a-f0be-463dc5fa7182"
      },
      "execution_count": 113,
      "outputs": [
        {
          "output_type": "execute_result",
          "data": {
            "text/plain": [
              "<matplotlib.axes._subplots.AxesSubplot at 0x7f9636bcde10>"
            ]
          },
          "metadata": {},
          "execution_count": 113
        },
        {
          "output_type": "display_data",
          "data": {
            "image/png": "[encoded data removed]",
            "text/plain": [
              "<Figure size 72x72 with 1 Axes>"
            ]
          },
          "metadata": {
            "needs_background": "light"
          }
        }
      ]
    },
    {
      "cell_type": "code",
      "source": [
        "# ideal 7 \n",
        "mean7 = stacked_sevens.mean(0)\n",
        "show_image(mean7)"
      ],
      "metadata": {
        "colab": {
          "base_uri": "https://localhost:8080/",
          "height": 102
        },
        "id": "RS9JpgdviK38",
        "outputId": "0a449908-d7ba-4b53-f8b1-55d7fcf3d57f"
      },
      "execution_count": 114,
      "outputs": [
        {
          "output_type": "execute_result",
          "data": {
            "text/plain": [
              "<matplotlib.axes._subplots.AxesSubplot at 0x7f9636d0da10>"
            ]
          },
          "metadata": {},
          "execution_count": 114
        },
        {
          "output_type": "display_data",
          "data": {
            "image/png": "[encoded data removed]",
            "text/plain": [
              "<Figure size 72x72 with 1 Axes>"
            ]
          },
          "metadata": {
            "needs_background": "light"
          }
        }
      ]
    },
    {
      "cell_type": "code",
      "source": [
        "a_3 = stacked_threes[1]\n",
        "show_image(a_3)"
      ],
      "metadata": {
        "colab": {
          "base_uri": "https://localhost:8080/",
          "height": 102
        },
        "id": "RLvRULaYihfo",
        "outputId": "c6827bf6-758a-4a38-cc8d-38146a8d6c53"
      },
      "execution_count": 115,
      "outputs": [
        {
          "output_type": "execute_result",
          "data": {
            "text/plain": [
              "<matplotlib.axes._subplots.AxesSubplot at 0x7f9636910490>"
            ]
          },
          "metadata": {},
          "execution_count": 115
        },
        {
          "output_type": "display_data",
          "data": {
            "image/png": "[encoded data removed]",
            "text/plain": [
              "<Figure size 72x72 with 1 Axes>"
            ]
          },
          "metadata": {
            "needs_background": "light"
          }
        }
      ]
    },
    {
      "cell_type": "code",
      "source": [
        "((a_3 - mean3)**2).mean().sqrt()"
      ],
      "metadata": {
        "colab": {
          "base_uri": "https://localhost:8080/"
        },
        "id": "8MN_u5VowWhR",
        "outputId": "930e65e8-ca26-42a9-d017-2e43eb622969"
      },
      "execution_count": 116,
      "outputs": [
        {
          "output_type": "execute_result",
          "data": {
            "text/plain": [
              "tensor(0.2021)"
            ]
          },
          "metadata": {},
          "execution_count": 116
        }
      ]
    },
    {
      "cell_type": "code",
      "source": [
        " # we going to take any image and check is it close to idea 3 or ideal 7 and \n",
        "# based on that we will decide given image is 3 or 7\n",
        "# \n",
        "# we have two approches to get mean value \n",
        "# L1 norm, L2 norm \n",
        "distance_3_abs = (a_3 - mean3).abs().mean()\n",
        "distance_3_sqr = ((a_3 - mean3)**2).mean().sqrt()\n",
        "      \n",
        "distance_3_abs,distance_3_sqr"
      ],
      "metadata": {
        "colab": {
          "base_uri": "https://localhost:8080/"
        },
        "id": "xJAEt3jzikQ5",
        "outputId": "8b7fa3c3-45f9-4269-ecdc-b7334a33a926"
      },
      "execution_count": 117,
      "outputs": [
        {
          "output_type": "execute_result",
          "data": {
            "text/plain": [
              "(tensor(0.1114), tensor(0.2021))"
            ]
          },
          "metadata": {},
          "execution_count": 117
        }
      ]
    },
    {
      "cell_type": "code",
      "source": [
        "a_7 = stacked_sevens[1]\n",
        "show_image(a_7)"
      ],
      "metadata": {
        "colab": {
          "base_uri": "https://localhost:8080/",
          "height": 102
        },
        "id": "kYCp0zarxX46",
        "outputId": "57b8a989-410b-4aff-da6c-fed869ad9791"
      },
      "execution_count": 118,
      "outputs": [
        {
          "output_type": "execute_result",
          "data": {
            "text/plain": [
              "<matplotlib.axes._subplots.AxesSubplot at 0x7f9636ab31d0>"
            ]
          },
          "metadata": {},
          "execution_count": 118
        },
        {
          "output_type": "display_data",
          "data": {
            "image/png": "[encoded data removed]",
            "text/plain": [
              "<Figure size 72x72 with 1 Axes>"
            ]
          },
          "metadata": {
            "needs_background": "light"
          }
        }
      ]
    },
    {
      "cell_type": "code",
      "source": [
        "distance_7_abs = (a_3 - mean7).abs().mean()\n",
        "distance_7_sqr = ((a_3 - mean7)**2).mean().sqrt()\n",
        "      \n",
        "distance_7_abs,distance_7_sqr"
      ],
      "metadata": {
        "colab": {
          "base_uri": "https://localhost:8080/"
        },
        "id": "LF7uARdXxOuI",
        "outputId": "dfc6f403-ea30-46f3-b48c-98258fa7dff7"
      },
      "execution_count": 119,
      "outputs": [
        {
          "output_type": "execute_result",
          "data": {
            "text/plain": [
              "(tensor(0.1586), tensor(0.3021))"
            ]
          },
          "metadata": {},
          "execution_count": 119
        }
      ]
    },
    {
      "cell_type": "code",
      "source": [
        "F.l1_loss(a_3.float(), mean3), F.mse_loss(a_3.float(), mean3).sqrt()"
      ],
      "metadata": {
        "colab": {
          "base_uri": "https://localhost:8080/"
        },
        "id": "OY5LWeJxyyUj",
        "outputId": "7233bad4-5c0e-4539-a708-944d2499cf91"
      },
      "execution_count": 120,
      "outputs": [
        {
          "output_type": "execute_result",
          "data": {
            "text/plain": [
              "(tensor(0.1114), tensor(0.2021))"
            ]
          },
          "metadata": {},
          "execution_count": 120
        }
      ]
    },
    {
      "cell_type": "code",
      "source": [
        "F.l1_loss(a_3.float(), mean7), F.mse_loss(a_3.float(), mean7).sqrt()"
      ],
      "metadata": {
        "colab": {
          "base_uri": "https://localhost:8080/"
        },
        "id": "4yGBthgGyHHq",
        "outputId": "3f5cc76e-dd42-4cc1-bf8d-fc848e3a8a6f"
      },
      "execution_count": 121,
      "outputs": [
        {
          "output_type": "execute_result",
          "data": {
            "text/plain": [
              "(tensor(0.1586), tensor(0.3021))"
            ]
          },
          "metadata": {},
          "execution_count": 121
        }
      ]
    },
    {
      "cell_type": "code",
      "source": [
        "data = [[1,2,3], [4,5,6]]\n",
        "array(data)\n",
        "tns = tensor(data)\n",
        "tns"
      ],
      "metadata": {
        "colab": {
          "base_uri": "https://localhost:8080/"
        },
        "id": "40TMWR8YM5KI",
        "outputId": "477afedd-5f67-476c-dcbd-73e16f3d3c7b"
      },
      "execution_count": 122,
      "outputs": [
        {
          "output_type": "execute_result",
          "data": {
            "text/plain": [
              "tensor([[1, 2, 3],\n",
              "        [4, 5, 6]])"
            ]
          },
          "metadata": {},
          "execution_count": 122
        }
      ]
    },
    {
      "cell_type": "code",
      "source": [
        "# single row\n",
        "tns[1,:]"
      ],
      "metadata": {
        "colab": {
          "base_uri": "https://localhost:8080/"
        },
        "id": "XOZXDb0pNPqU",
        "outputId": "166a00e0-47d6-4ecc-b41d-24dee2d5c7ba"
      },
      "execution_count": 123,
      "outputs": [
        {
          "output_type": "execute_result",
          "data": {
            "text/plain": [
              "tensor([4, 5, 6])"
            ]
          },
          "metadata": {},
          "execution_count": 123
        }
      ]
    },
    {
      "cell_type": "code",
      "source": [
        "# single column \n",
        "tns[:,0]"
      ],
      "metadata": {
        "colab": {
          "base_uri": "https://localhost:8080/"
        },
        "id": "Ey9f46GuNbAp",
        "outputId": "a9544387-1308-4cec-875a-7d033da3b25e"
      },
      "execution_count": 124,
      "outputs": [
        {
          "output_type": "execute_result",
          "data": {
            "text/plain": [
              "tensor([1, 4])"
            ]
          },
          "metadata": {},
          "execution_count": 124
        }
      ]
    },
    {
      "cell_type": "code",
      "source": [
        "# first row and from first to third column but not including 3rd \n",
        "tns[1,1:3]"
      ],
      "metadata": {
        "colab": {
          "base_uri": "https://localhost:8080/"
        },
        "id": "erc7JAqHN0dH",
        "outputId": "db3e9212-f473-43cb-d533-056c439ff204"
      },
      "execution_count": 125,
      "outputs": [
        {
          "output_type": "execute_result",
          "data": {
            "text/plain": [
              "tensor([5, 6])"
            ]
          },
          "metadata": {},
          "execution_count": 125
        }
      ]
    },
    {
      "cell_type": "code",
      "source": [
        "tns[1,2:3]"
      ],
      "metadata": {
        "colab": {
          "base_uri": "https://localhost:8080/"
        },
        "id": "-VHQBm2fOcbu",
        "outputId": "6bf07c97-eb77-45d4-c908-ba3707748720"
      },
      "execution_count": 126,
      "outputs": [
        {
          "output_type": "execute_result",
          "data": {
            "text/plain": [
              "tensor([6])"
            ]
          },
          "metadata": {},
          "execution_count": 126
        }
      ]
    },
    {
      "cell_type": "code",
      "source": [
        "tns + 1"
      ],
      "metadata": {
        "colab": {
          "base_uri": "https://localhost:8080/"
        },
        "id": "TkZWs4S_PArS",
        "outputId": "2296f1b0-a88d-4df0-9d1e-3e3d502f6fe4"
      },
      "execution_count": 127,
      "outputs": [
        {
          "output_type": "execute_result",
          "data": {
            "text/plain": [
              "tensor([[2, 3, 4],\n",
              "        [5, 6, 7]])"
            ]
          },
          "metadata": {},
          "execution_count": 127
        }
      ]
    },
    {
      "cell_type": "code",
      "source": [
        "tns * 1.5"
      ],
      "metadata": {
        "colab": {
          "base_uri": "https://localhost:8080/"
        },
        "id": "h_0iRCD9PCk0",
        "outputId": "d201b13e-ecd0-4821-a37e-c289b02ec143"
      },
      "execution_count": 128,
      "outputs": [
        {
          "output_type": "execute_result",
          "data": {
            "text/plain": [
              "tensor([[1.5000, 3.0000, 4.5000],\n",
              "        [6.0000, 7.5000, 9.0000]])"
            ]
          },
          "metadata": {},
          "execution_count": 128
        }
      ]
    },
    {
      "cell_type": "code",
      "source": [
        " # check our model using validation set \n",
        " valid_3_tens = torch.stack([tensor(Image.open(o)) for o in (path/'valid'/'3').ls()])\n",
        " valid_3_tens = valid_3_tens.float()/255\n",
        " valid_3_tens\n",
        "\n",
        " valid_7_tens = torch.stack([tensor(Image.open(o)) for o in (path/'valid'/'7').ls()])\n",
        " valid_7_tens = valid_7_tens.float()/255\n",
        " valid_7_tens\n",
        " \n",
        " # good practice to print shape and verify its expected \n",
        " valid_3_tens.shape, valid_7_tens.shape "
      ],
      "metadata": {
        "colab": {
          "base_uri": "https://localhost:8080/"
        },
        "id": "yvLWofLkPXIV",
        "outputId": "21741bf2-678d-4ca9-ecef-cfb7965aa357"
      },
      "execution_count": 129,
      "outputs": [
        {
          "output_type": "execute_result",
          "data": {
            "text/plain": [
              "(torch.Size([1010, 28, 28]), torch.Size([1028, 28, 28]))"
            ]
          },
          "metadata": {},
          "execution_count": 129
        }
      ]
    },
    {
      "cell_type": "code",
      "source": [
        "# write a function which will decide arbitray image is 3 or a 7 \n",
        "# -1, -2 : it will take last and second last dimensionns across x and y axis \n",
        "# torch.Size([1010, 28, 28]), so here -1 is 28 and -2 28 \n",
        "def mnist_distance(a,b): return (a-b).abs().mean((-1,-2))\n",
        "mnist_distance(a_3,mean3)\n",
        "\n",
        "# next we have to do this for all images in validation set "
      ],
      "metadata": {
        "colab": {
          "base_uri": "https://localhost:8080/"
        },
        "id": "dg-zrqJCQpBG",
        "outputId": "603aea57-9e7f-4c06-af4a-ba4e30721303"
      },
      "execution_count": 130,
      "outputs": [
        {
          "output_type": "execute_result",
          "data": {
            "text/plain": [
              "tensor(0.1114)"
            ]
          },
          "metadata": {},
          "execution_count": 130
        }
      ]
    },
    {
      "cell_type": "code",
      "source": [
        "# this is crazy we can do all at once - boradcasting \n",
        "valid_3_dist = mnist_distance(valid_3_tens, mean3)\n",
        "valid_3_dist, valid_3_dist.shape "
      ],
      "metadata": {
        "colab": {
          "base_uri": "https://localhost:8080/"
        },
        "id": "tkLoYecpR6SJ",
        "outputId": "aed211ee-cef1-4c68-85f9-ccb85131ef62"
      },
      "execution_count": 131,
      "outputs": [
        {
          "output_type": "execute_result",
          "data": {
            "text/plain": [
              "(tensor([0.1170, 0.1240, 0.1133,  ..., 0.1325, 0.1252, 0.1162]),\n",
              " torch.Size([1010]))"
            ]
          },
          "metadata": {},
          "execution_count": 131
        }
      ]
    },
    {
      "cell_type": "code",
      "source": [
        "def is_3(x): return mnist_distance(x, mean3) < mnist_distance(x, mean7)"
      ],
      "metadata": {
        "id": "F_yT9dLYTyZp"
      },
      "execution_count": 132,
      "outputs": []
    },
    {
      "cell_type": "code",
      "source": [
        "is_3(a_3), is_3(a_3).float()"
      ],
      "metadata": {
        "colab": {
          "base_uri": "https://localhost:8080/"
        },
        "id": "CKaC88HAT-6_",
        "outputId": "a39f28d5-d4d2-42b0-f28d-48d4fece83fb"
      },
      "execution_count": 133,
      "outputs": [
        {
          "output_type": "execute_result",
          "data": {
            "text/plain": [
              "(tensor(True), tensor(1.))"
            ]
          },
          "metadata": {},
          "execution_count": 133
        }
      ]
    },
    {
      "cell_type": "code",
      "source": [
        "is_3(valid_3_tens)"
      ],
      "metadata": {
        "colab": {
          "base_uri": "https://localhost:8080/"
        },
        "id": "ihCXkq2QUTw7",
        "outputId": "0a4a4d66-4f3a-4524-c7cd-1f74d741216c"
      },
      "execution_count": 134,
      "outputs": [
        {
          "output_type": "execute_result",
          "data": {
            "text/plain": [
              "tensor([True, True, True,  ..., True, True, True])"
            ]
          },
          "metadata": {},
          "execution_count": 134
        }
      ]
    },
    {
      "cell_type": "code",
      "source": [
        "accuracy_3s = is_3(valid_3_tens).float().mean()\n",
        "accuracy_7s = (1 - is_3(valid_7_tens).float()).mean()\n",
        "accuracy_3s, accuracy_7s, (accuracy_3s+accuracy_7s)/2"
      ],
      "metadata": {
        "colab": {
          "base_uri": "https://localhost:8080/"
        },
        "id": "FzALyMQ-UdEs",
        "outputId": "9f5114fb-2908-44a1-cd35-b34ea2e82dfe"
      },
      "execution_count": 135,
      "outputs": [
        {
          "output_type": "execute_result",
          "data": {
            "text/plain": [
              "(tensor(0.9168), tensor(0.9854), tensor(0.9511))"
            ]
          },
          "metadata": {},
          "execution_count": 135
        }
      ]
    },
    {
      "cell_type": "code",
      "source": [
        "# so far its not real machine learning doesnt match original defination \n",
        "# what we wanna do now is - \n",
        "# suppose we arrang for some automatic means of testing \n",
        "# the effectiveness of any current parameter assignment in terms of actual performance and\n",
        "# provide a mechanism for altering the parameters assignment so to maximize the performance. "
      ],
      "metadata": {
        "id": "czMjbQ22VGzP"
      },
      "execution_count": 136,
      "outputs": []
    },
    {
      "cell_type": "code",
      "source": [
        "def f(x): return x**2\n",
        "\n",
        "plot_function(f, 'x', 'x**2')"
      ],
      "metadata": {
        "colab": {
          "base_uri": "https://localhost:8080/",
          "height": 279
        },
        "id": "V_NN8t5cWN7X",
        "outputId": "d259ee24-71bd-4f50-fe24-ca18009d8711"
      },
      "execution_count": 137,
      "outputs": [
        {
          "output_type": "display_data",
          "data": {
            "image/png": "[encoded data removed]",
            "text/plain": [
              "<Figure size 432x288 with 1 Axes>"
            ]
          },
          "metadata": {
            "needs_background": "light"
          }
        }
      ]
    },
    {
      "cell_type": "code",
      "source": [
        "plot_function(f, 'x', 'x**2')\n",
        "plt.scatter(-1.5, f(-1.5), color='red')"
      ],
      "metadata": {
        "colab": {
          "base_uri": "https://localhost:8080/",
          "height": 296
        },
        "id": "magWDHmOYptX",
        "outputId": "79dd1f9e-138e-43ac-a581-633ceb4434f6"
      },
      "execution_count": 138,
      "outputs": [
        {
          "output_type": "execute_result",
          "data": {
            "text/plain": [
              "<matplotlib.collections.PathCollection at 0x7f962aad0490>"
            ]
          },
          "metadata": {},
          "execution_count": 138
        },
        {
          "output_type": "display_data",
          "data": {
            "image/png": "[encoded data removed]",
            "text/plain": [
              "<Figure size 432x288 with 1 Axes>"
            ]
          },
          "metadata": {
            "needs_background": "light"
          }
        }
      ]
    },
    {
      "cell_type": "code",
      "source": [
        "# we need to calculate slope and for that we going to need calculus \n",
        "# _ indicate we wana calucualte gradients with respect to that variable at that value \n",
        "# its tagging the variable so pytorch will remember to keep track of how to compute gradients of the other\n",
        "# direct calculations on it which you will ask for. \n",
        "xt =  tensor(3.).requires_grad_()\n",
        "xt"
      ],
      "metadata": {
        "colab": {
          "base_uri": "https://localhost:8080/"
        },
        "id": "BIHjuCEaZRI-",
        "outputId": "9d754c40-f005-453e-c7fd-c5f04403c03b"
      },
      "execution_count": 139,
      "outputs": [
        {
          "output_type": "execute_result",
          "data": {
            "text/plain": [
              "tensor(3., requires_grad=True)"
            ]
          },
          "metadata": {},
          "execution_count": 139
        }
      ]
    },
    {
      "cell_type": "code",
      "source": [
        "yt = f(xt)\n",
        "yt"
      ],
      "metadata": {
        "colab": {
          "base_uri": "https://localhost:8080/"
        },
        "id": "ioYvzv61ebfl",
        "outputId": "2522e961-62cd-4c28-e3aa-44ce6f0ea091"
      },
      "execution_count": 140,
      "outputs": [
        {
          "output_type": "execute_result",
          "data": {
            "text/plain": [
              "tensor(9., grad_fn=<PowBackward0>)"
            ]
          },
          "metadata": {},
          "execution_count": 140
        }
      ]
    },
    {
      "cell_type": "code",
      "source": [
        "# this will be derivative \n",
        "yt.backward() "
      ],
      "metadata": {
        "id": "taOjIU2lelrT"
      },
      "execution_count": 141,
      "outputs": []
    },
    {
      "cell_type": "code",
      "source": [
        "xt.grad\n",
        "# 6 x2 derivative is 2x so here we pass 3 so 2*3 = 6"
      ],
      "metadata": {
        "colab": {
          "base_uri": "https://localhost:8080/"
        },
        "id": "k2N4go4heqVb",
        "outputId": "40cf0e5f-1eb5-4f38-8722-c06097434e60"
      },
      "execution_count": 142,
      "outputs": [
        {
          "output_type": "execute_result",
          "data": {
            "text/plain": [
              "tensor(6.)"
            ]
          },
          "metadata": {},
          "execution_count": 142
        }
      ]
    },
    {
      "cell_type": "code",
      "source": [
        "xt = tensor([3.,4.,10.]).requires_grad_()\n",
        "xt"
      ],
      "metadata": {
        "colab": {
          "base_uri": "https://localhost:8080/"
        },
        "id": "mRFt7YEigfnt",
        "outputId": "85667a80-6613-423b-a4c7-667015a4c543"
      },
      "execution_count": 143,
      "outputs": [
        {
          "output_type": "execute_result",
          "data": {
            "text/plain": [
              "tensor([ 3.,  4., 10.], requires_grad=True)"
            ]
          },
          "metadata": {},
          "execution_count": 143
        }
      ]
    },
    {
      "cell_type": "code",
      "source": [
        "def f(x): return (x**2).sum()\n",
        "yt = f(xt)\n",
        "yt"
      ],
      "metadata": {
        "colab": {
          "base_uri": "https://localhost:8080/"
        },
        "id": "ZG5-xoCrgtCU",
        "outputId": "5ae5a112-e107-4f7c-de54-04fd200b693c"
      },
      "execution_count": 144,
      "outputs": [
        {
          "output_type": "execute_result",
          "data": {
            "text/plain": [
              "tensor(125., grad_fn=<SumBackward0>)"
            ]
          },
          "metadata": {},
          "execution_count": 144
        }
      ]
    },
    {
      "cell_type": "code",
      "source": [
        "yt.backward()\n",
        "xt.grad"
      ],
      "metadata": {
        "colab": {
          "base_uri": "https://localhost:8080/"
        },
        "id": "f1CDdhRMhIUA",
        "outputId": "f83bd453-89aa-4a05-957c-c68fc69b060d"
      },
      "execution_count": 145,
      "outputs": [
        {
          "output_type": "execute_result",
          "data": {
            "text/plain": [
              "tensor([ 6.,  8., 20.])"
            ]
          },
          "metadata": {},
          "execution_count": 145
        }
      ]
    },
    {
      "cell_type": "code",
      "source": [
        "# essence of gradient decent \n",
        "# w -= gradient(w) * lr \n",
        "# lr is number bettwen 0.001 to 0.1 - it can be anything  "
      ],
      "metadata": {
        "id": "depNlMN3hlUi"
      },
      "execution_count": 146,
      "outputs": []
    },
    {
      "cell_type": "code",
      "source": [
        "# gradient decent \n",
        "time = torch.arange(0,20).float(); \n",
        "time"
      ],
      "metadata": {
        "colab": {
          "base_uri": "https://localhost:8080/"
        },
        "id": "37ZZUHm-jxoZ",
        "outputId": "c62f3ce5-8e50-4dba-c1af-048dac45efbe"
      },
      "execution_count": 147,
      "outputs": [
        {
          "output_type": "execute_result",
          "data": {
            "text/plain": [
              "tensor([ 0.,  1.,  2.,  3.,  4.,  5.,  6.,  7.,  8.,  9., 10., 11., 12., 13., 14., 15., 16., 17., 18., 19.])"
            ]
          },
          "metadata": {},
          "execution_count": 147
        }
      ]
    },
    {
      "cell_type": "code",
      "source": [
        "speed = torch.randn(20)*3 + 0.75*(time-9.5)**2 + 1\n",
        "plt.scatter(time, speed)"
      ],
      "metadata": {
        "colab": {
          "base_uri": "https://localhost:8080/",
          "height": 282
        },
        "id": "5y_0xd1wkAXr",
        "outputId": "49aeb998-29fa-499e-e25c-0c246be20db7"
      },
      "execution_count": 148,
      "outputs": [
        {
          "output_type": "execute_result",
          "data": {
            "text/plain": [
              "<matplotlib.collections.PathCollection at 0x7f962aa48a10>"
            ]
          },
          "metadata": {},
          "execution_count": 148
        },
        {
          "output_type": "display_data",
          "data": {
            "image/png": "[encoded data removed]",
            "text/plain": [
              "<Figure size 432x288 with 1 Axes>"
            ]
          },
          "metadata": {
            "needs_background": "light"
          }
        }
      ]
    },
    {
      "cell_type": "code",
      "source": [
        " # quadratic equestion a * (time**2) + b*time + c\n",
        " # t is input time , params - weight params \n",
        " def quad_fun(t, params): \n",
        "   a,b,c = params \n",
        "   return a*(t**2) + (b*t) + c"
      ],
      "metadata": {
        "id": "xZGES3LAkgTR"
      },
      "execution_count": 149,
      "outputs": []
    },
    {
      "cell_type": "code",
      "source": [
        "# we need to find some function - loss function \n",
        "def mse(preds, targets): return ((preds - targets)**2).mean()"
      ],
      "metadata": {
        "id": "d0uSSt9kmSkF"
      },
      "execution_count": 150,
      "outputs": []
    },
    {
      "cell_type": "code",
      "source": [
        "# execute 7 step process\n",
        "# step 1 : initialize a,b and c to some reasonable random value \n",
        "params = torch.randn(3).requires_grad_()\n",
        "params"
      ],
      "metadata": {
        "colab": {
          "base_uri": "https://localhost:8080/"
        },
        "id": "XX1FTF2ImxZe",
        "outputId": "8bbac667-4bbd-4301-b209-325fa43eeea8"
      },
      "execution_count": 151,
      "outputs": [
        {
          "output_type": "execute_result",
          "data": {
            "text/plain": [
              "tensor([ 0.3512,  0.2927, -0.0061], requires_grad=True)"
            ]
          },
          "metadata": {},
          "execution_count": 151
        }
      ]
    },
    {
      "cell_type": "code",
      "source": [
        "orig_params = params.clone()\n",
        "orig_params"
      ],
      "metadata": {
        "colab": {
          "base_uri": "https://localhost:8080/"
        },
        "id": "Rn_tF1TknFcN",
        "outputId": "f95fc495-283d-43c3-a63f-b59763663651"
      },
      "execution_count": 152,
      "outputs": [
        {
          "output_type": "execute_result",
          "data": {
            "text/plain": [
              "tensor([ 0.3512,  0.2927, -0.0061], grad_fn=<CloneBackward0>)"
            ]
          },
          "metadata": {},
          "execution_count": 152
        }
      ]
    },
    {
      "cell_type": "code",
      "source": [
        "# step 2 : calcualte the predictions \n",
        "preds = quad_fun(time, params)\n",
        "preds"
      ],
      "metadata": {
        "colab": {
          "base_uri": "https://localhost:8080/"
        },
        "id": "lIJ_t_8EnOTi",
        "outputId": "1e97cd5e-490d-4af4-c13b-81af75d2ad6c"
      },
      "execution_count": 153,
      "outputs": [
        {
          "output_type": "execute_result",
          "data": {
            "text/plain": [
              "tensor([-6.1270e-03,  6.3781e-01,  1.9842e+00,  4.0329e+00,  6.7841e+00,  1.0238e+01,  1.4394e+01,  1.9252e+01,  2.4813e+01,  3.1076e+01,  3.8042e+01,  4.5710e+01,  5.4080e+01,  6.3153e+01,\n",
              "         7.2929e+01,  8.3406e+01,  9.4587e+01,  1.0647e+02,  1.1905e+02,  1.3234e+02], grad_fn=<AddBackward0>)"
            ]
          },
          "metadata": {},
          "execution_count": 153
        }
      ]
    },
    {
      "cell_type": "code",
      "source": [
        "def show_preds(preds, ax=None):\n",
        "  if ax is None: ax=plt.subplots()[1]\n",
        "  ax.scatter(time, speed)\n",
        "  ax.scatter(time, to_np(preds), color='red')\n",
        "  ax.set_ylim(-300,100)"
      ],
      "metadata": {
        "id": "TFmGiSg6oVOm"
      },
      "execution_count": 154,
      "outputs": []
    },
    {
      "cell_type": "code",
      "source": [
        "show_preds(preds)"
      ],
      "metadata": {
        "colab": {
          "base_uri": "https://localhost:8080/",
          "height": 269
        },
        "id": "fmD7T1QuoupR",
        "outputId": "2b4f25a2-c110-411f-dcdd-a2912e90967e"
      },
      "execution_count": 155,
      "outputs": [
        {
          "output_type": "display_data",
          "data": {
            "image/png": "[encoded data removed]",
            "text/plain": [
              "<Figure size 432x288 with 1 Axes>"
            ]
          },
          "metadata": {
            "needs_background": "light"
          }
        }
      ]
    },
    {
      "cell_type": "code",
      "source": [
        "# step 3 : calculate the loss \n",
        "loss = mse(preds, speed)\n",
        "loss"
      ],
      "metadata": {
        "colab": {
          "base_uri": "https://localhost:8080/"
        },
        "id": "EblthLUxo-Hq",
        "outputId": "b75b9d3d-13f0-42a9-8faf-cf91bf84c678"
      },
      "execution_count": 156,
      "outputs": [
        {
          "output_type": "execute_result",
          "data": {
            "text/plain": [
              "tensor(2161.6782, grad_fn=<MeanBackward0>)"
            ]
          },
          "metadata": {},
          "execution_count": 156
        }
      ]
    },
    {
      "cell_type": "code",
      "source": [
        "# step 4 : goal is to improve this \n",
        "# how ? gradients :)\n",
        "# calculate the gradients - calculate an approximation of how the parameters need to change\n",
        "loss.backward()\n",
        "params.grad"
      ],
      "metadata": {
        "colab": {
          "base_uri": "https://localhost:8080/"
        },
        "id": "TUP8NPiwpIsw",
        "outputId": "35051e31-c71a-4d3a-c99e-1451c263e281"
      },
      "execution_count": 157,
      "outputs": [
        {
          "output_type": "execute_result",
          "data": {
            "text/plain": [
              "tensor([12995.3340,   843.0361,    40.2374])"
            ]
          },
          "metadata": {},
          "execution_count": 157
        }
      ]
    },
    {
      "cell_type": "code",
      "source": [
        "params.grad * 1e-5"
      ],
      "metadata": {
        "colab": {
          "base_uri": "https://localhost:8080/"
        },
        "id": "d7mrZM33pu4q",
        "outputId": "7bf5da46-f3b5-4c16-fd76-71a1a4a72a22"
      },
      "execution_count": 158,
      "outputs": [
        {
          "output_type": "execute_result",
          "data": {
            "text/plain": [
              "tensor([0.1300, 0.0084, 0.0004])"
            ]
          },
          "metadata": {},
          "execution_count": 158
        }
      ]
    },
    {
      "cell_type": "code",
      "source": [
        "params"
      ],
      "metadata": {
        "colab": {
          "base_uri": "https://localhost:8080/"
        },
        "id": "258Wsy3Wp6LY",
        "outputId": "b52fdfe4-14e6-4be4-e331-a59f4ed71be9"
      },
      "execution_count": 159,
      "outputs": [
        {
          "output_type": "execute_result",
          "data": {
            "text/plain": [
              "tensor([ 0.3512,  0.2927, -0.0061], requires_grad=True)"
            ]
          },
          "metadata": {},
          "execution_count": 159
        }
      ]
    },
    {
      "cell_type": "code",
      "source": [
        "# step 5 : step the weights \n",
        "# update the parameters based on the gradients we just calculated \n",
        "lr = 1e-5\n",
        "params.data -= lr * params.grad.data\n",
        "params.grad = None"
      ],
      "metadata": {
        "id": "sLPmttCnp91h"
      },
      "execution_count": 160,
      "outputs": []
    },
    {
      "cell_type": "code",
      "source": [
        "# lets see if the loss has improved\n",
        "preds = quad_fun(time, params)\n",
        "mse(preds, speed)"
      ],
      "metadata": {
        "colab": {
          "base_uri": "https://localhost:8080/"
        },
        "id": "fdfOXzQfqr9Z",
        "outputId": "1b6e5fe7-87d3-4e8f-e820-d5337be54eb6"
      },
      "execution_count": 161,
      "outputs": [
        {
          "output_type": "execute_result",
          "data": {
            "text/plain": [
              "tensor(944.8564, grad_fn=<MeanBackward0>)"
            ]
          },
          "metadata": {},
          "execution_count": 161
        }
      ]
    },
    {
      "cell_type": "code",
      "source": [
        "show_preds(preds)"
      ],
      "metadata": {
        "colab": {
          "base_uri": "https://localhost:8080/",
          "height": 269
        },
        "id": "OhhfqDkLrWIh",
        "outputId": "20452fb6-8577-4373-ade8-495a2723a962"
      },
      "execution_count": 162,
      "outputs": [
        {
          "output_type": "display_data",
          "data": {
            "image/png": "[encoded data removed]",
            "text/plain": [
              "<Figure size 432x288 with 1 Axes>"
            ]
          },
          "metadata": {
            "needs_background": "light"
          }
        }
      ]
    },
    {
      "cell_type": "code",
      "source": [
        "# we need to repeat this few times until we find good \n",
        "def apply_step(params, prn=True):\n",
        "  preds = quad_fun(time, params)\n",
        "  loss = mse(preds, speed)\n",
        "  loss.backward()\n",
        "  params.data -= lr * params.grad.data\n",
        "  params.grad = None\n",
        "  if prn: print(loss.item())\n",
        "  return preds "
      ],
      "metadata": {
        "id": "IsOyi5e5rfxN"
      },
      "execution_count": 163,
      "outputs": []
    },
    {
      "cell_type": "code",
      "source": [
        "# step 6 - repeat the process \n",
        "for i in range(10): apply_step(params)"
      ],
      "metadata": {
        "colab": {
          "base_uri": "https://localhost:8080/"
        },
        "id": "7QlhatOfsIox",
        "outputId": "daa9606a-0e86-4ab0-ffcf-66ed673a51a4"
      },
      "execution_count": 164,
      "outputs": [
        {
          "output_type": "stream",
          "name": "stdout",
          "text": [
            "944.8564453125\n",
            "714.5933837890625\n",
            "671.0177001953125\n",
            "662.7689208984375\n",
            "661.2049560546875\n",
            "660.9061279296875\n",
            "660.8465576171875\n",
            "660.8323364257812\n",
            "660.82666015625\n",
            "660.8226928710938\n"
          ]
        }
      ]
    },
    {
      "cell_type": "code",
      "source": [
        "params = orig_params.detach().requires_grad_()"
      ],
      "metadata": {
        "id": "756juY1RsbN_"
      },
      "execution_count": 165,
      "outputs": []
    },
    {
      "cell_type": "code",
      "source": [
        "_,axs = plt.subplots(1,4,figsize=(12,3))\n",
        "for ax in axs: show_preds(apply_step(params, False), ax)\n",
        "plt.tight_layout()"
      ],
      "metadata": {
        "colab": {
          "base_uri": "https://localhost:8080/",
          "height": 196
        },
        "id": "3bk4_3_YsrHy",
        "outputId": "e02c89e3-5d08-4ba6-be72-e6809e6b492b"
      },
      "execution_count": 166,
      "outputs": [
        {
          "output_type": "display_data",
          "data": {
            "image/png": "[encoded data removed]",
            "text/plain": [
              "<Figure size 864x216 with 4 Axes>"
            ]
          },
          "metadata": {
            "needs_background": "light"
          }
        }
      ]
    },
    {
      "cell_type": "code",
      "source": [
        "# step 7 : stop \n"
      ],
      "metadata": {
        "id": "BiCTIGQJtX53"
      },
      "execution_count": 167,
      "outputs": []
    },
    {
      "cell_type": "code",
      "source": [
        "  # MNIST loss function \n",
        "\n",
        "  # we have 'x' - thats images\n",
        "  # lets concatenate them all into single tensor and also change them from a list\n",
        "  # of matrices rank 3 tennsor to list of vectors rank 2 tensor\n",
        "  # how? \n",
        "  # using view method - it changes the shape for a tensor without changing its contents\n",
        "  # pass -1 to tell make this axis as big as necessary to fit all the data \n",
        "  # 28*28 columns and as many data or image we have that many rows due to -1\n",
        "  train_x = torch.cat([stacked_threes, stacked_sevens]).view(-1, 28*28)"
      ],
      "metadata": {
        "id": "A-1yB507GWSr"
      },
      "execution_count": 168,
      "outputs": []
    },
    {
      "cell_type": "code",
      "source": [
        "# we need label for each we will use 1 for thress and 0 for seven\n",
        "# unsqueeze will add additional unit so 12396 will become 12396 , 1\n",
        "train_y = tensor([1]*len(threes) + [0]*len(sevens)).unsqueeze(1)\n",
        "train_x.shape, train_y.shape"
      ],
      "metadata": {
        "colab": {
          "base_uri": "https://localhost:8080/"
        },
        "id": "ZMTvY-W1OYLb",
        "outputId": "97c1b9e6-170c-444e-ef01-b28e13096023"
      },
      "execution_count": 169,
      "outputs": [
        {
          "output_type": "execute_result",
          "data": {
            "text/plain": [
              "(torch.Size([12396, 784]), torch.Size([12396, 1]))"
            ]
          },
          "metadata": {},
          "execution_count": 169
        }
      ]
    },
    {
      "cell_type": "code",
      "source": [
        "len(sevens)"
      ],
      "metadata": {
        "colab": {
          "base_uri": "https://localhost:8080/"
        },
        "id": "MiA5udI8O_06",
        "outputId": "52a08333-2fdd-4483-d91e-ed4d04e5ebd7"
      },
      "execution_count": 170,
      "outputs": [
        {
          "output_type": "execute_result",
          "data": {
            "text/plain": [
              "6265"
            ]
          },
          "metadata": {},
          "execution_count": 170
        }
      ]
    },
    {
      "cell_type": "code",
      "source": [
        "len(threes)"
      ],
      "metadata": {
        "colab": {
          "base_uri": "https://localhost:8080/"
        },
        "id": "mLihJJ9DPBLP",
        "outputId": "5de59b6a-84f8-41b7-9fa2-83bc5a4a939f"
      },
      "execution_count": 171,
      "outputs": [
        {
          "output_type": "execute_result",
          "data": {
            "text/plain": [
              "6131"
            ]
          },
          "metadata": {},
          "execution_count": 171
        }
      ]
    },
    {
      "cell_type": "code",
      "source": [
        "torch.cat([stacked_threes, stacked_sevens])"
      ],
      "metadata": {
        "colab": {
          "base_uri": "https://localhost:8080/"
        },
        "id": "m-0D2CttQFor",
        "outputId": "33f0c5d2-c95f-4b5c-83d9-d065f3f1b193"
      },
      "execution_count": 172,
      "outputs": [
        {
          "output_type": "execute_result",
          "data": {
            "text/plain": [
              "tensor([[[0., 0., 0.,  ..., 0., 0., 0.],\n",
              "         [0., 0., 0.,  ..., 0., 0., 0.],\n",
              "         [0., 0., 0.,  ..., 0., 0., 0.],\n",
              "         ...,\n",
              "         [0., 0., 0.,  ..., 0., 0., 0.],\n",
              "         [0., 0., 0.,  ..., 0., 0., 0.],\n",
              "         [0., 0., 0.,  ..., 0., 0., 0.]],\n",
              "\n",
              "        [[0., 0., 0.,  ..., 0., 0., 0.],\n",
              "         [0., 0., 0.,  ..., 0., 0., 0.],\n",
              "         [0., 0., 0.,  ..., 0., 0., 0.],\n",
              "         ...,\n",
              "         [0., 0., 0.,  ..., 0., 0., 0.],\n",
              "         [0., 0., 0.,  ..., 0., 0., 0.],\n",
              "         [0., 0., 0.,  ..., 0., 0., 0.]],\n",
              "\n",
              "        [[0., 0., 0.,  ..., 0., 0., 0.],\n",
              "         [0., 0., 0.,  ..., 0., 0., 0.],\n",
              "         [0., 0., 0.,  ..., 0., 0., 0.],\n",
              "         ...,\n",
              "         [0., 0., 0.,  ..., 0., 0., 0.],\n",
              "         [0., 0., 0.,  ..., 0., 0., 0.],\n",
              "         [0., 0., 0.,  ..., 0., 0., 0.]],\n",
              "\n",
              "        ...,\n",
              "\n",
              "        [[0., 0., 0.,  ..., 0., 0., 0.],\n",
              "         [0., 0., 0.,  ..., 0., 0., 0.],\n",
              "         [0., 0., 0.,  ..., 0., 0., 0.],\n",
              "         ...,\n",
              "         [0., 0., 0.,  ..., 0., 0., 0.],\n",
              "         [0., 0., 0.,  ..., 0., 0., 0.],\n",
              "         [0., 0., 0.,  ..., 0., 0., 0.]],\n",
              "\n",
              "        [[0., 0., 0.,  ..., 0., 0., 0.],\n",
              "         [0., 0., 0.,  ..., 0., 0., 0.],\n",
              "         [0., 0., 0.,  ..., 0., 0., 0.],\n",
              "         ...,\n",
              "         [0., 0., 0.,  ..., 0., 0., 0.],\n",
              "         [0., 0., 0.,  ..., 0., 0., 0.],\n",
              "         [0., 0., 0.,  ..., 0., 0., 0.]],\n",
              "\n",
              "        [[0., 0., 0.,  ..., 0., 0., 0.],\n",
              "         [0., 0., 0.,  ..., 0., 0., 0.],\n",
              "         [0., 0., 0.,  ..., 0., 0., 0.],\n",
              "         ...,\n",
              "         [0., 0., 0.,  ..., 0., 0., 0.],\n",
              "         [0., 0., 0.,  ..., 0., 0., 0.],\n",
              "         [0., 0., 0.,  ..., 0., 0., 0.]]])"
            ]
          },
          "metadata": {},
          "execution_count": 172
        }
      ]
    },
    {
      "cell_type": "code",
      "source": [
        "tensor([1]*len(threes) + [0]*len(sevens))"
      ],
      "metadata": {
        "colab": {
          "base_uri": "https://localhost:8080/"
        },
        "id": "JlZs6wuCQdqe",
        "outputId": "5702db1e-c444-4cf4-bc1a-fe5793112429"
      },
      "execution_count": 173,
      "outputs": [
        {
          "output_type": "execute_result",
          "data": {
            "text/plain": [
              "tensor([1, 1, 1,  ..., 0, 0, 0])"
            ]
          },
          "metadata": {},
          "execution_count": 173
        }
      ]
    },
    {
      "cell_type": "code",
      "source": [
        "tensor([1]*len(threes) + [0]*len(sevens)).unsqueeze(1)"
      ],
      "metadata": {
        "colab": {
          "base_uri": "https://localhost:8080/"
        },
        "id": "9-mOM0C6QfHI",
        "outputId": "a1fecb9d-cf4d-478c-ee86-318b7554502a"
      },
      "execution_count": 174,
      "outputs": [
        {
          "output_type": "execute_result",
          "data": {
            "text/plain": [
              "tensor([[1],\n",
              "        [1],\n",
              "        [1],\n",
              "        ...,\n",
              "        [0],\n",
              "        [0],\n",
              "        [0]])"
            ]
          },
          "metadata": {},
          "execution_count": 174
        }
      ]
    },
    {
      "cell_type": "code",
      "source": [
        "# now lets turn x and y in to datasets\n",
        "# return tuple of (x,y) when indexed \n",
        "# how? use zip function comnine with list \n",
        "#  zip(train_x, train_y) - it will take one from x and y and combine into one set \n",
        "dataset = list(zip(train_x, train_y))\n",
        "dataset\n",
        "x, y = dataset[0]\n",
        "\n",
        "# x - idependent variable \n",
        "# y - dependednt variable \n",
        "# (torch.Size([784]), tensor([1])) - image at first index andn label at second \n",
        "# x, y\n",
        "x.shape, y\n"
      ],
      "metadata": {
        "colab": {
          "base_uri": "https://localhost:8080/"
        },
        "id": "CWZdPibMQ9JF",
        "outputId": "41337454-3c2c-4936-8084-b64185691a01"
      },
      "execution_count": 175,
      "outputs": [
        {
          "output_type": "execute_result",
          "data": {
            "text/plain": [
              "(torch.Size([784]), tensor([1]))"
            ]
          },
          "metadata": {},
          "execution_count": 175
        }
      ]
    },
    {
      "cell_type": "code",
      "source": [
        "# Repeat same three steps for validation set \n",
        "valid_x = torch.cat([valid_3_tens, valid_7_tens]).view(-1,28*28)\n",
        "valid_y = tensor([1]*len(valid_3_tens) + [0]*len(valid_7_tens)).unsqueeze(1)\n",
        "valid_dataset = list(zip(valid_x, valid_y))\n",
        "valid_x.shape, valid_y"
      ],
      "metadata": {
        "colab": {
          "base_uri": "https://localhost:8080/"
        },
        "id": "wwnqF_nKRQeM",
        "outputId": "a37aae10-fe5b-41c3-e0c6-373fc79d7ed5"
      },
      "execution_count": 176,
      "outputs": [
        {
          "output_type": "execute_result",
          "data": {
            "text/plain": [
              "(torch.Size([2038, 784]), tensor([[1],\n",
              "         [1],\n",
              "         [1],\n",
              "         ...,\n",
              "         [0],\n",
              "         [0],\n",
              "         [0]]))"
            ]
          },
          "metadata": {},
          "execution_count": 176
        }
      ]
    },
    {
      "cell_type": "code",
      "source": [
        "# now we have training set and validation set \n",
        "# lets start with step 1 \n",
        "# initialize parameters : we need intial random weight for every pixel \n",
        "# randn - reterns tensor filled with random number from a normal distribution with\n",
        "# mean 0 and variance 1 also called standard normal distribution \n",
        "# to tell pytorch we need gradiants use requires_grad_\n",
        "def init_params(size, variance=1.0): return (torch.randn(size)*variance).requires_grad_()"
      ],
      "metadata": {
        "id": "SdPV9fwyWgsh"
      },
      "execution_count": 177,
      "outputs": []
    },
    {
      "cell_type": "code",
      "source": [
        "weights = init_params((28*28, 1))\n",
        "\n",
        "# function weights*pixels won't be flxible - its always equal to zero when pixel == 0\n",
        "# formula for line y= w*x+b thats means we going to need b\n",
        "\n",
        "bias = init_params(1)"
      ],
      "metadata": {
        "id": "5MwJU5CJ0PBa"
      },
      "execution_count": 178,
      "outputs": []
    },
    {
      "cell_type": "code",
      "source": [
        "# Lets calucluate predictions for one image \n",
        "(train_x[0]*weights.T).sum() + bias"
      ],
      "metadata": {
        "colab": {
          "base_uri": "https://localhost:8080/"
        },
        "id": "gP7lwa5W1M6v",
        "outputId": "05500cc7-6888-4541-f60f-df00e46db97a"
      },
      "execution_count": 179,
      "outputs": [
        {
          "output_type": "execute_result",
          "data": {
            "text/plain": [
              "tensor([15.6935], grad_fn=<AddBackward0>)"
            ]
          },
          "metadata": {},
          "execution_count": 179
        }
      ]
    },
    {
      "cell_type": "code",
      "source": [
        "# now lets calculate predictions for all the images \n",
        "# we cant do using for loop, we need to use matrix multiplications \n",
        "\n",
        "def liner_matrix(xb): return xb@weights + bias\n",
        "predictions = liner_matrix(train_x)\n",
        "predictions"
      ],
      "metadata": {
        "colab": {
          "base_uri": "https://localhost:8080/"
        },
        "id": "usHVnnZh15dk",
        "outputId": "e22c537e-792f-4028-cd1d-5ab83865ee7d"
      },
      "execution_count": 180,
      "outputs": [
        {
          "output_type": "execute_result",
          "data": {
            "text/plain": [
              "tensor([[ 15.6935],\n",
              "        [ 13.2933],\n",
              "        [ 12.8454],\n",
              "        ...,\n",
              "        [  4.8876],\n",
              "        [-12.9426],\n",
              "        [-13.7543]], grad_fn=<AddBackward0>)"
            ]
          },
          "metadata": {},
          "execution_count": 180
        }
      ]
    },
    {
      "cell_type": "code",
      "source": [
        "# next step check how good is our predictions \n",
        "corrects = (predictions > 0.5).float() == train_y\n",
        "corrects"
      ],
      "metadata": {
        "colab": {
          "base_uri": "https://localhost:8080/"
        },
        "id": "XqnrS2Y63NMH",
        "outputId": "059751d3-47ca-41dd-d91e-5a3a5901ab9f"
      },
      "execution_count": 181,
      "outputs": [
        {
          "output_type": "execute_result",
          "data": {
            "text/plain": [
              "tensor([[ True],\n",
              "        [ True],\n",
              "        [ True],\n",
              "        ...,\n",
              "        [False],\n",
              "        [ True],\n",
              "        [ True]])"
            ]
          },
          "metadata": {},
          "execution_count": 181
        }
      ]
    },
    {
      "cell_type": "code",
      "source": [
        "corrects.float().mean(), \n",
        "corrects.float().mean().item()\n",
        "# item gives normal python sclar which basically unwrapps the tensor "
      ],
      "metadata": {
        "colab": {
          "base_uri": "https://localhost:8080/"
        },
        "id": "a04_1FYS3mF6",
        "outputId": "a3b61d68-621d-4f68-f3dd-5aacfab59689"
      },
      "execution_count": 182,
      "outputs": [
        {
          "output_type": "execute_result",
          "data": {
            "text/plain": [
              "0.8442239165306091"
            ]
          },
          "metadata": {},
          "execution_count": 182
        }
      ]
    },
    {
      "cell_type": "code",
      "source": [
        "def set_weights(current_weights): return current_weights * 1.0001"
      ],
      "metadata": {
        "id": "ZmGCBgg7pZ5K"
      },
      "execution_count": 217,
      "outputs": []
    },
    {
      "cell_type": "code",
      "source": [
        "weights[0]"
      ],
      "metadata": {
        "colab": {
          "base_uri": "https://localhost:8080/"
        },
        "id": "Om21aOwsp6I7",
        "outputId": "8d912ab7-32f6-434d-e9fb-33fd0c3415ee"
      },
      "execution_count": 220,
      "outputs": [
        {
          "output_type": "execute_result",
          "data": {
            "text/plain": [
              "tensor([-1.0224], grad_fn=<SelectBackward0>)"
            ]
          },
          "metadata": {},
          "execution_count": 220
        }
      ]
    },
    {
      "cell_type": "code",
      "source": [
        "# next step let's see for a small change in one of the weights what the change in accuracy \n",
        "# with torch.no_grad(): weights[0] *= 1.0001\n",
        "# weights[0] *= 1.0001\n",
        "# weights[0] = set_weights(weights[0])\n",
        "with torch.no_grad(): weights[0] *= 1.0001"
      ],
      "metadata": {
        "id": "BFo_js0B4Ecj"
      },
      "execution_count": 221,
      "outputs": []
    },
    {
      "cell_type": "code",
      "source": [
        "weights[0]"
      ],
      "metadata": {
        "colab": {
          "base_uri": "https://localhost:8080/"
        },
        "id": "bV34XXDmp9uM",
        "outputId": "474f9c2c-cd16-4000-9835-65bca3e0728c"
      },
      "execution_count": 222,
      "outputs": [
        {
          "output_type": "execute_result",
          "data": {
            "text/plain": [
              "tensor([-1.0225], grad_fn=<SelectBackward0>)"
            ]
          },
          "metadata": {},
          "execution_count": 222
        }
      ]
    },
    {
      "cell_type": "code",
      "source": [
        "predictions = liner_matrix(train_x)\n",
        "((predictions > 0.0).float() == train_y).float().mean().item()"
      ],
      "metadata": {
        "colab": {
          "base_uri": "https://localhost:8080/"
        },
        "id": "f9nFXPkI61Hl",
        "outputId": "e562d26b-c470-4b8e-b023-be23d4a17f3f"
      },
      "execution_count": 223,
      "outputs": [
        {
          "output_type": "execute_result",
          "data": {
            "text/plain": [
              "0.9837044477462769"
            ]
          },
          "metadata": {},
          "execution_count": 223
        }
      ]
    },
    {
      "cell_type": "code",
      "source": [
        "# so after changing weight its still same no difference in prediction \n",
        "# the gradient of a function is its slope or its steepness which we define as rise over run\n",
        "# rise over run : this is how much value of functionn goes up or down, divided by\n",
        "# how much you changed the input \n",
        "# in match (y_new - y_old) / (x_new - x_old)\n",
        "# y_new = 0.503187358379364\n",
        "# y_old = 0.503187358379364\n",
        "# formula become 0/whatever x diff but its 0 \n",
        "\n",
        "# this means gradient is zero and that means our step will be zero \n",
        "# and if we repeat there will be no changes "
      ],
      "metadata": {
        "id": "Mpnl8E_a7Y11"
      },
      "execution_count": 185,
      "outputs": []
    },
    {
      "cell_type": "code",
      "source": [
        "# whats the solution to above problem?\n",
        "# very small change in the value of a weight will ofter not actually change the accuracy at all. \n",
        "# this means it is ot useful to use accuracy as a loss function \n",
        "\n",
        "# we need a loss function which when our weights result in slightly better predictions \n",
        "# gives us a slightly better loss \n",
        "# what does slightly better predictions looks like ?\n",
        "# correct answer is 3 then score is a little higher \n",
        "# correct answer is 7 then score is a little lower \n",
        " \n",
        "targets_example = tensor([1,0,1])\n",
        "predictions_example = tensor([0.9,0.4,0.2])\n",
        "# lets say we predicted same as target \n",
        "# predictions_example = tensor([1.,0,1.]) \n",
        "\n",
        "# lets say we predicted wrong\n",
        "# predictions_example = tensor([0,1.,0]) \n"
      ],
      "metadata": {
        "id": "5RpSg5r28SF8"
      },
      "execution_count": 186,
      "outputs": []
    },
    {
      "cell_type": "code",
      "source": [
        "# lets write loss functionn \n",
        "\n",
        "def mnist_loss(predictions, targets): \n",
        "  return torch.where(targets==1, 1-predictions, predictions).mean()"
      ],
      "metadata": {
        "id": "yeIsKgkp-p7Q"
      },
      "execution_count": 187,
      "outputs": []
    },
    {
      "cell_type": "code",
      "source": [
        "torch.where(targets_example==1, 1-predictions_example, predictions_example).mean()"
      ],
      "metadata": {
        "colab": {
          "base_uri": "https://localhost:8080/"
        },
        "id": "XYcmfKMq_Ey4",
        "outputId": "167cda13-2f9f-44b0-ed0a-e3966eee94e6"
      },
      "execution_count": 188,
      "outputs": [
        {
          "output_type": "execute_result",
          "data": {
            "text/plain": [
              "tensor(0.4333)"
            ]
          },
          "metadata": {},
          "execution_count": 188
        }
      ]
    },
    {
      "cell_type": "code",
      "source": [
        "mnist_loss(predictions_example, targets_example)"
      ],
      "metadata": {
        "colab": {
          "base_uri": "https://localhost:8080/"
        },
        "id": "7kCqKbPMAL2v",
        "outputId": "60416b3b-f426-43e9-e073-80231f13ab92"
      },
      "execution_count": 189,
      "outputs": [
        {
          "output_type": "execute_result",
          "data": {
            "text/plain": [
              "tensor(0.4333)"
            ]
          },
          "metadata": {},
          "execution_count": 189
        }
      ]
    },
    {
      "cell_type": "code",
      "source": [
        "# now lets we change one params from 0.2 to 0.8 which is was badly predicted \n",
        "# we expect our predictions to improve \n",
        "mnist_loss(tensor([0.9,0.4,0.8]), targets_example)\n",
        "# loss went down to 0.2 from 0.4 "
      ],
      "metadata": {
        "colab": {
          "base_uri": "https://localhost:8080/"
        },
        "id": "WSsqFswOAaeM",
        "outputId": "d2e0c214-8933-4ea2-d6c7-90d84a0df1f0"
      },
      "execution_count": 190,
      "outputs": [
        {
          "output_type": "execute_result",
          "data": {
            "text/plain": [
              "tensor(0.2333)"
            ]
          },
          "metadata": {},
          "execution_count": 190
        }
      ]
    },
    {
      "cell_type": "code",
      "source": [
        "# this is only going to work when predictions is in between 0 and 1 \n",
        "# there is solution for that. there is function which always outputs a number between 0 annd 1\n",
        "# its called sigmoid \n",
        "\n",
        "# exp is e to the power of x\n",
        "def sigmoid(x): return 1/1+(torch.exp(-x))\n"
      ],
      "metadata": {
        "id": "yPfs2IsSBCNB"
      },
      "execution_count": 191,
      "outputs": []
    },
    {
      "cell_type": "code",
      "source": [
        "plot_function(torch.sigmoid, title='Funny Sigmoid', min=-7, max=7)"
      ],
      "metadata": {
        "colab": {
          "base_uri": "https://localhost:8080/",
          "height": 281
        },
        "id": "F77lnL8CBzVd",
        "outputId": "210d8f77-adf7-4bc7-8490-91890304576d"
      },
      "execution_count": 192,
      "outputs": [
        {
          "output_type": "display_data",
          "data": {
            "image/png": "[encoded data removed]",
            "text/plain": [
              "<Figure size 432x288 with 1 Axes>"
            ]
          },
          "metadata": {
            "needs_background": "light"
          }
        }
      ]
    },
    {
      "cell_type": "code",
      "source": [
        "math.e, math.e**2, torch.exp(tensor(2.))"
      ],
      "metadata": {
        "colab": {
          "base_uri": "https://localhost:8080/"
        },
        "id": "NG4sEQb4CT7M",
        "outputId": "ceb63ec3-527b-454a-9325-48720431d33d"
      },
      "execution_count": 193,
      "outputs": [
        {
          "output_type": "execute_result",
          "data": {
            "text/plain": [
              "(2.718281828459045, 7.3890560989306495, tensor(7.3891))"
            ]
          },
          "metadata": {},
          "execution_count": 193
        }
      ]
    },
    {
      "cell_type": "code",
      "source": [
        "# now lets see how can we use sigmoid \n",
        "\n",
        "def mnist_loss(predictions1, targets1):\n",
        "  predictions1 = predictions1.sigmoid()\n",
        "  return torch.where(targets1==1, 1-predictions1, predictions1).mean()"
      ],
      "metadata": {
        "id": "kND5M0EiDL7M"
      },
      "execution_count": 224,
      "outputs": []
    },
    {
      "cell_type": "code",
      "source": [
        "dl = DataLoader(range(15), batch_size=5, shuffle=True)\n",
        "list(dl)"
      ],
      "metadata": {
        "colab": {
          "base_uri": "https://localhost:8080/"
        },
        "id": "Bmmuu9arE2jU",
        "outputId": "f0a230a5-88c1-4524-ceb8-7b6059cd8200"
      },
      "execution_count": 225,
      "outputs": [
        {
          "output_type": "execute_result",
          "data": {
            "text/plain": [
              "[tensor([ 3,  2, 10,  9, 13]),\n",
              " tensor([14,  6,  8,  0,  1]),\n",
              " tensor([ 7,  4,  5, 12, 11])]"
            ]
          },
          "metadata": {},
          "execution_count": 225
        }
      ]
    },
    {
      "cell_type": "code",
      "source": [
        "ds = L(enumerate(string.ascii_lowercase))\n",
        "ds"
      ],
      "metadata": {
        "colab": {
          "base_uri": "https://localhost:8080/"
        },
        "id": "57br8rStFJcW",
        "outputId": "35d21359-ea9c-42ac-a2db-609c09800860"
      },
      "execution_count": 226,
      "outputs": [
        {
          "output_type": "execute_result",
          "data": {
            "text/plain": [
              "(#26) [(0, 'a'),(1, 'b'),(2, 'c'),(3, 'd'),(4, 'e'),(5, 'f'),(6, 'g'),(7, 'h'),(8, 'i'),(9, 'j')...]"
            ]
          },
          "metadata": {},
          "execution_count": 226
        }
      ]
    },
    {
      "cell_type": "code",
      "source": [
        "dl = DataLoader(ds, batch_size=5, shuffle=True)\n",
        "list(dl)"
      ],
      "metadata": {
        "colab": {
          "base_uri": "https://localhost:8080/"
        },
        "id": "a3U8Ild4FetR",
        "outputId": "412c0e73-8822-415c-b0f3-4793dec9e4f1"
      },
      "execution_count": 197,
      "outputs": [
        {
          "output_type": "execute_result",
          "data": {
            "text/plain": [
              "[(tensor([17, 18, 10, 22,  8]), ('r', 's', 'k', 'w', 'i')),\n",
              " (tensor([14, 20, 15,  9, 13]), ('o', 'u', 'p', 'j', 'n')),\n",
              " (tensor([21, 12,  7, 25,  6]), ('v', 'm', 'h', 'z', 'g')),\n",
              " (tensor([ 5, 11, 23,  1,  3]), ('f', 'l', 'x', 'b', 'd')),\n",
              " (tensor([ 0, 24, 19, 16,  2]), ('a', 'y', 't', 'q', 'c')),\n",
              " (tensor([4]), ('e',))]"
            ]
          },
          "metadata": {},
          "execution_count": 197
        }
      ]
    },
    {
      "cell_type": "code",
      "source": [
        ""
      ],
      "metadata": {
        "id": "fwWEN8_rGDIe"
      },
      "execution_count": 197,
      "outputs": []
    },
    {
      "cell_type": "code",
      "source": [
        "# putting all together \n",
        "weights = init_params((28*28,1))\n",
        "bias = init_params(1)\n",
        "\n",
        "dl = DataLoader(dataset, batch_size=256)\n",
        "xb,yb = first(dl)\n",
        "xb.shape, yb.shape"
      ],
      "metadata": {
        "colab": {
          "base_uri": "https://localhost:8080/"
        },
        "id": "tkgh92F6GDKa",
        "outputId": "13539ba3-f463-4c36-ffa2-eec49d11f31e"
      },
      "execution_count": 227,
      "outputs": [
        {
          "output_type": "execute_result",
          "data": {
            "text/plain": [
              "(torch.Size([256, 784]), torch.Size([256, 1]))"
            ]
          },
          "metadata": {},
          "execution_count": 227
        }
      ]
    },
    {
      "cell_type": "code",
      "source": [
        "# same thing for validation set\n",
        "valid_dl = DataLoader(valid_dataset, batch_size=256)\n",
        "# xc,yc = first(valid_dl)\n",
        "# xc.shape, yc.shape"
      ],
      "metadata": {
        "id": "hJyJQAYbGp_i"
      },
      "execution_count": 228,
      "outputs": []
    },
    {
      "cell_type": "code",
      "source": [
        "# lets create mini battch of size for testing \n",
        "batch = train_x[:4]\n",
        "batch.shape"
      ],
      "metadata": {
        "colab": {
          "base_uri": "https://localhost:8080/"
        },
        "id": "NnEq21sPHEXk",
        "outputId": "893bae75-b77d-4007-ad00-90a67302c77e"
      },
      "execution_count": 229,
      "outputs": [
        {
          "output_type": "execute_result",
          "data": {
            "text/plain": [
              "torch.Size([4, 784])"
            ]
          },
          "metadata": {},
          "execution_count": 229
        }
      ]
    },
    {
      "cell_type": "code",
      "source": [
        "predictions = liner_matrix(batch)\n",
        "predictions"
      ],
      "metadata": {
        "colab": {
          "base_uri": "https://localhost:8080/"
        },
        "id": "BeSUYPnuHXUG",
        "outputId": "828812df-275e-45c5-f1e2-b0eceb10e26f"
      },
      "execution_count": 230,
      "outputs": [
        {
          "output_type": "execute_result",
          "data": {
            "text/plain": [
              "tensor([[ 9.9000],\n",
              "        [ 7.6499],\n",
              "        [16.4688],\n",
              "        [10.6050]], grad_fn=<AddBackward0>)"
            ]
          },
          "metadata": {},
          "execution_count": 230
        }
      ]
    },
    {
      "cell_type": "code",
      "source": [
        "loss = mnist_loss(predictions, train_y[:4])\n",
        "loss"
      ],
      "metadata": {
        "colab": {
          "base_uri": "https://localhost:8080/"
        },
        "id": "q685uQQHHo83",
        "outputId": "9e0a585e-dae4-40c5-d6a5-8e2df4cdcaad"
      },
      "execution_count": 231,
      "outputs": [
        {
          "output_type": "execute_result",
          "data": {
            "text/plain": [
              "tensor(0.0001, grad_fn=<MeanBackward0>)"
            ]
          },
          "metadata": {},
          "execution_count": 231
        }
      ]
    },
    {
      "cell_type": "code",
      "source": [
        "# calculate gradients \n",
        "loss.backward()\n",
        "weights.grad.shape, weights.grad.mean(),bias.grad"
      ],
      "metadata": {
        "colab": {
          "base_uri": "https://localhost:8080/"
        },
        "id": "cUtfPw34Hzyk",
        "outputId": "a7a0ce0c-a0e1-49d6-8401-9c072c7a208b"
      },
      "execution_count": 232,
      "outputs": [
        {
          "output_type": "execute_result",
          "data": {
            "text/plain": [
              "(torch.Size([784, 1]), tensor(-1.9817e-05), tensor([-0.0001]))"
            ]
          },
          "metadata": {},
          "execution_count": 232
        }
      ]
    },
    {
      "cell_type": "code",
      "source": [
        "# lets put all in one function \n",
        "\n",
        "def calc_grad(xb,yb,model):\n",
        "  predictions = model(xb)\n",
        "  loss = mnist_loss(predictions,yb)\n",
        "  loss.backward()"
      ],
      "metadata": {
        "id": "I0KwUErlJCzY"
      },
      "execution_count": 233,
      "outputs": []
    },
    {
      "cell_type": "code",
      "source": [
        "calc_grad(batch, train_y[:4], liner_matrix)\n",
        "weights.grad.mean(), bias.grad"
      ],
      "metadata": {
        "colab": {
          "base_uri": "https://localhost:8080/"
        },
        "id": "H14nI-YZJXHN",
        "outputId": "0383b3aa-b317-4f41-957e-13b417638c7d"
      },
      "execution_count": 234,
      "outputs": [
        {
          "output_type": "execute_result",
          "data": {
            "text/plain": [
              "(tensor(-3.9634e-05), tensor([-0.0003]))"
            ]
          },
          "metadata": {},
          "execution_count": 234
        }
      ]
    },
    {
      "cell_type": "code",
      "source": [
        "# if we call it second time lets see what happens \n",
        "calc_grad(batch, train_y[:4], liner_matrix)\n",
        "weights.grad.mean(), bias.grad"
      ],
      "metadata": {
        "colab": {
          "base_uri": "https://localhost:8080/"
        },
        "id": "7JsblKdIJpjV",
        "outputId": "29c33bb8-b3f7-471a-bc40-2fb1ba55ddfb"
      },
      "execution_count": 206,
      "outputs": [
        {
          "output_type": "execute_result",
          "data": {
            "text/plain": [
              "(tensor(-0.0201), tensor([-0.1386]))"
            ]
          },
          "metadata": {},
          "execution_count": 206
        }
      ]
    },
    {
      "cell_type": "code",
      "source": [
        "weights.grad.zero_()\n",
        "bias.grad.zero_()"
      ],
      "metadata": {
        "colab": {
          "base_uri": "https://localhost:8080/"
        },
        "id": "tgfVwJpBJ_Jv",
        "outputId": "2d68171d-7f2c-41bd-a31b-b5c690aa245c"
      },
      "execution_count": 235,
      "outputs": [
        {
          "output_type": "execute_result",
          "data": {
            "text/plain": [
              "tensor([0.])"
            ]
          },
          "metadata": {},
          "execution_count": 235
        }
      ]
    },
    {
      "cell_type": "code",
      "source": [
        "def train_epoch(model, lr, params):\n",
        "  for xb,yb in dl:\n",
        "    calc_grad(xb,yb,model)\n",
        "    for p in params:\n",
        "      p.data -= p.grad*lr\n",
        "      p.grad.zero_()"
      ],
      "metadata": {
        "id": "vpMZBeJ7KOs9"
      },
      "execution_count": 236,
      "outputs": []
    },
    {
      "cell_type": "code",
      "source": [
        "(predictions>0.0).float() == train_y[:4]"
      ],
      "metadata": {
        "colab": {
          "base_uri": "https://localhost:8080/"
        },
        "id": "EV-Q5noIrne6",
        "outputId": "84a350f2-0010-4746-b920-360647a32320"
      },
      "execution_count": 237,
      "outputs": [
        {
          "output_type": "execute_result",
          "data": {
            "text/plain": [
              "tensor([[True],\n",
              "        [True],\n",
              "        [True],\n",
              "        [True]])"
            ]
          },
          "metadata": {},
          "execution_count": 237
        }
      ]
    },
    {
      "cell_type": "code",
      "source": [
        "def batch_accuracy(xb,yb):\n",
        "  preds = xb.sigmoid()\n",
        "  correct = (predictions>0.5) == yb\n",
        "  return correct.float().mean()"
      ],
      "metadata": {
        "id": "wACBN0NhKl9x"
      },
      "execution_count": 238,
      "outputs": []
    },
    {
      "cell_type": "code",
      "source": [
        "batch_accuracy(liner_matrix(batch), train_y[:4])"
      ],
      "metadata": {
        "colab": {
          "base_uri": "https://localhost:8080/"
        },
        "id": "al51fvy3LiST",
        "outputId": "2eedb825-17b3-484c-af1f-56f4bf6a4fb8"
      },
      "execution_count": 239,
      "outputs": [
        {
          "output_type": "execute_result",
          "data": {
            "text/plain": [
              "tensor(1.)"
            ]
          },
          "metadata": {},
          "execution_count": 239
        }
      ]
    },
    {
      "cell_type": "code",
      "source": [
        "def validate_epoch(model):\n",
        "  accs = [batch_accuracy(model(xb), yb) for xb,yb in valid_dataset]\n",
        "  return round(torch.stack(accs).mean().item(),4)"
      ],
      "metadata": {
        "id": "7wwwuSKmMAqj"
      },
      "execution_count": 240,
      "outputs": []
    },
    {
      "cell_type": "code",
      "source": [
        "validate_epoch(liner_matrix)"
      ],
      "metadata": {
        "colab": {
          "base_uri": "https://localhost:8080/"
        },
        "id": "Kt5EvBVtMjhN",
        "outputId": "aa703b76-41c8-4ead-bf13-3fea11dcf123"
      },
      "execution_count": 241,
      "outputs": [
        {
          "output_type": "execute_result",
          "data": {
            "text/plain": [
              "0.4956"
            ]
          },
          "metadata": {},
          "execution_count": 241
        }
      ]
    },
    {
      "cell_type": "code",
      "source": [
        "# this is our starting point lets train for one epoch \n",
        "# and see if accuracy improves \n",
        "lr = 1.\n",
        "params = weights, bias\n",
        "train_epoch(liner_matrix, lr, params)\n",
        "validate_epoch(liner_matrix)\n"
      ],
      "metadata": {
        "colab": {
          "base_uri": "https://localhost:8080/"
        },
        "id": "48DbmSF_MqM0",
        "outputId": "7b91ecdc-da30-4ede-d8b6-1491df482c30"
      },
      "execution_count": 242,
      "outputs": [
        {
          "output_type": "execute_result",
          "data": {
            "text/plain": [
              "0.4956"
            ]
          },
          "metadata": {},
          "execution_count": 242
        }
      ]
    },
    {
      "cell_type": "code",
      "source": [
        "for i in range(20):\n",
        "  train_epoch(liner_matrix, lr, params)\n",
        "  print(validate_epoch(liner_matrix), end=' ')"
      ],
      "metadata": {
        "colab": {
          "base_uri": "https://localhost:8080/"
        },
        "id": "GWPz0QW_NOoZ",
        "outputId": "81512325-f19a-4635-8f53-073def63d9a5"
      },
      "execution_count": 243,
      "outputs": [
        {
          "output_type": "stream",
          "name": "stdout",
          "text": [
            "0.4956 0.4956 0.4956 0.4956 0.4956 0.4956 0.4956 0.4956 0.4956 0.4956 0.4956 0.4956 0.4956 0.4956 0.4956 0.4956 0.4956 0.4956 0.4956 0.4956 "
          ]
        }
      ]
    },
    {
      "cell_type": "code",
      "source": [
        ""
      ],
      "metadata": {
        "id": "ySDXH0_MNRjN"
      },
      "execution_count": 214,
      "outputs": []
    }
  ]
}