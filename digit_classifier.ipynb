{
  "nbformat": 4,
  "nbformat_minor": 0,
  "metadata": {
    "colab": {
      "name": "digit_classifier.ipynb",
      "provenance": [],
      "authorship_tag": "ABX9TyOqZTf5IZXs3io2Z4oJwu6K",
      "include_colab_link": true
    },
    "kernelspec": {
      "name": "python3",
      "display_name": "Python 3"
    },
    "language_info": {
      "name": "python"
    }
  },
  "cells": [
    {
      "cell_type": "markdown",
      "metadata": {
        "id": "view-in-github",
        "colab_type": "text"
      },
      "source": [
        "<a href=\"https://colab.research.google.com/github/nikunjchapadia/fastbook/blob/master/digit_classifier.ipynb\" target=\"_parent\"><img src=\"https://colab.research.google.com/assets/colab-badge.svg\" alt=\"Open In Colab\"/></a>"
      ]
    },
    {
      "cell_type": "code",
      "execution_count": 1,
      "metadata": {
        "id": "gl86B42hVdi7",
        "colab": {
          "base_uri": "https://localhost:8080/"
        },
        "outputId": "a13c0bcc-353e-40e8-ffd8-ead21d578d3c"
      },
      "outputs": [
        {
          "output_type": "stream",
          "name": "stdout",
          "text": [
            "\u001b[K     |████████████████████████████████| 720 kB 5.0 MB/s \n",
            "\u001b[K     |████████████████████████████████| 189 kB 63.7 MB/s \n",
            "\u001b[K     |████████████████████████████████| 46 kB 3.6 MB/s \n",
            "\u001b[K     |████████████████████████████████| 1.2 MB 33.0 MB/s \n",
            "\u001b[K     |████████████████████████████████| 56 kB 3.9 MB/s \n",
            "\u001b[K     |████████████████████████████████| 51 kB 254 kB/s \n",
            "\u001b[?25hMounted at /content/gdrive\n"
          ]
        }
      ],
      "source": [
        "!pip install -Uqq fastbook\n",
        "import fastbook\n",
        "fastbook.setup_book()"
      ]
    },
    {
      "cell_type": "code",
      "source": [
        "from fastai.vision.all import *\n",
        "from fastbook import *"
      ],
      "metadata": {
        "id": "LgvNrJzfVvRV"
      },
      "execution_count": 2,
      "outputs": []
    },
    {
      "cell_type": "code",
      "source": [
        "matplotlib.rc('image', cmap='Greys')"
      ],
      "metadata": {
        "id": "P0sPqi_BVxKX"
      },
      "execution_count": 3,
      "outputs": []
    },
    {
      "cell_type": "code",
      "source": [
        "path = untar_data(URLs.MNIST_SAMPLE)"
      ],
      "metadata": {
        "id": "d44M0FQ3V2Uq",
        "colab": {
          "base_uri": "https://localhost:8080/",
          "height": 37
        },
        "outputId": "1aa1d1d6-dc6f-4953-d892-b249c8bdc342"
      },
      "execution_count": 4,
      "outputs": [
        {
          "output_type": "display_data",
          "data": {
            "text/html": [
              "\n",
              "    <div>\n",
              "        <style>\n",
              "            /* Turns off some styling */\n",
              "            progress {\n",
              "                /* gets rid of default border in Firefox and Opera. */\n",
              "                border: none;\n",
              "                /* Needs to be in here for Safari polyfill so background images work as expected. */\n",
              "                background-size: auto;\n",
              "            }\n",
              "            .progress-bar-interrupted, .progress-bar-interrupted::-webkit-progress-bar {\n",
              "                background: #F44336;\n",
              "            }\n",
              "        </style>\n",
              "      <progress value='3219456' class='' max='3214948' style='width:300px; height:20px; vertical-align: middle;'></progress>\n",
              "      100.14% [3219456/3214948 00:00<00:00]\n",
              "    </div>\n",
              "    "
            ],
            "text/plain": [
              "<IPython.core.display.HTML object>"
            ]
          },
          "metadata": {}
        }
      ]
    },
    {
      "cell_type": "code",
      "source": [
        "(path/'train').ls()"
      ],
      "metadata": {
        "colab": {
          "base_uri": "https://localhost:8080/"
        },
        "id": "0np1IbQLWGuh",
        "outputId": "f45c9de0-d2c0-4bc9-c091-4cff1c492304"
      },
      "execution_count": 5,
      "outputs": [
        {
          "output_type": "execute_result",
          "data": {
            "text/plain": [
              "(#2) [Path('/root/.fastai/data/mnist_sample/train/7'),Path('/root/.fastai/data/mnist_sample/train/3')]"
            ]
          },
          "metadata": {},
          "execution_count": 5
        }
      ]
    },
    {
      "cell_type": "code",
      "source": [
        "path.ls()"
      ],
      "metadata": {
        "colab": {
          "base_uri": "https://localhost:8080/"
        },
        "id": "q-Ix2PSaWIhR",
        "outputId": "b25a27ca-7bcc-4000-d2ea-68f062e119dd"
      },
      "execution_count": 6,
      "outputs": [
        {
          "output_type": "execute_result",
          "data": {
            "text/plain": [
              "(#3) [Path('/root/.fastai/data/mnist_sample/valid'),Path('/root/.fastai/data/mnist_sample/labels.csv'),Path('/root/.fastai/data/mnist_sample/train')]"
            ]
          },
          "metadata": {},
          "execution_count": 6
        }
      ]
    },
    {
      "cell_type": "code",
      "source": [
        "(path/'train'/'3').ls()"
      ],
      "metadata": {
        "colab": {
          "base_uri": "https://localhost:8080/"
        },
        "id": "A36TE3FyWLT5",
        "outputId": "44ea1197-65ee-48f2-cd97-d0e047301fc4"
      },
      "execution_count": 7,
      "outputs": [
        {
          "output_type": "execute_result",
          "data": {
            "text/plain": [
              "(#6131) [Path('/root/.fastai/data/mnist_sample/train/3/13093.png'),Path('/root/.fastai/data/mnist_sample/train/3/33407.png'),Path('/root/.fastai/data/mnist_sample/train/3/16075.png'),Path('/root/.fastai/data/mnist_sample/train/3/27803.png'),Path('/root/.fastai/data/mnist_sample/train/3/16489.png'),Path('/root/.fastai/data/mnist_sample/train/3/34235.png'),Path('/root/.fastai/data/mnist_sample/train/3/17574.png'),Path('/root/.fastai/data/mnist_sample/train/3/25789.png'),Path('/root/.fastai/data/mnist_sample/train/3/21285.png'),Path('/root/.fastai/data/mnist_sample/train/3/34644.png')...]"
            ]
          },
          "metadata": {},
          "execution_count": 7
        }
      ]
    },
    {
      "cell_type": "code",
      "source": [
        "threes = (path/'train'/'3').ls().sorted()\n",
        "sevens = (path/'train'/'7').ls().sorted()\n",
        "sevens"
      ],
      "metadata": {
        "colab": {
          "base_uri": "https://localhost:8080/"
        },
        "id": "J5B1ZN8DWm_6",
        "outputId": "f06e11be-d56d-4cc0-8f7d-51d80b25f5d4"
      },
      "execution_count": 8,
      "outputs": [
        {
          "output_type": "execute_result",
          "data": {
            "text/plain": [
              "(#6265) [Path('/root/.fastai/data/mnist_sample/train/7/10002.png'),Path('/root/.fastai/data/mnist_sample/train/7/1001.png'),Path('/root/.fastai/data/mnist_sample/train/7/10014.png'),Path('/root/.fastai/data/mnist_sample/train/7/10019.png'),Path('/root/.fastai/data/mnist_sample/train/7/10039.png'),Path('/root/.fastai/data/mnist_sample/train/7/10046.png'),Path('/root/.fastai/data/mnist_sample/train/7/10050.png'),Path('/root/.fastai/data/mnist_sample/train/7/10063.png'),Path('/root/.fastai/data/mnist_sample/train/7/10077.png'),Path('/root/.fastai/data/mnist_sample/train/7/10086.png')...]"
            ]
          },
          "metadata": {},
          "execution_count": 8
        }
      ]
    },
    {
      "cell_type": "code",
      "source": [
        "im3 = Image.open(threes[1])\n",
        "im3"
      ],
      "metadata": {
        "colab": {
          "base_uri": "https://localhost:8080/",
          "height": 45
        },
        "id": "xstmmLegWqfJ",
        "outputId": "0682e55c-7b92-42b2-f741-d041f2598058"
      },
      "execution_count": 9,
      "outputs": [
        {
          "output_type": "execute_result",
          "data": {
            "image/png": "[encoded data removed]",
            "text/plain": [
              "<PIL.PngImagePlugin.PngImageFile image mode=L size=28x28 at 0x7F32FC338190>"
            ]
          },
          "metadata": {},
          "execution_count": 9
        }
      ]
    },
    {
      "cell_type": "code",
      "source": [
        "im7 = Image.open(sevens[11])\n",
        "im7"
      ],
      "metadata": {
        "colab": {
          "base_uri": "https://localhost:8080/",
          "height": 45
        },
        "id": "rf7DLW1yXHZX",
        "outputId": "07de2b83-9177-405e-84b9-16830280a076"
      },
      "execution_count": 10,
      "outputs": [
        {
          "output_type": "execute_result",
          "data": {
            "image/png": "[encoded data removed]",
            "text/plain": [
              "<PIL.PngImagePlugin.PngImageFile image mode=L size=28x28 at 0x7F32FC334F50>"
            ]
          },
          "metadata": {},
          "execution_count": 10
        }
      ]
    },
    {
      "cell_type": "code",
      "source": [
        "array(im3)[0:50,0:50]"
      ],
      "metadata": {
        "colab": {
          "base_uri": "https://localhost:8080/"
        },
        "id": "brtE-8MBXOsq",
        "outputId": "b61a763e-91ce-4d4d-bf26-987c71b57d12"
      },
      "execution_count": 11,
      "outputs": [
        {
          "output_type": "execute_result",
          "data": {
            "text/plain": [
              "array([[  0,   0,   0,   0,   0,   0,   0,   0,   0,   0,   0,   0,   0,   0,   0,   0,   0,   0,   0,   0,   0,   0,   0,   0,   0,   0,   0,   0],\n",
              "       [  0,   0,   0,   0,   0,   0,   0,   0,   0,   0,   0,   0,   0,   0,   0,   0,   0,   0,   0,   0,   0,   0,   0,   0,   0,   0,   0,   0],\n",
              "       [  0,   0,   0,   0,   0,   0,   0,   0,   0,   0,   0,   0,   0,   0,   0,   0,   0,   0,   0,   0,   0,   0,   0,   0,   0,   0,   0,   0],\n",
              "       [  0,   0,   0,   0,   0,   0,   0,   0,   0,   0,   0,   0,   0,   0,   0,   0,   0,   0,   0,   0,   0,   0,   0,   0,   0,   0,   0,   0],\n",
              "       [  0,   0,   0,   0,   0,   0,   0,   0,   0,   0,   0,   0,   0,   0,   0,   0,   0,   0,   0,   0,   0,   0,   0,   0,   0,   0,   0,   0],\n",
              "       [  0,   0,   0,   0,   0,   0,   0,   0,   0,  29, 150, 195, 254, 255, 254, 176, 193, 150,  96,   0,   0,   0,   0,   0,   0,   0,   0,   0],\n",
              "       [  0,   0,   0,   0,   0,   0,   0,  48, 166, 224, 253, 253, 234, 196, 253, 253, 253, 253, 233,   0,   0,   0,   0,   0,   0,   0,   0,   0],\n",
              "       [  0,   0,   0,   0,   0,  93, 244, 249, 253, 187,  46,  10,   8,   4,  10, 194, 253, 253, 233,   0,   0,   0,   0,   0,   0,   0,   0,   0],\n",
              "       [  0,   0,   0,   0,   0, 107, 253, 253, 230,  48,   0,   0,   0,   0,   0, 192, 253, 253, 156,   0,   0,   0,   0,   0,   0,   0,   0,   0],\n",
              "       [  0,   0,   0,   0,   0,   3,  20,  20,  15,   0,   0,   0,   0,   0,  43, 224, 253, 245,  74,   0,   0,   0,   0,   0,   0,   0,   0,   0],\n",
              "       [  0,   0,   0,   0,   0,   0,   0,   0,   0,   0,   0,   0,   0,   0, 249, 253, 245, 126,   0,   0,   0,   0,   0,   0,   0,   0,   0,   0],\n",
              "       [  0,   0,   0,   0,   0,   0,   0,   0,   0,   0,   0,  14, 101, 223, 253, 248, 124,   0,   0,   0,   0,   0,   0,   0,   0,   0,   0,   0],\n",
              "       [  0,   0,   0,   0,   0,   0,   0,   0,   0,  11, 166, 239, 253, 253, 253, 187,  30,   0,   0,   0,   0,   0,   0,   0,   0,   0,   0,   0],\n",
              "       [  0,   0,   0,   0,   0,   0,   0,   0,   0,  16, 248, 250, 253, 253, 253, 253, 232, 213, 111,   2,   0,   0,   0,   0,   0,   0,   0,   0],\n",
              "       [  0,   0,   0,   0,   0,   0,   0,   0,   0,   0,   0,  43,  98,  98, 208, 253, 253, 253, 253, 187,  22,   0,   0,   0,   0,   0,   0,   0],\n",
              "       [  0,   0,   0,   0,   0,   0,   0,   0,   0,   0,   0,   0,   0,   0,   9,  51, 119, 253, 253, 253,  76,   0,   0,   0,   0,   0,   0,   0],\n",
              "       [  0,   0,   0,   0,   0,   0,   0,   0,   0,   0,   0,   0,   0,   0,   0,   0,   1, 183, 253, 253, 139,   0,   0,   0,   0,   0,   0,   0],\n",
              "       [  0,   0,   0,   0,   0,   0,   0,   0,   0,   0,   0,   0,   0,   0,   0,   0,   0, 182, 253, 253, 104,   0,   0,   0,   0,   0,   0,   0],\n",
              "       [  0,   0,   0,   0,   0,   0,   0,   0,   0,   0,   0,   0,   0,   0,   0,   0,  85, 249, 253, 253,  36,   0,   0,   0,   0,   0,   0,   0],\n",
              "       [  0,   0,   0,   0,   0,   0,   0,   0,   0,   0,   0,   0,   0,   0,   0,  60, 214, 253, 253, 173,  11,   0,   0,   0,   0,   0,   0,   0],\n",
              "       [  0,   0,   0,   0,   0,   0,   0,   0,   0,   0,   0,   0,   0,   0,  98, 247, 253, 253, 226,   9,   0,   0,   0,   0,   0,   0,   0,   0],\n",
              "       [  0,   0,   0,   0,   0,   0,   0,   0,   0,   0,   0,   0,  42, 150, 252, 253, 253, 233,  53,   0,   0,   0,   0,   0,   0,   0,   0,   0],\n",
              "       [  0,   0,   0,   0,   0,   0,  42, 115,  42,  60, 115, 159, 240, 253, 253, 250, 175,  25,   0,   0,   0,   0,   0,   0,   0,   0,   0,   0],\n",
              "       [  0,   0,   0,   0,   0,   0, 187, 253, 253, 253, 253, 253, 253, 253, 197,  86,   0,   0,   0,   0,   0,   0,   0,   0,   0,   0,   0,   0],\n",
              "       [  0,   0,   0,   0,   0,   0, 103, 253, 253, 253, 253, 253, 232,  67,   1,   0,   0,   0,   0,   0,   0,   0,   0,   0,   0,   0,   0,   0],\n",
              "       [  0,   0,   0,   0,   0,   0,   0,   0,   0,   0,   0,   0,   0,   0,   0,   0,   0,   0,   0,   0,   0,   0,   0,   0,   0,   0,   0,   0],\n",
              "       [  0,   0,   0,   0,   0,   0,   0,   0,   0,   0,   0,   0,   0,   0,   0,   0,   0,   0,   0,   0,   0,   0,   0,   0,   0,   0,   0,   0],\n",
              "       [  0,   0,   0,   0,   0,   0,   0,   0,   0,   0,   0,   0,   0,   0,   0,   0,   0,   0,   0,   0,   0,   0,   0,   0,   0,   0,   0,   0]], dtype=uint8)"
            ]
          },
          "metadata": {},
          "execution_count": 11
        }
      ]
    },
    {
      "cell_type": "code",
      "source": [
        "array(im7)[0:100,0:100]"
      ],
      "metadata": {
        "colab": {
          "base_uri": "https://localhost:8080/"
        },
        "id": "iJJ4Bf7rYQgh",
        "outputId": "1d25c43e-0f67-42bb-8ce4-e164b047ed23"
      },
      "execution_count": 12,
      "outputs": [
        {
          "output_type": "execute_result",
          "data": {
            "text/plain": [
              "array([[  0,   0,   0,   0,   0,   0,   0,   0,   0,   0,   0,   0,   0,   0,   0,   0,   0,   0,   0,   0,   0,   0,   0,   0,   0,   0,   0,   0],\n",
              "       [  0,   0,   0,   0,   0,   0,   0,   0,   0,   0,   0,   0,   0,   0,   0,   0,   0,   0,   0,   0,   0,   0,   0,   0,   0,   0,   0,   0],\n",
              "       [  0,   0,   0,   0,   0,   0,   0,   0,   0,   0,   0,   0,   0,   0,   0,   0,   0,   0,   0,   0,   0,   0,   0,   0,   0,   0,   0,   0],\n",
              "       [  0,   0,   0,   0,   0,   0,   0,   0,   0,   0,   0,   0,   0,   0,   0,   0,   0,   0,   0,   0,   0,   0,   0,   0,   0,   0,   0,   0],\n",
              "       [  0,   0,   0,   0,   0,   0,   0,   0,   0,   0,   0,   0,   0,   0,   0,   0,   0,   0,   0,   0,   0,   0,   0,   0,   0,   0,   0,   0],\n",
              "       [  0,   0,   0,   0,   0,   0,   0,   0,   0,   0,   0,   0,   0,   0,   0,   0,   0,   0,   0,   0,   0,   0,   0,   0,   0,   0,   0,   0],\n",
              "       [  0,   0,   0,   0,   0,   0,   0,   0,   0,   0,   0,   0,   0,  29,  43,  61, 148, 246, 157,   7,   0,   0,   0,   0,   0,   0,   0,   0],\n",
              "       [  0,   0,   0,   0,   0,   0,   0,   0,   0,   0,  15,  85, 182, 233, 253, 254, 253, 253, 253,  42,   0,   0,   0,   0,   0,   0,   0,   0],\n",
              "       [  0,   0,   0,   0,   0,   0,   0,   0,   0,   0, 238, 253, 253, 253, 253, 233, 248, 253, 253, 139,   0,   0,   0,   0,   0,   0,   0,   0],\n",
              "       [  0,   0,   0,   0,   0,   0,   0,   0,   0,   0, 254, 253, 253, 237, 145,   0, 191, 253, 253,  77,   0,   0,   0,   0,   0,   0,   0,   0],\n",
              "       [  0,   0,   0,   0,   0,   0,   0,   0,   0,   0, 104,  68,  42,  32,   0,  18, 217, 253, 200,   7,   0,   0,   0,   0,   0,   0,   0,   0],\n",
              "       [  0,   0,   0,   0,   0,   0,   0,   0,   0,   0,   0,   0,   0,   0,   0, 211, 254, 251, 115,   0,   0,   0,   0,   0,   0,   0,   0,   0],\n",
              "       [  0,   0,   0,   0,   0,   0,   0,   0,   0,   0,   0,   0,   0,   0,   0, 254, 253, 197,   0,   0,   0,   0,   0,   0,   0,   0,   0,   0],\n",
              "       [  0,   0,   0,   0,   0,   0,   0,   0,   0,   0,   0,   0,   0,   0, 151, 254, 253, 127,   0,   0,   0,   0,   0,   0,   0,   0,   0,   0],\n",
              "       [  0,   0,   0,   0,   0,   0,   0,   0,   0,   0,   0,   0,   0,  43, 240, 255, 253, 100,   0,   0,   0,   0,   0,   0,   0,   0,   0,   0],\n",
              "       [  0,   0,   0,   0,   0,   0,   0,   0,   0,   0,   0,   0,   0,  64, 253, 254, 138,   4,   0,   0,   0,   0,   0,   0,   0,   0,   0,   0],\n",
              "       [  0,   0,   0,   0,   0,   0,   0,   0,   0,   0,   0,   0,   4, 184, 254, 248,  53,   0,   0,   0,   0,   0,   0,   0,   0,   0,   0,   0],\n",
              "       [  0,   0,   0,   0,   0,   0,   0,   0,   0,   0,   0,   0, 102, 253, 253, 176,   0,   0,   0,   0,   0,   0,   0,   0,   0,   0,   0,   0],\n",
              "       [  0,   0,   0,   0,   0,   0,   0,   0,   0,   0,   0,   0, 136, 253, 253,  53,   0,   0,   0,   0,   0,   0,   0,   0,   0,   0,   0,   0],\n",
              "       [  0,   0,   0,   0,   0,   0,   0,   0,   0,   0,   0,  49, 238, 253, 182,   0,   0,   0,   0,   0,   0,   0,   0,   0,   0,   0,   0,   0],\n",
              "       [  0,   0,   0,   0,   0,   0,   0,   0,   0,   0,   0, 191, 253, 253,  59,   0,   0,   0,   0,   0,   0,   0,   0,   0,   0,   0,   0,   0],\n",
              "       [  0,   0,   0,   0,   0,   0,   0,   0,   0,   0, 105, 254, 254, 217,  18,   0,   0,   0,   0,   0,   0,   0,   0,   0,   0,   0,   0,   0],\n",
              "       [  0,   0,   0,   0,   0,   0,   0,   0,   0,   0, 228, 253, 253, 154,   0,   0,   0,   0,   0,   0,   0,   0,   0,   0,   0,   0,   0,   0],\n",
              "       [  0,   0,   0,   0,   0,   0,   0,   0,   0,   0, 254, 253, 234,  42,   0,   0,   0,   0,   0,   0,   0,   0,   0,   0,   0,   0,   0,   0],\n",
              "       [  0,   0,   0,   0,   0,   0,   0,   0,   0,   0, 228, 253, 127,   0,   0,   0,   0,   0,   0,   0,   0,   0,   0,   0,   0,   0,   0,   0],\n",
              "       [  0,   0,   0,   0,   0,   0,   0,   0,   0,   0,  43, 192,  30,   0,   0,   0,   0,   0,   0,   0,   0,   0,   0,   0,   0,   0,   0,   0],\n",
              "       [  0,   0,   0,   0,   0,   0,   0,   0,   0,   0,   0,   0,   0,   0,   0,   0,   0,   0,   0,   0,   0,   0,   0,   0,   0,   0,   0,   0],\n",
              "       [  0,   0,   0,   0,   0,   0,   0,   0,   0,   0,   0,   0,   0,   0,   0,   0,   0,   0,   0,   0,   0,   0,   0,   0,   0,   0,   0,   0]], dtype=uint8)"
            ]
          },
          "metadata": {},
          "execution_count": 12
        }
      ]
    },
    {
      "cell_type": "code",
      "source": [
        "tensor(im3)[0:100,0:100]"
      ],
      "metadata": {
        "colab": {
          "base_uri": "https://localhost:8080/"
        },
        "id": "LA8IynFwYo85",
        "outputId": "b9e30d89-9232-440e-9211-40cb1d8a6f26"
      },
      "execution_count": 13,
      "outputs": [
        {
          "output_type": "execute_result",
          "data": {
            "text/plain": [
              "tensor([[  0,   0,   0,   0,   0,   0,   0,   0,   0,   0,   0,   0,   0,   0,   0,   0,   0,   0,   0,   0,   0,   0,   0,   0,   0,   0,   0,   0],\n",
              "        [  0,   0,   0,   0,   0,   0,   0,   0,   0,   0,   0,   0,   0,   0,   0,   0,   0,   0,   0,   0,   0,   0,   0,   0,   0,   0,   0,   0],\n",
              "        [  0,   0,   0,   0,   0,   0,   0,   0,   0,   0,   0,   0,   0,   0,   0,   0,   0,   0,   0,   0,   0,   0,   0,   0,   0,   0,   0,   0],\n",
              "        [  0,   0,   0,   0,   0,   0,   0,   0,   0,   0,   0,   0,   0,   0,   0,   0,   0,   0,   0,   0,   0,   0,   0,   0,   0,   0,   0,   0],\n",
              "        [  0,   0,   0,   0,   0,   0,   0,   0,   0,   0,   0,   0,   0,   0,   0,   0,   0,   0,   0,   0,   0,   0,   0,   0,   0,   0,   0,   0],\n",
              "        [  0,   0,   0,   0,   0,   0,   0,   0,   0,  29, 150, 195, 254, 255, 254, 176, 193, 150,  96,   0,   0,   0,   0,   0,   0,   0,   0,   0],\n",
              "        [  0,   0,   0,   0,   0,   0,   0,  48, 166, 224, 253, 253, 234, 196, 253, 253, 253, 253, 233,   0,   0,   0,   0,   0,   0,   0,   0,   0],\n",
              "        [  0,   0,   0,   0,   0,  93, 244, 249, 253, 187,  46,  10,   8,   4,  10, 194, 253, 253, 233,   0,   0,   0,   0,   0,   0,   0,   0,   0],\n",
              "        [  0,   0,   0,   0,   0, 107, 253, 253, 230,  48,   0,   0,   0,   0,   0, 192, 253, 253, 156,   0,   0,   0,   0,   0,   0,   0,   0,   0],\n",
              "        [  0,   0,   0,   0,   0,   3,  20,  20,  15,   0,   0,   0,   0,   0,  43, 224, 253, 245,  74,   0,   0,   0,   0,   0,   0,   0,   0,   0],\n",
              "        [  0,   0,   0,   0,   0,   0,   0,   0,   0,   0,   0,   0,   0,   0, 249, 253, 245, 126,   0,   0,   0,   0,   0,   0,   0,   0,   0,   0],\n",
              "        [  0,   0,   0,   0,   0,   0,   0,   0,   0,   0,   0,  14, 101, 223, 253, 248, 124,   0,   0,   0,   0,   0,   0,   0,   0,   0,   0,   0],\n",
              "        [  0,   0,   0,   0,   0,   0,   0,   0,   0,  11, 166, 239, 253, 253, 253, 187,  30,   0,   0,   0,   0,   0,   0,   0,   0,   0,   0,   0],\n",
              "        [  0,   0,   0,   0,   0,   0,   0,   0,   0,  16, 248, 250, 253, 253, 253, 253, 232, 213, 111,   2,   0,   0,   0,   0,   0,   0,   0,   0],\n",
              "        [  0,   0,   0,   0,   0,   0,   0,   0,   0,   0,   0,  43,  98,  98, 208, 253, 253, 253, 253, 187,  22,   0,   0,   0,   0,   0,   0,   0],\n",
              "        [  0,   0,   0,   0,   0,   0,   0,   0,   0,   0,   0,   0,   0,   0,   9,  51, 119, 253, 253, 253,  76,   0,   0,   0,   0,   0,   0,   0],\n",
              "        [  0,   0,   0,   0,   0,   0,   0,   0,   0,   0,   0,   0,   0,   0,   0,   0,   1, 183, 253, 253, 139,   0,   0,   0,   0,   0,   0,   0],\n",
              "        [  0,   0,   0,   0,   0,   0,   0,   0,   0,   0,   0,   0,   0,   0,   0,   0,   0, 182, 253, 253, 104,   0,   0,   0,   0,   0,   0,   0],\n",
              "        [  0,   0,   0,   0,   0,   0,   0,   0,   0,   0,   0,   0,   0,   0,   0,   0,  85, 249, 253, 253,  36,   0,   0,   0,   0,   0,   0,   0],\n",
              "        [  0,   0,   0,   0,   0,   0,   0,   0,   0,   0,   0,   0,   0,   0,   0,  60, 214, 253, 253, 173,  11,   0,   0,   0,   0,   0,   0,   0],\n",
              "        [  0,   0,   0,   0,   0,   0,   0,   0,   0,   0,   0,   0,   0,   0,  98, 247, 253, 253, 226,   9,   0,   0,   0,   0,   0,   0,   0,   0],\n",
              "        [  0,   0,   0,   0,   0,   0,   0,   0,   0,   0,   0,   0,  42, 150, 252, 253, 253, 233,  53,   0,   0,   0,   0,   0,   0,   0,   0,   0],\n",
              "        [  0,   0,   0,   0,   0,   0,  42, 115,  42,  60, 115, 159, 240, 253, 253, 250, 175,  25,   0,   0,   0,   0,   0,   0,   0,   0,   0,   0],\n",
              "        [  0,   0,   0,   0,   0,   0, 187, 253, 253, 253, 253, 253, 253, 253, 197,  86,   0,   0,   0,   0,   0,   0,   0,   0,   0,   0,   0,   0],\n",
              "        [  0,   0,   0,   0,   0,   0, 103, 253, 253, 253, 253, 253, 232,  67,   1,   0,   0,   0,   0,   0,   0,   0,   0,   0,   0,   0,   0,   0],\n",
              "        [  0,   0,   0,   0,   0,   0,   0,   0,   0,   0,   0,   0,   0,   0,   0,   0,   0,   0,   0,   0,   0,   0,   0,   0,   0,   0,   0,   0],\n",
              "        [  0,   0,   0,   0,   0,   0,   0,   0,   0,   0,   0,   0,   0,   0,   0,   0,   0,   0,   0,   0,   0,   0,   0,   0,   0,   0,   0,   0],\n",
              "        [  0,   0,   0,   0,   0,   0,   0,   0,   0,   0,   0,   0,   0,   0,   0,   0,   0,   0,   0,   0,   0,   0,   0,   0,   0,   0,   0,   0]], dtype=torch.uint8)"
            ]
          },
          "metadata": {},
          "execution_count": 13
        }
      ]
    },
    {
      "cell_type": "code",
      "source": [
        "image3_t = tensor(im3)\n",
        "dataFrame = pd.DataFrame(image3_t[0:28, 0:28])\n",
        "dataFrame.style.set_properties(**{'font-size':'6pt'}).background_gradient('Greys')"
      ],
      "metadata": {
        "colab": {
          "base_uri": "https://localhost:8080/",
          "height": 927
        },
        "id": "h8FGP-ffY-d4",
        "outputId": "c9c26f3b-d7b8-48a6-d63d-1a6727775f03"
      },
      "execution_count": 14,
      "outputs": [
        {
          "output_type": "execute_result",
          "data": {
            "text/html": [
              "<style type=\"text/css\">\n",
              "#T_d180e_row0_col0, #T_d180e_row0_col1, #T_d180e_row0_col2, #T_d180e_row0_col3, #T_d180e_row0_col4, #T_d180e_row0_col5, #T_d180e_row0_col6, #T_d180e_row0_col7, #T_d180e_row0_col8, #T_d180e_row0_col9, #T_d180e_row0_col10, #T_d180e_row0_col11, #T_d180e_row0_col12, #T_d180e_row0_col13, #T_d180e_row0_col14, #T_d180e_row0_col15, #T_d180e_row0_col16, #T_d180e_row0_col17, #T_d180e_row0_col18, #T_d180e_row0_col19, #T_d180e_row0_col20, #T_d180e_row0_col21, #T_d180e_row0_col22, #T_d180e_row0_col23, #T_d180e_row0_col24, #T_d180e_row0_col25, #T_d180e_row0_col26, #T_d180e_row0_col27, #T_d180e_row1_col0, #T_d180e_row1_col1, #T_d180e_row1_col2, #T_d180e_row1_col3, #T_d180e_row1_col4, #T_d180e_row1_col5, #T_d180e_row1_col6, #T_d180e_row1_col7, #T_d180e_row1_col8, #T_d180e_row1_col9, #T_d180e_row1_col10, #T_d180e_row1_col11, #T_d180e_row1_col12, #T_d180e_row1_col13, #T_d180e_row1_col14, #T_d180e_row1_col15, #T_d180e_row1_col16, #T_d180e_row1_col17, #T_d180e_row1_col18, #T_d180e_row1_col19, #T_d180e_row1_col20, #T_d180e_row1_col21, #T_d180e_row1_col22, #T_d180e_row1_col23, #T_d180e_row1_col24, #T_d180e_row1_col25, #T_d180e_row1_col26, #T_d180e_row1_col27, #T_d180e_row2_col0, #T_d180e_row2_col1, #T_d180e_row2_col2, #T_d180e_row2_col3, #T_d180e_row2_col4, #T_d180e_row2_col5, #T_d180e_row2_col6, #T_d180e_row2_col7, #T_d180e_row2_col8, #T_d180e_row2_col9, #T_d180e_row2_col10, #T_d180e_row2_col11, #T_d180e_row2_col12, #T_d180e_row2_col13, #T_d180e_row2_col14, #T_d180e_row2_col15, #T_d180e_row2_col16, #T_d180e_row2_col17, #T_d180e_row2_col18, #T_d180e_row2_col19, #T_d180e_row2_col20, #T_d180e_row2_col21, #T_d180e_row2_col22, #T_d180e_row2_col23, #T_d180e_row2_col24, #T_d180e_row2_col25, #T_d180e_row2_col26, #T_d180e_row2_col27, #T_d180e_row3_col0, #T_d180e_row3_col1, #T_d180e_row3_col2, #T_d180e_row3_col3, #T_d180e_row3_col4, #T_d180e_row3_col5, #T_d180e_row3_col6, #T_d180e_row3_col7, #T_d180e_row3_col8, #T_d180e_row3_col9, #T_d180e_row3_col10, #T_d180e_row3_col11, #T_d180e_row3_col12, #T_d180e_row3_col13, #T_d180e_row3_col14, #T_d180e_row3_col15, #T_d180e_row3_col16, #T_d180e_row3_col17, #T_d180e_row3_col18, #T_d180e_row3_col19, #T_d180e_row3_col20, #T_d180e_row3_col21, #T_d180e_row3_col22, #T_d180e_row3_col23, #T_d180e_row3_col24, #T_d180e_row3_col25, #T_d180e_row3_col26, #T_d180e_row3_col27, #T_d180e_row4_col0, #T_d180e_row4_col1, #T_d180e_row4_col2, #T_d180e_row4_col3, #T_d180e_row4_col4, #T_d180e_row4_col5, #T_d180e_row4_col6, #T_d180e_row4_col7, #T_d180e_row4_col8, #T_d180e_row4_col9, #T_d180e_row4_col10, #T_d180e_row4_col11, #T_d180e_row4_col12, #T_d180e_row4_col13, #T_d180e_row4_col14, #T_d180e_row4_col15, #T_d180e_row4_col16, #T_d180e_row4_col17, #T_d180e_row4_col18, #T_d180e_row4_col19, #T_d180e_row4_col20, #T_d180e_row4_col21, #T_d180e_row4_col22, #T_d180e_row4_col23, #T_d180e_row4_col24, #T_d180e_row4_col25, #T_d180e_row4_col26, #T_d180e_row4_col27, #T_d180e_row5_col0, #T_d180e_row5_col1, #T_d180e_row5_col2, #T_d180e_row5_col3, #T_d180e_row5_col4, #T_d180e_row5_col5, #T_d180e_row5_col6, #T_d180e_row5_col7, #T_d180e_row5_col8, #T_d180e_row5_col19, #T_d180e_row5_col20, #T_d180e_row5_col21, #T_d180e_row5_col22, #T_d180e_row5_col23, #T_d180e_row5_col24, #T_d180e_row5_col25, #T_d180e_row5_col26, #T_d180e_row5_col27, #T_d180e_row6_col0, #T_d180e_row6_col1, #T_d180e_row6_col2, #T_d180e_row6_col3, #T_d180e_row6_col4, #T_d180e_row6_col5, #T_d180e_row6_col6, #T_d180e_row6_col19, #T_d180e_row6_col20, #T_d180e_row6_col21, #T_d180e_row6_col22, #T_d180e_row6_col23, #T_d180e_row6_col24, #T_d180e_row6_col25, #T_d180e_row6_col26, #T_d180e_row6_col27, #T_d180e_row7_col0, #T_d180e_row7_col1, #T_d180e_row7_col2, #T_d180e_row7_col3, #T_d180e_row7_col4, #T_d180e_row7_col19, #T_d180e_row7_col20, #T_d180e_row7_col21, #T_d180e_row7_col22, #T_d180e_row7_col23, #T_d180e_row7_col24, #T_d180e_row7_col25, #T_d180e_row7_col26, #T_d180e_row7_col27, #T_d180e_row8_col0, #T_d180e_row8_col1, #T_d180e_row8_col2, #T_d180e_row8_col3, #T_d180e_row8_col4, #T_d180e_row8_col10, #T_d180e_row8_col11, #T_d180e_row8_col12, #T_d180e_row8_col13, #T_d180e_row8_col14, #T_d180e_row8_col19, #T_d180e_row8_col20, #T_d180e_row8_col21, #T_d180e_row8_col22, #T_d180e_row8_col23, #T_d180e_row8_col24, #T_d180e_row8_col25, #T_d180e_row8_col26, #T_d180e_row8_col27, #T_d180e_row9_col0, #T_d180e_row9_col1, #T_d180e_row9_col2, #T_d180e_row9_col3, #T_d180e_row9_col4, #T_d180e_row9_col9, #T_d180e_row9_col10, #T_d180e_row9_col11, #T_d180e_row9_col12, #T_d180e_row9_col13, #T_d180e_row9_col19, #T_d180e_row9_col20, #T_d180e_row9_col21, #T_d180e_row9_col22, #T_d180e_row9_col23, #T_d180e_row9_col24, #T_d180e_row9_col25, #T_d180e_row9_col26, #T_d180e_row9_col27, #T_d180e_row10_col0, #T_d180e_row10_col1, #T_d180e_row10_col2, #T_d180e_row10_col3, #T_d180e_row10_col4, #T_d180e_row10_col5, #T_d180e_row10_col6, #T_d180e_row10_col7, #T_d180e_row10_col8, #T_d180e_row10_col9, #T_d180e_row10_col10, #T_d180e_row10_col11, #T_d180e_row10_col12, #T_d180e_row10_col13, #T_d180e_row10_col18, #T_d180e_row10_col19, #T_d180e_row10_col20, #T_d180e_row10_col21, #T_d180e_row10_col22, #T_d180e_row10_col23, #T_d180e_row10_col24, #T_d180e_row10_col25, #T_d180e_row10_col26, #T_d180e_row10_col27, #T_d180e_row11_col0, #T_d180e_row11_col1, #T_d180e_row11_col2, #T_d180e_row11_col3, #T_d180e_row11_col4, #T_d180e_row11_col5, #T_d180e_row11_col6, #T_d180e_row11_col7, #T_d180e_row11_col8, #T_d180e_row11_col9, #T_d180e_row11_col10, #T_d180e_row11_col17, #T_d180e_row11_col18, #T_d180e_row11_col19, #T_d180e_row11_col20, #T_d180e_row11_col21, #T_d180e_row11_col22, #T_d180e_row11_col23, #T_d180e_row11_col24, #T_d180e_row11_col25, #T_d180e_row11_col26, #T_d180e_row11_col27, #T_d180e_row12_col0, #T_d180e_row12_col1, #T_d180e_row12_col2, #T_d180e_row12_col3, #T_d180e_row12_col4, #T_d180e_row12_col5, #T_d180e_row12_col6, #T_d180e_row12_col7, #T_d180e_row12_col8, #T_d180e_row12_col17, #T_d180e_row12_col18, #T_d180e_row12_col19, #T_d180e_row12_col20, #T_d180e_row12_col21, #T_d180e_row12_col22, #T_d180e_row12_col23, #T_d180e_row12_col24, #T_d180e_row12_col25, #T_d180e_row12_col26, #T_d180e_row12_col27, #T_d180e_row13_col0, #T_d180e_row13_col1, #T_d180e_row13_col2, #T_d180e_row13_col3, #T_d180e_row13_col4, #T_d180e_row13_col5, #T_d180e_row13_col6, #T_d180e_row13_col7, #T_d180e_row13_col8, #T_d180e_row13_col20, #T_d180e_row13_col21, #T_d180e_row13_col22, #T_d180e_row13_col23, #T_d180e_row13_col24, #T_d180e_row13_col25, #T_d180e_row13_col26, #T_d180e_row13_col27, #T_d180e_row14_col0, #T_d180e_row14_col1, #T_d180e_row14_col2, #T_d180e_row14_col3, #T_d180e_row14_col4, #T_d180e_row14_col5, #T_d180e_row14_col6, #T_d180e_row14_col7, #T_d180e_row14_col8, #T_d180e_row14_col9, #T_d180e_row14_col10, #T_d180e_row14_col21, #T_d180e_row14_col22, #T_d180e_row14_col23, #T_d180e_row14_col24, #T_d180e_row14_col25, #T_d180e_row14_col26, #T_d180e_row14_col27, #T_d180e_row15_col0, #T_d180e_row15_col1, #T_d180e_row15_col2, #T_d180e_row15_col3, #T_d180e_row15_col4, #T_d180e_row15_col5, #T_d180e_row15_col6, #T_d180e_row15_col7, #T_d180e_row15_col8, #T_d180e_row15_col9, #T_d180e_row15_col10, #T_d180e_row15_col11, #T_d180e_row15_col12, #T_d180e_row15_col13, #T_d180e_row15_col21, #T_d180e_row15_col22, #T_d180e_row15_col23, #T_d180e_row15_col24, #T_d180e_row15_col25, #T_d180e_row15_col26, #T_d180e_row15_col27, #T_d180e_row16_col0, #T_d180e_row16_col1, #T_d180e_row16_col2, #T_d180e_row16_col3, #T_d180e_row16_col4, #T_d180e_row16_col5, #T_d180e_row16_col6, #T_d180e_row16_col7, #T_d180e_row16_col8, #T_d180e_row16_col9, #T_d180e_row16_col10, #T_d180e_row16_col11, #T_d180e_row16_col12, #T_d180e_row16_col13, #T_d180e_row16_col14, #T_d180e_row16_col15, #T_d180e_row16_col16, #T_d180e_row16_col21, #T_d180e_row16_col22, #T_d180e_row16_col23, #T_d180e_row16_col24, #T_d180e_row16_col25, #T_d180e_row16_col26, #T_d180e_row16_col27, #T_d180e_row17_col0, #T_d180e_row17_col1, #T_d180e_row17_col2, #T_d180e_row17_col3, #T_d180e_row17_col4, #T_d180e_row17_col5, #T_d180e_row17_col6, #T_d180e_row17_col7, #T_d180e_row17_col8, #T_d180e_row17_col9, #T_d180e_row17_col10, #T_d180e_row17_col11, #T_d180e_row17_col12, #T_d180e_row17_col13, #T_d180e_row17_col14, #T_d180e_row17_col15, #T_d180e_row17_col16, #T_d180e_row17_col21, #T_d180e_row17_col22, #T_d180e_row17_col23, #T_d180e_row17_col24, #T_d180e_row17_col25, #T_d180e_row17_col26, #T_d180e_row17_col27, #T_d180e_row18_col0, #T_d180e_row18_col1, #T_d180e_row18_col2, #T_d180e_row18_col3, #T_d180e_row18_col4, #T_d180e_row18_col5, #T_d180e_row18_col6, #T_d180e_row18_col7, #T_d180e_row18_col8, #T_d180e_row18_col9, #T_d180e_row18_col10, #T_d180e_row18_col11, #T_d180e_row18_col12, #T_d180e_row18_col13, #T_d180e_row18_col14, #T_d180e_row18_col15, #T_d180e_row18_col21, #T_d180e_row18_col22, #T_d180e_row18_col23, #T_d180e_row18_col24, #T_d180e_row18_col25, #T_d180e_row18_col26, #T_d180e_row18_col27, #T_d180e_row19_col0, #T_d180e_row19_col1, #T_d180e_row19_col2, #T_d180e_row19_col3, #T_d180e_row19_col4, #T_d180e_row19_col5, #T_d180e_row19_col6, #T_d180e_row19_col7, #T_d180e_row19_col8, #T_d180e_row19_col9, #T_d180e_row19_col10, #T_d180e_row19_col11, #T_d180e_row19_col12, #T_d180e_row19_col13, #T_d180e_row19_col14, #T_d180e_row19_col21, #T_d180e_row19_col22, #T_d180e_row19_col23, #T_d180e_row19_col24, #T_d180e_row19_col25, #T_d180e_row19_col26, #T_d180e_row19_col27, #T_d180e_row20_col0, #T_d180e_row20_col1, #T_d180e_row20_col2, #T_d180e_row20_col3, #T_d180e_row20_col4, #T_d180e_row20_col5, #T_d180e_row20_col6, #T_d180e_row20_col7, #T_d180e_row20_col8, #T_d180e_row20_col9, #T_d180e_row20_col10, #T_d180e_row20_col11, #T_d180e_row20_col12, #T_d180e_row20_col13, #T_d180e_row20_col20, #T_d180e_row20_col21, #T_d180e_row20_col22, #T_d180e_row20_col23, #T_d180e_row20_col24, #T_d180e_row20_col25, #T_d180e_row20_col26, #T_d180e_row20_col27, #T_d180e_row21_col0, #T_d180e_row21_col1, #T_d180e_row21_col2, #T_d180e_row21_col3, #T_d180e_row21_col4, #T_d180e_row21_col5, #T_d180e_row21_col6, #T_d180e_row21_col7, #T_d180e_row21_col8, #T_d180e_row21_col9, #T_d180e_row21_col10, #T_d180e_row21_col11, #T_d180e_row21_col19, #T_d180e_row21_col20, #T_d180e_row21_col21, #T_d180e_row21_col22, #T_d180e_row21_col23, #T_d180e_row21_col24, #T_d180e_row21_col25, #T_d180e_row21_col26, #T_d180e_row21_col27, #T_d180e_row22_col0, #T_d180e_row22_col1, #T_d180e_row22_col2, #T_d180e_row22_col3, #T_d180e_row22_col4, #T_d180e_row22_col5, #T_d180e_row22_col18, #T_d180e_row22_col19, #T_d180e_row22_col20, #T_d180e_row22_col21, #T_d180e_row22_col22, #T_d180e_row22_col23, #T_d180e_row22_col24, #T_d180e_row22_col25, #T_d180e_row22_col26, #T_d180e_row22_col27, #T_d180e_row23_col0, #T_d180e_row23_col1, #T_d180e_row23_col2, #T_d180e_row23_col3, #T_d180e_row23_col4, #T_d180e_row23_col5, #T_d180e_row23_col16, #T_d180e_row23_col17, #T_d180e_row23_col18, #T_d180e_row23_col19, #T_d180e_row23_col20, #T_d180e_row23_col21, #T_d180e_row23_col22, #T_d180e_row23_col23, #T_d180e_row23_col24, #T_d180e_row23_col25, #T_d180e_row23_col26, #T_d180e_row23_col27, #T_d180e_row24_col0, #T_d180e_row24_col1, #T_d180e_row24_col2, #T_d180e_row24_col3, #T_d180e_row24_col4, #T_d180e_row24_col5, #T_d180e_row24_col14, #T_d180e_row24_col15, #T_d180e_row24_col16, #T_d180e_row24_col17, #T_d180e_row24_col18, #T_d180e_row24_col19, #T_d180e_row24_col20, #T_d180e_row24_col21, #T_d180e_row24_col22, #T_d180e_row24_col23, #T_d180e_row24_col24, #T_d180e_row24_col25, #T_d180e_row24_col26, #T_d180e_row24_col27, #T_d180e_row25_col0, #T_d180e_row25_col1, #T_d180e_row25_col2, #T_d180e_row25_col3, #T_d180e_row25_col4, #T_d180e_row25_col5, #T_d180e_row25_col6, #T_d180e_row25_col7, #T_d180e_row25_col8, #T_d180e_row25_col9, #T_d180e_row25_col10, #T_d180e_row25_col11, #T_d180e_row25_col12, #T_d180e_row25_col13, #T_d180e_row25_col14, #T_d180e_row25_col15, #T_d180e_row25_col16, #T_d180e_row25_col17, #T_d180e_row25_col18, #T_d180e_row25_col19, #T_d180e_row25_col20, #T_d180e_row25_col21, #T_d180e_row25_col22, #T_d180e_row25_col23, #T_d180e_row25_col24, #T_d180e_row25_col25, #T_d180e_row25_col26, #T_d180e_row25_col27, #T_d180e_row26_col0, #T_d180e_row26_col1, #T_d180e_row26_col2, #T_d180e_row26_col3, #T_d180e_row26_col4, #T_d180e_row26_col5, #T_d180e_row26_col6, #T_d180e_row26_col7, #T_d180e_row26_col8, #T_d180e_row26_col9, #T_d180e_row26_col10, #T_d180e_row26_col11, #T_d180e_row26_col12, #T_d180e_row26_col13, #T_d180e_row26_col14, #T_d180e_row26_col15, #T_d180e_row26_col16, #T_d180e_row26_col17, #T_d180e_row26_col18, #T_d180e_row26_col19, #T_d180e_row26_col20, #T_d180e_row26_col21, #T_d180e_row26_col22, #T_d180e_row26_col23, #T_d180e_row26_col24, #T_d180e_row26_col25, #T_d180e_row26_col26, #T_d180e_row26_col27, #T_d180e_row27_col0, #T_d180e_row27_col1, #T_d180e_row27_col2, #T_d180e_row27_col3, #T_d180e_row27_col4, #T_d180e_row27_col5, #T_d180e_row27_col6, #T_d180e_row27_col7, #T_d180e_row27_col8, #T_d180e_row27_col9, #T_d180e_row27_col10, #T_d180e_row27_col11, #T_d180e_row27_col12, #T_d180e_row27_col13, #T_d180e_row27_col14, #T_d180e_row27_col15, #T_d180e_row27_col16, #T_d180e_row27_col17, #T_d180e_row27_col18, #T_d180e_row27_col19, #T_d180e_row27_col20, #T_d180e_row27_col21, #T_d180e_row27_col22, #T_d180e_row27_col23, #T_d180e_row27_col24, #T_d180e_row27_col25, #T_d180e_row27_col26, #T_d180e_row27_col27 {\n",
              "  font-size: 6pt;\n",
              "  background-color: #ffffff;\n",
              "  color: #000000;\n",
              "}\n",
              "#T_d180e_row5_col9, #T_d180e_row12_col16 {\n",
              "  font-size: 6pt;\n",
              "  background-color: #f1f1f1;\n",
              "  color: #000000;\n",
              "}\n",
              "#T_d180e_row5_col10, #T_d180e_row5_col17 {\n",
              "  font-size: 6pt;\n",
              "  background-color: #7c7c7c;\n",
              "  color: #f1f1f1;\n",
              "}\n",
              "#T_d180e_row5_col11 {\n",
              "  font-size: 6pt;\n",
              "  background-color: #4a4a4a;\n",
              "  color: #f1f1f1;\n",
              "}\n",
              "#T_d180e_row5_col12, #T_d180e_row5_col13, #T_d180e_row5_col14, #T_d180e_row6_col10, #T_d180e_row6_col11, #T_d180e_row6_col15, #T_d180e_row6_col16, #T_d180e_row6_col17, #T_d180e_row7_col8, #T_d180e_row7_col16, #T_d180e_row7_col17, #T_d180e_row8_col5, #T_d180e_row8_col6, #T_d180e_row8_col7, #T_d180e_row8_col16, #T_d180e_row8_col17, #T_d180e_row9_col16, #T_d180e_row10_col15, #T_d180e_row13_col15, #T_d180e_row14_col15, #T_d180e_row14_col16, #T_d180e_row14_col17, #T_d180e_row14_col18, #T_d180e_row15_col17, #T_d180e_row15_col18, #T_d180e_row15_col19, #T_d180e_row16_col18, #T_d180e_row16_col19, #T_d180e_row16_col20, #T_d180e_row17_col18, #T_d180e_row17_col19, #T_d180e_row18_col18, #T_d180e_row18_col19, #T_d180e_row19_col17, #T_d180e_row19_col18, #T_d180e_row20_col16, #T_d180e_row20_col17, #T_d180e_row21_col15, #T_d180e_row21_col16, #T_d180e_row23_col7, #T_d180e_row23_col8, #T_d180e_row23_col9, #T_d180e_row23_col10, #T_d180e_row23_col11, #T_d180e_row24_col7, #T_d180e_row24_col8, #T_d180e_row24_col9, #T_d180e_row24_col10, #T_d180e_row24_col11 {\n",
              "  font-size: 6pt;\n",
              "  background-color: #000000;\n",
              "  color: #f1f1f1;\n",
              "}\n",
              "#T_d180e_row5_col15 {\n",
              "  font-size: 6pt;\n",
              "  background-color: #606060;\n",
              "  color: #f1f1f1;\n",
              "}\n",
              "#T_d180e_row5_col16 {\n",
              "  font-size: 6pt;\n",
              "  background-color: #4d4d4d;\n",
              "  color: #f1f1f1;\n",
              "}\n",
              "#T_d180e_row5_col18 {\n",
              "  font-size: 6pt;\n",
              "  background-color: #bbbbbb;\n",
              "  color: #000000;\n",
              "}\n",
              "#T_d180e_row6_col7, #T_d180e_row8_col9 {\n",
              "  font-size: 6pt;\n",
              "  background-color: #e4e4e4;\n",
              "  color: #000000;\n",
              "}\n",
              "#T_d180e_row6_col8, #T_d180e_row12_col10 {\n",
              "  font-size: 6pt;\n",
              "  background-color: #6b6b6b;\n",
              "  color: #f1f1f1;\n",
              "}\n",
              "#T_d180e_row6_col9, #T_d180e_row9_col15 {\n",
              "  font-size: 6pt;\n",
              "  background-color: #222222;\n",
              "  color: #f1f1f1;\n",
              "}\n",
              "#T_d180e_row6_col12, #T_d180e_row6_col18, #T_d180e_row7_col18, #T_d180e_row21_col17 {\n",
              "  font-size: 6pt;\n",
              "  background-color: #171717;\n",
              "  color: #f1f1f1;\n",
              "}\n",
              "#T_d180e_row6_col13, #T_d180e_row7_col15 {\n",
              "  font-size: 6pt;\n",
              "  background-color: #4b4b4b;\n",
              "  color: #f1f1f1;\n",
              "}\n",
              "#T_d180e_row6_col14, #T_d180e_row11_col14, #T_d180e_row12_col12, #T_d180e_row12_col14, #T_d180e_row13_col12, #T_d180e_row13_col14, #T_d180e_row22_col14, #T_d180e_row23_col12 {\n",
              "  font-size: 6pt;\n",
              "  background-color: #010101;\n",
              "  color: #f1f1f1;\n",
              "}\n",
              "#T_d180e_row7_col5 {\n",
              "  font-size: 6pt;\n",
              "  background-color: #272727;\n",
              "  color: #f1f1f1;\n",
              "}\n",
              "#T_d180e_row7_col6 {\n",
              "  font-size: 6pt;\n",
              "  background-color: #0a0a0a;\n",
              "  color: #f1f1f1;\n",
              "}\n",
              "#T_d180e_row7_col7, #T_d180e_row18_col17 {\n",
              "  font-size: 6pt;\n",
              "  background-color: #050505;\n",
              "  color: #f1f1f1;\n",
              "}\n",
              "#T_d180e_row7_col9, #T_d180e_row12_col15, #T_d180e_row14_col19, #T_d180e_row23_col6 {\n",
              "  font-size: 6pt;\n",
              "  background-color: #545454;\n",
              "  color: #f1f1f1;\n",
              "}\n",
              "#T_d180e_row7_col10 {\n",
              "  font-size: 6pt;\n",
              "  background-color: #e6e6e6;\n",
              "  color: #000000;\n",
              "}\n",
              "#T_d180e_row7_col11, #T_d180e_row7_col14, #T_d180e_row12_col9 {\n",
              "  font-size: 6pt;\n",
              "  background-color: #fafafa;\n",
              "  color: #000000;\n",
              "}\n",
              "#T_d180e_row7_col12, #T_d180e_row15_col14, #T_d180e_row20_col19 {\n",
              "  font-size: 6pt;\n",
              "  background-color: #fbfbfb;\n",
              "  color: #000000;\n",
              "}\n",
              "#T_d180e_row7_col13 {\n",
              "  font-size: 6pt;\n",
              "  background-color: #fdfdfd;\n",
              "  color: #000000;\n",
              "}\n",
              "#T_d180e_row8_col8 {\n",
              "  font-size: 6pt;\n",
              "  background-color: #1b1b1b;\n",
              "  color: #f1f1f1;\n",
              "}\n",
              "#T_d180e_row8_col15 {\n",
              "  font-size: 6pt;\n",
              "  background-color: #4e4e4e;\n",
              "  color: #f1f1f1;\n",
              "}\n",
              "#T_d180e_row8_col18 {\n",
              "  font-size: 6pt;\n",
              "  background-color: #767676;\n",
              "  color: #f1f1f1;\n",
              "}\n",
              "#T_d180e_row9_col5 {\n",
              "  font-size: 6pt;\n",
              "  background-color: #fcfcfc;\n",
              "  color: #000000;\n",
              "}\n",
              "#T_d180e_row9_col6, #T_d180e_row9_col7, #T_d180e_row19_col20 {\n",
              "  font-size: 6pt;\n",
              "  background-color: #f6f6f6;\n",
              "  color: #000000;\n",
              "}\n",
              "#T_d180e_row9_col8, #T_d180e_row11_col11 {\n",
              "  font-size: 6pt;\n",
              "  background-color: #f8f8f8;\n",
              "  color: #000000;\n",
              "}\n",
              "#T_d180e_row9_col14, #T_d180e_row14_col11 {\n",
              "  font-size: 6pt;\n",
              "  background-color: #e8e8e8;\n",
              "  color: #000000;\n",
              "}\n",
              "#T_d180e_row9_col17, #T_d180e_row10_col16 {\n",
              "  font-size: 6pt;\n",
              "  background-color: #090909;\n",
              "  color: #f1f1f1;\n",
              "}\n",
              "#T_d180e_row9_col18 {\n",
              "  font-size: 6pt;\n",
              "  background-color: #d0d0d0;\n",
              "  color: #000000;\n",
              "}\n",
              "#T_d180e_row10_col14, #T_d180e_row11_col15, #T_d180e_row13_col10 {\n",
              "  font-size: 6pt;\n",
              "  background-color: #060606;\n",
              "  color: #f1f1f1;\n",
              "}\n",
              "#T_d180e_row10_col17 {\n",
              "  font-size: 6pt;\n",
              "  background-color: #979797;\n",
              "  color: #f1f1f1;\n",
              "}\n",
              "#T_d180e_row11_col12 {\n",
              "  font-size: 6pt;\n",
              "  background-color: #b6b6b6;\n",
              "  color: #000000;\n",
              "}\n",
              "#T_d180e_row11_col13 {\n",
              "  font-size: 6pt;\n",
              "  background-color: #252525;\n",
              "  color: #f1f1f1;\n",
              "}\n",
              "#T_d180e_row11_col16 {\n",
              "  font-size: 6pt;\n",
              "  background-color: #999999;\n",
              "  color: #f1f1f1;\n",
              "}\n",
              "#T_d180e_row12_col11, #T_d180e_row22_col12 {\n",
              "  font-size: 6pt;\n",
              "  background-color: #101010;\n",
              "  color: #f1f1f1;\n",
              "}\n",
              "#T_d180e_row12_col13, #T_d180e_row13_col13, #T_d180e_row21_col14, #T_d180e_row22_col13, #T_d180e_row23_col13 {\n",
              "  font-size: 6pt;\n",
              "  background-color: #020202;\n",
              "  color: #f1f1f1;\n",
              "}\n",
              "#T_d180e_row13_col9 {\n",
              "  font-size: 6pt;\n",
              "  background-color: #f7f7f7;\n",
              "  color: #000000;\n",
              "}\n",
              "#T_d180e_row13_col11, #T_d180e_row22_col15 {\n",
              "  font-size: 6pt;\n",
              "  background-color: #030303;\n",
              "  color: #f1f1f1;\n",
              "}\n",
              "#T_d180e_row13_col16 {\n",
              "  font-size: 6pt;\n",
              "  background-color: #181818;\n",
              "  color: #f1f1f1;\n",
              "}\n",
              "#T_d180e_row13_col17 {\n",
              "  font-size: 6pt;\n",
              "  background-color: #303030;\n",
              "  color: #f1f1f1;\n",
              "}\n",
              "#T_d180e_row13_col18 {\n",
              "  font-size: 6pt;\n",
              "  background-color: #a9a9a9;\n",
              "  color: #f1f1f1;\n",
              "}\n",
              "#T_d180e_row13_col19 {\n",
              "  font-size: 6pt;\n",
              "  background-color: #fefefe;\n",
              "  color: #000000;\n",
              "}\n",
              "#T_d180e_row14_col12, #T_d180e_row14_col13, #T_d180e_row20_col14 {\n",
              "  font-size: 6pt;\n",
              "  background-color: #bababa;\n",
              "  color: #000000;\n",
              "}\n",
              "#T_d180e_row14_col14 {\n",
              "  font-size: 6pt;\n",
              "  background-color: #393939;\n",
              "  color: #f1f1f1;\n",
              "}\n",
              "#T_d180e_row14_col20 {\n",
              "  font-size: 6pt;\n",
              "  background-color: #eaeaea;\n",
              "  color: #000000;\n",
              "}\n",
              "#T_d180e_row15_col15 {\n",
              "  font-size: 6pt;\n",
              "  background-color: #e2e2e2;\n",
              "  color: #000000;\n",
              "}\n",
              "#T_d180e_row15_col16 {\n",
              "  font-size: 6pt;\n",
              "  background-color: #9f9f9f;\n",
              "  color: #f1f1f1;\n",
              "}\n",
              "#T_d180e_row15_col20 {\n",
              "  font-size: 6pt;\n",
              "  background-color: #898989;\n",
              "  color: #f1f1f1;\n",
              "}\n",
              "#T_d180e_row16_col17 {\n",
              "  font-size: 6pt;\n",
              "  background-color: #585858;\n",
              "  color: #f1f1f1;\n",
              "}\n",
              "#T_d180e_row17_col17 {\n",
              "  font-size: 6pt;\n",
              "  background-color: #5a5a5a;\n",
              "  color: #f1f1f1;\n",
              "}\n",
              "#T_d180e_row17_col20 {\n",
              "  font-size: 6pt;\n",
              "  background-color: #525252;\n",
              "  color: #f1f1f1;\n",
              "}\n",
              "#T_d180e_row18_col16, #T_d180e_row23_col15 {\n",
              "  font-size: 6pt;\n",
              "  background-color: #c5c5c5;\n",
              "  color: #000000;\n",
              "}\n",
              "#T_d180e_row18_col20 {\n",
              "  font-size: 6pt;\n",
              "  background-color: #d7d7d7;\n",
              "  color: #000000;\n",
              "}\n",
              "#T_d180e_row19_col15, #T_d180e_row22_col9 {\n",
              "  font-size: 6pt;\n",
              "  background-color: #dcdcdc;\n",
              "  color: #000000;\n",
              "}\n",
              "#T_d180e_row19_col16 {\n",
              "  font-size: 6pt;\n",
              "  background-color: #2f2f2f;\n",
              "  color: #f1f1f1;\n",
              "}\n",
              "#T_d180e_row19_col19 {\n",
              "  font-size: 6pt;\n",
              "  background-color: #636363;\n",
              "  color: #f1f1f1;\n",
              "}\n",
              "#T_d180e_row20_col15 {\n",
              "  font-size: 6pt;\n",
              "  background-color: #070707;\n",
              "  color: #f1f1f1;\n",
              "}\n",
              "#T_d180e_row20_col18 {\n",
              "  font-size: 6pt;\n",
              "  background-color: #1f1f1f;\n",
              "  color: #f1f1f1;\n",
              "}\n",
              "#T_d180e_row21_col12, #T_d180e_row22_col6, #T_d180e_row22_col8 {\n",
              "  font-size: 6pt;\n",
              "  background-color: #e9e9e9;\n",
              "  color: #000000;\n",
              "}\n",
              "#T_d180e_row21_col13 {\n",
              "  font-size: 6pt;\n",
              "  background-color: #7d7d7d;\n",
              "  color: #f1f1f1;\n",
              "}\n",
              "#T_d180e_row21_col18 {\n",
              "  font-size: 6pt;\n",
              "  background-color: #e1e1e1;\n",
              "  color: #000000;\n",
              "}\n",
              "#T_d180e_row22_col7, #T_d180e_row22_col10 {\n",
              "  font-size: 6pt;\n",
              "  background-color: #a4a4a4;\n",
              "  color: #f1f1f1;\n",
              "}\n",
              "#T_d180e_row22_col11 {\n",
              "  font-size: 6pt;\n",
              "  background-color: #727272;\n",
              "  color: #f1f1f1;\n",
              "}\n",
              "#T_d180e_row22_col16 {\n",
              "  font-size: 6pt;\n",
              "  background-color: #616161;\n",
              "  color: #f1f1f1;\n",
              "}\n",
              "#T_d180e_row22_col17 {\n",
              "  font-size: 6pt;\n",
              "  background-color: #f3f3f3;\n",
              "  color: #000000;\n",
              "}\n",
              "#T_d180e_row23_col14 {\n",
              "  font-size: 6pt;\n",
              "  background-color: #484848;\n",
              "  color: #f1f1f1;\n",
              "}\n",
              "#T_d180e_row24_col6 {\n",
              "  font-size: 6pt;\n",
              "  background-color: #b3b3b3;\n",
              "  color: #000000;\n",
              "}\n",
              "#T_d180e_row24_col12 {\n",
              "  font-size: 6pt;\n",
              "  background-color: #1a1a1a;\n",
              "  color: #f1f1f1;\n",
              "}\n",
              "#T_d180e_row24_col13 {\n",
              "  font-size: 6pt;\n",
              "  background-color: #d6d6d6;\n",
              "  color: #000000;\n",
              "}\n",
              "</style>\n",
              "<table id=\"T_d180e_\" class=\"dataframe\">\n",
              "  <thead>\n",
              "    <tr>\n",
              "      <th class=\"blank level0\" >&nbsp;</th>\n",
              "      <th class=\"col_heading level0 col0\" >0</th>\n",
              "      <th class=\"col_heading level0 col1\" >1</th>\n",
              "      <th class=\"col_heading level0 col2\" >2</th>\n",
              "      <th class=\"col_heading level0 col3\" >3</th>\n",
              "      <th class=\"col_heading level0 col4\" >4</th>\n",
              "      <th class=\"col_heading level0 col5\" >5</th>\n",
              "      <th class=\"col_heading level0 col6\" >6</th>\n",
              "      <th class=\"col_heading level0 col7\" >7</th>\n",
              "      <th class=\"col_heading level0 col8\" >8</th>\n",
              "      <th class=\"col_heading level0 col9\" >9</th>\n",
              "      <th class=\"col_heading level0 col10\" >10</th>\n",
              "      <th class=\"col_heading level0 col11\" >11</th>\n",
              "      <th class=\"col_heading level0 col12\" >12</th>\n",
              "      <th class=\"col_heading level0 col13\" >13</th>\n",
              "      <th class=\"col_heading level0 col14\" >14</th>\n",
              "      <th class=\"col_heading level0 col15\" >15</th>\n",
              "      <th class=\"col_heading level0 col16\" >16</th>\n",
              "      <th class=\"col_heading level0 col17\" >17</th>\n",
              "      <th class=\"col_heading level0 col18\" >18</th>\n",
              "      <th class=\"col_heading level0 col19\" >19</th>\n",
              "      <th class=\"col_heading level0 col20\" >20</th>\n",
              "      <th class=\"col_heading level0 col21\" >21</th>\n",
              "      <th class=\"col_heading level0 col22\" >22</th>\n",
              "      <th class=\"col_heading level0 col23\" >23</th>\n",
              "      <th class=\"col_heading level0 col24\" >24</th>\n",
              "      <th class=\"col_heading level0 col25\" >25</th>\n",
              "      <th class=\"col_heading level0 col26\" >26</th>\n",
              "      <th class=\"col_heading level0 col27\" >27</th>\n",
              "    </tr>\n",
              "  </thead>\n",
              "  <tbody>\n",
              "    <tr>\n",
              "      <th id=\"T_d180e_level0_row0\" class=\"row_heading level0 row0\" >0</th>\n",
              "      <td id=\"T_d180e_row0_col0\" class=\"data row0 col0\" >0</td>\n",
              "      <td id=\"T_d180e_row0_col1\" class=\"data row0 col1\" >0</td>\n",
              "      <td id=\"T_d180e_row0_col2\" class=\"data row0 col2\" >0</td>\n",
              "      <td id=\"T_d180e_row0_col3\" class=\"data row0 col3\" >0</td>\n",
              "      <td id=\"T_d180e_row0_col4\" class=\"data row0 col4\" >0</td>\n",
              "      <td id=\"T_d180e_row0_col5\" class=\"data row0 col5\" >0</td>\n",
              "      <td id=\"T_d180e_row0_col6\" class=\"data row0 col6\" >0</td>\n",
              "      <td id=\"T_d180e_row0_col7\" class=\"data row0 col7\" >0</td>\n",
              "      <td id=\"T_d180e_row0_col8\" class=\"data row0 col8\" >0</td>\n",
              "      <td id=\"T_d180e_row0_col9\" class=\"data row0 col9\" >0</td>\n",
              "      <td id=\"T_d180e_row0_col10\" class=\"data row0 col10\" >0</td>\n",
              "      <td id=\"T_d180e_row0_col11\" class=\"data row0 col11\" >0</td>\n",
              "      <td id=\"T_d180e_row0_col12\" class=\"data row0 col12\" >0</td>\n",
              "      <td id=\"T_d180e_row0_col13\" class=\"data row0 col13\" >0</td>\n",
              "      <td id=\"T_d180e_row0_col14\" class=\"data row0 col14\" >0</td>\n",
              "      <td id=\"T_d180e_row0_col15\" class=\"data row0 col15\" >0</td>\n",
              "      <td id=\"T_d180e_row0_col16\" class=\"data row0 col16\" >0</td>\n",
              "      <td id=\"T_d180e_row0_col17\" class=\"data row0 col17\" >0</td>\n",
              "      <td id=\"T_d180e_row0_col18\" class=\"data row0 col18\" >0</td>\n",
              "      <td id=\"T_d180e_row0_col19\" class=\"data row0 col19\" >0</td>\n",
              "      <td id=\"T_d180e_row0_col20\" class=\"data row0 col20\" >0</td>\n",
              "      <td id=\"T_d180e_row0_col21\" class=\"data row0 col21\" >0</td>\n",
              "      <td id=\"T_d180e_row0_col22\" class=\"data row0 col22\" >0</td>\n",
              "      <td id=\"T_d180e_row0_col23\" class=\"data row0 col23\" >0</td>\n",
              "      <td id=\"T_d180e_row0_col24\" class=\"data row0 col24\" >0</td>\n",
              "      <td id=\"T_d180e_row0_col25\" class=\"data row0 col25\" >0</td>\n",
              "      <td id=\"T_d180e_row0_col26\" class=\"data row0 col26\" >0</td>\n",
              "      <td id=\"T_d180e_row0_col27\" class=\"data row0 col27\" >0</td>\n",
              "    </tr>\n",
              "    <tr>\n",
              "      <th id=\"T_d180e_level0_row1\" class=\"row_heading level0 row1\" >1</th>\n",
              "      <td id=\"T_d180e_row1_col0\" class=\"data row1 col0\" >0</td>\n",
              "      <td id=\"T_d180e_row1_col1\" class=\"data row1 col1\" >0</td>\n",
              "      <td id=\"T_d180e_row1_col2\" class=\"data row1 col2\" >0</td>\n",
              "      <td id=\"T_d180e_row1_col3\" class=\"data row1 col3\" >0</td>\n",
              "      <td id=\"T_d180e_row1_col4\" class=\"data row1 col4\" >0</td>\n",
              "      <td id=\"T_d180e_row1_col5\" class=\"data row1 col5\" >0</td>\n",
              "      <td id=\"T_d180e_row1_col6\" class=\"data row1 col6\" >0</td>\n",
              "      <td id=\"T_d180e_row1_col7\" class=\"data row1 col7\" >0</td>\n",
              "      <td id=\"T_d180e_row1_col8\" class=\"data row1 col8\" >0</td>\n",
              "      <td id=\"T_d180e_row1_col9\" class=\"data row1 col9\" >0</td>\n",
              "      <td id=\"T_d180e_row1_col10\" class=\"data row1 col10\" >0</td>\n",
              "      <td id=\"T_d180e_row1_col11\" class=\"data row1 col11\" >0</td>\n",
              "      <td id=\"T_d180e_row1_col12\" class=\"data row1 col12\" >0</td>\n",
              "      <td id=\"T_d180e_row1_col13\" class=\"data row1 col13\" >0</td>\n",
              "      <td id=\"T_d180e_row1_col14\" class=\"data row1 col14\" >0</td>\n",
              "      <td id=\"T_d180e_row1_col15\" class=\"data row1 col15\" >0</td>\n",
              "      <td id=\"T_d180e_row1_col16\" class=\"data row1 col16\" >0</td>\n",
              "      <td id=\"T_d180e_row1_col17\" class=\"data row1 col17\" >0</td>\n",
              "      <td id=\"T_d180e_row1_col18\" class=\"data row1 col18\" >0</td>\n",
              "      <td id=\"T_d180e_row1_col19\" class=\"data row1 col19\" >0</td>\n",
              "      <td id=\"T_d180e_row1_col20\" class=\"data row1 col20\" >0</td>\n",
              "      <td id=\"T_d180e_row1_col21\" class=\"data row1 col21\" >0</td>\n",
              "      <td id=\"T_d180e_row1_col22\" class=\"data row1 col22\" >0</td>\n",
              "      <td id=\"T_d180e_row1_col23\" class=\"data row1 col23\" >0</td>\n",
              "      <td id=\"T_d180e_row1_col24\" class=\"data row1 col24\" >0</td>\n",
              "      <td id=\"T_d180e_row1_col25\" class=\"data row1 col25\" >0</td>\n",
              "      <td id=\"T_d180e_row1_col26\" class=\"data row1 col26\" >0</td>\n",
              "      <td id=\"T_d180e_row1_col27\" class=\"data row1 col27\" >0</td>\n",
              "    </tr>\n",
              "    <tr>\n",
              "      <th id=\"T_d180e_level0_row2\" class=\"row_heading level0 row2\" >2</th>\n",
              "      <td id=\"T_d180e_row2_col0\" class=\"data row2 col0\" >0</td>\n",
              "      <td id=\"T_d180e_row2_col1\" class=\"data row2 col1\" >0</td>\n",
              "      <td id=\"T_d180e_row2_col2\" class=\"data row2 col2\" >0</td>\n",
              "      <td id=\"T_d180e_row2_col3\" class=\"data row2 col3\" >0</td>\n",
              "      <td id=\"T_d180e_row2_col4\" class=\"data row2 col4\" >0</td>\n",
              "      <td id=\"T_d180e_row2_col5\" class=\"data row2 col5\" >0</td>\n",
              "      <td id=\"T_d180e_row2_col6\" class=\"data row2 col6\" >0</td>\n",
              "      <td id=\"T_d180e_row2_col7\" class=\"data row2 col7\" >0</td>\n",
              "      <td id=\"T_d180e_row2_col8\" class=\"data row2 col8\" >0</td>\n",
              "      <td id=\"T_d180e_row2_col9\" class=\"data row2 col9\" >0</td>\n",
              "      <td id=\"T_d180e_row2_col10\" class=\"data row2 col10\" >0</td>\n",
              "      <td id=\"T_d180e_row2_col11\" class=\"data row2 col11\" >0</td>\n",
              "      <td id=\"T_d180e_row2_col12\" class=\"data row2 col12\" >0</td>\n",
              "      <td id=\"T_d180e_row2_col13\" class=\"data row2 col13\" >0</td>\n",
              "      <td id=\"T_d180e_row2_col14\" class=\"data row2 col14\" >0</td>\n",
              "      <td id=\"T_d180e_row2_col15\" class=\"data row2 col15\" >0</td>\n",
              "      <td id=\"T_d180e_row2_col16\" class=\"data row2 col16\" >0</td>\n",
              "      <td id=\"T_d180e_row2_col17\" class=\"data row2 col17\" >0</td>\n",
              "      <td id=\"T_d180e_row2_col18\" class=\"data row2 col18\" >0</td>\n",
              "      <td id=\"T_d180e_row2_col19\" class=\"data row2 col19\" >0</td>\n",
              "      <td id=\"T_d180e_row2_col20\" class=\"data row2 col20\" >0</td>\n",
              "      <td id=\"T_d180e_row2_col21\" class=\"data row2 col21\" >0</td>\n",
              "      <td id=\"T_d180e_row2_col22\" class=\"data row2 col22\" >0</td>\n",
              "      <td id=\"T_d180e_row2_col23\" class=\"data row2 col23\" >0</td>\n",
              "      <td id=\"T_d180e_row2_col24\" class=\"data row2 col24\" >0</td>\n",
              "      <td id=\"T_d180e_row2_col25\" class=\"data row2 col25\" >0</td>\n",
              "      <td id=\"T_d180e_row2_col26\" class=\"data row2 col26\" >0</td>\n",
              "      <td id=\"T_d180e_row2_col27\" class=\"data row2 col27\" >0</td>\n",
              "    </tr>\n",
              "    <tr>\n",
              "      <th id=\"T_d180e_level0_row3\" class=\"row_heading level0 row3\" >3</th>\n",
              "      <td id=\"T_d180e_row3_col0\" class=\"data row3 col0\" >0</td>\n",
              "      <td id=\"T_d180e_row3_col1\" class=\"data row3 col1\" >0</td>\n",
              "      <td id=\"T_d180e_row3_col2\" class=\"data row3 col2\" >0</td>\n",
              "      <td id=\"T_d180e_row3_col3\" class=\"data row3 col3\" >0</td>\n",
              "      <td id=\"T_d180e_row3_col4\" class=\"data row3 col4\" >0</td>\n",
              "      <td id=\"T_d180e_row3_col5\" class=\"data row3 col5\" >0</td>\n",
              "      <td id=\"T_d180e_row3_col6\" class=\"data row3 col6\" >0</td>\n",
              "      <td id=\"T_d180e_row3_col7\" class=\"data row3 col7\" >0</td>\n",
              "      <td id=\"T_d180e_row3_col8\" class=\"data row3 col8\" >0</td>\n",
              "      <td id=\"T_d180e_row3_col9\" class=\"data row3 col9\" >0</td>\n",
              "      <td id=\"T_d180e_row3_col10\" class=\"data row3 col10\" >0</td>\n",
              "      <td id=\"T_d180e_row3_col11\" class=\"data row3 col11\" >0</td>\n",
              "      <td id=\"T_d180e_row3_col12\" class=\"data row3 col12\" >0</td>\n",
              "      <td id=\"T_d180e_row3_col13\" class=\"data row3 col13\" >0</td>\n",
              "      <td id=\"T_d180e_row3_col14\" class=\"data row3 col14\" >0</td>\n",
              "      <td id=\"T_d180e_row3_col15\" class=\"data row3 col15\" >0</td>\n",
              "      <td id=\"T_d180e_row3_col16\" class=\"data row3 col16\" >0</td>\n",
              "      <td id=\"T_d180e_row3_col17\" class=\"data row3 col17\" >0</td>\n",
              "      <td id=\"T_d180e_row3_col18\" class=\"data row3 col18\" >0</td>\n",
              "      <td id=\"T_d180e_row3_col19\" class=\"data row3 col19\" >0</td>\n",
              "      <td id=\"T_d180e_row3_col20\" class=\"data row3 col20\" >0</td>\n",
              "      <td id=\"T_d180e_row3_col21\" class=\"data row3 col21\" >0</td>\n",
              "      <td id=\"T_d180e_row3_col22\" class=\"data row3 col22\" >0</td>\n",
              "      <td id=\"T_d180e_row3_col23\" class=\"data row3 col23\" >0</td>\n",
              "      <td id=\"T_d180e_row3_col24\" class=\"data row3 col24\" >0</td>\n",
              "      <td id=\"T_d180e_row3_col25\" class=\"data row3 col25\" >0</td>\n",
              "      <td id=\"T_d180e_row3_col26\" class=\"data row3 col26\" >0</td>\n",
              "      <td id=\"T_d180e_row3_col27\" class=\"data row3 col27\" >0</td>\n",
              "    </tr>\n",
              "    <tr>\n",
              "      <th id=\"T_d180e_level0_row4\" class=\"row_heading level0 row4\" >4</th>\n",
              "      <td id=\"T_d180e_row4_col0\" class=\"data row4 col0\" >0</td>\n",
              "      <td id=\"T_d180e_row4_col1\" class=\"data row4 col1\" >0</td>\n",
              "      <td id=\"T_d180e_row4_col2\" class=\"data row4 col2\" >0</td>\n",
              "      <td id=\"T_d180e_row4_col3\" class=\"data row4 col3\" >0</td>\n",
              "      <td id=\"T_d180e_row4_col4\" class=\"data row4 col4\" >0</td>\n",
              "      <td id=\"T_d180e_row4_col5\" class=\"data row4 col5\" >0</td>\n",
              "      <td id=\"T_d180e_row4_col6\" class=\"data row4 col6\" >0</td>\n",
              "      <td id=\"T_d180e_row4_col7\" class=\"data row4 col7\" >0</td>\n",
              "      <td id=\"T_d180e_row4_col8\" class=\"data row4 col8\" >0</td>\n",
              "      <td id=\"T_d180e_row4_col9\" class=\"data row4 col9\" >0</td>\n",
              "      <td id=\"T_d180e_row4_col10\" class=\"data row4 col10\" >0</td>\n",
              "      <td id=\"T_d180e_row4_col11\" class=\"data row4 col11\" >0</td>\n",
              "      <td id=\"T_d180e_row4_col12\" class=\"data row4 col12\" >0</td>\n",
              "      <td id=\"T_d180e_row4_col13\" class=\"data row4 col13\" >0</td>\n",
              "      <td id=\"T_d180e_row4_col14\" class=\"data row4 col14\" >0</td>\n",
              "      <td id=\"T_d180e_row4_col15\" class=\"data row4 col15\" >0</td>\n",
              "      <td id=\"T_d180e_row4_col16\" class=\"data row4 col16\" >0</td>\n",
              "      <td id=\"T_d180e_row4_col17\" class=\"data row4 col17\" >0</td>\n",
              "      <td id=\"T_d180e_row4_col18\" class=\"data row4 col18\" >0</td>\n",
              "      <td id=\"T_d180e_row4_col19\" class=\"data row4 col19\" >0</td>\n",
              "      <td id=\"T_d180e_row4_col20\" class=\"data row4 col20\" >0</td>\n",
              "      <td id=\"T_d180e_row4_col21\" class=\"data row4 col21\" >0</td>\n",
              "      <td id=\"T_d180e_row4_col22\" class=\"data row4 col22\" >0</td>\n",
              "      <td id=\"T_d180e_row4_col23\" class=\"data row4 col23\" >0</td>\n",
              "      <td id=\"T_d180e_row4_col24\" class=\"data row4 col24\" >0</td>\n",
              "      <td id=\"T_d180e_row4_col25\" class=\"data row4 col25\" >0</td>\n",
              "      <td id=\"T_d180e_row4_col26\" class=\"data row4 col26\" >0</td>\n",
              "      <td id=\"T_d180e_row4_col27\" class=\"data row4 col27\" >0</td>\n",
              "    </tr>\n",
              "    <tr>\n",
              "      <th id=\"T_d180e_level0_row5\" class=\"row_heading level0 row5\" >5</th>\n",
              "      <td id=\"T_d180e_row5_col0\" class=\"data row5 col0\" >0</td>\n",
              "      <td id=\"T_d180e_row5_col1\" class=\"data row5 col1\" >0</td>\n",
              "      <td id=\"T_d180e_row5_col2\" class=\"data row5 col2\" >0</td>\n",
              "      <td id=\"T_d180e_row5_col3\" class=\"data row5 col3\" >0</td>\n",
              "      <td id=\"T_d180e_row5_col4\" class=\"data row5 col4\" >0</td>\n",
              "      <td id=\"T_d180e_row5_col5\" class=\"data row5 col5\" >0</td>\n",
              "      <td id=\"T_d180e_row5_col6\" class=\"data row5 col6\" >0</td>\n",
              "      <td id=\"T_d180e_row5_col7\" class=\"data row5 col7\" >0</td>\n",
              "      <td id=\"T_d180e_row5_col8\" class=\"data row5 col8\" >0</td>\n",
              "      <td id=\"T_d180e_row5_col9\" class=\"data row5 col9\" >29</td>\n",
              "      <td id=\"T_d180e_row5_col10\" class=\"data row5 col10\" >150</td>\n",
              "      <td id=\"T_d180e_row5_col11\" class=\"data row5 col11\" >195</td>\n",
              "      <td id=\"T_d180e_row5_col12\" class=\"data row5 col12\" >254</td>\n",
              "      <td id=\"T_d180e_row5_col13\" class=\"data row5 col13\" >255</td>\n",
              "      <td id=\"T_d180e_row5_col14\" class=\"data row5 col14\" >254</td>\n",
              "      <td id=\"T_d180e_row5_col15\" class=\"data row5 col15\" >176</td>\n",
              "      <td id=\"T_d180e_row5_col16\" class=\"data row5 col16\" >193</td>\n",
              "      <td id=\"T_d180e_row5_col17\" class=\"data row5 col17\" >150</td>\n",
              "      <td id=\"T_d180e_row5_col18\" class=\"data row5 col18\" >96</td>\n",
              "      <td id=\"T_d180e_row5_col19\" class=\"data row5 col19\" >0</td>\n",
              "      <td id=\"T_d180e_row5_col20\" class=\"data row5 col20\" >0</td>\n",
              "      <td id=\"T_d180e_row5_col21\" class=\"data row5 col21\" >0</td>\n",
              "      <td id=\"T_d180e_row5_col22\" class=\"data row5 col22\" >0</td>\n",
              "      <td id=\"T_d180e_row5_col23\" class=\"data row5 col23\" >0</td>\n",
              "      <td id=\"T_d180e_row5_col24\" class=\"data row5 col24\" >0</td>\n",
              "      <td id=\"T_d180e_row5_col25\" class=\"data row5 col25\" >0</td>\n",
              "      <td id=\"T_d180e_row5_col26\" class=\"data row5 col26\" >0</td>\n",
              "      <td id=\"T_d180e_row5_col27\" class=\"data row5 col27\" >0</td>\n",
              "    </tr>\n",
              "    <tr>\n",
              "      <th id=\"T_d180e_level0_row6\" class=\"row_heading level0 row6\" >6</th>\n",
              "      <td id=\"T_d180e_row6_col0\" class=\"data row6 col0\" >0</td>\n",
              "      <td id=\"T_d180e_row6_col1\" class=\"data row6 col1\" >0</td>\n",
              "      <td id=\"T_d180e_row6_col2\" class=\"data row6 col2\" >0</td>\n",
              "      <td id=\"T_d180e_row6_col3\" class=\"data row6 col3\" >0</td>\n",
              "      <td id=\"T_d180e_row6_col4\" class=\"data row6 col4\" >0</td>\n",
              "      <td id=\"T_d180e_row6_col5\" class=\"data row6 col5\" >0</td>\n",
              "      <td id=\"T_d180e_row6_col6\" class=\"data row6 col6\" >0</td>\n",
              "      <td id=\"T_d180e_row6_col7\" class=\"data row6 col7\" >48</td>\n",
              "      <td id=\"T_d180e_row6_col8\" class=\"data row6 col8\" >166</td>\n",
              "      <td id=\"T_d180e_row6_col9\" class=\"data row6 col9\" >224</td>\n",
              "      <td id=\"T_d180e_row6_col10\" class=\"data row6 col10\" >253</td>\n",
              "      <td id=\"T_d180e_row6_col11\" class=\"data row6 col11\" >253</td>\n",
              "      <td id=\"T_d180e_row6_col12\" class=\"data row6 col12\" >234</td>\n",
              "      <td id=\"T_d180e_row6_col13\" class=\"data row6 col13\" >196</td>\n",
              "      <td id=\"T_d180e_row6_col14\" class=\"data row6 col14\" >253</td>\n",
              "      <td id=\"T_d180e_row6_col15\" class=\"data row6 col15\" >253</td>\n",
              "      <td id=\"T_d180e_row6_col16\" class=\"data row6 col16\" >253</td>\n",
              "      <td id=\"T_d180e_row6_col17\" class=\"data row6 col17\" >253</td>\n",
              "      <td id=\"T_d180e_row6_col18\" class=\"data row6 col18\" >233</td>\n",
              "      <td id=\"T_d180e_row6_col19\" class=\"data row6 col19\" >0</td>\n",
              "      <td id=\"T_d180e_row6_col20\" class=\"data row6 col20\" >0</td>\n",
              "      <td id=\"T_d180e_row6_col21\" class=\"data row6 col21\" >0</td>\n",
              "      <td id=\"T_d180e_row6_col22\" class=\"data row6 col22\" >0</td>\n",
              "      <td id=\"T_d180e_row6_col23\" class=\"data row6 col23\" >0</td>\n",
              "      <td id=\"T_d180e_row6_col24\" class=\"data row6 col24\" >0</td>\n",
              "      <td id=\"T_d180e_row6_col25\" class=\"data row6 col25\" >0</td>\n",
              "      <td id=\"T_d180e_row6_col26\" class=\"data row6 col26\" >0</td>\n",
              "      <td id=\"T_d180e_row6_col27\" class=\"data row6 col27\" >0</td>\n",
              "    </tr>\n",
              "    <tr>\n",
              "      <th id=\"T_d180e_level0_row7\" class=\"row_heading level0 row7\" >7</th>\n",
              "      <td id=\"T_d180e_row7_col0\" class=\"data row7 col0\" >0</td>\n",
              "      <td id=\"T_d180e_row7_col1\" class=\"data row7 col1\" >0</td>\n",
              "      <td id=\"T_d180e_row7_col2\" class=\"data row7 col2\" >0</td>\n",
              "      <td id=\"T_d180e_row7_col3\" class=\"data row7 col3\" >0</td>\n",
              "      <td id=\"T_d180e_row7_col4\" class=\"data row7 col4\" >0</td>\n",
              "      <td id=\"T_d180e_row7_col5\" class=\"data row7 col5\" >93</td>\n",
              "      <td id=\"T_d180e_row7_col6\" class=\"data row7 col6\" >244</td>\n",
              "      <td id=\"T_d180e_row7_col7\" class=\"data row7 col7\" >249</td>\n",
              "      <td id=\"T_d180e_row7_col8\" class=\"data row7 col8\" >253</td>\n",
              "      <td id=\"T_d180e_row7_col9\" class=\"data row7 col9\" >187</td>\n",
              "      <td id=\"T_d180e_row7_col10\" class=\"data row7 col10\" >46</td>\n",
              "      <td id=\"T_d180e_row7_col11\" class=\"data row7 col11\" >10</td>\n",
              "      <td id=\"T_d180e_row7_col12\" class=\"data row7 col12\" >8</td>\n",
              "      <td id=\"T_d180e_row7_col13\" class=\"data row7 col13\" >4</td>\n",
              "      <td id=\"T_d180e_row7_col14\" class=\"data row7 col14\" >10</td>\n",
              "      <td id=\"T_d180e_row7_col15\" class=\"data row7 col15\" >194</td>\n",
              "      <td id=\"T_d180e_row7_col16\" class=\"data row7 col16\" >253</td>\n",
              "      <td id=\"T_d180e_row7_col17\" class=\"data row7 col17\" >253</td>\n",
              "      <td id=\"T_d180e_row7_col18\" class=\"data row7 col18\" >233</td>\n",
              "      <td id=\"T_d180e_row7_col19\" class=\"data row7 col19\" >0</td>\n",
              "      <td id=\"T_d180e_row7_col20\" class=\"data row7 col20\" >0</td>\n",
              "      <td id=\"T_d180e_row7_col21\" class=\"data row7 col21\" >0</td>\n",
              "      <td id=\"T_d180e_row7_col22\" class=\"data row7 col22\" >0</td>\n",
              "      <td id=\"T_d180e_row7_col23\" class=\"data row7 col23\" >0</td>\n",
              "      <td id=\"T_d180e_row7_col24\" class=\"data row7 col24\" >0</td>\n",
              "      <td id=\"T_d180e_row7_col25\" class=\"data row7 col25\" >0</td>\n",
              "      <td id=\"T_d180e_row7_col26\" class=\"data row7 col26\" >0</td>\n",
              "      <td id=\"T_d180e_row7_col27\" class=\"data row7 col27\" >0</td>\n",
              "    </tr>\n",
              "    <tr>\n",
              "      <th id=\"T_d180e_level0_row8\" class=\"row_heading level0 row8\" >8</th>\n",
              "      <td id=\"T_d180e_row8_col0\" class=\"data row8 col0\" >0</td>\n",
              "      <td id=\"T_d180e_row8_col1\" class=\"data row8 col1\" >0</td>\n",
              "      <td id=\"T_d180e_row8_col2\" class=\"data row8 col2\" >0</td>\n",
              "      <td id=\"T_d180e_row8_col3\" class=\"data row8 col3\" >0</td>\n",
              "      <td id=\"T_d180e_row8_col4\" class=\"data row8 col4\" >0</td>\n",
              "      <td id=\"T_d180e_row8_col5\" class=\"data row8 col5\" >107</td>\n",
              "      <td id=\"T_d180e_row8_col6\" class=\"data row8 col6\" >253</td>\n",
              "      <td id=\"T_d180e_row8_col7\" class=\"data row8 col7\" >253</td>\n",
              "      <td id=\"T_d180e_row8_col8\" class=\"data row8 col8\" >230</td>\n",
              "      <td id=\"T_d180e_row8_col9\" class=\"data row8 col9\" >48</td>\n",
              "      <td id=\"T_d180e_row8_col10\" class=\"data row8 col10\" >0</td>\n",
              "      <td id=\"T_d180e_row8_col11\" class=\"data row8 col11\" >0</td>\n",
              "      <td id=\"T_d180e_row8_col12\" class=\"data row8 col12\" >0</td>\n",
              "      <td id=\"T_d180e_row8_col13\" class=\"data row8 col13\" >0</td>\n",
              "      <td id=\"T_d180e_row8_col14\" class=\"data row8 col14\" >0</td>\n",
              "      <td id=\"T_d180e_row8_col15\" class=\"data row8 col15\" >192</td>\n",
              "      <td id=\"T_d180e_row8_col16\" class=\"data row8 col16\" >253</td>\n",
              "      <td id=\"T_d180e_row8_col17\" class=\"data row8 col17\" >253</td>\n",
              "      <td id=\"T_d180e_row8_col18\" class=\"data row8 col18\" >156</td>\n",
              "      <td id=\"T_d180e_row8_col19\" class=\"data row8 col19\" >0</td>\n",
              "      <td id=\"T_d180e_row8_col20\" class=\"data row8 col20\" >0</td>\n",
              "      <td id=\"T_d180e_row8_col21\" class=\"data row8 col21\" >0</td>\n",
              "      <td id=\"T_d180e_row8_col22\" class=\"data row8 col22\" >0</td>\n",
              "      <td id=\"T_d180e_row8_col23\" class=\"data row8 col23\" >0</td>\n",
              "      <td id=\"T_d180e_row8_col24\" class=\"data row8 col24\" >0</td>\n",
              "      <td id=\"T_d180e_row8_col25\" class=\"data row8 col25\" >0</td>\n",
              "      <td id=\"T_d180e_row8_col26\" class=\"data row8 col26\" >0</td>\n",
              "      <td id=\"T_d180e_row8_col27\" class=\"data row8 col27\" >0</td>\n",
              "    </tr>\n",
              "    <tr>\n",
              "      <th id=\"T_d180e_level0_row9\" class=\"row_heading level0 row9\" >9</th>\n",
              "      <td id=\"T_d180e_row9_col0\" class=\"data row9 col0\" >0</td>\n",
              "      <td id=\"T_d180e_row9_col1\" class=\"data row9 col1\" >0</td>\n",
              "      <td id=\"T_d180e_row9_col2\" class=\"data row9 col2\" >0</td>\n",
              "      <td id=\"T_d180e_row9_col3\" class=\"data row9 col3\" >0</td>\n",
              "      <td id=\"T_d180e_row9_col4\" class=\"data row9 col4\" >0</td>\n",
              "      <td id=\"T_d180e_row9_col5\" class=\"data row9 col5\" >3</td>\n",
              "      <td id=\"T_d180e_row9_col6\" class=\"data row9 col6\" >20</td>\n",
              "      <td id=\"T_d180e_row9_col7\" class=\"data row9 col7\" >20</td>\n",
              "      <td id=\"T_d180e_row9_col8\" class=\"data row9 col8\" >15</td>\n",
              "      <td id=\"T_d180e_row9_col9\" class=\"data row9 col9\" >0</td>\n",
              "      <td id=\"T_d180e_row9_col10\" class=\"data row9 col10\" >0</td>\n",
              "      <td id=\"T_d180e_row9_col11\" class=\"data row9 col11\" >0</td>\n",
              "      <td id=\"T_d180e_row9_col12\" class=\"data row9 col12\" >0</td>\n",
              "      <td id=\"T_d180e_row9_col13\" class=\"data row9 col13\" >0</td>\n",
              "      <td id=\"T_d180e_row9_col14\" class=\"data row9 col14\" >43</td>\n",
              "      <td id=\"T_d180e_row9_col15\" class=\"data row9 col15\" >224</td>\n",
              "      <td id=\"T_d180e_row9_col16\" class=\"data row9 col16\" >253</td>\n",
              "      <td id=\"T_d180e_row9_col17\" class=\"data row9 col17\" >245</td>\n",
              "      <td id=\"T_d180e_row9_col18\" class=\"data row9 col18\" >74</td>\n",
              "      <td id=\"T_d180e_row9_col19\" class=\"data row9 col19\" >0</td>\n",
              "      <td id=\"T_d180e_row9_col20\" class=\"data row9 col20\" >0</td>\n",
              "      <td id=\"T_d180e_row9_col21\" class=\"data row9 col21\" >0</td>\n",
              "      <td id=\"T_d180e_row9_col22\" class=\"data row9 col22\" >0</td>\n",
              "      <td id=\"T_d180e_row9_col23\" class=\"data row9 col23\" >0</td>\n",
              "      <td id=\"T_d180e_row9_col24\" class=\"data row9 col24\" >0</td>\n",
              "      <td id=\"T_d180e_row9_col25\" class=\"data row9 col25\" >0</td>\n",
              "      <td id=\"T_d180e_row9_col26\" class=\"data row9 col26\" >0</td>\n",
              "      <td id=\"T_d180e_row9_col27\" class=\"data row9 col27\" >0</td>\n",
              "    </tr>\n",
              "    <tr>\n",
              "      <th id=\"T_d180e_level0_row10\" class=\"row_heading level0 row10\" >10</th>\n",
              "      <td id=\"T_d180e_row10_col0\" class=\"data row10 col0\" >0</td>\n",
              "      <td id=\"T_d180e_row10_col1\" class=\"data row10 col1\" >0</td>\n",
              "      <td id=\"T_d180e_row10_col2\" class=\"data row10 col2\" >0</td>\n",
              "      <td id=\"T_d180e_row10_col3\" class=\"data row10 col3\" >0</td>\n",
              "      <td id=\"T_d180e_row10_col4\" class=\"data row10 col4\" >0</td>\n",
              "      <td id=\"T_d180e_row10_col5\" class=\"data row10 col5\" >0</td>\n",
              "      <td id=\"T_d180e_row10_col6\" class=\"data row10 col6\" >0</td>\n",
              "      <td id=\"T_d180e_row10_col7\" class=\"data row10 col7\" >0</td>\n",
              "      <td id=\"T_d180e_row10_col8\" class=\"data row10 col8\" >0</td>\n",
              "      <td id=\"T_d180e_row10_col9\" class=\"data row10 col9\" >0</td>\n",
              "      <td id=\"T_d180e_row10_col10\" class=\"data row10 col10\" >0</td>\n",
              "      <td id=\"T_d180e_row10_col11\" class=\"data row10 col11\" >0</td>\n",
              "      <td id=\"T_d180e_row10_col12\" class=\"data row10 col12\" >0</td>\n",
              "      <td id=\"T_d180e_row10_col13\" class=\"data row10 col13\" >0</td>\n",
              "      <td id=\"T_d180e_row10_col14\" class=\"data row10 col14\" >249</td>\n",
              "      <td id=\"T_d180e_row10_col15\" class=\"data row10 col15\" >253</td>\n",
              "      <td id=\"T_d180e_row10_col16\" class=\"data row10 col16\" >245</td>\n",
              "      <td id=\"T_d180e_row10_col17\" class=\"data row10 col17\" >126</td>\n",
              "      <td id=\"T_d180e_row10_col18\" class=\"data row10 col18\" >0</td>\n",
              "      <td id=\"T_d180e_row10_col19\" class=\"data row10 col19\" >0</td>\n",
              "      <td id=\"T_d180e_row10_col20\" class=\"data row10 col20\" >0</td>\n",
              "      <td id=\"T_d180e_row10_col21\" class=\"data row10 col21\" >0</td>\n",
              "      <td id=\"T_d180e_row10_col22\" class=\"data row10 col22\" >0</td>\n",
              "      <td id=\"T_d180e_row10_col23\" class=\"data row10 col23\" >0</td>\n",
              "      <td id=\"T_d180e_row10_col24\" class=\"data row10 col24\" >0</td>\n",
              "      <td id=\"T_d180e_row10_col25\" class=\"data row10 col25\" >0</td>\n",
              "      <td id=\"T_d180e_row10_col26\" class=\"data row10 col26\" >0</td>\n",
              "      <td id=\"T_d180e_row10_col27\" class=\"data row10 col27\" >0</td>\n",
              "    </tr>\n",
              "    <tr>\n",
              "      <th id=\"T_d180e_level0_row11\" class=\"row_heading level0 row11\" >11</th>\n",
              "      <td id=\"T_d180e_row11_col0\" class=\"data row11 col0\" >0</td>\n",
              "      <td id=\"T_d180e_row11_col1\" class=\"data row11 col1\" >0</td>\n",
              "      <td id=\"T_d180e_row11_col2\" class=\"data row11 col2\" >0</td>\n",
              "      <td id=\"T_d180e_row11_col3\" class=\"data row11 col3\" >0</td>\n",
              "      <td id=\"T_d180e_row11_col4\" class=\"data row11 col4\" >0</td>\n",
              "      <td id=\"T_d180e_row11_col5\" class=\"data row11 col5\" >0</td>\n",
              "      <td id=\"T_d180e_row11_col6\" class=\"data row11 col6\" >0</td>\n",
              "      <td id=\"T_d180e_row11_col7\" class=\"data row11 col7\" >0</td>\n",
              "      <td id=\"T_d180e_row11_col8\" class=\"data row11 col8\" >0</td>\n",
              "      <td id=\"T_d180e_row11_col9\" class=\"data row11 col9\" >0</td>\n",
              "      <td id=\"T_d180e_row11_col10\" class=\"data row11 col10\" >0</td>\n",
              "      <td id=\"T_d180e_row11_col11\" class=\"data row11 col11\" >14</td>\n",
              "      <td id=\"T_d180e_row11_col12\" class=\"data row11 col12\" >101</td>\n",
              "      <td id=\"T_d180e_row11_col13\" class=\"data row11 col13\" >223</td>\n",
              "      <td id=\"T_d180e_row11_col14\" class=\"data row11 col14\" >253</td>\n",
              "      <td id=\"T_d180e_row11_col15\" class=\"data row11 col15\" >248</td>\n",
              "      <td id=\"T_d180e_row11_col16\" class=\"data row11 col16\" >124</td>\n",
              "      <td id=\"T_d180e_row11_col17\" class=\"data row11 col17\" >0</td>\n",
              "      <td id=\"T_d180e_row11_col18\" class=\"data row11 col18\" >0</td>\n",
              "      <td id=\"T_d180e_row11_col19\" class=\"data row11 col19\" >0</td>\n",
              "      <td id=\"T_d180e_row11_col20\" class=\"data row11 col20\" >0</td>\n",
              "      <td id=\"T_d180e_row11_col21\" class=\"data row11 col21\" >0</td>\n",
              "      <td id=\"T_d180e_row11_col22\" class=\"data row11 col22\" >0</td>\n",
              "      <td id=\"T_d180e_row11_col23\" class=\"data row11 col23\" >0</td>\n",
              "      <td id=\"T_d180e_row11_col24\" class=\"data row11 col24\" >0</td>\n",
              "      <td id=\"T_d180e_row11_col25\" class=\"data row11 col25\" >0</td>\n",
              "      <td id=\"T_d180e_row11_col26\" class=\"data row11 col26\" >0</td>\n",
              "      <td id=\"T_d180e_row11_col27\" class=\"data row11 col27\" >0</td>\n",
              "    </tr>\n",
              "    <tr>\n",
              "      <th id=\"T_d180e_level0_row12\" class=\"row_heading level0 row12\" >12</th>\n",
              "      <td id=\"T_d180e_row12_col0\" class=\"data row12 col0\" >0</td>\n",
              "      <td id=\"T_d180e_row12_col1\" class=\"data row12 col1\" >0</td>\n",
              "      <td id=\"T_d180e_row12_col2\" class=\"data row12 col2\" >0</td>\n",
              "      <td id=\"T_d180e_row12_col3\" class=\"data row12 col3\" >0</td>\n",
              "      <td id=\"T_d180e_row12_col4\" class=\"data row12 col4\" >0</td>\n",
              "      <td id=\"T_d180e_row12_col5\" class=\"data row12 col5\" >0</td>\n",
              "      <td id=\"T_d180e_row12_col6\" class=\"data row12 col6\" >0</td>\n",
              "      <td id=\"T_d180e_row12_col7\" class=\"data row12 col7\" >0</td>\n",
              "      <td id=\"T_d180e_row12_col8\" class=\"data row12 col8\" >0</td>\n",
              "      <td id=\"T_d180e_row12_col9\" class=\"data row12 col9\" >11</td>\n",
              "      <td id=\"T_d180e_row12_col10\" class=\"data row12 col10\" >166</td>\n",
              "      <td id=\"T_d180e_row12_col11\" class=\"data row12 col11\" >239</td>\n",
              "      <td id=\"T_d180e_row12_col12\" class=\"data row12 col12\" >253</td>\n",
              "      <td id=\"T_d180e_row12_col13\" class=\"data row12 col13\" >253</td>\n",
              "      <td id=\"T_d180e_row12_col14\" class=\"data row12 col14\" >253</td>\n",
              "      <td id=\"T_d180e_row12_col15\" class=\"data row12 col15\" >187</td>\n",
              "      <td id=\"T_d180e_row12_col16\" class=\"data row12 col16\" >30</td>\n",
              "      <td id=\"T_d180e_row12_col17\" class=\"data row12 col17\" >0</td>\n",
              "      <td id=\"T_d180e_row12_col18\" class=\"data row12 col18\" >0</td>\n",
              "      <td id=\"T_d180e_row12_col19\" class=\"data row12 col19\" >0</td>\n",
              "      <td id=\"T_d180e_row12_col20\" class=\"data row12 col20\" >0</td>\n",
              "      <td id=\"T_d180e_row12_col21\" class=\"data row12 col21\" >0</td>\n",
              "      <td id=\"T_d180e_row12_col22\" class=\"data row12 col22\" >0</td>\n",
              "      <td id=\"T_d180e_row12_col23\" class=\"data row12 col23\" >0</td>\n",
              "      <td id=\"T_d180e_row12_col24\" class=\"data row12 col24\" >0</td>\n",
              "      <td id=\"T_d180e_row12_col25\" class=\"data row12 col25\" >0</td>\n",
              "      <td id=\"T_d180e_row12_col26\" class=\"data row12 col26\" >0</td>\n",
              "      <td id=\"T_d180e_row12_col27\" class=\"data row12 col27\" >0</td>\n",
              "    </tr>\n",
              "    <tr>\n",
              "      <th id=\"T_d180e_level0_row13\" class=\"row_heading level0 row13\" >13</th>\n",
              "      <td id=\"T_d180e_row13_col0\" class=\"data row13 col0\" >0</td>\n",
              "      <td id=\"T_d180e_row13_col1\" class=\"data row13 col1\" >0</td>\n",
              "      <td id=\"T_d180e_row13_col2\" class=\"data row13 col2\" >0</td>\n",
              "      <td id=\"T_d180e_row13_col3\" class=\"data row13 col3\" >0</td>\n",
              "      <td id=\"T_d180e_row13_col4\" class=\"data row13 col4\" >0</td>\n",
              "      <td id=\"T_d180e_row13_col5\" class=\"data row13 col5\" >0</td>\n",
              "      <td id=\"T_d180e_row13_col6\" class=\"data row13 col6\" >0</td>\n",
              "      <td id=\"T_d180e_row13_col7\" class=\"data row13 col7\" >0</td>\n",
              "      <td id=\"T_d180e_row13_col8\" class=\"data row13 col8\" >0</td>\n",
              "      <td id=\"T_d180e_row13_col9\" class=\"data row13 col9\" >16</td>\n",
              "      <td id=\"T_d180e_row13_col10\" class=\"data row13 col10\" >248</td>\n",
              "      <td id=\"T_d180e_row13_col11\" class=\"data row13 col11\" >250</td>\n",
              "      <td id=\"T_d180e_row13_col12\" class=\"data row13 col12\" >253</td>\n",
              "      <td id=\"T_d180e_row13_col13\" class=\"data row13 col13\" >253</td>\n",
              "      <td id=\"T_d180e_row13_col14\" class=\"data row13 col14\" >253</td>\n",
              "      <td id=\"T_d180e_row13_col15\" class=\"data row13 col15\" >253</td>\n",
              "      <td id=\"T_d180e_row13_col16\" class=\"data row13 col16\" >232</td>\n",
              "      <td id=\"T_d180e_row13_col17\" class=\"data row13 col17\" >213</td>\n",
              "      <td id=\"T_d180e_row13_col18\" class=\"data row13 col18\" >111</td>\n",
              "      <td id=\"T_d180e_row13_col19\" class=\"data row13 col19\" >2</td>\n",
              "      <td id=\"T_d180e_row13_col20\" class=\"data row13 col20\" >0</td>\n",
              "      <td id=\"T_d180e_row13_col21\" class=\"data row13 col21\" >0</td>\n",
              "      <td id=\"T_d180e_row13_col22\" class=\"data row13 col22\" >0</td>\n",
              "      <td id=\"T_d180e_row13_col23\" class=\"data row13 col23\" >0</td>\n",
              "      <td id=\"T_d180e_row13_col24\" class=\"data row13 col24\" >0</td>\n",
              "      <td id=\"T_d180e_row13_col25\" class=\"data row13 col25\" >0</td>\n",
              "      <td id=\"T_d180e_row13_col26\" class=\"data row13 col26\" >0</td>\n",
              "      <td id=\"T_d180e_row13_col27\" class=\"data row13 col27\" >0</td>\n",
              "    </tr>\n",
              "    <tr>\n",
              "      <th id=\"T_d180e_level0_row14\" class=\"row_heading level0 row14\" >14</th>\n",
              "      <td id=\"T_d180e_row14_col0\" class=\"data row14 col0\" >0</td>\n",
              "      <td id=\"T_d180e_row14_col1\" class=\"data row14 col1\" >0</td>\n",
              "      <td id=\"T_d180e_row14_col2\" class=\"data row14 col2\" >0</td>\n",
              "      <td id=\"T_d180e_row14_col3\" class=\"data row14 col3\" >0</td>\n",
              "      <td id=\"T_d180e_row14_col4\" class=\"data row14 col4\" >0</td>\n",
              "      <td id=\"T_d180e_row14_col5\" class=\"data row14 col5\" >0</td>\n",
              "      <td id=\"T_d180e_row14_col6\" class=\"data row14 col6\" >0</td>\n",
              "      <td id=\"T_d180e_row14_col7\" class=\"data row14 col7\" >0</td>\n",
              "      <td id=\"T_d180e_row14_col8\" class=\"data row14 col8\" >0</td>\n",
              "      <td id=\"T_d180e_row14_col9\" class=\"data row14 col9\" >0</td>\n",
              "      <td id=\"T_d180e_row14_col10\" class=\"data row14 col10\" >0</td>\n",
              "      <td id=\"T_d180e_row14_col11\" class=\"data row14 col11\" >43</td>\n",
              "      <td id=\"T_d180e_row14_col12\" class=\"data row14 col12\" >98</td>\n",
              "      <td id=\"T_d180e_row14_col13\" class=\"data row14 col13\" >98</td>\n",
              "      <td id=\"T_d180e_row14_col14\" class=\"data row14 col14\" >208</td>\n",
              "      <td id=\"T_d180e_row14_col15\" class=\"data row14 col15\" >253</td>\n",
              "      <td id=\"T_d180e_row14_col16\" class=\"data row14 col16\" >253</td>\n",
              "      <td id=\"T_d180e_row14_col17\" class=\"data row14 col17\" >253</td>\n",
              "      <td id=\"T_d180e_row14_col18\" class=\"data row14 col18\" >253</td>\n",
              "      <td id=\"T_d180e_row14_col19\" class=\"data row14 col19\" >187</td>\n",
              "      <td id=\"T_d180e_row14_col20\" class=\"data row14 col20\" >22</td>\n",
              "      <td id=\"T_d180e_row14_col21\" class=\"data row14 col21\" >0</td>\n",
              "      <td id=\"T_d180e_row14_col22\" class=\"data row14 col22\" >0</td>\n",
              "      <td id=\"T_d180e_row14_col23\" class=\"data row14 col23\" >0</td>\n",
              "      <td id=\"T_d180e_row14_col24\" class=\"data row14 col24\" >0</td>\n",
              "      <td id=\"T_d180e_row14_col25\" class=\"data row14 col25\" >0</td>\n",
              "      <td id=\"T_d180e_row14_col26\" class=\"data row14 col26\" >0</td>\n",
              "      <td id=\"T_d180e_row14_col27\" class=\"data row14 col27\" >0</td>\n",
              "    </tr>\n",
              "    <tr>\n",
              "      <th id=\"T_d180e_level0_row15\" class=\"row_heading level0 row15\" >15</th>\n",
              "      <td id=\"T_d180e_row15_col0\" class=\"data row15 col0\" >0</td>\n",
              "      <td id=\"T_d180e_row15_col1\" class=\"data row15 col1\" >0</td>\n",
              "      <td id=\"T_d180e_row15_col2\" class=\"data row15 col2\" >0</td>\n",
              "      <td id=\"T_d180e_row15_col3\" class=\"data row15 col3\" >0</td>\n",
              "      <td id=\"T_d180e_row15_col4\" class=\"data row15 col4\" >0</td>\n",
              "      <td id=\"T_d180e_row15_col5\" class=\"data row15 col5\" >0</td>\n",
              "      <td id=\"T_d180e_row15_col6\" class=\"data row15 col6\" >0</td>\n",
              "      <td id=\"T_d180e_row15_col7\" class=\"data row15 col7\" >0</td>\n",
              "      <td id=\"T_d180e_row15_col8\" class=\"data row15 col8\" >0</td>\n",
              "      <td id=\"T_d180e_row15_col9\" class=\"data row15 col9\" >0</td>\n",
              "      <td id=\"T_d180e_row15_col10\" class=\"data row15 col10\" >0</td>\n",
              "      <td id=\"T_d180e_row15_col11\" class=\"data row15 col11\" >0</td>\n",
              "      <td id=\"T_d180e_row15_col12\" class=\"data row15 col12\" >0</td>\n",
              "      <td id=\"T_d180e_row15_col13\" class=\"data row15 col13\" >0</td>\n",
              "      <td id=\"T_d180e_row15_col14\" class=\"data row15 col14\" >9</td>\n",
              "      <td id=\"T_d180e_row15_col15\" class=\"data row15 col15\" >51</td>\n",
              "      <td id=\"T_d180e_row15_col16\" class=\"data row15 col16\" >119</td>\n",
              "      <td id=\"T_d180e_row15_col17\" class=\"data row15 col17\" >253</td>\n",
              "      <td id=\"T_d180e_row15_col18\" class=\"data row15 col18\" >253</td>\n",
              "      <td id=\"T_d180e_row15_col19\" class=\"data row15 col19\" >253</td>\n",
              "      <td id=\"T_d180e_row15_col20\" class=\"data row15 col20\" >76</td>\n",
              "      <td id=\"T_d180e_row15_col21\" class=\"data row15 col21\" >0</td>\n",
              "      <td id=\"T_d180e_row15_col22\" class=\"data row15 col22\" >0</td>\n",
              "      <td id=\"T_d180e_row15_col23\" class=\"data row15 col23\" >0</td>\n",
              "      <td id=\"T_d180e_row15_col24\" class=\"data row15 col24\" >0</td>\n",
              "      <td id=\"T_d180e_row15_col25\" class=\"data row15 col25\" >0</td>\n",
              "      <td id=\"T_d180e_row15_col26\" class=\"data row15 col26\" >0</td>\n",
              "      <td id=\"T_d180e_row15_col27\" class=\"data row15 col27\" >0</td>\n",
              "    </tr>\n",
              "    <tr>\n",
              "      <th id=\"T_d180e_level0_row16\" class=\"row_heading level0 row16\" >16</th>\n",
              "      <td id=\"T_d180e_row16_col0\" class=\"data row16 col0\" >0</td>\n",
              "      <td id=\"T_d180e_row16_col1\" class=\"data row16 col1\" >0</td>\n",
              "      <td id=\"T_d180e_row16_col2\" class=\"data row16 col2\" >0</td>\n",
              "      <td id=\"T_d180e_row16_col3\" class=\"data row16 col3\" >0</td>\n",
              "      <td id=\"T_d180e_row16_col4\" class=\"data row16 col4\" >0</td>\n",
              "      <td id=\"T_d180e_row16_col5\" class=\"data row16 col5\" >0</td>\n",
              "      <td id=\"T_d180e_row16_col6\" class=\"data row16 col6\" >0</td>\n",
              "      <td id=\"T_d180e_row16_col7\" class=\"data row16 col7\" >0</td>\n",
              "      <td id=\"T_d180e_row16_col8\" class=\"data row16 col8\" >0</td>\n",
              "      <td id=\"T_d180e_row16_col9\" class=\"data row16 col9\" >0</td>\n",
              "      <td id=\"T_d180e_row16_col10\" class=\"data row16 col10\" >0</td>\n",
              "      <td id=\"T_d180e_row16_col11\" class=\"data row16 col11\" >0</td>\n",
              "      <td id=\"T_d180e_row16_col12\" class=\"data row16 col12\" >0</td>\n",
              "      <td id=\"T_d180e_row16_col13\" class=\"data row16 col13\" >0</td>\n",
              "      <td id=\"T_d180e_row16_col14\" class=\"data row16 col14\" >0</td>\n",
              "      <td id=\"T_d180e_row16_col15\" class=\"data row16 col15\" >0</td>\n",
              "      <td id=\"T_d180e_row16_col16\" class=\"data row16 col16\" >1</td>\n",
              "      <td id=\"T_d180e_row16_col17\" class=\"data row16 col17\" >183</td>\n",
              "      <td id=\"T_d180e_row16_col18\" class=\"data row16 col18\" >253</td>\n",
              "      <td id=\"T_d180e_row16_col19\" class=\"data row16 col19\" >253</td>\n",
              "      <td id=\"T_d180e_row16_col20\" class=\"data row16 col20\" >139</td>\n",
              "      <td id=\"T_d180e_row16_col21\" class=\"data row16 col21\" >0</td>\n",
              "      <td id=\"T_d180e_row16_col22\" class=\"data row16 col22\" >0</td>\n",
              "      <td id=\"T_d180e_row16_col23\" class=\"data row16 col23\" >0</td>\n",
              "      <td id=\"T_d180e_row16_col24\" class=\"data row16 col24\" >0</td>\n",
              "      <td id=\"T_d180e_row16_col25\" class=\"data row16 col25\" >0</td>\n",
              "      <td id=\"T_d180e_row16_col26\" class=\"data row16 col26\" >0</td>\n",
              "      <td id=\"T_d180e_row16_col27\" class=\"data row16 col27\" >0</td>\n",
              "    </tr>\n",
              "    <tr>\n",
              "      <th id=\"T_d180e_level0_row17\" class=\"row_heading level0 row17\" >17</th>\n",
              "      <td id=\"T_d180e_row17_col0\" class=\"data row17 col0\" >0</td>\n",
              "      <td id=\"T_d180e_row17_col1\" class=\"data row17 col1\" >0</td>\n",
              "      <td id=\"T_d180e_row17_col2\" class=\"data row17 col2\" >0</td>\n",
              "      <td id=\"T_d180e_row17_col3\" class=\"data row17 col3\" >0</td>\n",
              "      <td id=\"T_d180e_row17_col4\" class=\"data row17 col4\" >0</td>\n",
              "      <td id=\"T_d180e_row17_col5\" class=\"data row17 col5\" >0</td>\n",
              "      <td id=\"T_d180e_row17_col6\" class=\"data row17 col6\" >0</td>\n",
              "      <td id=\"T_d180e_row17_col7\" class=\"data row17 col7\" >0</td>\n",
              "      <td id=\"T_d180e_row17_col8\" class=\"data row17 col8\" >0</td>\n",
              "      <td id=\"T_d180e_row17_col9\" class=\"data row17 col9\" >0</td>\n",
              "      <td id=\"T_d180e_row17_col10\" class=\"data row17 col10\" >0</td>\n",
              "      <td id=\"T_d180e_row17_col11\" class=\"data row17 col11\" >0</td>\n",
              "      <td id=\"T_d180e_row17_col12\" class=\"data row17 col12\" >0</td>\n",
              "      <td id=\"T_d180e_row17_col13\" class=\"data row17 col13\" >0</td>\n",
              "      <td id=\"T_d180e_row17_col14\" class=\"data row17 col14\" >0</td>\n",
              "      <td id=\"T_d180e_row17_col15\" class=\"data row17 col15\" >0</td>\n",
              "      <td id=\"T_d180e_row17_col16\" class=\"data row17 col16\" >0</td>\n",
              "      <td id=\"T_d180e_row17_col17\" class=\"data row17 col17\" >182</td>\n",
              "      <td id=\"T_d180e_row17_col18\" class=\"data row17 col18\" >253</td>\n",
              "      <td id=\"T_d180e_row17_col19\" class=\"data row17 col19\" >253</td>\n",
              "      <td id=\"T_d180e_row17_col20\" class=\"data row17 col20\" >104</td>\n",
              "      <td id=\"T_d180e_row17_col21\" class=\"data row17 col21\" >0</td>\n",
              "      <td id=\"T_d180e_row17_col22\" class=\"data row17 col22\" >0</td>\n",
              "      <td id=\"T_d180e_row17_col23\" class=\"data row17 col23\" >0</td>\n",
              "      <td id=\"T_d180e_row17_col24\" class=\"data row17 col24\" >0</td>\n",
              "      <td id=\"T_d180e_row17_col25\" class=\"data row17 col25\" >0</td>\n",
              "      <td id=\"T_d180e_row17_col26\" class=\"data row17 col26\" >0</td>\n",
              "      <td id=\"T_d180e_row17_col27\" class=\"data row17 col27\" >0</td>\n",
              "    </tr>\n",
              "    <tr>\n",
              "      <th id=\"T_d180e_level0_row18\" class=\"row_heading level0 row18\" >18</th>\n",
              "      <td id=\"T_d180e_row18_col0\" class=\"data row18 col0\" >0</td>\n",
              "      <td id=\"T_d180e_row18_col1\" class=\"data row18 col1\" >0</td>\n",
              "      <td id=\"T_d180e_row18_col2\" class=\"data row18 col2\" >0</td>\n",
              "      <td id=\"T_d180e_row18_col3\" class=\"data row18 col3\" >0</td>\n",
              "      <td id=\"T_d180e_row18_col4\" class=\"data row18 col4\" >0</td>\n",
              "      <td id=\"T_d180e_row18_col5\" class=\"data row18 col5\" >0</td>\n",
              "      <td id=\"T_d180e_row18_col6\" class=\"data row18 col6\" >0</td>\n",
              "      <td id=\"T_d180e_row18_col7\" class=\"data row18 col7\" >0</td>\n",
              "      <td id=\"T_d180e_row18_col8\" class=\"data row18 col8\" >0</td>\n",
              "      <td id=\"T_d180e_row18_col9\" class=\"data row18 col9\" >0</td>\n",
              "      <td id=\"T_d180e_row18_col10\" class=\"data row18 col10\" >0</td>\n",
              "      <td id=\"T_d180e_row18_col11\" class=\"data row18 col11\" >0</td>\n",
              "      <td id=\"T_d180e_row18_col12\" class=\"data row18 col12\" >0</td>\n",
              "      <td id=\"T_d180e_row18_col13\" class=\"data row18 col13\" >0</td>\n",
              "      <td id=\"T_d180e_row18_col14\" class=\"data row18 col14\" >0</td>\n",
              "      <td id=\"T_d180e_row18_col15\" class=\"data row18 col15\" >0</td>\n",
              "      <td id=\"T_d180e_row18_col16\" class=\"data row18 col16\" >85</td>\n",
              "      <td id=\"T_d180e_row18_col17\" class=\"data row18 col17\" >249</td>\n",
              "      <td id=\"T_d180e_row18_col18\" class=\"data row18 col18\" >253</td>\n",
              "      <td id=\"T_d180e_row18_col19\" class=\"data row18 col19\" >253</td>\n",
              "      <td id=\"T_d180e_row18_col20\" class=\"data row18 col20\" >36</td>\n",
              "      <td id=\"T_d180e_row18_col21\" class=\"data row18 col21\" >0</td>\n",
              "      <td id=\"T_d180e_row18_col22\" class=\"data row18 col22\" >0</td>\n",
              "      <td id=\"T_d180e_row18_col23\" class=\"data row18 col23\" >0</td>\n",
              "      <td id=\"T_d180e_row18_col24\" class=\"data row18 col24\" >0</td>\n",
              "      <td id=\"T_d180e_row18_col25\" class=\"data row18 col25\" >0</td>\n",
              "      <td id=\"T_d180e_row18_col26\" class=\"data row18 col26\" >0</td>\n",
              "      <td id=\"T_d180e_row18_col27\" class=\"data row18 col27\" >0</td>\n",
              "    </tr>\n",
              "    <tr>\n",
              "      <th id=\"T_d180e_level0_row19\" class=\"row_heading level0 row19\" >19</th>\n",
              "      <td id=\"T_d180e_row19_col0\" class=\"data row19 col0\" >0</td>\n",
              "      <td id=\"T_d180e_row19_col1\" class=\"data row19 col1\" >0</td>\n",
              "      <td id=\"T_d180e_row19_col2\" class=\"data row19 col2\" >0</td>\n",
              "      <td id=\"T_d180e_row19_col3\" class=\"data row19 col3\" >0</td>\n",
              "      <td id=\"T_d180e_row19_col4\" class=\"data row19 col4\" >0</td>\n",
              "      <td id=\"T_d180e_row19_col5\" class=\"data row19 col5\" >0</td>\n",
              "      <td id=\"T_d180e_row19_col6\" class=\"data row19 col6\" >0</td>\n",
              "      <td id=\"T_d180e_row19_col7\" class=\"data row19 col7\" >0</td>\n",
              "      <td id=\"T_d180e_row19_col8\" class=\"data row19 col8\" >0</td>\n",
              "      <td id=\"T_d180e_row19_col9\" class=\"data row19 col9\" >0</td>\n",
              "      <td id=\"T_d180e_row19_col10\" class=\"data row19 col10\" >0</td>\n",
              "      <td id=\"T_d180e_row19_col11\" class=\"data row19 col11\" >0</td>\n",
              "      <td id=\"T_d180e_row19_col12\" class=\"data row19 col12\" >0</td>\n",
              "      <td id=\"T_d180e_row19_col13\" class=\"data row19 col13\" >0</td>\n",
              "      <td id=\"T_d180e_row19_col14\" class=\"data row19 col14\" >0</td>\n",
              "      <td id=\"T_d180e_row19_col15\" class=\"data row19 col15\" >60</td>\n",
              "      <td id=\"T_d180e_row19_col16\" class=\"data row19 col16\" >214</td>\n",
              "      <td id=\"T_d180e_row19_col17\" class=\"data row19 col17\" >253</td>\n",
              "      <td id=\"T_d180e_row19_col18\" class=\"data row19 col18\" >253</td>\n",
              "      <td id=\"T_d180e_row19_col19\" class=\"data row19 col19\" >173</td>\n",
              "      <td id=\"T_d180e_row19_col20\" class=\"data row19 col20\" >11</td>\n",
              "      <td id=\"T_d180e_row19_col21\" class=\"data row19 col21\" >0</td>\n",
              "      <td id=\"T_d180e_row19_col22\" class=\"data row19 col22\" >0</td>\n",
              "      <td id=\"T_d180e_row19_col23\" class=\"data row19 col23\" >0</td>\n",
              "      <td id=\"T_d180e_row19_col24\" class=\"data row19 col24\" >0</td>\n",
              "      <td id=\"T_d180e_row19_col25\" class=\"data row19 col25\" >0</td>\n",
              "      <td id=\"T_d180e_row19_col26\" class=\"data row19 col26\" >0</td>\n",
              "      <td id=\"T_d180e_row19_col27\" class=\"data row19 col27\" >0</td>\n",
              "    </tr>\n",
              "    <tr>\n",
              "      <th id=\"T_d180e_level0_row20\" class=\"row_heading level0 row20\" >20</th>\n",
              "      <td id=\"T_d180e_row20_col0\" class=\"data row20 col0\" >0</td>\n",
              "      <td id=\"T_d180e_row20_col1\" class=\"data row20 col1\" >0</td>\n",
              "      <td id=\"T_d180e_row20_col2\" class=\"data row20 col2\" >0</td>\n",
              "      <td id=\"T_d180e_row20_col3\" class=\"data row20 col3\" >0</td>\n",
              "      <td id=\"T_d180e_row20_col4\" class=\"data row20 col4\" >0</td>\n",
              "      <td id=\"T_d180e_row20_col5\" class=\"data row20 col5\" >0</td>\n",
              "      <td id=\"T_d180e_row20_col6\" class=\"data row20 col6\" >0</td>\n",
              "      <td id=\"T_d180e_row20_col7\" class=\"data row20 col7\" >0</td>\n",
              "      <td id=\"T_d180e_row20_col8\" class=\"data row20 col8\" >0</td>\n",
              "      <td id=\"T_d180e_row20_col9\" class=\"data row20 col9\" >0</td>\n",
              "      <td id=\"T_d180e_row20_col10\" class=\"data row20 col10\" >0</td>\n",
              "      <td id=\"T_d180e_row20_col11\" class=\"data row20 col11\" >0</td>\n",
              "      <td id=\"T_d180e_row20_col12\" class=\"data row20 col12\" >0</td>\n",
              "      <td id=\"T_d180e_row20_col13\" class=\"data row20 col13\" >0</td>\n",
              "      <td id=\"T_d180e_row20_col14\" class=\"data row20 col14\" >98</td>\n",
              "      <td id=\"T_d180e_row20_col15\" class=\"data row20 col15\" >247</td>\n",
              "      <td id=\"T_d180e_row20_col16\" class=\"data row20 col16\" >253</td>\n",
              "      <td id=\"T_d180e_row20_col17\" class=\"data row20 col17\" >253</td>\n",
              "      <td id=\"T_d180e_row20_col18\" class=\"data row20 col18\" >226</td>\n",
              "      <td id=\"T_d180e_row20_col19\" class=\"data row20 col19\" >9</td>\n",
              "      <td id=\"T_d180e_row20_col20\" class=\"data row20 col20\" >0</td>\n",
              "      <td id=\"T_d180e_row20_col21\" class=\"data row20 col21\" >0</td>\n",
              "      <td id=\"T_d180e_row20_col22\" class=\"data row20 col22\" >0</td>\n",
              "      <td id=\"T_d180e_row20_col23\" class=\"data row20 col23\" >0</td>\n",
              "      <td id=\"T_d180e_row20_col24\" class=\"data row20 col24\" >0</td>\n",
              "      <td id=\"T_d180e_row20_col25\" class=\"data row20 col25\" >0</td>\n",
              "      <td id=\"T_d180e_row20_col26\" class=\"data row20 col26\" >0</td>\n",
              "      <td id=\"T_d180e_row20_col27\" class=\"data row20 col27\" >0</td>\n",
              "    </tr>\n",
              "    <tr>\n",
              "      <th id=\"T_d180e_level0_row21\" class=\"row_heading level0 row21\" >21</th>\n",
              "      <td id=\"T_d180e_row21_col0\" class=\"data row21 col0\" >0</td>\n",
              "      <td id=\"T_d180e_row21_col1\" class=\"data row21 col1\" >0</td>\n",
              "      <td id=\"T_d180e_row21_col2\" class=\"data row21 col2\" >0</td>\n",
              "      <td id=\"T_d180e_row21_col3\" class=\"data row21 col3\" >0</td>\n",
              "      <td id=\"T_d180e_row21_col4\" class=\"data row21 col4\" >0</td>\n",
              "      <td id=\"T_d180e_row21_col5\" class=\"data row21 col5\" >0</td>\n",
              "      <td id=\"T_d180e_row21_col6\" class=\"data row21 col6\" >0</td>\n",
              "      <td id=\"T_d180e_row21_col7\" class=\"data row21 col7\" >0</td>\n",
              "      <td id=\"T_d180e_row21_col8\" class=\"data row21 col8\" >0</td>\n",
              "      <td id=\"T_d180e_row21_col9\" class=\"data row21 col9\" >0</td>\n",
              "      <td id=\"T_d180e_row21_col10\" class=\"data row21 col10\" >0</td>\n",
              "      <td id=\"T_d180e_row21_col11\" class=\"data row21 col11\" >0</td>\n",
              "      <td id=\"T_d180e_row21_col12\" class=\"data row21 col12\" >42</td>\n",
              "      <td id=\"T_d180e_row21_col13\" class=\"data row21 col13\" >150</td>\n",
              "      <td id=\"T_d180e_row21_col14\" class=\"data row21 col14\" >252</td>\n",
              "      <td id=\"T_d180e_row21_col15\" class=\"data row21 col15\" >253</td>\n",
              "      <td id=\"T_d180e_row21_col16\" class=\"data row21 col16\" >253</td>\n",
              "      <td id=\"T_d180e_row21_col17\" class=\"data row21 col17\" >233</td>\n",
              "      <td id=\"T_d180e_row21_col18\" class=\"data row21 col18\" >53</td>\n",
              "      <td id=\"T_d180e_row21_col19\" class=\"data row21 col19\" >0</td>\n",
              "      <td id=\"T_d180e_row21_col20\" class=\"data row21 col20\" >0</td>\n",
              "      <td id=\"T_d180e_row21_col21\" class=\"data row21 col21\" >0</td>\n",
              "      <td id=\"T_d180e_row21_col22\" class=\"data row21 col22\" >0</td>\n",
              "      <td id=\"T_d180e_row21_col23\" class=\"data row21 col23\" >0</td>\n",
              "      <td id=\"T_d180e_row21_col24\" class=\"data row21 col24\" >0</td>\n",
              "      <td id=\"T_d180e_row21_col25\" class=\"data row21 col25\" >0</td>\n",
              "      <td id=\"T_d180e_row21_col26\" class=\"data row21 col26\" >0</td>\n",
              "      <td id=\"T_d180e_row21_col27\" class=\"data row21 col27\" >0</td>\n",
              "    </tr>\n",
              "    <tr>\n",
              "      <th id=\"T_d180e_level0_row22\" class=\"row_heading level0 row22\" >22</th>\n",
              "      <td id=\"T_d180e_row22_col0\" class=\"data row22 col0\" >0</td>\n",
              "      <td id=\"T_d180e_row22_col1\" class=\"data row22 col1\" >0</td>\n",
              "      <td id=\"T_d180e_row22_col2\" class=\"data row22 col2\" >0</td>\n",
              "      <td id=\"T_d180e_row22_col3\" class=\"data row22 col3\" >0</td>\n",
              "      <td id=\"T_d180e_row22_col4\" class=\"data row22 col4\" >0</td>\n",
              "      <td id=\"T_d180e_row22_col5\" class=\"data row22 col5\" >0</td>\n",
              "      <td id=\"T_d180e_row22_col6\" class=\"data row22 col6\" >42</td>\n",
              "      <td id=\"T_d180e_row22_col7\" class=\"data row22 col7\" >115</td>\n",
              "      <td id=\"T_d180e_row22_col8\" class=\"data row22 col8\" >42</td>\n",
              "      <td id=\"T_d180e_row22_col9\" class=\"data row22 col9\" >60</td>\n",
              "      <td id=\"T_d180e_row22_col10\" class=\"data row22 col10\" >115</td>\n",
              "      <td id=\"T_d180e_row22_col11\" class=\"data row22 col11\" >159</td>\n",
              "      <td id=\"T_d180e_row22_col12\" class=\"data row22 col12\" >240</td>\n",
              "      <td id=\"T_d180e_row22_col13\" class=\"data row22 col13\" >253</td>\n",
              "      <td id=\"T_d180e_row22_col14\" class=\"data row22 col14\" >253</td>\n",
              "      <td id=\"T_d180e_row22_col15\" class=\"data row22 col15\" >250</td>\n",
              "      <td id=\"T_d180e_row22_col16\" class=\"data row22 col16\" >175</td>\n",
              "      <td id=\"T_d180e_row22_col17\" class=\"data row22 col17\" >25</td>\n",
              "      <td id=\"T_d180e_row22_col18\" class=\"data row22 col18\" >0</td>\n",
              "      <td id=\"T_d180e_row22_col19\" class=\"data row22 col19\" >0</td>\n",
              "      <td id=\"T_d180e_row22_col20\" class=\"data row22 col20\" >0</td>\n",
              "      <td id=\"T_d180e_row22_col21\" class=\"data row22 col21\" >0</td>\n",
              "      <td id=\"T_d180e_row22_col22\" class=\"data row22 col22\" >0</td>\n",
              "      <td id=\"T_d180e_row22_col23\" class=\"data row22 col23\" >0</td>\n",
              "      <td id=\"T_d180e_row22_col24\" class=\"data row22 col24\" >0</td>\n",
              "      <td id=\"T_d180e_row22_col25\" class=\"data row22 col25\" >0</td>\n",
              "      <td id=\"T_d180e_row22_col26\" class=\"data row22 col26\" >0</td>\n",
              "      <td id=\"T_d180e_row22_col27\" class=\"data row22 col27\" >0</td>\n",
              "    </tr>\n",
              "    <tr>\n",
              "      <th id=\"T_d180e_level0_row23\" class=\"row_heading level0 row23\" >23</th>\n",
              "      <td id=\"T_d180e_row23_col0\" class=\"data row23 col0\" >0</td>\n",
              "      <td id=\"T_d180e_row23_col1\" class=\"data row23 col1\" >0</td>\n",
              "      <td id=\"T_d180e_row23_col2\" class=\"data row23 col2\" >0</td>\n",
              "      <td id=\"T_d180e_row23_col3\" class=\"data row23 col3\" >0</td>\n",
              "      <td id=\"T_d180e_row23_col4\" class=\"data row23 col4\" >0</td>\n",
              "      <td id=\"T_d180e_row23_col5\" class=\"data row23 col5\" >0</td>\n",
              "      <td id=\"T_d180e_row23_col6\" class=\"data row23 col6\" >187</td>\n",
              "      <td id=\"T_d180e_row23_col7\" class=\"data row23 col7\" >253</td>\n",
              "      <td id=\"T_d180e_row23_col8\" class=\"data row23 col8\" >253</td>\n",
              "      <td id=\"T_d180e_row23_col9\" class=\"data row23 col9\" >253</td>\n",
              "      <td id=\"T_d180e_row23_col10\" class=\"data row23 col10\" >253</td>\n",
              "      <td id=\"T_d180e_row23_col11\" class=\"data row23 col11\" >253</td>\n",
              "      <td id=\"T_d180e_row23_col12\" class=\"data row23 col12\" >253</td>\n",
              "      <td id=\"T_d180e_row23_col13\" class=\"data row23 col13\" >253</td>\n",
              "      <td id=\"T_d180e_row23_col14\" class=\"data row23 col14\" >197</td>\n",
              "      <td id=\"T_d180e_row23_col15\" class=\"data row23 col15\" >86</td>\n",
              "      <td id=\"T_d180e_row23_col16\" class=\"data row23 col16\" >0</td>\n",
              "      <td id=\"T_d180e_row23_col17\" class=\"data row23 col17\" >0</td>\n",
              "      <td id=\"T_d180e_row23_col18\" class=\"data row23 col18\" >0</td>\n",
              "      <td id=\"T_d180e_row23_col19\" class=\"data row23 col19\" >0</td>\n",
              "      <td id=\"T_d180e_row23_col20\" class=\"data row23 col20\" >0</td>\n",
              "      <td id=\"T_d180e_row23_col21\" class=\"data row23 col21\" >0</td>\n",
              "      <td id=\"T_d180e_row23_col22\" class=\"data row23 col22\" >0</td>\n",
              "      <td id=\"T_d180e_row23_col23\" class=\"data row23 col23\" >0</td>\n",
              "      <td id=\"T_d180e_row23_col24\" class=\"data row23 col24\" >0</td>\n",
              "      <td id=\"T_d180e_row23_col25\" class=\"data row23 col25\" >0</td>\n",
              "      <td id=\"T_d180e_row23_col26\" class=\"data row23 col26\" >0</td>\n",
              "      <td id=\"T_d180e_row23_col27\" class=\"data row23 col27\" >0</td>\n",
              "    </tr>\n",
              "    <tr>\n",
              "      <th id=\"T_d180e_level0_row24\" class=\"row_heading level0 row24\" >24</th>\n",
              "      <td id=\"T_d180e_row24_col0\" class=\"data row24 col0\" >0</td>\n",
              "      <td id=\"T_d180e_row24_col1\" class=\"data row24 col1\" >0</td>\n",
              "      <td id=\"T_d180e_row24_col2\" class=\"data row24 col2\" >0</td>\n",
              "      <td id=\"T_d180e_row24_col3\" class=\"data row24 col3\" >0</td>\n",
              "      <td id=\"T_d180e_row24_col4\" class=\"data row24 col4\" >0</td>\n",
              "      <td id=\"T_d180e_row24_col5\" class=\"data row24 col5\" >0</td>\n",
              "      <td id=\"T_d180e_row24_col6\" class=\"data row24 col6\" >103</td>\n",
              "      <td id=\"T_d180e_row24_col7\" class=\"data row24 col7\" >253</td>\n",
              "      <td id=\"T_d180e_row24_col8\" class=\"data row24 col8\" >253</td>\n",
              "      <td id=\"T_d180e_row24_col9\" class=\"data row24 col9\" >253</td>\n",
              "      <td id=\"T_d180e_row24_col10\" class=\"data row24 col10\" >253</td>\n",
              "      <td id=\"T_d180e_row24_col11\" class=\"data row24 col11\" >253</td>\n",
              "      <td id=\"T_d180e_row24_col12\" class=\"data row24 col12\" >232</td>\n",
              "      <td id=\"T_d180e_row24_col13\" class=\"data row24 col13\" >67</td>\n",
              "      <td id=\"T_d180e_row24_col14\" class=\"data row24 col14\" >1</td>\n",
              "      <td id=\"T_d180e_row24_col15\" class=\"data row24 col15\" >0</td>\n",
              "      <td id=\"T_d180e_row24_col16\" class=\"data row24 col16\" >0</td>\n",
              "      <td id=\"T_d180e_row24_col17\" class=\"data row24 col17\" >0</td>\n",
              "      <td id=\"T_d180e_row24_col18\" class=\"data row24 col18\" >0</td>\n",
              "      <td id=\"T_d180e_row24_col19\" class=\"data row24 col19\" >0</td>\n",
              "      <td id=\"T_d180e_row24_col20\" class=\"data row24 col20\" >0</td>\n",
              "      <td id=\"T_d180e_row24_col21\" class=\"data row24 col21\" >0</td>\n",
              "      <td id=\"T_d180e_row24_col22\" class=\"data row24 col22\" >0</td>\n",
              "      <td id=\"T_d180e_row24_col23\" class=\"data row24 col23\" >0</td>\n",
              "      <td id=\"T_d180e_row24_col24\" class=\"data row24 col24\" >0</td>\n",
              "      <td id=\"T_d180e_row24_col25\" class=\"data row24 col25\" >0</td>\n",
              "      <td id=\"T_d180e_row24_col26\" class=\"data row24 col26\" >0</td>\n",
              "      <td id=\"T_d180e_row24_col27\" class=\"data row24 col27\" >0</td>\n",
              "    </tr>\n",
              "    <tr>\n",
              "      <th id=\"T_d180e_level0_row25\" class=\"row_heading level0 row25\" >25</th>\n",
              "      <td id=\"T_d180e_row25_col0\" class=\"data row25 col0\" >0</td>\n",
              "      <td id=\"T_d180e_row25_col1\" class=\"data row25 col1\" >0</td>\n",
              "      <td id=\"T_d180e_row25_col2\" class=\"data row25 col2\" >0</td>\n",
              "      <td id=\"T_d180e_row25_col3\" class=\"data row25 col3\" >0</td>\n",
              "      <td id=\"T_d180e_row25_col4\" class=\"data row25 col4\" >0</td>\n",
              "      <td id=\"T_d180e_row25_col5\" class=\"data row25 col5\" >0</td>\n",
              "      <td id=\"T_d180e_row25_col6\" class=\"data row25 col6\" >0</td>\n",
              "      <td id=\"T_d180e_row25_col7\" class=\"data row25 col7\" >0</td>\n",
              "      <td id=\"T_d180e_row25_col8\" class=\"data row25 col8\" >0</td>\n",
              "      <td id=\"T_d180e_row25_col9\" class=\"data row25 col9\" >0</td>\n",
              "      <td id=\"T_d180e_row25_col10\" class=\"data row25 col10\" >0</td>\n",
              "      <td id=\"T_d180e_row25_col11\" class=\"data row25 col11\" >0</td>\n",
              "      <td id=\"T_d180e_row25_col12\" class=\"data row25 col12\" >0</td>\n",
              "      <td id=\"T_d180e_row25_col13\" class=\"data row25 col13\" >0</td>\n",
              "      <td id=\"T_d180e_row25_col14\" class=\"data row25 col14\" >0</td>\n",
              "      <td id=\"T_d180e_row25_col15\" class=\"data row25 col15\" >0</td>\n",
              "      <td id=\"T_d180e_row25_col16\" class=\"data row25 col16\" >0</td>\n",
              "      <td id=\"T_d180e_row25_col17\" class=\"data row25 col17\" >0</td>\n",
              "      <td id=\"T_d180e_row25_col18\" class=\"data row25 col18\" >0</td>\n",
              "      <td id=\"T_d180e_row25_col19\" class=\"data row25 col19\" >0</td>\n",
              "      <td id=\"T_d180e_row25_col20\" class=\"data row25 col20\" >0</td>\n",
              "      <td id=\"T_d180e_row25_col21\" class=\"data row25 col21\" >0</td>\n",
              "      <td id=\"T_d180e_row25_col22\" class=\"data row25 col22\" >0</td>\n",
              "      <td id=\"T_d180e_row25_col23\" class=\"data row25 col23\" >0</td>\n",
              "      <td id=\"T_d180e_row25_col24\" class=\"data row25 col24\" >0</td>\n",
              "      <td id=\"T_d180e_row25_col25\" class=\"data row25 col25\" >0</td>\n",
              "      <td id=\"T_d180e_row25_col26\" class=\"data row25 col26\" >0</td>\n",
              "      <td id=\"T_d180e_row25_col27\" class=\"data row25 col27\" >0</td>\n",
              "    </tr>\n",
              "    <tr>\n",
              "      <th id=\"T_d180e_level0_row26\" class=\"row_heading level0 row26\" >26</th>\n",
              "      <td id=\"T_d180e_row26_col0\" class=\"data row26 col0\" >0</td>\n",
              "      <td id=\"T_d180e_row26_col1\" class=\"data row26 col1\" >0</td>\n",
              "      <td id=\"T_d180e_row26_col2\" class=\"data row26 col2\" >0</td>\n",
              "      <td id=\"T_d180e_row26_col3\" class=\"data row26 col3\" >0</td>\n",
              "      <td id=\"T_d180e_row26_col4\" class=\"data row26 col4\" >0</td>\n",
              "      <td id=\"T_d180e_row26_col5\" class=\"data row26 col5\" >0</td>\n",
              "      <td id=\"T_d180e_row26_col6\" class=\"data row26 col6\" >0</td>\n",
              "      <td id=\"T_d180e_row26_col7\" class=\"data row26 col7\" >0</td>\n",
              "      <td id=\"T_d180e_row26_col8\" class=\"data row26 col8\" >0</td>\n",
              "      <td id=\"T_d180e_row26_col9\" class=\"data row26 col9\" >0</td>\n",
              "      <td id=\"T_d180e_row26_col10\" class=\"data row26 col10\" >0</td>\n",
              "      <td id=\"T_d180e_row26_col11\" class=\"data row26 col11\" >0</td>\n",
              "      <td id=\"T_d180e_row26_col12\" class=\"data row26 col12\" >0</td>\n",
              "      <td id=\"T_d180e_row26_col13\" class=\"data row26 col13\" >0</td>\n",
              "      <td id=\"T_d180e_row26_col14\" class=\"data row26 col14\" >0</td>\n",
              "      <td id=\"T_d180e_row26_col15\" class=\"data row26 col15\" >0</td>\n",
              "      <td id=\"T_d180e_row26_col16\" class=\"data row26 col16\" >0</td>\n",
              "      <td id=\"T_d180e_row26_col17\" class=\"data row26 col17\" >0</td>\n",
              "      <td id=\"T_d180e_row26_col18\" class=\"data row26 col18\" >0</td>\n",
              "      <td id=\"T_d180e_row26_col19\" class=\"data row26 col19\" >0</td>\n",
              "      <td id=\"T_d180e_row26_col20\" class=\"data row26 col20\" >0</td>\n",
              "      <td id=\"T_d180e_row26_col21\" class=\"data row26 col21\" >0</td>\n",
              "      <td id=\"T_d180e_row26_col22\" class=\"data row26 col22\" >0</td>\n",
              "      <td id=\"T_d180e_row26_col23\" class=\"data row26 col23\" >0</td>\n",
              "      <td id=\"T_d180e_row26_col24\" class=\"data row26 col24\" >0</td>\n",
              "      <td id=\"T_d180e_row26_col25\" class=\"data row26 col25\" >0</td>\n",
              "      <td id=\"T_d180e_row26_col26\" class=\"data row26 col26\" >0</td>\n",
              "      <td id=\"T_d180e_row26_col27\" class=\"data row26 col27\" >0</td>\n",
              "    </tr>\n",
              "    <tr>\n",
              "      <th id=\"T_d180e_level0_row27\" class=\"row_heading level0 row27\" >27</th>\n",
              "      <td id=\"T_d180e_row27_col0\" class=\"data row27 col0\" >0</td>\n",
              "      <td id=\"T_d180e_row27_col1\" class=\"data row27 col1\" >0</td>\n",
              "      <td id=\"T_d180e_row27_col2\" class=\"data row27 col2\" >0</td>\n",
              "      <td id=\"T_d180e_row27_col3\" class=\"data row27 col3\" >0</td>\n",
              "      <td id=\"T_d180e_row27_col4\" class=\"data row27 col4\" >0</td>\n",
              "      <td id=\"T_d180e_row27_col5\" class=\"data row27 col5\" >0</td>\n",
              "      <td id=\"T_d180e_row27_col6\" class=\"data row27 col6\" >0</td>\n",
              "      <td id=\"T_d180e_row27_col7\" class=\"data row27 col7\" >0</td>\n",
              "      <td id=\"T_d180e_row27_col8\" class=\"data row27 col8\" >0</td>\n",
              "      <td id=\"T_d180e_row27_col9\" class=\"data row27 col9\" >0</td>\n",
              "      <td id=\"T_d180e_row27_col10\" class=\"data row27 col10\" >0</td>\n",
              "      <td id=\"T_d180e_row27_col11\" class=\"data row27 col11\" >0</td>\n",
              "      <td id=\"T_d180e_row27_col12\" class=\"data row27 col12\" >0</td>\n",
              "      <td id=\"T_d180e_row27_col13\" class=\"data row27 col13\" >0</td>\n",
              "      <td id=\"T_d180e_row27_col14\" class=\"data row27 col14\" >0</td>\n",
              "      <td id=\"T_d180e_row27_col15\" class=\"data row27 col15\" >0</td>\n",
              "      <td id=\"T_d180e_row27_col16\" class=\"data row27 col16\" >0</td>\n",
              "      <td id=\"T_d180e_row27_col17\" class=\"data row27 col17\" >0</td>\n",
              "      <td id=\"T_d180e_row27_col18\" class=\"data row27 col18\" >0</td>\n",
              "      <td id=\"T_d180e_row27_col19\" class=\"data row27 col19\" >0</td>\n",
              "      <td id=\"T_d180e_row27_col20\" class=\"data row27 col20\" >0</td>\n",
              "      <td id=\"T_d180e_row27_col21\" class=\"data row27 col21\" >0</td>\n",
              "      <td id=\"T_d180e_row27_col22\" class=\"data row27 col22\" >0</td>\n",
              "      <td id=\"T_d180e_row27_col23\" class=\"data row27 col23\" >0</td>\n",
              "      <td id=\"T_d180e_row27_col24\" class=\"data row27 col24\" >0</td>\n",
              "      <td id=\"T_d180e_row27_col25\" class=\"data row27 col25\" >0</td>\n",
              "      <td id=\"T_d180e_row27_col26\" class=\"data row27 col26\" >0</td>\n",
              "      <td id=\"T_d180e_row27_col27\" class=\"data row27 col27\" >0</td>\n",
              "    </tr>\n",
              "  </tbody>\n",
              "</table>\n"
            ],
            "text/plain": [
              "<pandas.io.formats.style.Styler at 0x7f32fc2aa090>"
            ]
          },
          "metadata": {},
          "execution_count": 14
        }
      ]
    },
    {
      "cell_type": "code",
      "source": [
        "three_tensors = [tensor(Image.open(o)) for o in threes]\n",
        "seven_tensors = [tensor(Image.open(o)) for o in sevens]\n",
        "len(three_tensors),len(seven_tensors)"
      ],
      "metadata": {
        "colab": {
          "base_uri": "https://localhost:8080/"
        },
        "id": "EiYTy2W6dAGy",
        "outputId": "264233d4-5072-4276-8e6e-180ec305cfa2"
      },
      "execution_count": 15,
      "outputs": [
        {
          "output_type": "execute_result",
          "data": {
            "text/plain": [
              "(6131, 6265)"
            ]
          },
          "metadata": {},
          "execution_count": 15
        }
      ]
    },
    {
      "cell_type": "code",
      "source": [
        "show_image(three_tensors[1])"
      ],
      "metadata": {
        "colab": {
          "base_uri": "https://localhost:8080/",
          "height": 102
        },
        "id": "Kezsg61LdmJt",
        "outputId": "d666acf9-a640-4e35-a74f-0a481fdfa505"
      },
      "execution_count": 16,
      "outputs": [
        {
          "output_type": "execute_result",
          "data": {
            "text/plain": [
              "<matplotlib.axes._subplots.AxesSubplot at 0x7f32fc143c90>"
            ]
          },
          "metadata": {},
          "execution_count": 16
        },
        {
          "output_type": "display_data",
          "data": {
            "image/png": "[encoded data removed]",
            "text/plain": [
              "<Figure size 72x72 with 1 Axes>"
            ]
          },
          "metadata": {
            "needs_background": "light"
          }
        }
      ]
    },
    {
      "cell_type": "code",
      "source": [
        "# get the average of all the images \n",
        "three_tensors[1].shape\n",
        "# three_tensors is a list - not easy to do match \n",
        "# stack all 28*28 images on top of each other which is tensor \n",
        "# we want mean value so take as float becasue we dont want integers rounding off\n",
        "# when you work with float expect them to be between 0 and 1 so we devide it by 255\n",
        "stacked_threes = torch.stack(three_tensors).float()/255\n",
        "stacked_sevens = torch.stack(seven_tensors).float()/255\n",
        "stacked_threes.shape,stacked_sevens.shape"
      ],
      "metadata": {
        "colab": {
          "base_uri": "https://localhost:8080/"
        },
        "id": "hTIstV1Ldvhk",
        "outputId": "ff0729f6-8244-47d8-9888-2fdd7e1a4cb2"
      },
      "execution_count": 17,
      "outputs": [
        {
          "output_type": "execute_result",
          "data": {
            "text/plain": [
              "(torch.Size([6131, 28, 28]), torch.Size([6265, 28, 28]))"
            ]
          },
          "metadata": {},
          "execution_count": 17
        }
      ]
    },
    {
      "cell_type": "code",
      "source": [
        "stacked_threes.mean()"
      ],
      "metadata": {
        "colab": {
          "base_uri": "https://localhost:8080/"
        },
        "id": "izZoOEXtfuG4",
        "outputId": "918d0c06-29da-4831-827f-c76783df56a8"
      },
      "execution_count": 18,
      "outputs": [
        {
          "output_type": "execute_result",
          "data": {
            "text/plain": [
              "tensor(0.1415)"
            ]
          },
          "metadata": {},
          "execution_count": 18
        }
      ]
    },
    {
      "cell_type": "code",
      "source": [
        "mean3 = stacked_threes.mean(0)\n",
        "mean3"
      ],
      "metadata": {
        "colab": {
          "base_uri": "https://localhost:8080/"
        },
        "id": "lsg5zj4_fyGS",
        "outputId": "3bd98d14-6236-4dd1-ac94-b031142810d7"
      },
      "execution_count": 19,
      "outputs": [
        {
          "output_type": "execute_result",
          "data": {
            "text/plain": [
              "tensor([[0.0000e+00, 0.0000e+00, 0.0000e+00, 0.0000e+00, 0.0000e+00, 0.0000e+00, 0.0000e+00, 0.0000e+00, 0.0000e+00, 0.0000e+00, 0.0000e+00, 0.0000e+00, 0.0000e+00, 0.0000e+00, 0.0000e+00, 0.0000e+00,\n",
              "         0.0000e+00, 0.0000e+00, 0.0000e+00, 0.0000e+00, 0.0000e+00, 0.0000e+00, 0.0000e+00, 0.0000e+00, 0.0000e+00, 0.0000e+00, 0.0000e+00, 0.0000e+00],\n",
              "        [0.0000e+00, 0.0000e+00, 0.0000e+00, 0.0000e+00, 0.0000e+00, 0.0000e+00, 0.0000e+00, 0.0000e+00, 0.0000e+00, 0.0000e+00, 0.0000e+00, 0.0000e+00, 0.0000e+00, 0.0000e+00, 0.0000e+00, 0.0000e+00,\n",
              "         0.0000e+00, 0.0000e+00, 0.0000e+00, 0.0000e+00, 0.0000e+00, 0.0000e+00, 0.0000e+00, 0.0000e+00, 0.0000e+00, 0.0000e+00, 0.0000e+00, 0.0000e+00],\n",
              "        [0.0000e+00, 0.0000e+00, 0.0000e+00, 0.0000e+00, 0.0000e+00, 0.0000e+00, 0.0000e+00, 0.0000e+00, 0.0000e+00, 0.0000e+00, 7.2918e-05, 1.9637e-04, 2.3410e-04, 1.9253e-04, 2.7568e-04, 2.6161e-04,\n",
              "         2.9423e-04, 2.8400e-04, 1.5671e-04, 4.8612e-05, 5.7567e-06, 0.0000e+00, 0.0000e+00, 0.0000e+00, 0.0000e+00, 0.0000e+00, 0.0000e+00, 0.0000e+00],\n",
              "        [0.0000e+00, 0.0000e+00, 0.0000e+00, 0.0000e+00, 1.5991e-05, 4.8676e-04, 7.7331e-04, 1.4468e-03, 2.9788e-03, 5.6486e-03, 9.5177e-03, 1.5693e-02, 2.1113e-02, 2.4280e-02, 2.5964e-02, 2.4268e-02,\n",
              "         2.0875e-02, 1.7108e-02, 1.1642e-02, 7.0436e-03, 3.9945e-03, 1.4955e-03, 3.2941e-04, 0.0000e+00, 0.0000e+00, 0.0000e+00, 0.0000e+00, 0.0000e+00],\n",
              "        [0.0000e+00, 2.4306e-05, 3.2621e-05, 1.5607e-04, 1.3995e-03, 5.7854e-03, 1.3664e-02, 3.0111e-02, 5.5401e-02, 9.0316e-02, 1.3725e-01, 1.8357e-01, 2.2128e-01, 2.4655e-01, 2.4972e-01, 2.3536e-01,\n",
              "         1.9872e-01, 1.5084e-01, 1.0543e-01, 6.4754e-02, 3.2829e-02, 1.3352e-02, 4.5970e-03, 3.9273e-04, 1.9189e-06, 0.0000e+00, 0.0000e+00, 0.0000e+00],\n",
              "        [0.0000e+00, 0.0000e+00, 5.7567e-05, 1.5204e-03, 8.8909e-03, 2.7837e-02, 6.1064e-02, 1.1271e-01, 1.8688e-01, 2.8024e-01, 3.8297e-01, 4.8024e-01, 5.5877e-01, 6.1324e-01, 6.2329e-01, 5.9771e-01,\n",
              "         5.2835e-01, 4.2100e-01, 3.0576e-01, 2.0347e-01, 1.1742e-01, 5.3793e-02, 1.6992e-02, 3.4617e-03, 2.5905e-04, 0.0000e+00, 0.0000e+00, 0.0000e+00],\n",
              "        [0.0000e+00, 7.0359e-06, 3.0063e-04, 5.8174e-03, 2.4498e-02, 5.9899e-02, 1.2038e-01, 2.0755e-01, 3.1939e-01, 4.3547e-01, 5.4447e-01, 6.2764e-01, 6.8504e-01, 7.2395e-01, 7.4489e-01, 7.4463e-01,\n",
              "         7.0500e-01, 6.0875e-01, 4.7916e-01, 3.3949e-01, 2.1322e-01, 1.0868e-01, 3.7335e-02, 7.9084e-03, 8.2320e-04, 0.0000e+00, 0.0000e+00, 0.0000e+00],\n",
              "        [0.0000e+00, 3.2429e-04, 4.5414e-04, 9.7409e-03, 3.7895e-02, 8.2921e-02, 1.5382e-01, 2.4157e-01, 3.3767e-01, 4.2682e-01, 4.9161e-01, 5.2841e-01, 5.4475e-01, 5.5883e-01, 5.8641e-01, 6.2750e-01,\n",
              "         6.5125e-01, 6.2112e-01, 5.2849e-01, 4.0753e-01, 2.7025e-01, 1.4412e-01, 5.3465e-02, 1.1405e-02, 1.0490e-03, 0.0000e+00, 0.0000e+00, 0.0000e+00],\n",
              "        [0.0000e+00, 1.2601e-04, 5.3985e-04, 1.1943e-02, 4.0899e-02, 7.8775e-02, 1.3442e-01, 1.9457e-01, 2.5074e-01, 2.9489e-01, 3.1693e-01, 3.1747e-01, 3.1133e-01, 3.2182e-01, 3.6634e-01, 4.5206e-01,\n",
              "         5.3760e-01, 5.7068e-01, 5.2600e-01, 4.1737e-01, 2.7770e-01, 1.4791e-01, 5.6850e-02, 1.1186e-02, 5.6543e-04, 0.0000e+00, 0.0000e+00, 0.0000e+00],\n",
              "        [0.0000e+00, 1.3496e-04, 6.4603e-04, 9.1461e-03, 2.9371e-02, 5.4969e-02, 8.9482e-02, 1.1955e-01, 1.4173e-01, 1.5585e-01, 1.6174e-01, 1.6148e-01, 1.6958e-01, 2.0584e-01, 2.9212e-01, 4.1871e-01,\n",
              "         5.3047e-01, 5.7446e-01, 5.1699e-01, 3.8845e-01, 2.4350e-01, 1.1984e-01, 4.4328e-02, 8.7073e-03, 1.1641e-04, 3.9657e-05, 0.0000e+00, 0.0000e+00],\n",
              "        [0.0000e+00, 6.7161e-05, 4.3047e-04, 6.7775e-03, 1.6751e-02, 2.9374e-02, 4.5093e-02, 5.7854e-02, 6.8061e-02, 7.8151e-02, 9.5189e-02, 1.2533e-01, 1.8025e-01, 2.7419e-01, 4.0268e-01, 5.3354e-01,\n",
              "         6.1373e-01, 5.9656e-01, 4.7979e-01, 3.2004e-01, 1.7885e-01, 7.7661e-02, 2.4957e-02, 4.6878e-03, 3.9657e-05, 1.1833e-04, 0.0000e+00, 0.0000e+00],\n",
              "        [0.0000e+00, 4.9251e-05, 3.7035e-04, 3.8589e-03, 8.8301e-03, 1.4541e-02, 2.0740e-02, 2.9064e-02, 4.4311e-02, 7.7774e-02, 1.3957e-01, 2.3310e-01, 3.5509e-01, 4.8872e-01, 6.0988e-01, 6.8693e-01,\n",
              "         6.8276e-01, 5.8363e-01, 4.1155e-01, 2.4346e-01, 1.1769e-01, 4.1552e-02, 1.0649e-02, 1.8121e-03, 9.5944e-06, 1.2857e-04, 0.0000e+00, 0.0000e+00],\n",
              "        [0.0000e+00, 8.3152e-06, 4.9891e-05, 1.5166e-03, 4.1403e-03, 8.1841e-03, 1.3161e-02, 2.7825e-02, 6.6674e-02, 1.4858e-01, 2.7763e-01, 4.3485e-01, 5.8360e-01, 7.0284e-01, 7.7150e-01, 7.7661e-01,\n",
              "         7.1162e-01, 5.6779e-01, 3.7920e-01, 2.1411e-01, 9.4611e-02, 3.1342e-02, 7.7146e-03, 1.0701e-03, 9.9782e-05, 1.3560e-04, 0.0000e+00, 0.0000e+00],\n",
              "        [0.0000e+00, 0.0000e+00, 0.0000e+00, 6.3963e-04, 2.5783e-03, 5.4042e-03, 1.4138e-02, 3.9151e-02, 1.0502e-01, 2.2640e-01, 3.9440e-01, 5.6574e-01, 6.9847e-01, 7.6719e-01, 7.7950e-01, 7.5081e-01,\n",
              "         6.9238e-01, 5.8267e-01, 4.3279e-01, 2.6549e-01, 1.2995e-01, 5.0904e-02, 1.3723e-02, 2.6148e-03, 3.2749e-04, 6.7161e-05, 0.0000e+00, 0.0000e+00],\n",
              "        [0.0000e+00, 1.0234e-04, 5.8206e-05, 6.9975e-04, 2.5758e-03, 6.5549e-03, 1.5612e-02, 4.5825e-02, 1.1788e-01, 2.4133e-01, 3.9015e-01, 5.2159e-01, 6.0265e-01, 6.2869e-01, 6.2758e-01, 6.1725e-01,\n",
              "         6.1311e-01, 5.9272e-01, 5.1544e-01, 3.7066e-01, 2.1080e-01, 9.5741e-02, 3.1867e-02, 7.1351e-03, 7.5860e-04, 2.6225e-05, 0.0000e+00, 0.0000e+00],\n",
              "        [0.0000e+00, 1.4456e-04, 7.1702e-04, 2.3385e-03, 6.0221e-03, 1.1625e-02, 1.9489e-02, 4.1298e-02, 9.1916e-02, 1.7655e-01, 2.7350e-01, 3.4554e-01, 3.7789e-01, 3.8353e-01, 3.8828e-01, 4.1357e-01,\n",
              "         4.7273e-01, 5.4692e-01, 5.5695e-01, 4.6004e-01, 2.9679e-01, 1.4911e-01, 6.0777e-02, 1.5610e-02, 1.8025e-03, 3.1981e-06, 1.3368e-04, 0.0000e+00],\n",
              "        [0.0000e+00, 1.2729e-04, 2.1869e-03, 7.0538e-03, 1.4894e-02, 2.2301e-02, 2.7903e-02, 3.9338e-02, 6.2386e-02, 9.9441e-02, 1.3370e-01, 1.5925e-01, 1.6655e-01, 1.7223e-01, 1.9161e-01, 2.4334e-01,\n",
              "         3.4454e-01, 4.8216e-01, 5.6101e-01, 5.0364e-01, 3.5205e-01, 1.9422e-01, 8.5188e-02, 2.6331e-02, 3.5276e-03, 1.2793e-06, 2.2387e-05, 0.0000e+00],\n",
              "        [0.0000e+00, 1.5735e-04, 3.3331e-03, 1.5257e-02, 3.1764e-02, 4.3270e-02, 4.9365e-02, 5.5510e-02, 5.9109e-02, 5.8848e-02, 6.1369e-02, 6.3137e-02, 6.5532e-02, 7.3339e-02, 9.8233e-02, 1.6722e-01,\n",
              "         2.9171e-01, 4.5252e-01, 5.5033e-01, 5.1463e-01, 3.6876e-01, 2.1820e-01, 1.0305e-01, 3.3861e-02, 3.8557e-03, 0.0000e+00, 0.0000e+00, 0.0000e+00],\n",
              "        [0.0000e+00, 1.6183e-04, 5.7592e-03, 2.7754e-02, 5.8420e-02, 8.2884e-02, 9.7888e-02, 1.0189e-01, 9.3467e-02, 7.5450e-02, 6.1778e-02, 5.2316e-02, 4.8228e-02, 5.6958e-02, 9.1961e-02, 1.8154e-01,\n",
              "         3.2670e-01, 4.7789e-01, 5.5600e-01, 5.0929e-01, 3.6437e-01, 2.2059e-01, 1.0743e-01, 3.3211e-02, 3.2410e-03, 0.0000e+00, 0.0000e+00, 0.0000e+00],\n",
              "        [0.0000e+00, 2.5521e-04, 9.1678e-03, 4.0289e-02, 8.8192e-02, 1.3721e-01, 1.6905e-01, 1.8232e-01, 1.7508e-01, 1.5029e-01, 1.2213e-01, 9.8687e-02, 9.3244e-02, 1.1323e-01, 1.7340e-01, 2.8420e-01,\n",
              "         4.3076e-01, 5.4810e-01, 5.7053e-01, 4.8661e-01, 3.3786e-01, 2.0005e-01, 9.1660e-02, 2.4017e-02, 2.2828e-03, 1.3432e-05, 0.0000e+00, 0.0000e+00],\n",
              "        [0.0000e+00, 4.6565e-04, 1.0415e-02, 4.8182e-02, 1.0872e-01, 1.8070e-01, 2.4184e-01, 2.8666e-01, 3.0795e-01, 2.9331e-01, 2.6096e-01, 2.3568e-01, 2.3487e-01, 2.7473e-01, 3.5662e-01, 4.6657e-01,\n",
              "         5.7225e-01, 6.1136e-01, 5.6052e-01, 4.2788e-01, 2.7981e-01, 1.5136e-01, 6.0435e-02, 1.3841e-02, 1.2274e-03, 1.3432e-05, 4.9891e-05, 0.0000e+00],\n",
              "        [0.0000e+00, 3.6267e-04, 8.7373e-03, 4.1436e-02, 1.0026e-01, 1.8489e-01, 2.8464e-01, 3.7627e-01, 4.4899e-01, 4.7922e-01, 4.8200e-01, 4.7516e-01, 4.8842e-01, 5.3127e-01, 5.9328e-01, 6.4996e-01,\n",
              "         6.6266e-01, 6.0082e-01, 4.7449e-01, 3.2416e-01, 1.8824e-01, 8.8396e-02, 2.8767e-02, 5.4074e-03, 3.2621e-04, 0.0000e+00, 2.1108e-05, 0.0000e+00],\n",
              "        [0.0000e+00, 3.1342e-05, 6.0810e-03, 2.7270e-02, 7.3331e-02, 1.4404e-01, 2.5190e-01, 3.7506e-01, 4.9620e-01, 5.9483e-01, 6.5782e-01, 6.9493e-01, 7.1683e-01, 7.2840e-01, 7.2238e-01, 6.8208e-01,\n",
              "         5.9055e-01, 4.5946e-01, 3.1460e-01, 1.8711e-01, 9.4876e-02, 3.7261e-02, 1.0511e-02, 1.6490e-03, 3.5180e-05, 0.0000e+00, 3.1981e-06, 0.0000e+00],\n",
              "        [0.0000e+00, 0.0000e+00, 2.3519e-03, 1.2594e-02, 3.9571e-02, 8.3350e-02, 1.5672e-01, 2.5775e-01, 3.7410e-01, 4.8738e-01, 5.8281e-01, 6.4514e-01, 6.6356e-01, 6.4247e-01, 5.7364e-01, 4.7332e-01,\n",
              "         3.5329e-01, 2.3856e-01, 1.4426e-01, 7.5467e-02, 3.0740e-02, 9.7691e-03, 2.4229e-03, 3.6651e-04, 1.4839e-04, 7.6756e-06, 5.1810e-05, 0.0000e+00],\n",
              "        [0.0000e+00, 0.0000e+00, 5.4113e-04, 3.9555e-03, 1.3458e-02, 3.0013e-02, 5.8374e-02, 9.7864e-02, 1.4818e-01, 2.0402e-01, 2.5312e-01, 2.8803e-01, 2.9355e-01, 2.7630e-01, 2.3039e-01, 1.7364e-01,\n",
              "         1.1796e-01, 7.1760e-02, 3.6760e-02, 1.6373e-02, 5.7541e-03, 2.0769e-03, 6.1021e-04, 1.2153e-04, 0.0000e+00, 0.0000e+00, 0.0000e+00, 0.0000e+00],\n",
              "        [0.0000e+00, 0.0000e+00, 3.7099e-05, 1.2473e-04, 1.2447e-03, 3.0402e-03, 6.6873e-03, 1.1371e-02, 1.8533e-02, 2.5284e-02, 3.1993e-02, 3.5295e-02, 3.6504e-02, 3.4298e-02, 2.8593e-02, 2.1875e-02,\n",
              "         1.5417e-02, 9.1748e-03, 5.0454e-03, 2.8687e-03, 1.1430e-03, 4.5350e-04, 2.1683e-04, 0.0000e+00, 0.0000e+00, 0.0000e+00, 0.0000e+00, 0.0000e+00],\n",
              "        [0.0000e+00, 0.0000e+00, 0.0000e+00, 0.0000e+00, 1.0234e-05, 8.0593e-05, 1.6630e-04, 3.6459e-04, 4.0041e-04, 5.1362e-04, 7.4325e-04, 9.5497e-04, 1.0643e-03, 1.3560e-03, 1.0484e-03, 8.3855e-04,\n",
              "         1.0260e-03, 9.5497e-04, 7.4645e-04, 5.3793e-04, 3.6523e-04, 1.9637e-04, 2.8783e-05, 0.0000e+00, 0.0000e+00, 0.0000e+00, 0.0000e+00, 0.0000e+00],\n",
              "        [0.0000e+00, 0.0000e+00, 0.0000e+00, 0.0000e+00, 0.0000e+00, 0.0000e+00, 0.0000e+00, 0.0000e+00, 0.0000e+00, 0.0000e+00, 0.0000e+00, 0.0000e+00, 0.0000e+00, 0.0000e+00, 0.0000e+00, 0.0000e+00,\n",
              "         0.0000e+00, 0.0000e+00, 0.0000e+00, 0.0000e+00, 0.0000e+00, 0.0000e+00, 0.0000e+00, 0.0000e+00, 0.0000e+00, 0.0000e+00, 0.0000e+00, 0.0000e+00]])"
            ]
          },
          "metadata": {},
          "execution_count": 19
        }
      ]
    },
    {
      "cell_type": "code",
      "source": [
        "mean3.shape"
      ],
      "metadata": {
        "colab": {
          "base_uri": "https://localhost:8080/"
        },
        "id": "kLSl39_cgrCe",
        "outputId": "e70b54c7-503d-43a6-d165-bb3082e952f6"
      },
      "execution_count": 20,
      "outputs": [
        {
          "output_type": "execute_result",
          "data": {
            "text/plain": [
              "torch.Size([28, 28])"
            ]
          },
          "metadata": {},
          "execution_count": 20
        }
      ]
    },
    {
      "cell_type": "code",
      "source": [
        "# ideal 3 \n",
        "show_image(mean3)"
      ],
      "metadata": {
        "colab": {
          "base_uri": "https://localhost:8080/",
          "height": 102
        },
        "id": "_REHAdB4grhr",
        "outputId": "c6da13fb-b849-43ec-c87b-3be093577bb3"
      },
      "execution_count": 21,
      "outputs": [
        {
          "output_type": "execute_result",
          "data": {
            "text/plain": [
              "<matplotlib.axes._subplots.AxesSubplot at 0x7f32fc09f1d0>"
            ]
          },
          "metadata": {},
          "execution_count": 21
        },
        {
          "output_type": "display_data",
          "data": {
            "image/png": "[encoded data removed]",
            "text/plain": [
              "<Figure size 72x72 with 1 Axes>"
            ]
          },
          "metadata": {
            "needs_background": "light"
          }
        }
      ]
    },
    {
      "cell_type": "code",
      "source": [
        "# ideal 7 \n",
        "mean7 = stacked_sevens.mean(0)\n",
        "show_image(mean7)"
      ],
      "metadata": {
        "colab": {
          "base_uri": "https://localhost:8080/",
          "height": 102
        },
        "id": "RS9JpgdviK38",
        "outputId": "772fde17-5455-4ace-8b51-04171d2c2ca2"
      },
      "execution_count": 22,
      "outputs": [
        {
          "output_type": "execute_result",
          "data": {
            "text/plain": [
              "<matplotlib.axes._subplots.AxesSubplot at 0x7f32fc06c2d0>"
            ]
          },
          "metadata": {},
          "execution_count": 22
        },
        {
          "output_type": "display_data",
          "data": {
            "image/png": "[encoded data removed]",
            "text/plain": [
              "<Figure size 72x72 with 1 Axes>"
            ]
          },
          "metadata": {
            "needs_background": "light"
          }
        }
      ]
    },
    {
      "cell_type": "code",
      "source": [
        "a_3 = stacked_threes[1]\n",
        "show_image(a_3)"
      ],
      "metadata": {
        "colab": {
          "base_uri": "https://localhost:8080/",
          "height": 102
        },
        "id": "RLvRULaYihfo",
        "outputId": "07926827-b834-44cf-b928-71747330cb4f"
      },
      "execution_count": 23,
      "outputs": [
        {
          "output_type": "execute_result",
          "data": {
            "text/plain": [
              "<matplotlib.axes._subplots.AxesSubplot at 0x7f32fb9be650>"
            ]
          },
          "metadata": {},
          "execution_count": 23
        },
        {
          "output_type": "display_data",
          "data": {
            "image/png": "[encoded data removed]",
            "text/plain": [
              "<Figure size 72x72 with 1 Axes>"
            ]
          },
          "metadata": {
            "needs_background": "light"
          }
        }
      ]
    },
    {
      "cell_type": "code",
      "source": [
        "((a_3 - mean3)**2).mean().sqrt()"
      ],
      "metadata": {
        "colab": {
          "base_uri": "https://localhost:8080/"
        },
        "id": "8MN_u5VowWhR",
        "outputId": "ba38ecac-b27a-40f9-f83d-3cb61096edb6"
      },
      "execution_count": 24,
      "outputs": [
        {
          "output_type": "execute_result",
          "data": {
            "text/plain": [
              "tensor(0.2021)"
            ]
          },
          "metadata": {},
          "execution_count": 24
        }
      ]
    },
    {
      "cell_type": "code",
      "source": [
        " # we going to take any image and check is it close to idea 3 or ideal 7 and \n",
        "# based on that we will decide given image is 3 or 7\n",
        "# \n",
        "# we have two approches to get mean value \n",
        "# L1 norm, L2 norm \n",
        "distance_3_abs = (a_3 - mean3).abs().mean()\n",
        "distance_3_sqr = ((a_3 - mean3)**2).mean().sqrt()\n",
        "      \n",
        "distance_3_abs,distance_3_sqr"
      ],
      "metadata": {
        "colab": {
          "base_uri": "https://localhost:8080/"
        },
        "id": "xJAEt3jzikQ5",
        "outputId": "89f63461-6eb4-441c-acb3-6d69305ce119"
      },
      "execution_count": 25,
      "outputs": [
        {
          "output_type": "execute_result",
          "data": {
            "text/plain": [
              "(tensor(0.1114), tensor(0.2021))"
            ]
          },
          "metadata": {},
          "execution_count": 25
        }
      ]
    },
    {
      "cell_type": "code",
      "source": [
        "a_7 = stacked_sevens[1]\n",
        "show_image(a_7)"
      ],
      "metadata": {
        "colab": {
          "base_uri": "https://localhost:8080/",
          "height": 102
        },
        "id": "kYCp0zarxX46",
        "outputId": "0e4409a7-3ccf-4dd2-ff18-fbf1afe31361"
      },
      "execution_count": 26,
      "outputs": [
        {
          "output_type": "execute_result",
          "data": {
            "text/plain": [
              "<matplotlib.axes._subplots.AxesSubplot at 0x7f32f9bd17d0>"
            ]
          },
          "metadata": {},
          "execution_count": 26
        },
        {
          "output_type": "display_data",
          "data": {
            "image/png": "[encoded data removed]",
            "text/plain": [
              "<Figure size 72x72 with 1 Axes>"
            ]
          },
          "metadata": {
            "needs_background": "light"
          }
        }
      ]
    },
    {
      "cell_type": "code",
      "source": [
        "distance_7_abs = (a_3 - mean7).abs().mean()\n",
        "distance_7_sqr = ((a_3 - mean7)**2).mean().sqrt()\n",
        "      \n",
        "distance_7_abs,distance_7_sqr"
      ],
      "metadata": {
        "colab": {
          "base_uri": "https://localhost:8080/"
        },
        "id": "LF7uARdXxOuI",
        "outputId": "405995d3-b5e9-4b1d-8cd6-0a1ba6401236"
      },
      "execution_count": 27,
      "outputs": [
        {
          "output_type": "execute_result",
          "data": {
            "text/plain": [
              "(tensor(0.1586), tensor(0.3021))"
            ]
          },
          "metadata": {},
          "execution_count": 27
        }
      ]
    },
    {
      "cell_type": "code",
      "source": [
        "F.l1_loss(a_3.float(), mean3), F.mse_loss(a_3.float(), mean3).sqrt()"
      ],
      "metadata": {
        "colab": {
          "base_uri": "https://localhost:8080/"
        },
        "id": "OY5LWeJxyyUj",
        "outputId": "f8c3a08d-c97b-4d03-f911-f9d16b5381b3"
      },
      "execution_count": 28,
      "outputs": [
        {
          "output_type": "execute_result",
          "data": {
            "text/plain": [
              "(tensor(0.1114), tensor(0.2021))"
            ]
          },
          "metadata": {},
          "execution_count": 28
        }
      ]
    },
    {
      "cell_type": "code",
      "source": [
        "F.l1_loss(a_3.float(), mean7), F.mse_loss(a_3.float(), mean7).sqrt()"
      ],
      "metadata": {
        "colab": {
          "base_uri": "https://localhost:8080/"
        },
        "id": "4yGBthgGyHHq",
        "outputId": "a77b103a-6f3e-47e8-8acc-127fabb948a1"
      },
      "execution_count": 29,
      "outputs": [
        {
          "output_type": "execute_result",
          "data": {
            "text/plain": [
              "(tensor(0.1586), tensor(0.3021))"
            ]
          },
          "metadata": {},
          "execution_count": 29
        }
      ]
    },
    {
      "cell_type": "code",
      "source": [
        "data = [[1,2,3], [4,5,6]]\n",
        "array(data)\n",
        "tns = tensor(data)\n",
        "tns"
      ],
      "metadata": {
        "colab": {
          "base_uri": "https://localhost:8080/"
        },
        "id": "40TMWR8YM5KI",
        "outputId": "e32482b8-d78c-4622-fa6b-65f79cb65a9f"
      },
      "execution_count": 30,
      "outputs": [
        {
          "output_type": "execute_result",
          "data": {
            "text/plain": [
              "tensor([[1, 2, 3],\n",
              "        [4, 5, 6]])"
            ]
          },
          "metadata": {},
          "execution_count": 30
        }
      ]
    },
    {
      "cell_type": "code",
      "source": [
        "# single row\n",
        "tns[1,:]"
      ],
      "metadata": {
        "colab": {
          "base_uri": "https://localhost:8080/"
        },
        "id": "XOZXDb0pNPqU",
        "outputId": "3102e4db-ccbd-4e06-b852-cb8d51c4e3d5"
      },
      "execution_count": 31,
      "outputs": [
        {
          "output_type": "execute_result",
          "data": {
            "text/plain": [
              "tensor([4, 5, 6])"
            ]
          },
          "metadata": {},
          "execution_count": 31
        }
      ]
    },
    {
      "cell_type": "code",
      "source": [
        "# single column \n",
        "tns[:,0]"
      ],
      "metadata": {
        "colab": {
          "base_uri": "https://localhost:8080/"
        },
        "id": "Ey9f46GuNbAp",
        "outputId": "1397f9bc-f124-461a-d25b-c3fddd27ebdf"
      },
      "execution_count": 32,
      "outputs": [
        {
          "output_type": "execute_result",
          "data": {
            "text/plain": [
              "tensor([1, 4])"
            ]
          },
          "metadata": {},
          "execution_count": 32
        }
      ]
    },
    {
      "cell_type": "code",
      "source": [
        "# first row and from first to third column but not including 3rd \n",
        "tns[1,1:3]"
      ],
      "metadata": {
        "colab": {
          "base_uri": "https://localhost:8080/"
        },
        "id": "erc7JAqHN0dH",
        "outputId": "d0ec6419-1311-44c8-f6f5-896a151eb852"
      },
      "execution_count": 33,
      "outputs": [
        {
          "output_type": "execute_result",
          "data": {
            "text/plain": [
              "tensor([5, 6])"
            ]
          },
          "metadata": {},
          "execution_count": 33
        }
      ]
    },
    {
      "cell_type": "code",
      "source": [
        "tns[1,2:3]"
      ],
      "metadata": {
        "colab": {
          "base_uri": "https://localhost:8080/"
        },
        "id": "-VHQBm2fOcbu",
        "outputId": "807d549b-276c-45a5-9d4f-54f52c1be707"
      },
      "execution_count": 34,
      "outputs": [
        {
          "output_type": "execute_result",
          "data": {
            "text/plain": [
              "tensor([6])"
            ]
          },
          "metadata": {},
          "execution_count": 34
        }
      ]
    },
    {
      "cell_type": "code",
      "source": [
        "tns + 1"
      ],
      "metadata": {
        "colab": {
          "base_uri": "https://localhost:8080/"
        },
        "id": "TkZWs4S_PArS",
        "outputId": "8505d2e9-1c7d-4969-eaff-a42e665b1a73"
      },
      "execution_count": 35,
      "outputs": [
        {
          "output_type": "execute_result",
          "data": {
            "text/plain": [
              "tensor([[2, 3, 4],\n",
              "        [5, 6, 7]])"
            ]
          },
          "metadata": {},
          "execution_count": 35
        }
      ]
    },
    {
      "cell_type": "code",
      "source": [
        "tns * 1.5"
      ],
      "metadata": {
        "colab": {
          "base_uri": "https://localhost:8080/"
        },
        "id": "h_0iRCD9PCk0",
        "outputId": "0c8ad450-ee7a-4833-81fe-bfc2b55aa5a0"
      },
      "execution_count": 36,
      "outputs": [
        {
          "output_type": "execute_result",
          "data": {
            "text/plain": [
              "tensor([[1.5000, 3.0000, 4.5000],\n",
              "        [6.0000, 7.5000, 9.0000]])"
            ]
          },
          "metadata": {},
          "execution_count": 36
        }
      ]
    },
    {
      "cell_type": "code",
      "source": [
        " # check our model using validation set \n",
        " valid_3_tens = torch.stack([tensor(Image.open(o)) for o in (path/'valid'/'3').ls()])\n",
        " valid_3_tens = valid_3_tens.float()/255\n",
        " valid_3_tens\n",
        "\n",
        " valid_7_tens = torch.stack([tensor(Image.open(o)) for o in (path/'valid'/'7').ls()])\n",
        " valid_7_tens = valid_7_tens.float()/255\n",
        " valid_7_tens\n",
        " \n",
        " # good practice to print shape and verify its expected \n",
        " valid_3_tens.shape, valid_7_tens.shape "
      ],
      "metadata": {
        "colab": {
          "base_uri": "https://localhost:8080/"
        },
        "id": "yvLWofLkPXIV",
        "outputId": "99fab82f-a89b-47eb-a3bf-d998aa58cf68"
      },
      "execution_count": 37,
      "outputs": [
        {
          "output_type": "execute_result",
          "data": {
            "text/plain": [
              "(torch.Size([1010, 28, 28]), torch.Size([1028, 28, 28]))"
            ]
          },
          "metadata": {},
          "execution_count": 37
        }
      ]
    },
    {
      "cell_type": "code",
      "source": [
        "# write a function which will decide arbitray image is 3 or a 7 \n",
        "# -1, -2 : it will take last and second last dimensionns across x and y axis \n",
        "# torch.Size([1010, 28, 28]), so here -1 is 28 and -2 28 \n",
        "def mnist_distance(a,b): return (a-b).abs().mean((-1,-2))\n",
        "mnist_distance(a_3,mean3)\n",
        "\n",
        "# next we have to do this for all images in validation set "
      ],
      "metadata": {
        "colab": {
          "base_uri": "https://localhost:8080/"
        },
        "id": "dg-zrqJCQpBG",
        "outputId": "8706ace8-1682-4221-c29a-e94efeda2b7a"
      },
      "execution_count": 38,
      "outputs": [
        {
          "output_type": "execute_result",
          "data": {
            "text/plain": [
              "tensor(0.1114)"
            ]
          },
          "metadata": {},
          "execution_count": 38
        }
      ]
    },
    {
      "cell_type": "code",
      "source": [
        "# this is crazy we can do all at once - boradcasting \n",
        "valid_3_dist = mnist_distance(valid_3_tens, mean3)\n",
        "valid_3_dist, valid_3_dist.shape "
      ],
      "metadata": {
        "colab": {
          "base_uri": "https://localhost:8080/"
        },
        "id": "tkLoYecpR6SJ",
        "outputId": "12445490-e2d8-4618-a9b3-169fcf87a8d9"
      },
      "execution_count": 39,
      "outputs": [
        {
          "output_type": "execute_result",
          "data": {
            "text/plain": [
              "(tensor([0.1170, 0.1240, 0.1133,  ..., 0.1325, 0.1252, 0.1162]),\n",
              " torch.Size([1010]))"
            ]
          },
          "metadata": {},
          "execution_count": 39
        }
      ]
    },
    {
      "cell_type": "code",
      "source": [
        "def is_3(x): return mnist_distance(x, mean3) < mnist_distance(x, mean7)"
      ],
      "metadata": {
        "id": "F_yT9dLYTyZp"
      },
      "execution_count": 40,
      "outputs": []
    },
    {
      "cell_type": "code",
      "source": [
        "is_3(a_3), is_3(a_3).float()"
      ],
      "metadata": {
        "colab": {
          "base_uri": "https://localhost:8080/"
        },
        "id": "CKaC88HAT-6_",
        "outputId": "8e7e1fab-812c-4e4e-ad6a-0a85964a1a56"
      },
      "execution_count": 41,
      "outputs": [
        {
          "output_type": "execute_result",
          "data": {
            "text/plain": [
              "(tensor(True), tensor(1.))"
            ]
          },
          "metadata": {},
          "execution_count": 41
        }
      ]
    },
    {
      "cell_type": "code",
      "source": [
        "is_3(valid_3_tens)"
      ],
      "metadata": {
        "colab": {
          "base_uri": "https://localhost:8080/"
        },
        "id": "ihCXkq2QUTw7",
        "outputId": "a904be57-c307-4fc9-9a65-cbf4a7fe7ce6"
      },
      "execution_count": 42,
      "outputs": [
        {
          "output_type": "execute_result",
          "data": {
            "text/plain": [
              "tensor([True, True, True,  ..., True, True, True])"
            ]
          },
          "metadata": {},
          "execution_count": 42
        }
      ]
    },
    {
      "cell_type": "code",
      "source": [
        "accuracy_3s = is_3(valid_3_tens).float().mean()\n",
        "accuracy_7s = (1 - is_3(valid_7_tens).float()).mean()\n",
        "accuracy_3s, accuracy_7s, (accuracy_3s+accuracy_7s)/2"
      ],
      "metadata": {
        "colab": {
          "base_uri": "https://localhost:8080/"
        },
        "id": "FzALyMQ-UdEs",
        "outputId": "ffe3e631-1b55-4850-e9ad-6e0fb1f82471"
      },
      "execution_count": 43,
      "outputs": [
        {
          "output_type": "execute_result",
          "data": {
            "text/plain": [
              "(tensor(0.9168), tensor(0.9854), tensor(0.9511))"
            ]
          },
          "metadata": {},
          "execution_count": 43
        }
      ]
    },
    {
      "cell_type": "code",
      "source": [
        "# so far its not real machine learning doesnt match original defination \n",
        "# what we wanna do now is - \n",
        "# suppose we arrang for some automatic means of testing \n",
        "# the effectiveness of any current parameter assignment in terms of actual performance and\n",
        "# provide a mechanism for altering the parameters assignment so to maximize the performance. "
      ],
      "metadata": {
        "id": "czMjbQ22VGzP"
      },
      "execution_count": 44,
      "outputs": []
    },
    {
      "cell_type": "code",
      "source": [
        "def f(x): return x**2\n",
        "\n",
        "plot_function(f, 'x', 'x**2')"
      ],
      "metadata": {
        "colab": {
          "base_uri": "https://localhost:8080/",
          "height": 334
        },
        "id": "V_NN8t5cWN7X",
        "outputId": "3a3117fb-1400-4e14-dc64-e372d24bbf2a"
      },
      "execution_count": 45,
      "outputs": [
        {
          "output_type": "stream",
          "name": "stderr",
          "text": [
            "/usr/local/lib/python3.7/dist-packages/fastbook/__init__.py:74: UserWarning: Not providing a value for linspace's steps is deprecated and will throw a runtime error in a future release. This warning will appear only once per process. (Triggered internally at  ../aten/src/ATen/native/RangeFactories.cpp:23.)\n",
            "  x = torch.linspace(min,max)\n"
          ]
        },
        {
          "output_type": "display_data",
          "data": {
            "image/png": "[encoded data removed]",
            "text/plain": [
              "<Figure size 432x288 with 1 Axes>"
            ]
          },
          "metadata": {
            "needs_background": "light"
          }
        }
      ]
    },
    {
      "cell_type": "code",
      "source": [
        "plot_function(f, 'x', 'x**2')\n",
        "plt.scatter(-1.5, f(-1.5), color='red')"
      ],
      "metadata": {
        "colab": {
          "base_uri": "https://localhost:8080/",
          "height": 296
        },
        "id": "magWDHmOYptX",
        "outputId": "79df6333-887e-472c-bc44-39ef1e457e47"
      },
      "execution_count": 46,
      "outputs": [
        {
          "output_type": "execute_result",
          "data": {
            "text/plain": [
              "<matplotlib.collections.PathCollection at 0x7f32f9b74f50>"
            ]
          },
          "metadata": {},
          "execution_count": 46
        },
        {
          "output_type": "display_data",
          "data": {
            "image/png": "[encoded data removed]",
            "text/plain": [
              "<Figure size 432x288 with 1 Axes>"
            ]
          },
          "metadata": {
            "needs_background": "light"
          }
        }
      ]
    },
    {
      "cell_type": "code",
      "source": [
        "# we need to calculate slope and for that we going to need calculus \n",
        "# _ indicate we wana calucualte gradients with respect to that variable at that value \n",
        "# its tagging the variable so pytorch will remember to keep track of how to compute gradients of the other\n",
        "# direct calculations on it which you will ask for. \n",
        "xt =  tensor(3.).requires_grad_()\n",
        "xt"
      ],
      "metadata": {
        "colab": {
          "base_uri": "https://localhost:8080/"
        },
        "id": "BIHjuCEaZRI-",
        "outputId": "f3f65706-4ca6-4daf-997c-f05a5d23ea0e"
      },
      "execution_count": 47,
      "outputs": [
        {
          "output_type": "execute_result",
          "data": {
            "text/plain": [
              "tensor(3., requires_grad=True)"
            ]
          },
          "metadata": {},
          "execution_count": 47
        }
      ]
    },
    {
      "cell_type": "code",
      "source": [
        "yt = f(xt)\n",
        "yt"
      ],
      "metadata": {
        "colab": {
          "base_uri": "https://localhost:8080/"
        },
        "id": "ioYvzv61ebfl",
        "outputId": "592c3786-df77-4e3b-e447-33476be78d19"
      },
      "execution_count": 48,
      "outputs": [
        {
          "output_type": "execute_result",
          "data": {
            "text/plain": [
              "tensor(9., grad_fn=<PowBackward0>)"
            ]
          },
          "metadata": {},
          "execution_count": 48
        }
      ]
    },
    {
      "cell_type": "code",
      "source": [
        "# this will be derivative \n",
        "yt.backward() "
      ],
      "metadata": {
        "id": "taOjIU2lelrT"
      },
      "execution_count": 49,
      "outputs": []
    },
    {
      "cell_type": "code",
      "source": [
        "xt.grad\n",
        "# 6 x2 derivative is 2x so here we pass 3 so 2*3 = 6"
      ],
      "metadata": {
        "colab": {
          "base_uri": "https://localhost:8080/"
        },
        "id": "k2N4go4heqVb",
        "outputId": "0d20945c-6096-4846-bfac-662dec96edf8"
      },
      "execution_count": 50,
      "outputs": [
        {
          "output_type": "execute_result",
          "data": {
            "text/plain": [
              "tensor(6.)"
            ]
          },
          "metadata": {},
          "execution_count": 50
        }
      ]
    },
    {
      "cell_type": "code",
      "source": [
        "xt = tensor([3.,4.,10.]).requires_grad_()\n",
        "xt"
      ],
      "metadata": {
        "colab": {
          "base_uri": "https://localhost:8080/"
        },
        "id": "mRFt7YEigfnt",
        "outputId": "205cdb7c-46ea-4b76-fb85-1a9bb45d52e0"
      },
      "execution_count": 51,
      "outputs": [
        {
          "output_type": "execute_result",
          "data": {
            "text/plain": [
              "tensor([ 3.,  4., 10.], requires_grad=True)"
            ]
          },
          "metadata": {},
          "execution_count": 51
        }
      ]
    },
    {
      "cell_type": "code",
      "source": [
        "def f(x): return (x**2).sum()\n",
        "yt = f(xt)\n",
        "yt"
      ],
      "metadata": {
        "colab": {
          "base_uri": "https://localhost:8080/"
        },
        "id": "ZG5-xoCrgtCU",
        "outputId": "825163b2-f0da-4baf-c661-08ea4da88410"
      },
      "execution_count": 52,
      "outputs": [
        {
          "output_type": "execute_result",
          "data": {
            "text/plain": [
              "tensor(125., grad_fn=<SumBackward0>)"
            ]
          },
          "metadata": {},
          "execution_count": 52
        }
      ]
    },
    {
      "cell_type": "code",
      "source": [
        "yt.backward()\n",
        "xt.grad"
      ],
      "metadata": {
        "colab": {
          "base_uri": "https://localhost:8080/"
        },
        "id": "f1CDdhRMhIUA",
        "outputId": "1938c518-502c-407e-dcf1-faa07e9e6f9a"
      },
      "execution_count": 53,
      "outputs": [
        {
          "output_type": "execute_result",
          "data": {
            "text/plain": [
              "tensor([ 6.,  8., 20.])"
            ]
          },
          "metadata": {},
          "execution_count": 53
        }
      ]
    },
    {
      "cell_type": "code",
      "source": [
        "# essence of gradient decent \n",
        "# w -= gradient(w) * lr \n",
        "# lr is number bettwen 0.001 to 0.1 - it can be anything  "
      ],
      "metadata": {
        "id": "depNlMN3hlUi"
      },
      "execution_count": 54,
      "outputs": []
    },
    {
      "cell_type": "code",
      "source": [
        "# gradient decent \n",
        "time = torch.arange(0,20).float(); \n",
        "time"
      ],
      "metadata": {
        "colab": {
          "base_uri": "https://localhost:8080/"
        },
        "id": "37ZZUHm-jxoZ",
        "outputId": "cf40ba73-9dd6-49ff-c6f8-1e07dba4ee39"
      },
      "execution_count": 55,
      "outputs": [
        {
          "output_type": "execute_result",
          "data": {
            "text/plain": [
              "tensor([ 0.,  1.,  2.,  3.,  4.,  5.,  6.,  7.,  8.,  9., 10., 11., 12., 13., 14., 15., 16., 17., 18., 19.])"
            ]
          },
          "metadata": {},
          "execution_count": 55
        }
      ]
    },
    {
      "cell_type": "code",
      "source": [
        "speed = torch.randn(20)*3 + 0.75*(time-9.5)**2 + 1\n",
        "plt.scatter(time, speed)"
      ],
      "metadata": {
        "colab": {
          "base_uri": "https://localhost:8080/",
          "height": 282
        },
        "id": "5y_0xd1wkAXr",
        "outputId": "f0dad379-c971-413e-faf0-433002400b95"
      },
      "execution_count": 56,
      "outputs": [
        {
          "output_type": "execute_result",
          "data": {
            "text/plain": [
              "<matplotlib.collections.PathCollection at 0x7f32f9b42a90>"
            ]
          },
          "metadata": {},
          "execution_count": 56
        },
        {
          "output_type": "display_data",
          "data": {
            "image/png": "[encoded data removed]",
            "text/plain": [
              "<Figure size 432x288 with 1 Axes>"
            ]
          },
          "metadata": {
            "needs_background": "light"
          }
        }
      ]
    },
    {
      "cell_type": "code",
      "source": [
        " # quadratic equestion a * (time**2) + b*time + c\n",
        " # t is input time , params - weight params \n",
        " def quad_fun(t, params): \n",
        "   a,b,c = params \n",
        "   return a*(t**2) + (b*t) + c"
      ],
      "metadata": {
        "id": "xZGES3LAkgTR"
      },
      "execution_count": 57,
      "outputs": []
    },
    {
      "cell_type": "code",
      "source": [
        "# we need to find some function - loss function \n",
        "def mse(preds, targets): return ((preds - targets)**2).mean().sqrt()"
      ],
      "metadata": {
        "id": "d0uSSt9kmSkF"
      },
      "execution_count": 58,
      "outputs": []
    },
    {
      "cell_type": "code",
      "source": [
        "# execute 7 step process\n",
        "# step 1 : initialize a,b and c to some reasonable random value \n",
        "params = torch.randn(3).requires_grad_()\n",
        "params"
      ],
      "metadata": {
        "colab": {
          "base_uri": "https://localhost:8080/"
        },
        "id": "XX1FTF2ImxZe",
        "outputId": "6258b97e-11c2-499c-dda6-e98405d97e1d"
      },
      "execution_count": 59,
      "outputs": [
        {
          "output_type": "execute_result",
          "data": {
            "text/plain": [
              "tensor([-0.7658, -0.7506,  1.3525], requires_grad=True)"
            ]
          },
          "metadata": {},
          "execution_count": 59
        }
      ]
    },
    {
      "cell_type": "code",
      "source": [
        "orig_params = params.clone()\n",
        "orig_params"
      ],
      "metadata": {
        "colab": {
          "base_uri": "https://localhost:8080/"
        },
        "id": "Rn_tF1TknFcN",
        "outputId": "f1f5c927-5b7e-4224-8270-09efee749b80"
      },
      "execution_count": 60,
      "outputs": [
        {
          "output_type": "execute_result",
          "data": {
            "text/plain": [
              "tensor([-0.7658, -0.7506,  1.3525], grad_fn=<CloneBackward0>)"
            ]
          },
          "metadata": {},
          "execution_count": 60
        }
      ]
    },
    {
      "cell_type": "code",
      "source": [
        "# step 2 : calcualte the predictions \n",
        "preds = quad_fun(time, params)\n",
        "preds"
      ],
      "metadata": {
        "colab": {
          "base_uri": "https://localhost:8080/"
        },
        "id": "lIJ_t_8EnOTi",
        "outputId": "f7d7d1b9-e956-4cea-c5b4-462c48efdfa6"
      },
      "execution_count": 61,
      "outputs": [
        {
          "output_type": "execute_result",
          "data": {
            "text/plain": [
              "tensor([ 1.3525e+00, -1.6391e-01, -3.2121e+00, -7.7919e+00, -1.3903e+01, -2.1547e+01, -3.0721e+01, -4.1428e+01, -5.3666e+01, -6.7436e+01, -8.2738e+01, -9.9571e+01, -1.1794e+02, -1.3783e+02,\n",
              "        -1.5926e+02, -1.8222e+02, -2.0671e+02, -2.3274e+02, -2.6029e+02, -2.8938e+02], grad_fn=<AddBackward0>)"
            ]
          },
          "metadata": {},
          "execution_count": 61
        }
      ]
    },
    {
      "cell_type": "code",
      "source": [
        "def show_preds(preds, ax=None):\n",
        "  if ax is None: ax=plt.subplots()[1]\n",
        "  ax.scatter(time, speed)\n",
        "  ax.scatter(time, to_np(preds), color='red')\n",
        "  ax.set_ylim(-300,100)"
      ],
      "metadata": {
        "id": "TFmGiSg6oVOm"
      },
      "execution_count": 62,
      "outputs": []
    },
    {
      "cell_type": "code",
      "source": [
        "show_preds(preds)"
      ],
      "metadata": {
        "colab": {
          "base_uri": "https://localhost:8080/",
          "height": 269
        },
        "id": "fmD7T1QuoupR",
        "outputId": "69692ce6-4399-481b-a958-26701de5ecfb"
      },
      "execution_count": 63,
      "outputs": [
        {
          "output_type": "display_data",
          "data": {
            "image/png": "[encoded data removed]",
            "text/plain": [
              "<Figure size 432x288 with 1 Axes>"
            ]
          },
          "metadata": {
            "needs_background": "light"
          }
        }
      ]
    },
    {
      "cell_type": "code",
      "source": [
        "# step 3 : calculate the loss \n",
        "loss = mse(preds, speed)\n",
        "loss"
      ],
      "metadata": {
        "colab": {
          "base_uri": "https://localhost:8080/"
        },
        "id": "EblthLUxo-Hq",
        "outputId": "19417197-47b9-43ad-8af1-1844b07499a6"
      },
      "execution_count": 64,
      "outputs": [
        {
          "output_type": "execute_result",
          "data": {
            "text/plain": [
              "tensor(160.6979, grad_fn=<SqrtBackward0>)"
            ]
          },
          "metadata": {},
          "execution_count": 64
        }
      ]
    },
    {
      "cell_type": "code",
      "source": [
        "# step 4 : goal is to improve this \n",
        "# how ? gradients :)\n",
        "# calculate the gradients - calculate an approximation of how the parameters need to change\n",
        "loss.backward()\n",
        "params.grad"
      ],
      "metadata": {
        "colab": {
          "base_uri": "https://localhost:8080/"
        },
        "id": "TUP8NPiwpIsw",
        "outputId": "bcc436f1-5619-41fb-faec-c3ee5e043dee"
      },
      "execution_count": 65,
      "outputs": [
        {
          "output_type": "execute_result",
          "data": {
            "text/plain": [
              "tensor([-165.5151,  -10.6402,   -0.7900])"
            ]
          },
          "metadata": {},
          "execution_count": 65
        }
      ]
    },
    {
      "cell_type": "code",
      "source": [
        "params.grad * 1e-5"
      ],
      "metadata": {
        "colab": {
          "base_uri": "https://localhost:8080/"
        },
        "id": "d7mrZM33pu4q",
        "outputId": "ce705708-d9ca-4dfd-ffa7-b89333a83acc"
      },
      "execution_count": 66,
      "outputs": [
        {
          "output_type": "execute_result",
          "data": {
            "text/plain": [
              "tensor([-1.6552e-03, -1.0640e-04, -7.8996e-06])"
            ]
          },
          "metadata": {},
          "execution_count": 66
        }
      ]
    },
    {
      "cell_type": "code",
      "source": [
        "params"
      ],
      "metadata": {
        "colab": {
          "base_uri": "https://localhost:8080/"
        },
        "id": "258Wsy3Wp6LY",
        "outputId": "37657daa-6e27-4c4f-c720-f2c2f9c87e0d"
      },
      "execution_count": 67,
      "outputs": [
        {
          "output_type": "execute_result",
          "data": {
            "text/plain": [
              "tensor([-0.7658, -0.7506,  1.3525], requires_grad=True)"
            ]
          },
          "metadata": {},
          "execution_count": 67
        }
      ]
    },
    {
      "cell_type": "code",
      "source": [
        "# step 5 : step the weights \n",
        "# update the parameters based on the gradients we just calculated \n",
        "lr = 1e-5\n",
        "params.data -= lr * params.grad.data\n",
        "params.grad = None"
      ],
      "metadata": {
        "id": "sLPmttCnp91h"
      },
      "execution_count": 68,
      "outputs": []
    },
    {
      "cell_type": "code",
      "source": [
        "# lets see if the loss has improved\n",
        "preds = quad_fun(time, params)\n",
        "mse(preds, speed)"
      ],
      "metadata": {
        "colab": {
          "base_uri": "https://localhost:8080/"
        },
        "id": "fdfOXzQfqr9Z",
        "outputId": "046878af-51fb-46dd-b896-7943aedae557"
      },
      "execution_count": 69,
      "outputs": [
        {
          "output_type": "execute_result",
          "data": {
            "text/plain": [
              "tensor(160.4228, grad_fn=<SqrtBackward0>)"
            ]
          },
          "metadata": {},
          "execution_count": 69
        }
      ]
    },
    {
      "cell_type": "code",
      "source": [
        "show_preds(preds)"
      ],
      "metadata": {
        "colab": {
          "base_uri": "https://localhost:8080/",
          "height": 269
        },
        "id": "OhhfqDkLrWIh",
        "outputId": "d280e252-3974-4080-9a8e-adc0fbcd1d2b"
      },
      "execution_count": 70,
      "outputs": [
        {
          "output_type": "display_data",
          "data": {
            "image/png": "[encoded data removed]",
            "text/plain": [
              "<Figure size 432x288 with 1 Axes>"
            ]
          },
          "metadata": {
            "needs_background": "light"
          }
        }
      ]
    },
    {
      "cell_type": "code",
      "source": [
        "# we need to repeat this few times until we find good \n",
        "def apply_step(params, prn=True):\n",
        "  preds = quad_fun(time, params)\n",
        "  loss = mse(preds, speed)\n",
        "  loss.backward()\n",
        "  params.data -= lr * params.grad.data\n",
        "  params.grad = None\n",
        "  if prn: print(loss.item())\n",
        "  return preds "
      ],
      "metadata": {
        "id": "IsOyi5e5rfxN"
      },
      "execution_count": 71,
      "outputs": []
    },
    {
      "cell_type": "code",
      "source": [
        "# step 6 - repeat the process \n",
        "for i in range(10): apply_step(params)"
      ],
      "metadata": {
        "colab": {
          "base_uri": "https://localhost:8080/"
        },
        "id": "7QlhatOfsIox",
        "outputId": "0236979f-028e-47bf-917a-e5072b02a8c3"
      },
      "execution_count": 72,
      "outputs": [
        {
          "output_type": "stream",
          "name": "stdout",
          "text": [
            "160.42279052734375\n",
            "160.14772033691406\n",
            "159.87269592285156\n",
            "159.59768676757812\n",
            "159.3227081298828\n",
            "159.04774475097656\n",
            "158.7728271484375\n",
            "158.4979248046875\n",
            "158.22305297851562\n",
            "157.9481964111328\n"
          ]
        }
      ]
    },
    {
      "cell_type": "code",
      "source": [
        "params = orig_params.detach().requires_grad_()"
      ],
      "metadata": {
        "id": "756juY1RsbN_"
      },
      "execution_count": 73,
      "outputs": []
    },
    {
      "cell_type": "code",
      "source": [
        "_,axs = plt.subplots(1,4,figsize=(12,3))\n",
        "for ax in axs: show_preds(apply_step(params, False), ax)\n",
        "plt.tight_layout()"
      ],
      "metadata": {
        "colab": {
          "base_uri": "https://localhost:8080/",
          "height": 225
        },
        "id": "3bk4_3_YsrHy",
        "outputId": "ae0d0252-26d5-4c97-ff6d-be80ea81ac92"
      },
      "execution_count": 74,
      "outputs": [
        {
          "output_type": "display_data",
          "data": {
            "image/png": "[encoded data removed]",
            "text/plain": [
              "<Figure size 864x216 with 4 Axes>"
            ]
          },
          "metadata": {
            "needs_background": "light"
          }
        }
      ]
    },
    {
      "cell_type": "code",
      "source": [
        "# step 7 : stop \n"
      ],
      "metadata": {
        "id": "BiCTIGQJtX53"
      },
      "execution_count": 75,
      "outputs": []
    },
    {
      "cell_type": "code",
      "source": [
        "  # MNIST loss function \n",
        "\n",
        "  # we have 'x' - thats images\n",
        "  # lets concatenate them all into single tensor and also change them from a list\n",
        "  # of matrices rank 3 tennsor to list of vectors rank 2 tensor\n",
        "  # how? \n",
        "  # using view method - it changes the shape for a tensor without changing its contents\n",
        "  # pass -1 to tell make this axis as big as necessary to fit all the data \n",
        "  # 28*28 columns and as many data or image we have that many rows due to -1\n",
        "  train_x = torch.cat([stacked_threes, stacked_sevens]).view(-1, 28*28)"
      ],
      "metadata": {
        "id": "A-1yB507GWSr"
      },
      "execution_count": 76,
      "outputs": []
    },
    {
      "cell_type": "code",
      "source": [
        "# we need label for each we will use 1 for thress and 0 for seven\n",
        "# unsqueeze will add additional unit so 12396 will become 12396 , 1\n",
        "train_y = tensor([1]*len(threes) + [0]*len(sevens)).unsqueeze(1)\n",
        "train_x.shape, train_y.shape"
      ],
      "metadata": {
        "colab": {
          "base_uri": "https://localhost:8080/"
        },
        "id": "ZMTvY-W1OYLb",
        "outputId": "829813b0-6443-4564-9977-1f876864fafd"
      },
      "execution_count": 77,
      "outputs": [
        {
          "output_type": "execute_result",
          "data": {
            "text/plain": [
              "(torch.Size([12396, 784]), torch.Size([12396, 1]))"
            ]
          },
          "metadata": {},
          "execution_count": 77
        }
      ]
    },
    {
      "cell_type": "code",
      "source": [
        "len(sevens)"
      ],
      "metadata": {
        "colab": {
          "base_uri": "https://localhost:8080/"
        },
        "id": "MiA5udI8O_06",
        "outputId": "f3519e61-c1e5-4920-89e2-fe3d7297632d"
      },
      "execution_count": 78,
      "outputs": [
        {
          "output_type": "execute_result",
          "data": {
            "text/plain": [
              "6265"
            ]
          },
          "metadata": {},
          "execution_count": 78
        }
      ]
    },
    {
      "cell_type": "code",
      "source": [
        "len(threes)"
      ],
      "metadata": {
        "colab": {
          "base_uri": "https://localhost:8080/"
        },
        "id": "mLihJJ9DPBLP",
        "outputId": "0ddb409e-2684-409e-af84-19e052f659cb"
      },
      "execution_count": 79,
      "outputs": [
        {
          "output_type": "execute_result",
          "data": {
            "text/plain": [
              "6131"
            ]
          },
          "metadata": {},
          "execution_count": 79
        }
      ]
    },
    {
      "cell_type": "code",
      "source": [
        "torch.cat([stacked_threes, stacked_sevens])"
      ],
      "metadata": {
        "colab": {
          "base_uri": "https://localhost:8080/"
        },
        "id": "m-0D2CttQFor",
        "outputId": "b14b64c6-5a83-45fa-be7c-15dc6f8d5cee"
      },
      "execution_count": 80,
      "outputs": [
        {
          "output_type": "execute_result",
          "data": {
            "text/plain": [
              "tensor([[[0., 0., 0.,  ..., 0., 0., 0.],\n",
              "         [0., 0., 0.,  ..., 0., 0., 0.],\n",
              "         [0., 0., 0.,  ..., 0., 0., 0.],\n",
              "         ...,\n",
              "         [0., 0., 0.,  ..., 0., 0., 0.],\n",
              "         [0., 0., 0.,  ..., 0., 0., 0.],\n",
              "         [0., 0., 0.,  ..., 0., 0., 0.]],\n",
              "\n",
              "        [[0., 0., 0.,  ..., 0., 0., 0.],\n",
              "         [0., 0., 0.,  ..., 0., 0., 0.],\n",
              "         [0., 0., 0.,  ..., 0., 0., 0.],\n",
              "         ...,\n",
              "         [0., 0., 0.,  ..., 0., 0., 0.],\n",
              "         [0., 0., 0.,  ..., 0., 0., 0.],\n",
              "         [0., 0., 0.,  ..., 0., 0., 0.]],\n",
              "\n",
              "        [[0., 0., 0.,  ..., 0., 0., 0.],\n",
              "         [0., 0., 0.,  ..., 0., 0., 0.],\n",
              "         [0., 0., 0.,  ..., 0., 0., 0.],\n",
              "         ...,\n",
              "         [0., 0., 0.,  ..., 0., 0., 0.],\n",
              "         [0., 0., 0.,  ..., 0., 0., 0.],\n",
              "         [0., 0., 0.,  ..., 0., 0., 0.]],\n",
              "\n",
              "        ...,\n",
              "\n",
              "        [[0., 0., 0.,  ..., 0., 0., 0.],\n",
              "         [0., 0., 0.,  ..., 0., 0., 0.],\n",
              "         [0., 0., 0.,  ..., 0., 0., 0.],\n",
              "         ...,\n",
              "         [0., 0., 0.,  ..., 0., 0., 0.],\n",
              "         [0., 0., 0.,  ..., 0., 0., 0.],\n",
              "         [0., 0., 0.,  ..., 0., 0., 0.]],\n",
              "\n",
              "        [[0., 0., 0.,  ..., 0., 0., 0.],\n",
              "         [0., 0., 0.,  ..., 0., 0., 0.],\n",
              "         [0., 0., 0.,  ..., 0., 0., 0.],\n",
              "         ...,\n",
              "         [0., 0., 0.,  ..., 0., 0., 0.],\n",
              "         [0., 0., 0.,  ..., 0., 0., 0.],\n",
              "         [0., 0., 0.,  ..., 0., 0., 0.]],\n",
              "\n",
              "        [[0., 0., 0.,  ..., 0., 0., 0.],\n",
              "         [0., 0., 0.,  ..., 0., 0., 0.],\n",
              "         [0., 0., 0.,  ..., 0., 0., 0.],\n",
              "         ...,\n",
              "         [0., 0., 0.,  ..., 0., 0., 0.],\n",
              "         [0., 0., 0.,  ..., 0., 0., 0.],\n",
              "         [0., 0., 0.,  ..., 0., 0., 0.]]])"
            ]
          },
          "metadata": {},
          "execution_count": 80
        }
      ]
    },
    {
      "cell_type": "code",
      "source": [
        "tensor([1]*len(threes) + [0]*len(sevens))"
      ],
      "metadata": {
        "colab": {
          "base_uri": "https://localhost:8080/"
        },
        "id": "JlZs6wuCQdqe",
        "outputId": "793bba01-8286-4fb8-be16-4157d968ed4a"
      },
      "execution_count": 81,
      "outputs": [
        {
          "output_type": "execute_result",
          "data": {
            "text/plain": [
              "tensor([1, 1, 1,  ..., 0, 0, 0])"
            ]
          },
          "metadata": {},
          "execution_count": 81
        }
      ]
    },
    {
      "cell_type": "code",
      "source": [
        "tensor([1]*len(threes) + [0]*len(sevens)).unsqueeze(1)"
      ],
      "metadata": {
        "colab": {
          "base_uri": "https://localhost:8080/"
        },
        "id": "9-mOM0C6QfHI",
        "outputId": "9e8fa86a-2cee-4297-fc90-a6cb1f99466e"
      },
      "execution_count": 82,
      "outputs": [
        {
          "output_type": "execute_result",
          "data": {
            "text/plain": [
              "tensor([[1],\n",
              "        [1],\n",
              "        [1],\n",
              "        ...,\n",
              "        [0],\n",
              "        [0],\n",
              "        [0]])"
            ]
          },
          "metadata": {},
          "execution_count": 82
        }
      ]
    },
    {
      "cell_type": "code",
      "source": [
        "# now lets turn x and y in to datasets\n",
        "# return tuple of (x,y) when indexed \n",
        "# how? use zip function comnine with list \n",
        "#  zip(train_x, train_y) - it will take one from x and y and combine into one set \n",
        "dset = list(zip(train_x, train_y))\n",
        "dset\n",
        "x, y = dset[0]\n",
        "\n",
        "# x - idependent variable \n",
        "# y - dependednt variable \n",
        "# (torch.Size([784]), tensor([1])) - image at first index andn label at second \n",
        "# x, y\n",
        "x.shape, y\n"
      ],
      "metadata": {
        "colab": {
          "base_uri": "https://localhost:8080/"
        },
        "id": "CWZdPibMQ9JF",
        "outputId": "5be11b65-86b8-4fce-a8c9-84b8190afe83"
      },
      "execution_count": 83,
      "outputs": [
        {
          "output_type": "execute_result",
          "data": {
            "text/plain": [
              "(torch.Size([784]), tensor([1]))"
            ]
          },
          "metadata": {},
          "execution_count": 83
        }
      ]
    },
    {
      "cell_type": "code",
      "source": [
        "# Repeat same three steps for validation set \n",
        "valid_x = torch.cat([valid_3_tens, valid_7_tens]).view(-1,28*28)\n",
        "valid_y = tensor([1]*len(valid_3_tens) + [0]*len(valid_7_tens)).unsqueeze(1)\n",
        "valid_dset = list(zip(valid_x, valid_y))\n",
        "valid_x.shape, valid_y"
      ],
      "metadata": {
        "colab": {
          "base_uri": "https://localhost:8080/"
        },
        "id": "wwnqF_nKRQeM",
        "outputId": "472b697a-6ef1-4e46-b457-92a57a30b9ef"
      },
      "execution_count": 84,
      "outputs": [
        {
          "output_type": "execute_result",
          "data": {
            "text/plain": [
              "(torch.Size([2038, 784]), tensor([[1],\n",
              "         [1],\n",
              "         [1],\n",
              "         ...,\n",
              "         [0],\n",
              "         [0],\n",
              "         [0]]))"
            ]
          },
          "metadata": {},
          "execution_count": 84
        }
      ]
    },
    {
      "cell_type": "code",
      "source": [
        "# now we have training set and validation set \n",
        "# lets start with step 1 \n",
        "# initialize parameters : we need intial random weight for every pixel \n",
        "# randn - reterns tensor filled with random number from a normal distribution with\n",
        "# mean 0 and variance 1 also called standard normal distribution \n",
        "# to tell pytorch we need gradiants use requires_grad_\n",
        "def init_params(size, variance=1.0): return (torch.randn(size)*variance).requires_grad_()"
      ],
      "metadata": {
        "id": "SdPV9fwyWgsh"
      },
      "execution_count": 85,
      "outputs": []
    },
    {
      "cell_type": "code",
      "source": [
        "weights = init_params((28*28, 1))\n",
        "\n",
        "# function weights*pixels won't be flxible - its always equal to zero when pixel == 0\n",
        "# formula for line y= w*x+b thats means we going to need b\n",
        "\n"
      ],
      "metadata": {
        "id": "5MwJU5CJ0PBa"
      },
      "execution_count": 86,
      "outputs": []
    },
    {
      "cell_type": "code",
      "source": [
        "bias = init_params(1)"
      ],
      "metadata": {
        "id": "8t-iLAi4vEoK"
      },
      "execution_count": 87,
      "outputs": []
    },
    {
      "cell_type": "code",
      "source": [
        "# Lets calucluate predictions for one image \n",
        "(train_x[0]*weights.T).sum() + bias"
      ],
      "metadata": {
        "colab": {
          "base_uri": "https://localhost:8080/"
        },
        "id": "gP7lwa5W1M6v",
        "outputId": "2fd8ac49-4fe6-4b8d-a0cc-41bd257ce733"
      },
      "execution_count": 88,
      "outputs": [
        {
          "output_type": "execute_result",
          "data": {
            "text/plain": [
              "tensor([20.2336], grad_fn=<AddBackward0>)"
            ]
          },
          "metadata": {},
          "execution_count": 88
        }
      ]
    },
    {
      "cell_type": "code",
      "source": [
        "# now lets calculate predictions for all the images \n",
        "# we cant do using for loop, we need to use matrix multiplications \n",
        "\n",
        "def liner_matrix(xb): return xb@weights + bias\n",
        "preds = liner_matrix(train_x)\n",
        "preds"
      ],
      "metadata": {
        "colab": {
          "base_uri": "https://localhost:8080/"
        },
        "id": "usHVnnZh15dk",
        "outputId": "5cd18909-fe63-461e-9a3e-f8ce53b750af"
      },
      "execution_count": 89,
      "outputs": [
        {
          "output_type": "execute_result",
          "data": {
            "text/plain": [
              "tensor([[20.2336],\n",
              "        [17.0644],\n",
              "        [15.2384],\n",
              "        ...,\n",
              "        [18.3804],\n",
              "        [23.8567],\n",
              "        [28.6816]], grad_fn=<AddBackward0>)"
            ]
          },
          "metadata": {},
          "execution_count": 89
        }
      ]
    },
    {
      "cell_type": "code",
      "source": [
        "# next step check how good is our predictions \n",
        "corrects = (preds > 0.5).float() == train_y\n",
        "corrects"
      ],
      "metadata": {
        "colab": {
          "base_uri": "https://localhost:8080/"
        },
        "id": "XqnrS2Y63NMH",
        "outputId": "b1b4ab56-d054-4850-927a-2b0f1ef9f7e6"
      },
      "execution_count": 90,
      "outputs": [
        {
          "output_type": "execute_result",
          "data": {
            "text/plain": [
              "tensor([[ True],\n",
              "        [ True],\n",
              "        [ True],\n",
              "        ...,\n",
              "        [False],\n",
              "        [False],\n",
              "        [False]])"
            ]
          },
          "metadata": {},
          "execution_count": 90
        }
      ]
    },
    {
      "cell_type": "code",
      "source": [
        "# corrects.float().mean(), \n",
        "corrects.float().mean().item()\n",
        "# item gives normal python sclar which basically unwrapps the tensor "
      ],
      "metadata": {
        "colab": {
          "base_uri": "https://localhost:8080/"
        },
        "id": "a04_1FYS3mF6",
        "outputId": "1856e39e-b751-4e85-9715-44aeddab20b1"
      },
      "execution_count": 91,
      "outputs": [
        {
          "output_type": "execute_result",
          "data": {
            "text/plain": [
              "0.49080348014831543"
            ]
          },
          "metadata": {},
          "execution_count": 91
        }
      ]
    },
    {
      "cell_type": "code",
      "source": [
        "def set_weights(current_weights): return current_weights * 1.0001"
      ],
      "metadata": {
        "id": "ZmGCBgg7pZ5K"
      },
      "execution_count": 92,
      "outputs": []
    },
    {
      "cell_type": "code",
      "source": [
        "weights[0]"
      ],
      "metadata": {
        "colab": {
          "base_uri": "https://localhost:8080/"
        },
        "id": "Om21aOwsp6I7",
        "outputId": "b04021b5-619c-4006-8c73-e2f215022b22"
      },
      "execution_count": 93,
      "outputs": [
        {
          "output_type": "execute_result",
          "data": {
            "text/plain": [
              "tensor([1.3123], grad_fn=<SelectBackward0>)"
            ]
          },
          "metadata": {},
          "execution_count": 93
        }
      ]
    },
    {
      "cell_type": "code",
      "source": [
        "# next step let's see for a small change in one of the weights what the change in accuracy \n",
        "# with torch.no_grad(): weights[0] *= 1.0001\n",
        "\n",
        "weights[0].data *= 1.0001\n",
        "\n",
        "# weights[0] = set_weights(weights[0])\n",
        "# with torch.no_grad(): weights[0] *= 1.0001"
      ],
      "metadata": {
        "id": "BFo_js0B4Ecj"
      },
      "execution_count": 94,
      "outputs": []
    },
    {
      "cell_type": "code",
      "source": [
        "weights[0]"
      ],
      "metadata": {
        "colab": {
          "base_uri": "https://localhost:8080/"
        },
        "id": "bV34XXDmp9uM",
        "outputId": "deeca77d-ae7f-4c23-f23d-8b9d07a81b49"
      },
      "execution_count": 95,
      "outputs": [
        {
          "output_type": "execute_result",
          "data": {
            "text/plain": [
              "tensor([1.3124], grad_fn=<SelectBackward0>)"
            ]
          },
          "metadata": {},
          "execution_count": 95
        }
      ]
    },
    {
      "cell_type": "code",
      "source": [
        "preds = liner_matrix(train_x)\n",
        "((preds > 0.0).float() == train_y).float().mean().item()"
      ],
      "metadata": {
        "colab": {
          "base_uri": "https://localhost:8080/"
        },
        "id": "f9nFXPkI61Hl",
        "outputId": "6d6184d0-150c-4c1a-d2f9-0624d6b66df4"
      },
      "execution_count": 96,
      "outputs": [
        {
          "output_type": "execute_result",
          "data": {
            "text/plain": [
              "0.4912068545818329"
            ]
          },
          "metadata": {},
          "execution_count": 96
        }
      ]
    },
    {
      "cell_type": "code",
      "source": [
        "# so after changing weight its still same no difference in prediction \n",
        "# the gradient of a function is its slope or its steepness which we define as rise over run\n",
        "# rise over run : this is how much value of functionn goes up or down, divided by\n",
        "# how much you changed the input \n",
        "# in match (y_new - y_old) / (x_new - x_old)\n",
        "# y_new = 0.503187358379364\n",
        "# y_old = 0.503187358379364\n",
        "# formula become 0/whatever x diff but its 0 \n",
        "\n",
        "# this means gradient is zero and that means our step will be zero \n",
        "# and if we repeat there will be no changes "
      ],
      "metadata": {
        "id": "Mpnl8E_a7Y11"
      },
      "execution_count": 97,
      "outputs": []
    },
    {
      "cell_type": "code",
      "source": [
        "# whats the solution to above problem?\n",
        "# very small change in the value of a weight will ofter not actually change the accuracy at all. \n",
        "# this means it is ot useful to use accuracy as a loss function \n",
        "\n",
        "# we need a loss function which when our weights result in slightly better predictions \n",
        "# gives us a slightly better loss \n",
        "# what does slightly better predictions looks like ?\n",
        "# correct answer is 3 then score is a little higher \n",
        "# correct answer is 7 then score is a little lower \n",
        " \n",
        "targets_example = tensor([1,0,1])\n",
        "predictions_example = tensor([0.9,0.4,0.2])\n",
        "# lets say we predicted same as target \n",
        "# predictions_example = tensor([1.,0,1.]) \n",
        "\n",
        "# lets say we predicted wrong\n",
        "# predictions_example = tensor([0,1.,0]) \n"
      ],
      "metadata": {
        "id": "5RpSg5r28SF8"
      },
      "execution_count": 98,
      "outputs": []
    },
    {
      "cell_type": "code",
      "source": [
        "# lets write loss functionn \n",
        "\n",
        "def mnist_loss(predictions, targets): \n",
        "  return torch.where(targets==1, 1-predictions, predictions).mean()"
      ],
      "metadata": {
        "id": "yeIsKgkp-p7Q"
      },
      "execution_count": 99,
      "outputs": []
    },
    {
      "cell_type": "code",
      "source": [
        "torch.where(targets_example==1, 1-predictions_example, predictions_example).mean()"
      ],
      "metadata": {
        "colab": {
          "base_uri": "https://localhost:8080/"
        },
        "id": "XYcmfKMq_Ey4",
        "outputId": "1a2cbb25-3676-49c9-fd3c-c6749f100657"
      },
      "execution_count": 100,
      "outputs": [
        {
          "output_type": "execute_result",
          "data": {
            "text/plain": [
              "tensor(0.4333)"
            ]
          },
          "metadata": {},
          "execution_count": 100
        }
      ]
    },
    {
      "cell_type": "code",
      "source": [
        "mnist_loss(predictions_example, targets_example)"
      ],
      "metadata": {
        "colab": {
          "base_uri": "https://localhost:8080/"
        },
        "id": "7kCqKbPMAL2v",
        "outputId": "135be9f3-aac5-429c-899a-8bd1bf1753dd"
      },
      "execution_count": 101,
      "outputs": [
        {
          "output_type": "execute_result",
          "data": {
            "text/plain": [
              "tensor(0.4333)"
            ]
          },
          "metadata": {},
          "execution_count": 101
        }
      ]
    },
    {
      "cell_type": "code",
      "source": [
        "# now lets we change one params from 0.2 to 0.8 which is was badly predicted \n",
        "# we expect our predictions to improve \n",
        "mnist_loss(tensor([0.9,0.4,0.8]), targets_example)\n",
        "# loss went down to 0.2 from 0.4 "
      ],
      "metadata": {
        "colab": {
          "base_uri": "https://localhost:8080/"
        },
        "id": "WSsqFswOAaeM",
        "outputId": "ca7fc523-d3b1-43b6-ccc0-c5885fb8b4c4"
      },
      "execution_count": 102,
      "outputs": [
        {
          "output_type": "execute_result",
          "data": {
            "text/plain": [
              "tensor(0.2333)"
            ]
          },
          "metadata": {},
          "execution_count": 102
        }
      ]
    },
    {
      "cell_type": "code",
      "source": [
        "# this is only going to work when predictions is in between 0 and 1 \n",
        "# there is solution for that. there is function which always outputs a number between 0 annd 1\n",
        "# its called sigmoid \n",
        "\n",
        "# exp is e to the power of x\n",
        "def sigmoid(x): return 1/1+(torch.exp(-x))\n"
      ],
      "metadata": {
        "id": "yPfs2IsSBCNB"
      },
      "execution_count": 103,
      "outputs": []
    },
    {
      "cell_type": "code",
      "source": [
        "plot_function(torch.sigmoid, title='Funny Sigmoid', min=-7, max=7)"
      ],
      "metadata": {
        "colab": {
          "base_uri": "https://localhost:8080/",
          "height": 281
        },
        "id": "F77lnL8CBzVd",
        "outputId": "b2a7ced6-d1a4-4466-c5df-52cb8f9aaf6c"
      },
      "execution_count": 104,
      "outputs": [
        {
          "output_type": "display_data",
          "data": {
            "image/png": "[encoded data removed]",
            "text/plain": [
              "<Figure size 432x288 with 1 Axes>"
            ]
          },
          "metadata": {
            "needs_background": "light"
          }
        }
      ]
    },
    {
      "cell_type": "code",
      "source": [
        "math.e, math.e**2, torch.exp(tensor(2.))"
      ],
      "metadata": {
        "colab": {
          "base_uri": "https://localhost:8080/"
        },
        "id": "NG4sEQb4CT7M",
        "outputId": "6c1e4fcb-3703-4888-a232-91a3ba2245a5"
      },
      "execution_count": 105,
      "outputs": [
        {
          "output_type": "execute_result",
          "data": {
            "text/plain": [
              "(2.718281828459045, 7.3890560989306495, tensor(7.3891))"
            ]
          },
          "metadata": {},
          "execution_count": 105
        }
      ]
    },
    {
      "cell_type": "code",
      "source": [
        "# now lets see how can we use sigmoid \n",
        "\n",
        "def mnist_loss(predictions, targets):\n",
        "  predictions = predictions.sigmoid()\n",
        "  return torch.where(targets==1, 1-predictions, predictions).mean()"
      ],
      "metadata": {
        "id": "kND5M0EiDL7M"
      },
      "execution_count": 106,
      "outputs": []
    },
    {
      "cell_type": "code",
      "source": [
        "dl = DataLoader(range(15), batch_size=5, shuffle=True)\n",
        "list(dl)"
      ],
      "metadata": {
        "colab": {
          "base_uri": "https://localhost:8080/"
        },
        "id": "Bmmuu9arE2jU",
        "outputId": "3733d5b7-a2cf-4424-ff14-96f3d4a19085"
      },
      "execution_count": 107,
      "outputs": [
        {
          "output_type": "execute_result",
          "data": {
            "text/plain": [
              "[tensor([ 3, 12,  8, 10,  2]),\n",
              " tensor([ 9,  4,  7, 14,  5]),\n",
              " tensor([ 1, 13,  0,  6, 11])]"
            ]
          },
          "metadata": {},
          "execution_count": 107
        }
      ]
    },
    {
      "cell_type": "code",
      "source": [
        "ds = L(enumerate(string.ascii_lowercase))\n",
        "ds"
      ],
      "metadata": {
        "colab": {
          "base_uri": "https://localhost:8080/"
        },
        "id": "57br8rStFJcW",
        "outputId": "c9ea6c15-685c-4f78-8b79-c96ea50b2f55"
      },
      "execution_count": 108,
      "outputs": [
        {
          "output_type": "execute_result",
          "data": {
            "text/plain": [
              "(#26) [(0, 'a'),(1, 'b'),(2, 'c'),(3, 'd'),(4, 'e'),(5, 'f'),(6, 'g'),(7, 'h'),(8, 'i'),(9, 'j')...]"
            ]
          },
          "metadata": {},
          "execution_count": 108
        }
      ]
    },
    {
      "cell_type": "code",
      "source": [
        "dl = DataLoader(ds, batch_size=5, shuffle=True)\n",
        "list(dl)"
      ],
      "metadata": {
        "colab": {
          "base_uri": "https://localhost:8080/"
        },
        "id": "a3U8Ild4FetR",
        "outputId": "77cbf147-db9b-4a27-9a4c-cfc5ace89bc5"
      },
      "execution_count": 109,
      "outputs": [
        {
          "output_type": "execute_result",
          "data": {
            "text/plain": [
              "[(tensor([17, 18, 10, 22,  8]), ('r', 's', 'k', 'w', 'i')),\n",
              " (tensor([14, 20, 15,  9, 13]), ('o', 'u', 'p', 'j', 'n')),\n",
              " (tensor([21, 12,  7, 25,  6]), ('v', 'm', 'h', 'z', 'g')),\n",
              " (tensor([ 5, 11, 23,  1,  3]), ('f', 'l', 'x', 'b', 'd')),\n",
              " (tensor([ 0, 24, 19, 16,  2]), ('a', 'y', 't', 'q', 'c')),\n",
              " (tensor([4]), ('e',))]"
            ]
          },
          "metadata": {},
          "execution_count": 109
        }
      ]
    },
    {
      "cell_type": "code",
      "source": [
        ""
      ],
      "metadata": {
        "id": "fwWEN8_rGDIe"
      },
      "execution_count": 109,
      "outputs": []
    },
    {
      "cell_type": "code",
      "source": [
        "# putting all together \n",
        "weights = init_params((28*28,1))\n",
        "bias = init_params(1)\n",
        "\n",
        "dl = DataLoader(dset, batch_size=256)\n",
        "xb,yb = first(dl)\n",
        "xb.shape, yb.shape"
      ],
      "metadata": {
        "colab": {
          "base_uri": "https://localhost:8080/"
        },
        "id": "tkgh92F6GDKa",
        "outputId": "f329299a-95d0-4bad-8de1-87eb5e54f50b"
      },
      "execution_count": 110,
      "outputs": [
        {
          "output_type": "execute_result",
          "data": {
            "text/plain": [
              "(torch.Size([256, 784]), torch.Size([256, 1]))"
            ]
          },
          "metadata": {},
          "execution_count": 110
        }
      ]
    },
    {
      "cell_type": "code",
      "source": [
        "# same thing for validation set\n",
        "valid_dl = DataLoader(valid_dset, batch_size=256)\n",
        "# xc,yc = first(valid_dl)\n",
        "# xc.shape, yc.shape"
      ],
      "metadata": {
        "id": "hJyJQAYbGp_i"
      },
      "execution_count": 111,
      "outputs": []
    },
    {
      "cell_type": "code",
      "source": [
        "# lets create mini battch of size for testing \n",
        "batch = train_x[:4]\n",
        "batch.shape"
      ],
      "metadata": {
        "colab": {
          "base_uri": "https://localhost:8080/"
        },
        "id": "NnEq21sPHEXk",
        "outputId": "9cd1182e-179e-4172-adc5-a808298b6a90"
      },
      "execution_count": 112,
      "outputs": [
        {
          "output_type": "execute_result",
          "data": {
            "text/plain": [
              "torch.Size([4, 784])"
            ]
          },
          "metadata": {},
          "execution_count": 112
        }
      ]
    },
    {
      "cell_type": "code",
      "source": [
        "preds = liner_matrix(batch)\n",
        "preds"
      ],
      "metadata": {
        "colab": {
          "base_uri": "https://localhost:8080/"
        },
        "id": "BeSUYPnuHXUG",
        "outputId": "305ec7ce-77cd-4aa5-bbd1-fe66a4ba736d"
      },
      "execution_count": 113,
      "outputs": [
        {
          "output_type": "execute_result",
          "data": {
            "text/plain": [
              "tensor([[-2.1876],\n",
              "        [-8.3973],\n",
              "        [ 2.5000],\n",
              "        [-4.9473]], grad_fn=<AddBackward0>)"
            ]
          },
          "metadata": {},
          "execution_count": 113
        }
      ]
    },
    {
      "cell_type": "code",
      "source": [
        "loss = mnist_loss(preds, train_y[:4])\n",
        "loss"
      ],
      "metadata": {
        "colab": {
          "base_uri": "https://localhost:8080/"
        },
        "id": "q685uQQHHo83",
        "outputId": "1ad878b1-bc49-42c2-991a-f83197c77a36"
      },
      "execution_count": 114,
      "outputs": [
        {
          "output_type": "execute_result",
          "data": {
            "text/plain": [
              "tensor(0.7419, grad_fn=<MeanBackward0>)"
            ]
          },
          "metadata": {},
          "execution_count": 114
        }
      ]
    },
    {
      "cell_type": "code",
      "source": [
        "# calculate gradients \n",
        "loss.backward()\n",
        "weights.grad.shape, weights.grad.mean(),bias.grad"
      ],
      "metadata": {
        "colab": {
          "base_uri": "https://localhost:8080/"
        },
        "id": "cUtfPw34Hzyk",
        "outputId": "a37168cb-d505-497b-aa31-60c77c925b19"
      },
      "execution_count": 115,
      "outputs": [
        {
          "output_type": "execute_result",
          "data": {
            "text/plain": [
              "(torch.Size([784, 1]), tensor(-0.0061), tensor([-0.0420]))"
            ]
          },
          "metadata": {},
          "execution_count": 115
        }
      ]
    },
    {
      "cell_type": "code",
      "source": [
        "# lets put all in one function \n",
        "\n",
        "def calc_grad(xb,yb,model):\n",
        "  preds = model(xb)\n",
        "  loss = mnist_loss(preds,yb)\n",
        "  loss.backward()"
      ],
      "metadata": {
        "id": "I0KwUErlJCzY"
      },
      "execution_count": 116,
      "outputs": []
    },
    {
      "cell_type": "code",
      "source": [
        "calc_grad(batch, train_y[:4], liner_matrix)\n",
        "weights.grad.mean(), bias.grad"
      ],
      "metadata": {
        "colab": {
          "base_uri": "https://localhost:8080/"
        },
        "id": "H14nI-YZJXHN",
        "outputId": "a9acf641-f64e-41c4-9f90-6900589a6bf2"
      },
      "execution_count": 117,
      "outputs": [
        {
          "output_type": "execute_result",
          "data": {
            "text/plain": [
              "(tensor(-0.0121), tensor([-0.0840]))"
            ]
          },
          "metadata": {},
          "execution_count": 117
        }
      ]
    },
    {
      "cell_type": "code",
      "source": [
        "# if we call it second time lets see what happens \n",
        "calc_grad(batch, train_y[:4], liner_matrix)\n",
        "weights.grad.mean(), bias.grad"
      ],
      "metadata": {
        "colab": {
          "base_uri": "https://localhost:8080/"
        },
        "id": "7JsblKdIJpjV",
        "outputId": "d748dd48-9eba-4d64-9d61-b56333444555"
      },
      "execution_count": 118,
      "outputs": [
        {
          "output_type": "execute_result",
          "data": {
            "text/plain": [
              "(tensor(-0.0182), tensor([-0.1260]))"
            ]
          },
          "metadata": {},
          "execution_count": 118
        }
      ]
    },
    {
      "cell_type": "code",
      "source": [
        "weights.grad.zero_()\n",
        "bias.grad.zero_()"
      ],
      "metadata": {
        "colab": {
          "base_uri": "https://localhost:8080/"
        },
        "id": "tgfVwJpBJ_Jv",
        "outputId": "cd36aaf3-d619-400e-b480-8b54f0b85f1b"
      },
      "execution_count": 119,
      "outputs": [
        {
          "output_type": "execute_result",
          "data": {
            "text/plain": [
              "tensor([0.])"
            ]
          },
          "metadata": {},
          "execution_count": 119
        }
      ]
    },
    {
      "cell_type": "code",
      "source": [
        "def train_epoch(model, lr, params):\n",
        "  for xb,yb in dl:\n",
        "    calc_grad(xb,yb,model)\n",
        "    for p in params:\n",
        "      p.data -= p.grad*lr\n",
        "      p.grad.zero_()"
      ],
      "metadata": {
        "id": "vpMZBeJ7KOs9"
      },
      "execution_count": 120,
      "outputs": []
    },
    {
      "cell_type": "code",
      "source": [
        "(preds>0.0).float() == train_y[:4]"
      ],
      "metadata": {
        "colab": {
          "base_uri": "https://localhost:8080/"
        },
        "id": "EV-Q5noIrne6",
        "outputId": "776ad271-5880-4ef4-f248-582256c2f01b"
      },
      "execution_count": 121,
      "outputs": [
        {
          "output_type": "execute_result",
          "data": {
            "text/plain": [
              "tensor([[False],\n",
              "        [False],\n",
              "        [ True],\n",
              "        [False]])"
            ]
          },
          "metadata": {},
          "execution_count": 121
        }
      ]
    },
    {
      "cell_type": "code",
      "source": [
        "def batch_accuracy(xb,yb):\n",
        "  preds = xb.sigmoid()\n",
        "  correct = (preds>0.5) == yb\n",
        "  return correct.float().mean()"
      ],
      "metadata": {
        "id": "wACBN0NhKl9x"
      },
      "execution_count": 122,
      "outputs": []
    },
    {
      "cell_type": "code",
      "source": [
        "batch_accuracy(liner_matrix(batch), train_y[:4])"
      ],
      "metadata": {
        "colab": {
          "base_uri": "https://localhost:8080/"
        },
        "id": "al51fvy3LiST",
        "outputId": "41d53537-f35c-4cc2-bf2b-4d1a4565072d"
      },
      "execution_count": 123,
      "outputs": [
        {
          "output_type": "execute_result",
          "data": {
            "text/plain": [
              "tensor(0.2500)"
            ]
          },
          "metadata": {},
          "execution_count": 123
        }
      ]
    },
    {
      "cell_type": "code",
      "source": [
        "def validate_epoch(model):\n",
        "  accs = [batch_accuracy(model(xb), yb) for xb,yb in valid_dl]\n",
        "  return round(torch.stack(accs).mean().item(), 4)"
      ],
      "metadata": {
        "id": "7wwwuSKmMAqj"
      },
      "execution_count": 124,
      "outputs": []
    },
    {
      "cell_type": "code",
      "source": [
        "validate_epoch(liner_matrix)"
      ],
      "metadata": {
        "colab": {
          "base_uri": "https://localhost:8080/"
        },
        "id": "Kt5EvBVtMjhN",
        "outputId": "d58b85a1-bbfe-4bcb-aa05-5aaa17bcd673"
      },
      "execution_count": 125,
      "outputs": [
        {
          "output_type": "execute_result",
          "data": {
            "text/plain": [
              "0.526"
            ]
          },
          "metadata": {},
          "execution_count": 125
        }
      ]
    },
    {
      "cell_type": "code",
      "source": [
        "# this is our starting point lets train for one epoch \n",
        "# and see if accuracy improves \n",
        "lr = 1.\n",
        "params = weights, bias\n",
        "train_epoch(liner_matrix, lr, params)\n",
        "validate_epoch(liner_matrix)\n"
      ],
      "metadata": {
        "colab": {
          "base_uri": "https://localhost:8080/"
        },
        "id": "48DbmSF_MqM0",
        "outputId": "9ec4b63b-f9bf-4810-e101-da7c8439f004"
      },
      "execution_count": 126,
      "outputs": [
        {
          "output_type": "execute_result",
          "data": {
            "text/plain": [
              "0.6663"
            ]
          },
          "metadata": {},
          "execution_count": 126
        }
      ]
    },
    {
      "cell_type": "code",
      "source": [
        "for i in range(20):\n",
        "  train_epoch(liner_matrix, lr, params)\n",
        "  print(validate_epoch(liner_matrix), end=' ')"
      ],
      "metadata": {
        "colab": {
          "base_uri": "https://localhost:8080/"
        },
        "id": "GWPz0QW_NOoZ",
        "outputId": "6073ae19-d409-45d1-d6cf-5243df417155"
      },
      "execution_count": 127,
      "outputs": [
        {
          "output_type": "stream",
          "name": "stdout",
          "text": [
            "0.8265 0.89 0.9183 0.9276 0.9398 0.9466 0.9505 0.9525 0.9559 0.9579 0.9598 0.9608 0.9613 0.9618 0.9632 0.9637 0.9647 0.9657 0.9671 0.9676 "
          ]
        }
      ]
    },
    {
      "cell_type": "code",
      "source": [
        "# now we have same accuracy as pixel similarity approach \n",
        "# and we have created a general purpose foundation we can built on \n",
        "# next step create an object that will handle SGD step for us. \n",
        "# Optimizer "
      ],
      "metadata": {
        "id": "ySDXH0_MNRjN"
      },
      "execution_count": 127,
      "outputs": []
    },
    {
      "cell_type": "code",
      "source": [
        "liner_matrix??"
      ],
      "metadata": {
        "id": "-0u9U00D4z1C"
      },
      "execution_count": 132,
      "outputs": []
    },
    {
      "cell_type": "code",
      "source": [
        "# there is method call nn.Linear which does exactly what we did in\n",
        "# liner matrix \n",
        "liner_model = nn.Linear(28*28,1)\n",
        "# liner class will create matrix 28 * 28 and bias is 1\n",
        "# inside it will do xb@weights + bias so we dont have to do it manually"
      ],
      "metadata": {
        "id": "OB9uW1KB41oT"
      },
      "execution_count": 135,
      "outputs": []
    },
    {
      "cell_type": "code",
      "source": [
        "w,b = liner_model.parameters()\n",
        "w.shape,b.shape"
      ],
      "metadata": {
        "colab": {
          "base_uri": "https://localhost:8080/"
        },
        "id": "3zQvuEGT5WxQ",
        "outputId": "9bc20067-3937-4982-ab8a-22aeac012f0c"
      },
      "execution_count": 136,
      "outputs": [
        {
          "output_type": "execute_result",
          "data": {
            "text/plain": [
              "(torch.Size([1, 784]), torch.Size([1]))"
            ]
          },
          "metadata": {},
          "execution_count": 136
        }
      ]
    },
    {
      "cell_type": "code",
      "source": [
        "# lets create an optimizer\n",
        "\n",
        "class BasicOptim:\n",
        "  def __init__(self,params, lr): \n",
        "    self.params, self.lr = list(params), lr\n",
        "\n",
        "  def step(self, *args, **kwargs):\n",
        "    for p in self.params: p.data -= p.grad.data * self.lr\n",
        "\n",
        "  def zero_grad(self, *args, **kwargs):\n",
        "    for p in self.params: p.grad = None\n"
      ],
      "metadata": {
        "id": "je5_dKgh5vhX"
      },
      "execution_count": 137,
      "outputs": []
    },
    {
      "cell_type": "code",
      "source": [
        "# now create optimizer by passig model's params\n",
        "\n",
        "opt = BasicOptim(liner_model.parameters(), lr)"
      ],
      "metadata": {
        "id": "rN64ZDrP7KdH"
      },
      "execution_count": 138,
      "outputs": []
    },
    {
      "cell_type": "code",
      "source": [
        "def train_epoch(model):\n",
        "  for xb,yb in dl:\n",
        "    calc_grad(xb,yb, model)\n",
        "    opt.step()\n",
        "    opt.zero_grad()"
      ],
      "metadata": {
        "id": "SJT6dWLE7WJS"
      },
      "execution_count": 139,
      "outputs": []
    },
    {
      "cell_type": "code",
      "source": [
        "# use existing validation function \n",
        "validate_epoch(liner_model)"
      ],
      "metadata": {
        "colab": {
          "base_uri": "https://localhost:8080/"
        },
        "id": "cQp-S4HF7skA",
        "outputId": "56b24c6b-2a17-4dfc-ff2e-4d61b4096486"
      },
      "execution_count": 140,
      "outputs": [
        {
          "output_type": "execute_result",
          "data": {
            "text/plain": [
              "0.4608"
            ]
          },
          "metadata": {},
          "execution_count": 140
        }
      ]
    },
    {
      "cell_type": "code",
      "source": [
        "# put training loop in function \n",
        "def train_model(model, epochs):\n",
        "  for i in range(epochs):\n",
        "    train_epoch(model)\n",
        "    print(validate_epoch(model), end=' ')"
      ],
      "metadata": {
        "id": "gwPwwRK971-I"
      },
      "execution_count": 143,
      "outputs": []
    },
    {
      "cell_type": "code",
      "source": [
        "train_model(liner_model, 20)"
      ],
      "metadata": {
        "colab": {
          "base_uri": "https://localhost:8080/"
        },
        "id": "Z44Hf0xf8Er0",
        "outputId": "249c05b9-a9af-405b-cf70-6f837f7212df"
      },
      "execution_count": 144,
      "outputs": [
        {
          "output_type": "stream",
          "name": "stdout",
          "text": [
            "0.9795 0.9795 0.9795 0.979 0.9795 0.9795 0.98 0.98 0.9804 0.9814 0.9814 0.9814 0.9814 0.9819 0.9814 0.9814 0.9814 0.9814 0.9814 0.9814 "
          ]
        }
      ]
    },
    {
      "cell_type": "code",
      "source": [
        "# there is SGD class same as BasicOptim part of fastai\n",
        "\n",
        "linear_model = nn.Linear(28*28,1)\n",
        "SGD(linear_model.parameters(),lr)\n",
        "train_model(liner_model, 20)"
      ],
      "metadata": {
        "colab": {
          "base_uri": "https://localhost:8080/"
        },
        "id": "U8zA820GGoVx",
        "outputId": "1ef6c41a-cfdc-4573-83e2-3af8b7b035f4"
      },
      "execution_count": 146,
      "outputs": [
        {
          "output_type": "stream",
          "name": "stdout",
          "text": [
            "0.9814 0.9814 0.9814 0.9814 0.9814 0.9814 0.9814 0.9814 0.9814 0.9814 0.9814 0.9814 0.9814 0.9814 0.9819 0.9824 0.9829 0.9834 0.9834 0.9834 "
          ]
        }
      ]
    },
    {
      "cell_type": "code",
      "source": [
        "dls = DataLoaders(dl, valid_dl)"
      ],
      "metadata": {
        "id": "k9IxX76IHkrp"
      },
      "execution_count": 147,
      "outputs": []
    },
    {
      "cell_type": "code",
      "source": [
        " learn = Learner(\n",
        "            dls,\n",
        "              nn.Linear(28*28,1),\n",
        "              opt_func=SGD,\n",
        "                loss_func=mnist_loss,\n",
        "                metrics=batch_accuracy)"
      ],
      "metadata": {
        "id": "5XvUko1NH6EV"
      },
      "execution_count": 148,
      "outputs": []
    },
    {
      "cell_type": "code",
      "source": [
        "learn.fit(10,lr=lr)"
      ],
      "metadata": {
        "colab": {
          "base_uri": "https://localhost:8080/",
          "height": 363
        },
        "id": "F3VcLATiIZZQ",
        "outputId": "5c023853-425e-40b4-a049-7f8b784446c9"
      },
      "execution_count": 149,
      "outputs": [
        {
          "output_type": "display_data",
          "data": {
            "text/html": [
              "<table border=\"1\" class=\"dataframe\">\n",
              "  <thead>\n",
              "    <tr style=\"text-align: left;\">\n",
              "      <th>epoch</th>\n",
              "      <th>train_loss</th>\n",
              "      <th>valid_loss</th>\n",
              "      <th>batch_accuracy</th>\n",
              "      <th>time</th>\n",
              "    </tr>\n",
              "  </thead>\n",
              "  <tbody>\n",
              "    <tr>\n",
              "      <td>0</td>\n",
              "      <td>0.636954</td>\n",
              "      <td>0.503638</td>\n",
              "      <td>0.495584</td>\n",
              "      <td>00:00</td>\n",
              "    </tr>\n",
              "    <tr>\n",
              "      <td>1</td>\n",
              "      <td>0.599404</td>\n",
              "      <td>0.126363</td>\n",
              "      <td>0.913150</td>\n",
              "      <td>00:00</td>\n",
              "    </tr>\n",
              "    <tr>\n",
              "      <td>2</td>\n",
              "      <td>0.216907</td>\n",
              "      <td>0.213027</td>\n",
              "      <td>0.802748</td>\n",
              "      <td>00:00</td>\n",
              "    </tr>\n",
              "    <tr>\n",
              "      <td>3</td>\n",
              "      <td>0.093553</td>\n",
              "      <td>0.116444</td>\n",
              "      <td>0.904318</td>\n",
              "      <td>00:00</td>\n",
              "    </tr>\n",
              "    <tr>\n",
              "      <td>4</td>\n",
              "      <td>0.048114</td>\n",
              "      <td>0.082419</td>\n",
              "      <td>0.929833</td>\n",
              "      <td>00:00</td>\n",
              "    </tr>\n",
              "    <tr>\n",
              "      <td>5</td>\n",
              "      <td>0.030449</td>\n",
              "      <td>0.065059</td>\n",
              "      <td>0.944553</td>\n",
              "      <td>00:00</td>\n",
              "    </tr>\n",
              "    <tr>\n",
              "      <td>6</td>\n",
              "      <td>0.023231</td>\n",
              "      <td>0.054449</td>\n",
              "      <td>0.954858</td>\n",
              "      <td>00:00</td>\n",
              "    </tr>\n",
              "    <tr>\n",
              "      <td>7</td>\n",
              "      <td>0.020071</td>\n",
              "      <td>0.047472</td>\n",
              "      <td>0.960746</td>\n",
              "      <td>00:00</td>\n",
              "    </tr>\n",
              "    <tr>\n",
              "      <td>8</td>\n",
              "      <td>0.018507</td>\n",
              "      <td>0.042626</td>\n",
              "      <td>0.965162</td>\n",
              "      <td>00:00</td>\n",
              "    </tr>\n",
              "    <tr>\n",
              "      <td>9</td>\n",
              "      <td>0.017592</td>\n",
              "      <td>0.039091</td>\n",
              "      <td>0.966634</td>\n",
              "      <td>00:00</td>\n",
              "    </tr>\n",
              "  </tbody>\n",
              "</table>"
            ],
            "text/plain": [
              "<IPython.core.display.HTML object>"
            ]
          },
          "metadata": {}
        }
      ]
    },
    {
      "cell_type": "code",
      "source": [
        "# Adding a non linearity \n",
        "def simple_net(xb):\n",
        "  # linear function\n",
        "  res = xb@w1 + b1\n",
        "  # this will turn any negative number and turn in to 0\n",
        "  res = res.max(tensor(0.0)) \n",
        "  # linear function\n",
        "  res = res@w2 + b2\n",
        "  return res"
      ],
      "metadata": {
        "id": "63gjNmhSI5Sb"
      },
      "execution_count": 150,
      "outputs": []
    },
    {
      "cell_type": "code",
      "source": [
        "w1 = init_params((28*28, 30))\n",
        "b1 = init_params((30))\n",
        "w2 = init_params((30, 1))\n",
        "b2 = init_params((1))"
      ],
      "metadata": {
        "id": "hIzb_auVJx-B"
      },
      "execution_count": null,
      "outputs": []
    },
    {
      "cell_type": "code",
      "source": [
        "simple_net = nn.Sequential(\n",
        "    nn.Linear(28*28,30),\n",
        "    nn.ReLU(),\n",
        "    nn.Linear(30,1)\n",
        "    )"
      ],
      "metadata": {
        "id": "gGc2vb3nLGSl"
      },
      "execution_count": 151,
      "outputs": []
    },
    {
      "cell_type": "code",
      "source": [
        "learn = Learner(dls, simple_net, opt_func=SGD, loss_func=mnist_loss, metrics=batch_accuracy)"
      ],
      "metadata": {
        "id": "Ndr4fFQcMZfo"
      },
      "execution_count": 152,
      "outputs": []
    },
    {
      "cell_type": "code",
      "source": [
        "learn.fit(40,0.1)"
      ],
      "metadata": {
        "colab": {
          "base_uri": "https://localhost:8080/",
          "height": 1000
        },
        "id": "UxUG2b4rMoqj",
        "outputId": "f958a712-f3a2-4836-e241-4e68fa22e128"
      },
      "execution_count": 153,
      "outputs": [
        {
          "output_type": "display_data",
          "data": {
            "text/html": [
              "<table border=\"1\" class=\"dataframe\">\n",
              "  <thead>\n",
              "    <tr style=\"text-align: left;\">\n",
              "      <th>epoch</th>\n",
              "      <th>train_loss</th>\n",
              "      <th>valid_loss</th>\n",
              "      <th>batch_accuracy</th>\n",
              "      <th>time</th>\n",
              "    </tr>\n",
              "  </thead>\n",
              "  <tbody>\n",
              "    <tr>\n",
              "      <td>0</td>\n",
              "      <td>0.280301</td>\n",
              "      <td>0.411327</td>\n",
              "      <td>0.504907</td>\n",
              "      <td>00:00</td>\n",
              "    </tr>\n",
              "    <tr>\n",
              "      <td>1</td>\n",
              "      <td>0.135075</td>\n",
              "      <td>0.215553</td>\n",
              "      <td>0.823356</td>\n",
              "      <td>00:00</td>\n",
              "    </tr>\n",
              "    <tr>\n",
              "      <td>2</td>\n",
              "      <td>0.076310</td>\n",
              "      <td>0.111364</td>\n",
              "      <td>0.920020</td>\n",
              "      <td>00:00</td>\n",
              "    </tr>\n",
              "    <tr>\n",
              "      <td>3</td>\n",
              "      <td>0.051094</td>\n",
              "      <td>0.076453</td>\n",
              "      <td>0.940137</td>\n",
              "      <td>00:00</td>\n",
              "    </tr>\n",
              "    <tr>\n",
              "      <td>4</td>\n",
              "      <td>0.039240</td>\n",
              "      <td>0.060209</td>\n",
              "      <td>0.955839</td>\n",
              "      <td>00:00</td>\n",
              "    </tr>\n",
              "    <tr>\n",
              "      <td>5</td>\n",
              "      <td>0.033096</td>\n",
              "      <td>0.050946</td>\n",
              "      <td>0.964181</td>\n",
              "      <td>00:00</td>\n",
              "    </tr>\n",
              "    <tr>\n",
              "      <td>6</td>\n",
              "      <td>0.029521</td>\n",
              "      <td>0.045028</td>\n",
              "      <td>0.965653</td>\n",
              "      <td>00:00</td>\n",
              "    </tr>\n",
              "    <tr>\n",
              "      <td>7</td>\n",
              "      <td>0.027176</td>\n",
              "      <td>0.040954</td>\n",
              "      <td>0.967615</td>\n",
              "      <td>00:00</td>\n",
              "    </tr>\n",
              "    <tr>\n",
              "      <td>8</td>\n",
              "      <td>0.025479</td>\n",
              "      <td>0.037980</td>\n",
              "      <td>0.968597</td>\n",
              "      <td>00:00</td>\n",
              "    </tr>\n",
              "    <tr>\n",
              "      <td>9</td>\n",
              "      <td>0.024162</td>\n",
              "      <td>0.035709</td>\n",
              "      <td>0.971050</td>\n",
              "      <td>00:00</td>\n",
              "    </tr>\n",
              "    <tr>\n",
              "      <td>10</td>\n",
              "      <td>0.023092</td>\n",
              "      <td>0.033908</td>\n",
              "      <td>0.972031</td>\n",
              "      <td>00:00</td>\n",
              "    </tr>\n",
              "    <tr>\n",
              "      <td>11</td>\n",
              "      <td>0.022197</td>\n",
              "      <td>0.032434</td>\n",
              "      <td>0.973013</td>\n",
              "      <td>00:00</td>\n",
              "    </tr>\n",
              "    <tr>\n",
              "      <td>12</td>\n",
              "      <td>0.021433</td>\n",
              "      <td>0.031194</td>\n",
              "      <td>0.973994</td>\n",
              "      <td>00:00</td>\n",
              "    </tr>\n",
              "    <tr>\n",
              "      <td>13</td>\n",
              "      <td>0.020769</td>\n",
              "      <td>0.030129</td>\n",
              "      <td>0.974485</td>\n",
              "      <td>00:00</td>\n",
              "    </tr>\n",
              "    <tr>\n",
              "      <td>14</td>\n",
              "      <td>0.020184</td>\n",
              "      <td>0.029201</td>\n",
              "      <td>0.975466</td>\n",
              "      <td>00:00</td>\n",
              "    </tr>\n",
              "    <tr>\n",
              "      <td>15</td>\n",
              "      <td>0.019664</td>\n",
              "      <td>0.028379</td>\n",
              "      <td>0.975466</td>\n",
              "      <td>00:00</td>\n",
              "    </tr>\n",
              "    <tr>\n",
              "      <td>16</td>\n",
              "      <td>0.019196</td>\n",
              "      <td>0.027645</td>\n",
              "      <td>0.975957</td>\n",
              "      <td>00:00</td>\n",
              "    </tr>\n",
              "    <tr>\n",
              "      <td>17</td>\n",
              "      <td>0.018772</td>\n",
              "      <td>0.026983</td>\n",
              "      <td>0.977429</td>\n",
              "      <td>00:00</td>\n",
              "    </tr>\n",
              "    <tr>\n",
              "      <td>18</td>\n",
              "      <td>0.018386</td>\n",
              "      <td>0.026384</td>\n",
              "      <td>0.977429</td>\n",
              "      <td>00:00</td>\n",
              "    </tr>\n",
              "    <tr>\n",
              "      <td>19</td>\n",
              "      <td>0.018031</td>\n",
              "      <td>0.025838</td>\n",
              "      <td>0.977920</td>\n",
              "      <td>00:00</td>\n",
              "    </tr>\n",
              "    <tr>\n",
              "      <td>20</td>\n",
              "      <td>0.017704</td>\n",
              "      <td>0.025339</td>\n",
              "      <td>0.978901</td>\n",
              "      <td>00:00</td>\n",
              "    </tr>\n",
              "    <tr>\n",
              "      <td>21</td>\n",
              "      <td>0.017400</td>\n",
              "      <td>0.024881</td>\n",
              "      <td>0.979392</td>\n",
              "      <td>00:00</td>\n",
              "    </tr>\n",
              "    <tr>\n",
              "      <td>22</td>\n",
              "      <td>0.017117</td>\n",
              "      <td>0.024461</td>\n",
              "      <td>0.980373</td>\n",
              "      <td>00:00</td>\n",
              "    </tr>\n",
              "    <tr>\n",
              "      <td>23</td>\n",
              "      <td>0.016852</td>\n",
              "      <td>0.024074</td>\n",
              "      <td>0.980864</td>\n",
              "      <td>00:00</td>\n",
              "    </tr>\n",
              "    <tr>\n",
              "      <td>24</td>\n",
              "      <td>0.016603</td>\n",
              "      <td>0.023715</td>\n",
              "      <td>0.980864</td>\n",
              "      <td>00:00</td>\n",
              "    </tr>\n",
              "    <tr>\n",
              "      <td>25</td>\n",
              "      <td>0.016368</td>\n",
              "      <td>0.023384</td>\n",
              "      <td>0.980864</td>\n",
              "      <td>00:00</td>\n",
              "    </tr>\n",
              "    <tr>\n",
              "      <td>26</td>\n",
              "      <td>0.016147</td>\n",
              "      <td>0.023076</td>\n",
              "      <td>0.980864</td>\n",
              "      <td>00:00</td>\n",
              "    </tr>\n",
              "    <tr>\n",
              "      <td>27</td>\n",
              "      <td>0.015937</td>\n",
              "      <td>0.022790</td>\n",
              "      <td>0.980864</td>\n",
              "      <td>00:00</td>\n",
              "    </tr>\n",
              "    <tr>\n",
              "      <td>28</td>\n",
              "      <td>0.015738</td>\n",
              "      <td>0.022525</td>\n",
              "      <td>0.981354</td>\n",
              "      <td>00:00</td>\n",
              "    </tr>\n",
              "    <tr>\n",
              "      <td>29</td>\n",
              "      <td>0.015549</td>\n",
              "      <td>0.022277</td>\n",
              "      <td>0.982336</td>\n",
              "      <td>00:00</td>\n",
              "    </tr>\n",
              "    <tr>\n",
              "      <td>30</td>\n",
              "      <td>0.015370</td>\n",
              "      <td>0.022045</td>\n",
              "      <td>0.982826</td>\n",
              "      <td>00:00</td>\n",
              "    </tr>\n",
              "    <tr>\n",
              "      <td>31</td>\n",
              "      <td>0.015198</td>\n",
              "      <td>0.021828</td>\n",
              "      <td>0.982336</td>\n",
              "      <td>00:00</td>\n",
              "    </tr>\n",
              "    <tr>\n",
              "      <td>32</td>\n",
              "      <td>0.015035</td>\n",
              "      <td>0.021625</td>\n",
              "      <td>0.982826</td>\n",
              "      <td>00:00</td>\n",
              "    </tr>\n",
              "    <tr>\n",
              "      <td>33</td>\n",
              "      <td>0.014879</td>\n",
              "      <td>0.021435</td>\n",
              "      <td>0.982826</td>\n",
              "      <td>00:00</td>\n",
              "    </tr>\n",
              "    <tr>\n",
              "      <td>34</td>\n",
              "      <td>0.014729</td>\n",
              "      <td>0.021256</td>\n",
              "      <td>0.983317</td>\n",
              "      <td>00:00</td>\n",
              "    </tr>\n",
              "    <tr>\n",
              "      <td>35</td>\n",
              "      <td>0.014585</td>\n",
              "      <td>0.021087</td>\n",
              "      <td>0.983317</td>\n",
              "      <td>00:00</td>\n",
              "    </tr>\n",
              "    <tr>\n",
              "      <td>36</td>\n",
              "      <td>0.014448</td>\n",
              "      <td>0.020928</td>\n",
              "      <td>0.983317</td>\n",
              "      <td>00:00</td>\n",
              "    </tr>\n",
              "    <tr>\n",
              "      <td>37</td>\n",
              "      <td>0.014315</td>\n",
              "      <td>0.020777</td>\n",
              "      <td>0.983317</td>\n",
              "      <td>00:00</td>\n",
              "    </tr>\n",
              "    <tr>\n",
              "      <td>38</td>\n",
              "      <td>0.014187</td>\n",
              "      <td>0.020635</td>\n",
              "      <td>0.983317</td>\n",
              "      <td>00:00</td>\n",
              "    </tr>\n",
              "    <tr>\n",
              "      <td>39</td>\n",
              "      <td>0.014064</td>\n",
              "      <td>0.020500</td>\n",
              "      <td>0.983317</td>\n",
              "      <td>00:00</td>\n",
              "    </tr>\n",
              "  </tbody>\n",
              "</table>"
            ],
            "text/plain": [
              "<IPython.core.display.HTML object>"
            ]
          },
          "metadata": {}
        }
      ]
    },
    {
      "cell_type": "code",
      "source": [
        "plt.plot(L(learn.recorder.values).itemgot(2))"
      ],
      "metadata": {
        "colab": {
          "base_uri": "https://localhost:8080/",
          "height": 283
        },
        "id": "BudsVV98M128",
        "outputId": "18b506e5-853d-46a4-b9b0-40f0b578ed03"
      },
      "execution_count": 157,
      "outputs": [
        {
          "output_type": "execute_result",
          "data": {
            "text/plain": [
              "[<matplotlib.lines.Line2D at 0x7f32edd25650>]"
            ]
          },
          "metadata": {},
          "execution_count": 157
        },
        {
          "output_type": "display_data",
          "data": {
            "image/png": "[encoded data removed]",
            "text/plain": [
              "<Figure size 432x288 with 1 Axes>"
            ]
          },
          "metadata": {
            "needs_background": "light"
          }
        }
      ]
    },
    {
      "cell_type": "code",
      "source": [
        "learn.recorder.values[-1][2]"
      ],
      "metadata": {
        "colab": {
          "base_uri": "https://localhost:8080/"
        },
        "id": "PvqnfRpVNMQg",
        "outputId": "b1aa9205-e610-4794-99ad-c99079077095"
      },
      "execution_count": 159,
      "outputs": [
        {
          "output_type": "execute_result",
          "data": {
            "text/plain": [
              "0.983316957950592"
            ]
          },
          "metadata": {},
          "execution_count": 159
        }
      ]
    },
    {
      "cell_type": "code",
      "source": [
        "m = learn.model\n",
        "m"
      ],
      "metadata": {
        "colab": {
          "base_uri": "https://localhost:8080/"
        },
        "id": "TYf8t0TSNt5e",
        "outputId": "91000614-aa8e-4f59-c82a-f65960f91680"
      },
      "execution_count": 162,
      "outputs": [
        {
          "output_type": "execute_result",
          "data": {
            "text/plain": [
              "Sequential(\n",
              "  (0): Linear(in_features=784, out_features=30, bias=True)\n",
              "  (1): ReLU()\n",
              "  (2): Linear(in_features=30, out_features=1, bias=True)\n",
              ")"
            ]
          },
          "metadata": {},
          "execution_count": 162
        }
      ]
    },
    {
      "cell_type": "code",
      "source": [
        "w, b = m[0].parameters()"
      ],
      "metadata": {
        "id": "vKUA7ebENvH1"
      },
      "execution_count": 167,
      "outputs": []
    },
    {
      "cell_type": "code",
      "source": [
        "w.shape"
      ],
      "metadata": {
        "colab": {
          "base_uri": "https://localhost:8080/"
        },
        "id": "PIpOeg2AN6fK",
        "outputId": "e9b223ba-ea4c-45db-d2ea-201ef167c39d"
      },
      "execution_count": 168,
      "outputs": [
        {
          "output_type": "execute_result",
          "data": {
            "text/plain": [
              "torch.Size([30, 784])"
            ]
          },
          "metadata": {},
          "execution_count": 168
        }
      ]
    },
    {
      "cell_type": "code",
      "source": [
        "w[0].view(28,28)\n",
        "for i in range(29):\n",
        "  show_image(w[i].view(28,28))"
      ],
      "metadata": {
        "colab": {
          "base_uri": "https://localhost:8080/",
          "height": 1000
        },
        "id": "yaDxEwjMOSY4",
        "outputId": "7ba9bebd-b246-40c3-da14-1f8ae855a246"
      },
      "execution_count": 178,
      "outputs": [
        {
          "output_type": "stream",
          "name": "stderr",
          "text": [
            "/usr/local/lib/python3.7/dist-packages/fastai/torch_core.py:60: RuntimeWarning: More than 20 figures have been opened. Figures created through the pyplot interface (`matplotlib.pyplot.figure`) are retained until explicitly closed and may consume too much memory. (To control this warning, see the rcParam `figure.max_open_warning`).\n",
            "  if ax is None: _,ax = plt.subplots(figsize=figsize)\n"
          ]
        },
        {
          "output_type": "display_data",
          "data": {
            "image/png": "[encoded data removed]",
            "text/plain": [
              "<Figure size 72x72 with 1 Axes>"
            ]
          },
          "metadata": {
            "needs_background": "light"
          }
        },
        {
          "output_type": "display_data",
          "data": {
            "image/png": "[encoded data removed]",
            "text/plain": [
              "<Figure size 72x72 with 1 Axes>"
            ]
          },
          "metadata": {
            "needs_background": "light"
          }
        },
        {
          "output_type": "display_data",
          "data": {
            "image/png": "[encoded data removed]",
            "text/plain": [
              "<Figure size 72x72 with 1 Axes>"
            ]
          },
          "metadata": {
            "needs_background": "light"
          }
        },
        {
          "output_type": "display_data",
          "data": {
            "image/png": "[encoded data removed]",
            "text/plain": [
              "<Figure size 72x72 with 1 Axes>"
            ]
          },
          "metadata": {
            "needs_background": "light"
          }
        },
        {
          "output_type": "display_data",
          "data": {
            "image/png": "[encoded data removed]",
            "text/plain": [
              "<Figure size 72x72 with 1 Axes>"
            ]
          },
          "metadata": {
            "needs_background": "light"
          }
        },
        {
          "output_type": "display_data",
          "data": {
            "image/png": "[encoded data removed]",
            "text/plain": [
              "<Figure size 72x72 with 1 Axes>"
            ]
          },
          "metadata": {
            "needs_background": "light"
          }
        },
        {
          "output_type": "display_data",
          "data": {
            "image/png": "[encoded data removed]",
            "text/plain": [
              "<Figure size 72x72 with 1 Axes>"
            ]
          },
          "metadata": {
            "needs_background": "light"
          }
        },
        {
          "output_type": "display_data",
          "data": {
            "image/png": "[encoded data removed]",
            "text/plain": [
              "<Figure size 72x72 with 1 Axes>"
            ]
          },
          "metadata": {
            "needs_background": "light"
          }
        },
        {
          "output_type": "display_data",
          "data": {
            "image/png": "[encoded data removed]",
            "text/plain": [
              "<Figure size 72x72 with 1 Axes>"
            ]
          },
          "metadata": {
            "needs_background": "light"
          }
        },
        {
          "output_type": "display_data",
          "data": {
            "image/png": "[encoded data removed]",
            "text/plain": [
              "<Figure size 72x72 with 1 Axes>"
            ]
          },
          "metadata": {
            "needs_background": "light"
          }
        },
        {
          "output_type": "display_data",
          "data": {
            "image/png": "[encoded data removed]",
            "text/plain": [
              "<Figure size 72x72 with 1 Axes>"
            ]
          },
          "metadata": {
            "needs_background": "light"
          }
        },
        {
          "output_type": "display_data",
          "data": {
            "image/png": "[encoded data removed]",
            "text/plain": [
              "<Figure size 72x72 with 1 Axes>"
            ]
          },
          "metadata": {
            "needs_background": "light"
          }
        },
        {
          "output_type": "display_data",
          "data": {
            "image/png": "[encoded data removed]",
            "text/plain": [
              "<Figure size 72x72 with 1 Axes>"
            ]
          },
          "metadata": {
            "needs_background": "light"
          }
        },
        {
          "output_type": "display_data",
          "data": {
            "image/png": "[encoded data removed]",
            "text/plain": [
              "<Figure size 72x72 with 1 Axes>"
            ]
          },
          "metadata": {
            "needs_background": "light"
          }
        },
        {
          "output_type": "display_data",
          "data": {
            "image/png": "[encoded data removed]",
            "text/plain": [
              "<Figure size 72x72 with 1 Axes>"
            ]
          },
          "metadata": {
            "needs_background": "light"
          }
        },
        {
          "output_type": "display_data",
          "data": {
            "image/png": "[encoded data removed]",
            "text/plain": [
              "<Figure size 72x72 with 1 Axes>"
            ]
          },
          "metadata": {
            "needs_background": "light"
          }
        },
        {
          "output_type": "display_data",
          "data": {
            "image/png": "[encoded data removed]",
            "text/plain": [
              "<Figure size 72x72 with 1 Axes>"
            ]
          },
          "metadata": {
            "needs_background": "light"
          }
        },
        {
          "output_type": "display_data",
          "data": {
            "image/png": "[encoded data removed]",
            "text/plain": [
              "<Figure size 72x72 with 1 Axes>"
            ]
          },
          "metadata": {
            "needs_background": "light"
          }
        },
        {
          "output_type": "display_data",
          "data": {
            "image/png": "[encoded data removed]",
            "text/plain": [
              "<Figure size 72x72 with 1 Axes>"
            ]
          },
          "metadata": {
            "needs_background": "light"
          }
        },
        {
          "output_type": "display_data",
          "data": {
            "image/png": "[encoded data removed]",
            "text/plain": [
              "<Figure size 72x72 with 1 Axes>"
            ]
          },
          "metadata": {
            "needs_background": "light"
          }
        },
        {
          "output_type": "display_data",
          "data": {
            "image/png": "[encoded data removed]",
            "text/plain": [
              "<Figure size 72x72 with 1 Axes>"
            ]
          },
          "metadata": {
            "needs_background": "light"
          }
        },
        {
          "output_type": "display_data",
          "data": {
            "image/png": "[encoded data removed]",
            "text/plain": [
              "<Figure size 72x72 with 1 Axes>"
            ]
          },
          "metadata": {
            "needs_background": "light"
          }
        },
        {
          "output_type": "display_data",
          "data": {
            "image/png": "[encoded data removed]",
            "text/plain": [
              "<Figure size 72x72 with 1 Axes>"
            ]
          },
          "metadata": {
            "needs_background": "light"
          }
        },
        {
          "output_type": "display_data",
          "data": {
            "image/png": "[encoded data removed]",
            "text/plain": [
              "<Figure size 72x72 with 1 Axes>"
            ]
          },
          "metadata": {
            "needs_background": "light"
          }
        },
        {
          "output_type": "display_data",
          "data": {
            "image/png": "[encoded data removed]",
            "text/plain": [
              "<Figure size 72x72 with 1 Axes>"
            ]
          },
          "metadata": {
            "needs_background": "light"
          }
        },
        {
          "output_type": "display_data",
          "data": {
            "image/png": "[encoded data removed]",
            "text/plain": [
              "<Figure size 72x72 with 1 Axes>"
            ]
          },
          "metadata": {
            "needs_background": "light"
          }
        },
        {
          "output_type": "display_data",
          "data": {
            "image/png": "[encoded data removed]",
            "text/plain": [
              "<Figure size 72x72 with 1 Axes>"
            ]
          },
          "metadata": {
            "needs_background": "light"
          }
        },
        {
          "output_type": "display_data",
          "data": {
            "image/png": "[encoded data removed]",
            "text/plain": [
              "<Figure size 72x72 with 1 Axes>"
            ]
          },
          "metadata": {
            "needs_background": "light"
          }
        },
        {
          "output_type": "display_data",
          "data": {
            "image/png": "[encoded data removed]",
            "text/plain": [
              "<Figure size 72x72 with 1 Axes>"
            ]
          },
          "metadata": {
            "needs_background": "light"
          }
        }
      ]
    },
    {
      "cell_type": "code",
      "source": [
        "dls = ImageDataLoaders.from_folder(path)\n",
        "learn = cnn_learner(\n",
        "          dls,\n",
        "            resnet18,\n",
        "            pretrained=False,\n",
        "              loss_func=F.cross_entropy,\n",
        "              metrics=accuracy)\n",
        "learn.fit_one_cycle(1, 0.1)"
      ],
      "metadata": {
        "colab": {
          "base_uri": "https://localhost:8080/",
          "height": 81
        },
        "id": "EwbAsz6SOx0K",
        "outputId": "05294d74-3efe-4f66-fe32-1d64c59bf238"
      },
      "execution_count": 179,
      "outputs": [
        {
          "output_type": "display_data",
          "data": {
            "text/html": [
              "<table border=\"1\" class=\"dataframe\">\n",
              "  <thead>\n",
              "    <tr style=\"text-align: left;\">\n",
              "      <th>epoch</th>\n",
              "      <th>train_loss</th>\n",
              "      <th>valid_loss</th>\n",
              "      <th>accuracy</th>\n",
              "      <th>time</th>\n",
              "    </tr>\n",
              "  </thead>\n",
              "  <tbody>\n",
              "    <tr>\n",
              "      <td>0</td>\n",
              "      <td>0.105436</td>\n",
              "      <td>0.013770</td>\n",
              "      <td>0.997056</td>\n",
              "      <td>03:32</td>\n",
              "    </tr>\n",
              "  </tbody>\n",
              "</table>"
            ],
            "text/plain": [
              "<IPython.core.display.HTML object>"
            ]
          },
          "metadata": {}
        }
      ]
    },
    {
      "cell_type": "code",
      "source": [
        ""
      ],
      "metadata": {
        "id": "uQp1J93iOTRb"
      },
      "execution_count": null,
      "outputs": []
    }
  ]
}